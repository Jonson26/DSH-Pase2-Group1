{
 "cells": [
  {
   "cell_type": "code",
   "execution_count": 2,
   "id": "19bec480",
   "metadata": {},
   "outputs": [],
   "source": [
    "import pandas as pd\n",
    "import numpy as np\n",
    "import matplotlib.pyplot as plt\n",
    "\n",
    "# Uncomment if necessary\n",
    "#from sklearn.preprocessing import OneHotEncoder\n",
    "#from category_encoders import TargetEncoder\n",
    "#from sklearn.preprocessing import MinMaxScaler, StandardScaler\n",
    "#from scipy.stats.mstats import winsorize\n",
    "import seaborn as sns\n",
    "#from collections import Counter\n",
    "#from sklearn.datasets import make_classification\n",
    "#from imblearn.under_sampling import RandomUnderSampler\n",
    "from sklearn import tree\n",
    "from sklearn.model_selection import train_test_split\n",
    "from sklearn import metrics"
   ]
  },
  {
   "cell_type": "code",
   "execution_count": 3,
   "id": "45d1a903",
   "metadata": {},
   "outputs": [],
   "source": [
    "db = pd.read_csv('data/preprocessed.csv')\n",
    "\n",
    "# Other possible preprocessed datasets\n",
    "#db2 = pd.read_csv('data/preprocessed_normalized.csv')\n",
    "#db3 = pd.read_csv('data/preprocessed_standardized.csv'\n",
    "#db4 = pd.read_csv('data/preprocessed_noCapital.csv')\n",
    "#db5 = pd.read_csv('data/preprocessed_noCapital_normalized.csv')\n",
    "#db6 = pd.read_csv('data/preprocessed_noCapital_standardized.csv')\n",
    "\n",
    "df = pd.DataFrame(db)"
   ]
  },
  {
   "attachments": {},
   "cell_type": "markdown",
   "id": "557545f7",
   "metadata": {},
   "source": [
    "# Decision Trees\n",
    "\n",
    "- Main advantage : Interpretability\n",
    "- Main disadvantage : Might cause Overfitting\n",
    "\n",
    "Explanations taken from https://scikit-learn.org/stable/modules/tree.html\n",
    "\n",
    "Code partially taken from https://www.datacamp.com/tutorial/decision-tree-classification-python"
   ]
  },
  {
   "attachments": {},
   "cell_type": "markdown",
   "id": "6d7363f0",
   "metadata": {},
   "source": [
    "#### Training and Accuracy"
   ]
  },
  {
   "cell_type": "code",
   "execution_count": 4,
   "id": "018d2aa2",
   "metadata": {},
   "outputs": [],
   "source": [
    "# Split target from features\n",
    "X = df.drop('income', axis=1)\n",
    "y = df['income']"
   ]
  },
  {
   "cell_type": "code",
   "execution_count": 5,
   "id": "de51e47d",
   "metadata": {},
   "outputs": [],
   "source": [
    "# Create training set and test set\n",
    "X_train, X_test, y_train, y_test = train_test_split(X, y, test_size=0.3, random_state=1)"
   ]
  },
  {
   "cell_type": "code",
   "execution_count": 5,
   "id": "c89a5d99",
   "metadata": {},
   "outputs": [],
   "source": [
    "# Train tree\n",
    "clf = tree.DecisionTreeClassifier(random_state=26)\n",
    "clf = clf.fit(X_train, y_train)"
   ]
  },
  {
   "cell_type": "code",
   "execution_count": 6,
   "id": "8bc7b084",
   "metadata": {},
   "outputs": [],
   "source": [
    "# Produce predictions using tree\n",
    "y_pred_tree = clf.predict(X_test)"
   ]
  },
  {
   "cell_type": "code",
   "execution_count": 7,
   "id": "4d7d4372",
   "metadata": {},
   "outputs": [
    {
     "name": "stdout",
     "output_type": "stream",
     "text": [
      "Accuracy: 0.7727272727272727\n"
     ]
    }
   ],
   "source": [
    "# Print accuracy\n",
    "prediAccTree = metrics.accuracy_score(y_test, y_pred_tree)\n",
    "print(\"Accuracy:\", prediAccTree)"
   ]
  },
  {
   "attachments": {},
   "cell_type": "markdown",
   "id": "5f1b832b",
   "metadata": {},
   "source": [
    "#### Impact of Hyperparameters on Accuracy\n",
    "\n",
    "https://towardsdatascience.com/how-to-tune-a-decision-tree-f03721801680\n",
    "\n",
    "Available Hyperparameters:\n",
    "\n",
    "0. criterion (default \"gini\", or \"entropy\")\n",
    "1. splitter (default \"best\", or \"random\")\n",
    "2. max_depth (default \"None\", or an int below like 700)\n",
    "3. min_samples_split (default \"2\", or an int below 40)\n",
    "4. min_samples_leaf (default \"1\", or an int below 20)\n",
    "5. min_weight_fraction_leaf (default \"0\", or a float up to 1)\n",
    "6. max_features (default \"None\", or \"auto\"/\"sqrt\" or \"log2\" or an int below 13)\n",
    "7. random_state (we should ignore that one and just set it to 42 or something)\n",
    "8. min_impurity_decrease (default \"0\", I do not really understand it but I think we should leave it alone)\n",
    "9. class_weight (default \"None\", too complex to change tbh)\n",
    "10. presort (we should ignore this one)"
   ]
  },
  {
   "cell_type": "code",
   "execution_count": 8,
   "id": "b0f8f76e",
   "metadata": {},
   "outputs": [],
   "source": [
    "# Function: Training tree with specific hyperparameters, and showing the accuracy gain\n",
    "def treeWithHyperparams(**hp):\n",
    "    hp[\"random_state\"] = 26\n",
    "    clf = tree.DecisionTreeClassifier(**hp)\n",
    "    clf = clf.fit(X_train, y_train)\n",
    "    y_pred = clf.predict(X_test)\n",
    "    prediAccNew = metrics.accuracy_score(y_test, y_pred)\n",
    "    improvement = prediAccNew - prediAccTree\n",
    "    #print(\"Results using\", list(hp.keys())[0], \"=\", list(hp.values())[0])\n",
    "    print(\"Total accuracy:\", prediAccNew)\n",
    "    print(\"Accuracy gain:\", improvement)"
   ]
  },
  {
   "cell_type": "code",
   "execution_count": 9,
   "id": "6e1554a1",
   "metadata": {
    "scrolled": true
   },
   "outputs": [
    {
     "name": "stdout",
     "output_type": "stream",
     "text": [
      "Total accuracy: 0.765625\n",
      "Accuracy gain: -0.007102272727272707\n"
     ]
    }
   ],
   "source": [
    "treeWithHyperparams(criterion='entropy')"
   ]
  },
  {
   "cell_type": "code",
   "execution_count": 10,
   "id": "4025db39",
   "metadata": {
    "scrolled": true
   },
   "outputs": [
    {
     "name": "stdout",
     "output_type": "stream",
     "text": [
      "Total accuracy: 0.7357954545454546\n",
      "Accuracy gain: -0.03693181818181812\n"
     ]
    }
   ],
   "source": [
    "treeWithHyperparams(splitter='random')"
   ]
  },
  {
   "cell_type": "code",
   "execution_count": 11,
   "id": "eec2eb2a",
   "metadata": {},
   "outputs": [
    {
     "name": "stdout",
     "output_type": "stream",
     "text": [
      "Total accuracy: 0.8309659090909091\n",
      "Accuracy gain: 0.058238636363636354\n"
     ]
    }
   ],
   "source": [
    "treeWithHyperparams(max_depth=5)"
   ]
  },
  {
   "cell_type": "code",
   "execution_count": 12,
   "id": "0dd45474",
   "metadata": {},
   "outputs": [
    {
     "name": "stdout",
     "output_type": "stream",
     "text": [
      "Total accuracy: 0.7997159090909091\n",
      "Accuracy gain: 0.026988636363636354\n"
     ]
    }
   ],
   "source": [
    "treeWithHyperparams(min_samples_split=20)"
   ]
  },
  {
   "cell_type": "code",
   "execution_count": 13,
   "id": "3445b484",
   "metadata": {},
   "outputs": [
    {
     "name": "stdout",
     "output_type": "stream",
     "text": [
      "Total accuracy: 0.8082386363636364\n",
      "Accuracy gain: 0.035511363636363646\n"
     ]
    }
   ],
   "source": [
    "treeWithHyperparams(min_samples_leaf=20)"
   ]
  },
  {
   "cell_type": "code",
   "execution_count": 14,
   "id": "763516d6",
   "metadata": {},
   "outputs": [
    {
     "name": "stdout",
     "output_type": "stream",
     "text": [
      "Total accuracy: 0.7911931818181818\n",
      "Accuracy gain: 0.01846590909090906\n"
     ]
    }
   ],
   "source": [
    "treeWithHyperparams(min_weight_fraction_leaf=0.3)"
   ]
  },
  {
   "cell_type": "code",
   "execution_count": 15,
   "id": "71d2f1dc",
   "metadata": {},
   "outputs": [
    {
     "name": "stdout",
     "output_type": "stream",
     "text": [
      "Total accuracy: 0.7514204545454546\n",
      "Accuracy gain: -0.02130681818181812\n"
     ]
    }
   ],
   "source": [
    "treeWithHyperparams(max_features='sqrt')"
   ]
  },
  {
   "cell_type": "code",
   "execution_count": 16,
   "id": "60ab0aad",
   "metadata": {},
   "outputs": [
    {
     "name": "stdout",
     "output_type": "stream",
     "text": [
      "Total accuracy: 0.7684659090909091\n",
      "Accuracy gain: -0.0042613636363636465\n"
     ]
    }
   ],
   "source": [
    "treeWithHyperparams(max_features='log2')"
   ]
  },
  {
   "attachments": {},
   "cell_type": "markdown",
   "id": "b1f518fd",
   "metadata": {},
   "source": [
    "We make the following observations concerning the individual hyperparameters:\n",
    "\n",
    "0. Changing the criterion from gini to entropy seems useless\n",
    "1. Changing the splitter from best to random seems useless\n",
    "2. **Limiting the max depth to 5 improves performance**\n",
    "3. **Setting the minimum split samples to 20 improves performance**\n",
    "4. **Setting the minimum leaf samples to 20 improves performance**\n",
    "5. Setting the minimum leaf weight fraction to 0.3 slightly improves performance\n",
    "6. Limiting the max features seems useless\n",
    "\n",
    "Our three most important hyperparameters are commonly used to combat overfitting.\n",
    "\n",
    "This means that we can expect the best results if we reduce overfitting in our decision tree."
   ]
  },
  {
   "attachments": {},
   "cell_type": "markdown",
   "id": "9a112c32",
   "metadata": {},
   "source": [
    "#### Confusion Matrix\n",
    "\n",
    "- Precision\n",
    "- Recall\n",
    "- F1 score\n",
    "- Accuracy"
   ]
  },
  {
   "cell_type": "code",
   "execution_count": 17,
   "id": "fc81d353",
   "metadata": {},
   "outputs": [
    {
     "name": "stdout",
     "output_type": "stream",
     "text": [
      "[[287  70]\n",
      " [ 90 257]]\n"
     ]
    }
   ],
   "source": [
    "confMat_tree= metrics.confusion_matrix(y_test, y_pred_tree)\n",
    "print(confMat_tree)"
   ]
  },
  {
   "cell_type": "code",
   "execution_count": 18,
   "id": "38a734aa",
   "metadata": {},
   "outputs": [],
   "source": [
    "TP_tree = confMat_tree[0][0]\n",
    "FN_tree = confMat_tree[0][1]\n",
    "FP_tree = confMat_tree[1][0]\n",
    "TN_tree = confMat_tree[1][1]\n",
    "precision_tree = TP_tree / TP_tree + FP_tree\n",
    "recall_tree = TP_tree / TP_tree + FN_tree\n",
    "F1score_tree = 2 * ((precision_tree * recall_tree) / (precision_tree + recall_tree))"
   ]
  },
  {
   "cell_type": "code",
   "execution_count": 20,
   "id": "4445b579",
   "metadata": {},
   "outputs": [
    {
     "name": "stdout",
     "output_type": "stream",
     "text": [
      "Precision: 91.0\n",
      "Recall: 71.0\n",
      "F1-Score: 79.76543209876543\n"
     ]
    }
   ],
   "source": [
    "print(\"Precision:\", precision_tree)\n",
    "print(\"Recall:\", recall_tree)\n",
    "print(\"F1-Score:\", F1score_tree)"
   ]
  },
  {
   "attachments": {},
   "cell_type": "markdown",
   "id": "b06e6c14",
   "metadata": {},
   "source": [
    "The decision tree does not always identify people with an income above 50K.\n",
    "\n",
    "However, if the model determines that somebody has an income above 50K, it is very likely correct."
   ]
  },
  {
   "attachments": {},
   "cell_type": "markdown",
   "id": "c525b2be",
   "metadata": {},
   "source": [
    "# Random Forest\n",
    "\n",
    "- Main advantage :\n",
    "- Main disadvantage :"
   ]
  },
  {
   "attachments": {},
   "cell_type": "markdown",
   "id": "70ca56d8",
   "metadata": {},
   "source": [
    "#### Training and Accuracy"
   ]
  },
  {
   "cell_type": "code",
   "execution_count": 1,
   "id": "15a8d5cd",
   "metadata": {},
   "outputs": [],
   "source": [
    "import pandas as pd\n",
    "from sklearn.ensemble import RandomForestClassifier\n",
    "from sklearn.model_selection import train_test_split\n",
    "from sklearn.metrics import confusion_matrix, classification_report\n",
    "from fairlearn.metrics import demographic_parity_difference, MetricFrame\n",
    "from sklearn.model_selection import GridSearchCV\n",
    "import pandas as pd"
   ]
  },
  {
   "attachments": {},
   "cell_type": "markdown",
   "id": "68831b79",
   "metadata": {},
   "source": [
    "# Load the preprocessed dataset"
   ]
  },
  {
   "cell_type": "code",
   "execution_count": 2,
   "id": "5ba6203c",
   "metadata": {},
   "outputs": [],
   "source": [
    "\n",
    "data = pd.read_csv('C:\\semster6\\DSH\\preprocessed.csv')"
   ]
  },
  {
   "attachments": {},
   "cell_type": "markdown",
   "id": "ab0efa36",
   "metadata": {},
   "source": [
    "# Split the data into features and target variable"
   ]
  },
  {
   "cell_type": "code",
   "execution_count": 3,
   "id": "13c1819a",
   "metadata": {},
   "outputs": [],
   "source": [
    "\n",
    "X = data.drop('income', axis=1)\n",
    "y = data['income']"
   ]
  },
  {
   "attachments": {},
   "cell_type": "markdown",
   "id": "61b6cb25",
   "metadata": {},
   "source": [
    "# Split the data into training and testing sets"
   ]
  },
  {
   "cell_type": "code",
   "execution_count": 4,
   "id": "48701b9a",
   "metadata": {},
   "outputs": [],
   "source": [
    "X_train, X_test, y_train, y_test = train_test_split(X, y, test_size=0.3, random_state=1)\n"
   ]
  },
  {
   "attachments": {},
   "cell_type": "markdown",
   "id": "440b1f75",
   "metadata": {},
   "source": [
    "# Random Forest\n",
    "# Train the Random Forest classifier\n",
    "# Predict on the test set\n",
    "# Evaluation Metrics"
   ]
  },
  {
   "cell_type": "code",
   "execution_count": 5,
   "id": "f47ac7ee",
   "metadata": {},
   "outputs": [
    {
     "name": "stdout",
     "output_type": "stream",
     "text": [
      "Random Forest - Evaluation Metrics:\n",
      "              precision    recall  f1-score   support\n",
      "\n",
      "           0       0.86      0.82      0.84       357\n",
      "           1       0.83      0.87      0.85       347\n",
      "\n",
      "    accuracy                           0.85       704\n",
      "   macro avg       0.85      0.85      0.85       704\n",
      "weighted avg       0.85      0.85      0.85       704\n",
      "\n"
     ]
    }
   ],
   "source": [
    "\n",
    "clf = RandomForestClassifier(random_state=26)\n",
    "\n",
    "clf.fit(X_train, y_train)\n",
    "\n",
    "\n",
    "y_pred_rf = clf.predict(X_test)\n",
    "\n",
    "print(\"Random Forest - Evaluation Metrics:\")\n",
    "print(classification_report(y_test, y_pred_rf))\n"
   ]
  },
  {
   "attachments": {},
   "cell_type": "markdown",
   "id": "046b74ad",
   "metadata": {},
   "source": [
    "#### Impact of Hyperparameters on Accuracy"
   ]
  },
  {
   "attachments": {},
   "cell_type": "markdown",
   "id": "a2ec1ff0",
   "metadata": {},
   "source": [
    "# Calculate confusion matrix\n",
    "# Calculate accuracy\n",
    "# Hyperparameter Tuning"
   ]
  },
  {
   "cell_type": "code",
   "execution_count": 9,
   "id": "bb8f1a0b",
   "metadata": {},
   "outputs": [
    {
     "name": "stdout",
     "output_type": "stream",
     "text": [
      "Confusion Matrix:\n",
      "[[294  63]\n",
      " [ 46 301]]\n",
      "Accuracy: 0.8451704545454546\n",
      "Best Hyperparameters: {'max_depth': None, 'min_samples_split': 5, 'n_estimators': 100}\n"
     ]
    }
   ],
   "source": [
    "# Calculate confusion matrix\n",
    "confusion_mat_rf = confusion_matrix(y_test, y_pred_rf)\n",
    "print(\"Confusion Matrix:\")\n",
    "print(confusion_mat_rf)\n",
    "\n",
    "# Calculate accuracy\n",
    "accuracy_rf = (confusion_mat_rf[0, 0] + confusion_mat_rf[1, 1]) / sum(sum(confusion_mat_rf))\n",
    "print(\"Accuracy:\", accuracy_rf)\n",
    "\n",
    "# Hyperparameter Tuning\n",
    "param_grid = {\n",
    "    'n_estimators': [100, 200, 300],\n",
    "    'max_depth': [None, 5, 10],\n",
    "    'min_samples_split': [2, 5, 10]\n",
    "}\n",
    "\n",
    "grid_search = GridSearchCV(estimator=clf, param_grid=param_grid, cv=5)\n",
    "grid_search.fit(X_train, y_train)\n",
    "\n",
    "best_params = grid_search.best_params_\n",
    "print(\"Best Hyperparameters:\", best_params)"
   ]
  },
  {
   "attachments": {},
   "cell_type": "markdown",
   "id": "dbc7e19b",
   "metadata": {},
   "source": [
    "# Function: Training Random Forest with specific hyperparameters, and showing the accuracy gain\n",
    "# Call the randomForestWithHyperparams function with the best hyperparameters\n"
   ]
  },
  {
   "cell_type": "code",
   "execution_count": 11,
   "id": "9f852f6e",
   "metadata": {},
   "outputs": [
    {
     "name": "stdout",
     "output_type": "stream",
     "text": [
      "Total accuracy: 0.8480113636363636\n",
      "Accuracy gain: 0.0028409090909090606\n"
     ]
    }
   ],
   "source": [
    "from sklearn.ensemble import RandomForestClassifier\n",
    "from sklearn.metrics import accuracy_score\n",
    "# Function: Training Random Forest with specific hyperparameters, and showing the accuracy gain\n",
    "def randomForestWithHyperparams(**hp):\n",
    "    hp[\"random_state\"] = 26\n",
    "    clf = RandomForestClassifier(**hp)\n",
    "    clf.fit(X_train, y_train)\n",
    "    y_pred = clf.predict(X_test)\n",
    "    predAccNew = accuracy_score(y_test, y_pred)\n",
    "    improvement = predAccNew - accuracy_rf\n",
    "    print(\"Total accuracy:\", predAccNew)\n",
    "    print(\"Accuracy gain:\", improvement)\n",
    "\n",
    "# Call the randomForestWithHyperparams function with the best hyperparameters\n",
    "randomForestWithHyperparams(**best_params)\n"
   ]
  },
  {
   "attachments": {},
   "cell_type": "markdown",
   "id": "2208258f",
   "metadata": {},
   "source": []
  },
  {
   "attachments": {},
   "cell_type": "markdown",
   "id": "c9e06b7f",
   "metadata": {},
   "source": [
    "#### Confusion Matrix\n",
    "\n",
    "- Precision\n",
    "- Recall\n",
    "- F1 score\n",
    "- Accuracy"
   ]
  },
  {
   "attachments": {},
   "cell_type": "markdown",
   "id": "64abcfb2",
   "metadata": {},
   "source": [
    "# Train Random Forest with best hyperparameters\n",
    "# Predict using the best model\n",
    "# Evaluation Metrics with best model\n",
    "# Calculate confusion matrix with best model\n",
    "# Calculate accuracy with best model"
   ]
  },
  {
   "cell_type": "code",
   "execution_count": 12,
   "id": "21efbe24",
   "metadata": {},
   "outputs": [
    {
     "name": "stdout",
     "output_type": "stream",
     "text": [
      "Random Forest with Best Hyperparameters - Evaluation Metrics:\n",
      "              precision    recall  f1-score   support\n",
      "\n",
      "           0       0.88      0.80      0.84       357\n",
      "           1       0.81      0.89      0.85       347\n",
      "\n",
      "    accuracy                           0.84       704\n",
      "   macro avg       0.85      0.84      0.84       704\n",
      "weighted avg       0.85      0.84      0.84       704\n",
      "\n",
      "Confusion Matrix with Best Hyperparameters:\n",
      "[[284  73]\n",
      " [ 37 310]]\n",
      "Accuracy with Best Hyperparameters: 0.84375\n"
     ]
    }
   ],
   "source": [
    "\n",
    "best_clf = RandomForestClassifier(random_state=42, **best_params)\n",
    "best_clf.fit(X_train, y_train)\n",
    "\n",
    "y_pred_best = best_clf.predict(X_test)\n",
    "\n",
    "\n",
    "print(\"Random Forest with Best Hyperparameters - Evaluation Metrics:\")\n",
    "print(classification_report(y_test, y_pred_best))\n",
    "\n",
    "\n",
    "confusion_mat_best = confusion_matrix(y_test, y_pred_best)\n",
    "print(\"Confusion Matrix with Best Hyperparameters:\")\n",
    "print(confusion_mat_best)\n",
    "\n",
    "accuracy_best = (confusion_mat_best[0, 0] + confusion_mat_best[1, 1]) / sum(sum(confusion_mat_best))\n",
    "print(\"Accuracy with Best Hyperparameters:\", accuracy_best)"
   ]
  },
  {
   "attachments": {},
   "cell_type": "markdown",
   "id": "86495c78",
   "metadata": {},
   "source": [
    "# Calculate classification report\n",
    "# Extract precision, recall, and F1-score\n",
    "# Print precision, recall, and F1-score"
   ]
  },
  {
   "cell_type": "code",
   "execution_count": 13,
   "id": "840bd157",
   "metadata": {},
   "outputs": [
    {
     "name": "stdout",
     "output_type": "stream",
     "text": [
      "Precision: 0.8093994778067886\n",
      "Recall: 0.8933717579250721\n",
      "F1-Score: 0.8493150684931507\n"
     ]
    }
   ],
   "source": [
    "from sklearn.metrics import classification_report\n",
    "\n",
    "report = classification_report(y_test, y_pred_best, output_dict=True)\n",
    "\n",
    "precision = report['1']['precision']\n",
    "recall = report['1']['recall']\n",
    "f1_score = report['1']['f1-score']\n",
    "\n",
    "print(\"Precision:\", precision)\n",
    "print(\"Recall:\", recall)\n",
    "print(\"F1-Score:\", f1_score)\n"
   ]
  },
  {
   "attachments": {},
   "cell_type": "markdown",
   "id": "4a14bfe7",
   "metadata": {},
   "source": [
    "# Some neural network algorithm\n",
    "\n",
    "- Main advantage :\n",
    "- Main disadvantage :"
   ]
  },
  {
   "attachments": {},
   "cell_type": "markdown",
   "id": "d9b1c800",
   "metadata": {},
   "source": [
    "#### Training and Accuracy"
   ]
  },
  {
   "cell_type": "code",
   "execution_count": null,
   "id": "e6ae7faf",
   "metadata": {},
   "outputs": [],
   "source": []
  },
  {
   "attachments": {},
   "cell_type": "markdown",
   "id": "779585de",
   "metadata": {},
   "source": [
    "#### Impact of Hyperparameters on Accuracy"
   ]
  },
  {
   "cell_type": "code",
   "execution_count": null,
   "id": "5efa485b",
   "metadata": {},
   "outputs": [],
   "source": []
  },
  {
   "attachments": {},
   "cell_type": "markdown",
   "id": "db5eaabb",
   "metadata": {},
   "source": [
    "#### Confusion Matrix\n",
    "\n",
    "- Precision\n",
    "- Recall\n",
    "- F1 score\n",
    "- Accuracy"
   ]
  },
  {
   "cell_type": "code",
   "execution_count": null,
   "id": "070b7739",
   "metadata": {},
   "outputs": [],
   "source": []
  },
  {
   "attachments": {},
   "cell_type": "markdown",
   "id": "c35f5dff",
   "metadata": {},
   "source": [
    "# Bias Evaluation\n",
    "\n",
    "https://fairlearn.org/main/user_guide/assessment/common_fairness_metrics.html"
   ]
  },
  {
   "attachments": {},
   "cell_type": "markdown",
   "id": "b1704dc6",
   "metadata": {},
   "source": [
    "#### Demographic parity\n",
    "\n",
    "\"Demographic parity is achieved when the probability of a certain prediction is not dependent on sensitive group membership\".\n",
    "\n",
    "Our data has \"sensitive\" features; Notably gender and race."
   ]
  }
 ],
 "metadata": {
  "kernelspec": {
   "display_name": "Python 3 (ipykernel)",
   "language": "python",
   "name": "python3"
  },
  "language_info": {
   "codemirror_mode": {
    "name": "ipython",
    "version": 3
   },
   "file_extension": ".py",
   "mimetype": "text/x-python",
   "name": "python",
   "nbconvert_exporter": "python",
   "pygments_lexer": "ipython3",
   "version": "3.9.13"
  }
 },
 "nbformat": 4,
 "nbformat_minor": 5
}
