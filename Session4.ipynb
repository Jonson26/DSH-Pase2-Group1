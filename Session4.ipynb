{
 "cells": [
  {
   "cell_type": "code",
   "execution_count": 1,
   "metadata": {
    "id": "19bec480"
   },
   "outputs": [],
   "source": [
    "import pandas as pd\n",
    "import numpy as np\n",
    "import matplotlib.pyplot as plt\n",
    "\n",
    "# Uncomment if necessary\n",
    "#from sklearn.preprocessing import OneHotEncoder\n",
    "#from category_encoders import TargetEncoder\n",
    "#from sklearn.preprocessing import MinMaxScaler, StandardScaler\n",
    "#from scipy.stats.mstats import winsorize\n",
    "import seaborn as sns\n",
    "#from collections import Counter\n",
    "#from sklearn.datasets import make_classification\n",
    "#from imblearn.under_sampling import RandomUnderSampler\n",
    "from sklearn import tree\n",
    "from sklearn.model_selection import train_test_split\n",
    "from sklearn import metrics"
   ]
  },
  {
   "cell_type": "code",
   "execution_count": 2,
   "metadata": {
    "id": "45d1a903"
   },
   "outputs": [],
   "source": [
    "db = pd.read_csv('data/preprocessed.csv')\n",
    "\n",
    "# Other possible preprocessed datasets\n",
    "#db2 = pd.read_csv('data/preprocessed_normalized.csv')\n",
    "#db3 = pd.read_csv('data/preprocessed_standardized.csv'\n",
    "#db4 = pd.read_csv('data/preprocessed_noCapital.csv')\n",
    "#db5 = pd.read_csv('data/preprocessed_noCapital_normalized.csv')\n",
    "#db6 = pd.read_csv('data/preprocessed_noCapital_standardized.csv')\n",
    "\n",
    "df = pd.DataFrame(db)"
   ]
  },
  {
   "cell_type": "markdown",
   "metadata": {
    "id": "557545f7"
   },
   "source": [
    "# Decision Trees\n",
    "\n",
    "- Main advantage : Interpretability\n",
    "- Main disadvantage : Might cause Overfitting\n",
    "\n",
    "Explanations taken from https://scikit-learn.org/stable/modules/tree.html\n",
    "\n",
    "Code partially taken from https://www.datacamp.com/tutorial/decision-tree-classification-python"
   ]
  },
  {
   "cell_type": "markdown",
   "metadata": {
    "id": "6d7363f0"
   },
   "source": [
    "#### Training and Accuracy"
   ]
  },
  {
   "cell_type": "code",
   "execution_count": 3,
   "metadata": {
    "id": "018d2aa2"
   },
   "outputs": [],
   "source": [
    "# Split target from features\n",
    "X = df.drop('income', axis=1)\n",
    "y = df['income']"
   ]
  },
  {
   "cell_type": "code",
   "execution_count": 4,
   "metadata": {
    "id": "de51e47d"
   },
   "outputs": [],
   "source": [
    "# Create training set and test set\n",
    "X_train, X_test, y_train, y_test = train_test_split(X, y, test_size=0.3, random_state=1)"
   ]
  },
  {
   "cell_type": "code",
   "execution_count": 5,
   "metadata": {
    "id": "c89a5d99"
   },
   "outputs": [],
   "source": [
    "# Train tree\n",
    "clf = tree.DecisionTreeClassifier(random_state=26)\n",
    "clf = clf.fit(X_train, y_train)"
   ]
  },
  {
   "cell_type": "code",
   "execution_count": 6,
   "metadata": {
    "id": "8bc7b084"
   },
   "outputs": [],
   "source": [
    "# Produce predictions using tree\n",
    "y_pred_tree = clf.predict(X_test)"
   ]
  },
  {
   "cell_type": "code",
   "execution_count": 7,
   "metadata": {
    "id": "4d7d4372",
    "outputId": "c623ede8-a3a2-412f-c8e1-65451a0fe537"
   },
   "outputs": [
    {
     "name": "stdout",
     "output_type": "stream",
     "text": [
      "Accuracy: 0.7727272727272727\n"
     ]
    }
   ],
   "source": [
    "# Print accuracy\n",
    "prediAccTree = metrics.accuracy_score(y_test, y_pred_tree)\n",
    "print(\"Accuracy:\", prediAccTree)"
   ]
  },
  {
   "cell_type": "markdown",
   "metadata": {
    "id": "5f1b832b"
   },
   "source": [
    "#### Impact of Hyperparameters on Accuracy\n",
    "\n",
    "https://towardsdatascience.com/how-to-tune-a-decision-tree-f03721801680\n",
    "\n",
    "Available Hyperparameters:\n",
    "\n",
    "0. criterion (default \"gini\", or \"entropy\")\n",
    "1. splitter (default \"best\", or \"random\")\n",
    "2. max_depth (default \"None\", or an int below like 700)\n",
    "3. min_samples_split (default \"2\", or an int below 40)\n",
    "4. min_samples_leaf (default \"1\", or an int below 20)\n",
    "5. min_weight_fraction_leaf (default \"0\", or a float up to 1)\n",
    "6. max_features (default \"None\", or \"auto\"/\"sqrt\" or \"log2\" or an int below 13)\n",
    "7. random_state (we should ignore that one and just set it to 42 or something)\n",
    "8. min_impurity_decrease (default \"0\", I do not really understand it but I think we should leave it alone)\n",
    "9. class_weight (default \"None\", too complex to change tbh)\n",
    "10. presort (we should ignore this one)"
   ]
  },
  {
   "cell_type": "code",
   "execution_count": 8,
   "metadata": {
    "id": "b0f8f76e"
   },
   "outputs": [],
   "source": [
    "# Function: Training tree with specific hyperparameters, and showing the accuracy gain\n",
    "def treeWithHyperparams(**hp):\n",
    "    hp[\"random_state\"] = 26\n",
    "    clf = tree.DecisionTreeClassifier(**hp)\n",
    "    clf = clf.fit(X_train, y_train)\n",
    "    y_pred = clf.predict(X_test)\n",
    "    prediAccNew = metrics.accuracy_score(y_test, y_pred)\n",
    "    improvement = prediAccNew - prediAccTree\n",
    "    #print(\"Results using\", list(hp.keys())[0], \"=\", list(hp.values())[0])\n",
    "    print(\"Total accuracy:\", prediAccNew)\n",
    "    print(\"Accuracy gain:\", improvement)"
   ]
  },
  {
   "cell_type": "code",
   "execution_count": 9,
   "metadata": {
    "id": "6e1554a1",
    "outputId": "8dce3c94-3ab6-4369-b797-f8553b03fe42",
    "scrolled": true
   },
   "outputs": [
    {
     "name": "stdout",
     "output_type": "stream",
     "text": [
      "Total accuracy: 0.765625\n",
      "Accuracy gain: -0.007102272727272707\n"
     ]
    }
   ],
   "source": [
    "treeWithHyperparams(criterion='entropy')"
   ]
  },
  {
   "cell_type": "code",
   "execution_count": 10,
   "metadata": {
    "id": "4025db39",
    "outputId": "6e4f2fdc-5551-4662-cb14-8a7493ae3acb",
    "scrolled": true
   },
   "outputs": [
    {
     "name": "stdout",
     "output_type": "stream",
     "text": [
      "Total accuracy: 0.7357954545454546\n",
      "Accuracy gain: -0.03693181818181812\n"
     ]
    }
   ],
   "source": [
    "treeWithHyperparams(splitter='random')"
   ]
  },
  {
   "cell_type": "code",
   "execution_count": 11,
   "metadata": {
    "id": "eec2eb2a",
    "outputId": "50107c5e-8cc3-4ba2-f47d-45eae9c08317"
   },
   "outputs": [
    {
     "name": "stdout",
     "output_type": "stream",
     "text": [
      "Total accuracy: 0.8309659090909091\n",
      "Accuracy gain: 0.058238636363636354\n"
     ]
    }
   ],
   "source": [
    "treeWithHyperparams(max_depth=5)"
   ]
  },
  {
   "cell_type": "code",
   "execution_count": 12,
   "metadata": {
    "id": "0dd45474",
    "outputId": "7d197b36-65ea-419c-80a9-1f5eab7950fe"
   },
   "outputs": [
    {
     "name": "stdout",
     "output_type": "stream",
     "text": [
      "Total accuracy: 0.7997159090909091\n",
      "Accuracy gain: 0.026988636363636354\n"
     ]
    }
   ],
   "source": [
    "treeWithHyperparams(min_samples_split=20)"
   ]
  },
  {
   "cell_type": "code",
   "execution_count": 13,
   "metadata": {
    "id": "3445b484",
    "outputId": "277213f4-43c8-4320-939f-aa58bfb7b648"
   },
   "outputs": [
    {
     "name": "stdout",
     "output_type": "stream",
     "text": [
      "Total accuracy: 0.8082386363636364\n",
      "Accuracy gain: 0.035511363636363646\n"
     ]
    }
   ],
   "source": [
    "treeWithHyperparams(min_samples_leaf=20)"
   ]
  },
  {
   "cell_type": "code",
   "execution_count": 14,
   "metadata": {
    "id": "763516d6",
    "outputId": "cf9c8587-6a45-4823-9f68-8044431814e8"
   },
   "outputs": [
    {
     "name": "stdout",
     "output_type": "stream",
     "text": [
      "Total accuracy: 0.7911931818181818\n",
      "Accuracy gain: 0.01846590909090906\n"
     ]
    }
   ],
   "source": [
    "treeWithHyperparams(min_weight_fraction_leaf=0.3)"
   ]
  },
  {
   "cell_type": "code",
   "execution_count": 15,
   "metadata": {
    "id": "71d2f1dc",
    "outputId": "3570fbda-59b7-49d6-aae0-14205cb47338"
   },
   "outputs": [
    {
     "name": "stdout",
     "output_type": "stream",
     "text": [
      "Total accuracy: 0.7514204545454546\n",
      "Accuracy gain: -0.02130681818181812\n"
     ]
    }
   ],
   "source": [
    "treeWithHyperparams(max_features='sqrt')"
   ]
  },
  {
   "cell_type": "code",
   "execution_count": 16,
   "metadata": {
    "id": "60ab0aad",
    "outputId": "57c13958-29da-4393-aa0c-5dd1513944d5"
   },
   "outputs": [
    {
     "name": "stdout",
     "output_type": "stream",
     "text": [
      "Total accuracy: 0.7684659090909091\n",
      "Accuracy gain: -0.0042613636363636465\n"
     ]
    }
   ],
   "source": [
    "treeWithHyperparams(max_features='log2')"
   ]
  },
  {
   "cell_type": "markdown",
   "metadata": {
    "id": "b1f518fd"
   },
   "source": [
    "We make the following observations concerning the individual hyperparameters:\n",
    "\n",
    "0. Changing the criterion from gini to entropy seems useless\n",
    "1. Changing the splitter from best to random seems useless\n",
    "2. **Limiting the max depth to 5 improves performance**\n",
    "3. **Setting the minimum split samples to 20 improves performance**\n",
    "4. **Setting the minimum leaf samples to 20 improves performance**\n",
    "5. Setting the minimum leaf weight fraction to 0.3 slightly improves performance\n",
    "6. Limiting the max features seems useless\n",
    "\n",
    "Our three most important hyperparameters are commonly used to combat overfitting.\n",
    "\n",
    "This means that we can expect the best results if we reduce overfitting in our decision tree."
   ]
  },
  {
   "cell_type": "markdown",
   "metadata": {
    "id": "9a112c32"
   },
   "source": [
    "#### Confusion Matrix\n",
    "\n",
    "- Precision\n",
    "- Recall\n",
    "- F1 score\n",
    "- Accuracy"
   ]
  },
  {
   "cell_type": "code",
   "execution_count": 17,
   "metadata": {
    "id": "fc81d353",
    "outputId": "bfe74b2d-a7d0-4ee4-8289-659dae272a11"
   },
   "outputs": [
    {
     "name": "stdout",
     "output_type": "stream",
     "text": [
      "[[287  70]\n",
      " [ 90 257]]\n"
     ]
    }
   ],
   "source": [
    "confMat_tree= metrics.confusion_matrix(y_test, y_pred_tree)\n",
    "print(confMat_tree)"
   ]
  },
  {
   "cell_type": "code",
   "execution_count": 18,
   "metadata": {
    "id": "38a734aa"
   },
   "outputs": [],
   "source": [
    "TP_tree = confMat_tree[0][0]\n",
    "FN_tree = confMat_tree[0][1]\n",
    "FP_tree = confMat_tree[1][0]\n",
    "TN_tree = confMat_tree[1][1]\n",
    "precision_tree = TP_tree / TP_tree + FP_tree\n",
    "recall_tree = TP_tree / TP_tree + FN_tree\n",
    "F1score_tree = 2 * ((precision_tree * recall_tree) / (precision_tree + recall_tree))"
   ]
  },
  {
   "cell_type": "code",
   "execution_count": 19,
   "metadata": {
    "id": "4445b579",
    "outputId": "05cba6d0-cbfe-4265-cf4c-4522f1d655d7"
   },
   "outputs": [
    {
     "name": "stdout",
     "output_type": "stream",
     "text": [
      "Precision: 91.0\n",
      "Recall: 71.0\n",
      "F1-Score: 79.76543209876543\n"
     ]
    }
   ],
   "source": [
    "print(\"Precision:\", precision_tree)\n",
    "print(\"Recall:\", recall_tree)\n",
    "print(\"F1-Score:\", F1score_tree)"
   ]
  },
  {
   "cell_type": "markdown",
   "metadata": {
    "id": "b06e6c14"
   },
   "source": [
    "The decision tree does not always identify people with an income above 50K.\n",
    "\n",
    "However, if the model determines that somebody has an income above 50K, it is very likely correct."
   ]
  },
  {
   "cell_type": "markdown",
   "metadata": {
    "id": "c525b2be"
   },
   "source": [
    "# Random Forest\n",
    "\n",
    "- Main advantage :\n",
    "- Main disadvantage :"
   ]
  },
  {
   "cell_type": "markdown",
   "metadata": {
    "id": "70ca56d8"
   },
   "source": [
    "#### Training and Accuracy"
   ]
  },
  {
   "cell_type": "code",
   "execution_count": 1,
   "metadata": {
    "id": "15a8d5cd"
   },
   "outputs": [],
   "source": [
    "import pandas as pd\n",
    "from sklearn.ensemble import RandomForestClassifier\n",
    "from sklearn.model_selection import train_test_split\n",
    "from sklearn.metrics import confusion_matrix, classification_report\n",
    "from sklearn.model_selection import GridSearchCV\n",
    "import pandas as pd"
   ]
  },
  {
   "cell_type": "code",
   "execution_count": 2,
   "metadata": {
    "id": "5ba6203c"
   },
   "outputs": [],
   "source": [
    "\n",
    "data = pd.read_csv('data\\preprocessed.csv')"
   ]
  },
  {
   "cell_type": "code",
   "execution_count": 3,
   "metadata": {
    "id": "13c1819a"
   },
   "outputs": [],
   "source": [
    "# Split the data into features and target variable\n",
    "X = data.drop('income', axis=1)\n",
    "y = data['income']"
   ]
  },
  {
   "cell_type": "code",
   "execution_count": 4,
   "metadata": {
    "id": "48701b9a"
   },
   "outputs": [],
   "source": [
    "# Split the data into training and testing sets\n",
    "X_train, X_test, y_train, y_test = train_test_split(X, y, test_size=0.3, random_state=1)\n"
   ]
  },
  {
   "cell_type": "code",
   "execution_count": 5,
   "metadata": {
    "id": "f47ac7ee",
    "outputId": "105b82a8-e413-49cb-8ae1-dc3fef987ab3"
   },
   "outputs": [
    {
     "name": "stdout",
     "output_type": "stream",
     "text": [
      "Random Forest - Evaluation Metrics:\n",
      "              precision    recall  f1-score   support\n",
      "\n",
      "           0       0.86      0.82      0.84       357\n",
      "           1       0.83      0.87      0.85       347\n",
      "\n",
      "    accuracy                           0.85       704\n",
      "   macro avg       0.85      0.85      0.85       704\n",
      "weighted avg       0.85      0.85      0.85       704\n",
      "\n"
     ]
    }
   ],
   "source": [
    "# Split the data into training and testing sets\n",
    "X_train, X_test, y_train, y_test = train_test_split(X, y, test_size=0.3, random_state=1)\n",
    "\n",
    "# Random Forest\n",
    "clf = RandomForestClassifier(random_state=26)\n",
    "\n",
    "# Train the Random Forest classifier\n",
    "clf.fit(X_train, y_train)\n",
    "\n",
    "# Predict on the test set\n",
    "y_pred_rf = clf.predict(X_test)\n",
    "\n",
    "# Evaluation Metrics\n",
    "print(\"Random Forest - Evaluation Metrics:\")\n",
    "print(classification_report(y_test, y_pred_rf))\n"
   ]
  },
  {
   "cell_type": "markdown",
   "metadata": {
    "id": "046b74ad"
   },
   "source": [
    "#### Impact of Hyperparameters on Accuracy"
   ]
  },
  {
   "cell_type": "code",
   "execution_count": 6,
   "metadata": {
    "id": "bb8f1a0b",
    "outputId": "bb71db68-675a-4254-8653-5f5b3737ee9b"
   },
   "outputs": [
    {
     "name": "stdout",
     "output_type": "stream",
     "text": [
      "Confusion Matrix:\n",
      "[[294  63]\n",
      " [ 46 301]]\n",
      "Accuracy: 0.8451704545454546\n",
      "Best Hyperparameters: {'max_depth': None, 'min_samples_split': 5, 'n_estimators': 100}\n"
     ]
    }
   ],
   "source": [
    "# Calculate confusion matrix\n",
    "confusion_mat_rf = confusion_matrix(y_test, y_pred_rf)\n",
    "print(\"Confusion Matrix:\")\n",
    "print(confusion_mat_rf)\n",
    "\n",
    "# Calculate accuracy\n",
    "accuracy_rf = (confusion_mat_rf[0, 0] + confusion_mat_rf[1, 1]) / sum(sum(confusion_mat_rf))\n",
    "print(\"Accuracy:\", accuracy_rf)\n",
    "\n",
    "# Hyperparameter Tuning\n",
    "param_grid = {\n",
    "    'n_estimators': [100, 200, 300],\n",
    "    'max_depth': [None, 5, 10],\n",
    "    'min_samples_split': [2, 5, 10]\n",
    "}\n",
    "\n",
    "grid_search = GridSearchCV(estimator=clf, param_grid=param_grid, cv=5)\n",
    "grid_search.fit(X_train, y_train)\n",
    "\n",
    "best_params = grid_search.best_params_\n",
    "print(\"Best Hyperparameters:\", best_params)"
   ]
  },
  {
   "cell_type": "code",
   "execution_count": 7,
   "metadata": {
    "id": "9f852f6e",
    "outputId": "8b4aa154-70b4-4cf6-965e-e1cc8d6b3813"
   },
   "outputs": [
    {
     "name": "stdout",
     "output_type": "stream",
     "text": [
      "Total accuracy: 0.8480113636363636\n",
      "Accuracy gain: 0.0028409090909090606\n"
     ]
    }
   ],
   "source": [
    "from sklearn.ensemble import RandomForestClassifier\n",
    "from sklearn.metrics import accuracy_score\n",
    "# Function: Training Random Forest with specific hyperparameters, and showing the accuracy gain\n",
    "def randomForestWithHyperparams(**hp):\n",
    "    hp[\"random_state\"] = 26\n",
    "    clf = RandomForestClassifier(**hp)\n",
    "    clf.fit(X_train, y_train)\n",
    "    y_pred = clf.predict(X_test)\n",
    "    predAccNew = accuracy_score(y_test, y_pred)\n",
    "    improvement = predAccNew - accuracy_rf\n",
    "    print(\"Total accuracy:\", predAccNew)\n",
    "    print(\"Accuracy gain:\", improvement)\n",
    "\n",
    "# Call the randomForestWithHyperparams function with the best hyperparameters\n",
    "randomForestWithHyperparams(**best_params)\n"
   ]
  },
  {
   "cell_type": "markdown",
   "metadata": {
    "id": "2208258f"
   },
   "source": []
  },
  {
   "cell_type": "markdown",
   "metadata": {
    "id": "c9e06b7f"
   },
   "source": [
    "#### Confusion Matrix\n",
    "\n",
    "- Precision\n",
    "- Recall\n",
    "- F1 score\n",
    "- Accuracy"
   ]
  },
  {
   "cell_type": "code",
   "execution_count": 8,
   "metadata": {
    "id": "21efbe24",
    "outputId": "cace3b01-3239-4c37-e801-0fa174416fb2"
   },
   "outputs": [
    {
     "name": "stdout",
     "output_type": "stream",
     "text": [
      "Random Forest with Best Hyperparameters - Evaluation Metrics:\n",
      "              precision    recall  f1-score   support\n",
      "\n",
      "           0       0.88      0.80      0.84       357\n",
      "           1       0.81      0.89      0.85       347\n",
      "\n",
      "    accuracy                           0.84       704\n",
      "   macro avg       0.85      0.84      0.84       704\n",
      "weighted avg       0.85      0.84      0.84       704\n",
      "\n",
      "Confusion Matrix with Best Hyperparameters:\n",
      "[[284  73]\n",
      " [ 37 310]]\n",
      "Accuracy with Best Hyperparameters: 0.84375\n"
     ]
    }
   ],
   "source": [
    "\n",
    "best_clf = RandomForestClassifier(random_state=42, **best_params)\n",
    "best_clf.fit(X_train, y_train)\n",
    "\n",
    "y_pred_best = best_clf.predict(X_test)\n",
    "\n",
    "\n",
    "print(\"Random Forest with Best Hyperparameters - Evaluation Metrics:\")\n",
    "print(classification_report(y_test, y_pred_best))\n",
    "\n",
    "\n",
    "confusion_mat_best = confusion_matrix(y_test, y_pred_best)\n",
    "print(\"Confusion Matrix with Best Hyperparameters:\")\n",
    "print(confusion_mat_best)\n",
    "\n",
    "accuracy_best = (confusion_mat_best[0, 0] + confusion_mat_best[1, 1]) / sum(sum(confusion_mat_best))\n",
    "print(\"Accuracy with Best Hyperparameters:\", accuracy_best)"
   ]
  },
  {
   "cell_type": "code",
   "execution_count": 9,
   "metadata": {
    "id": "840bd157",
    "outputId": "c93411dc-b832-4997-8e5b-8fd0c6ef5911"
   },
   "outputs": [
    {
     "name": "stdout",
     "output_type": "stream",
     "text": [
      "Precision: 0.8093994778067886\n",
      "Recall: 0.8933717579250721\n",
      "F1-Score: 0.8493150684931507\n"
     ]
    }
   ],
   "source": [
    "from sklearn.metrics import classification_report\n",
    "\n",
    "report = classification_report(y_test, y_pred_best, output_dict=True)\n",
    "\n",
    "precision = report['1']['precision']\n",
    "recall = report['1']['recall']\n",
    "f1_score = report['1']['f1-score']\n",
    "\n",
    "print(\"Precision:\", precision)\n",
    "print(\"Recall:\", recall)\n",
    "print(\"F1-Score:\", f1_score)\n"
   ]
  },
  {
   "cell_type": "markdown",
   "metadata": {
    "id": "4a14bfe7"
   },
   "source": [
    "# Some neural network algorithm\n",
    "\n",
    "- Main advantage :\n",
    "- Main disadvantage :"
   ]
  },
  {
   "cell_type": "markdown",
   "metadata": {
    "id": "d9b1c800"
   },
   "source": [
    "#### Training and Accuracy"
   ]
  },
  {
   "cell_type": "code",
   "execution_count": null,
   "metadata": {
    "id": "e6ae7faf"
   },
   "outputs": [
    {
     "name": "stderr",
     "output_type": "stream",
     "text": [
      "WARNING:absl:`lr` is deprecated in Keras optimizer, please use `learning_rate` or use the legacy optimizer, e.g.,tf.keras.optimizers.legacy.Adam.\n"
     ]
    },
    {
     "name": "stdout",
     "output_type": "stream",
     "text": [
      "Epoch 1/200\n",
      "79/79 [==============================] - 1s 5ms/step - loss: 0.1438 - accuracy: 0.7947 - val_loss: 0.1162 - val_accuracy: 0.8304\n",
      "Epoch 2/200\n",
      "79/79 [==============================] - 0s 3ms/step - loss: 0.1264 - accuracy: 0.8167 - val_loss: 0.1098 - val_accuracy: 0.8380\n",
      "Epoch 3/200\n",
      "79/79 [==============================] - 0s 3ms/step - loss: 0.1224 - accuracy: 0.8199 - val_loss: 0.1083 - val_accuracy: 0.8424\n",
      "Epoch 4/200\n",
      "79/79 [==============================] - 0s 3ms/step - loss: 0.1185 - accuracy: 0.8235 - val_loss: 0.1065 - val_accuracy: 0.8452\n",
      "Epoch 5/200\n",
      "79/79 [==============================] - 0s 3ms/step - loss: 0.1172 - accuracy: 0.8259 - val_loss: 0.1055 - val_accuracy: 0.8480\n",
      "Epoch 6/200\n",
      "79/79 [==============================] - 0s 3ms/step - loss: 0.1174 - accuracy: 0.8259 - val_loss: 0.1047 - val_accuracy: 0.8520\n",
      "Epoch 7/200\n",
      "79/79 [==============================] - 0s 3ms/step - loss: 0.1162 - accuracy: 0.8343 - val_loss: 0.1056 - val_accuracy: 0.8512\n",
      "Epoch 8/200\n",
      "79/79 [==============================] - 0s 3ms/step - loss: 0.1168 - accuracy: 0.8319 - val_loss: 0.1040 - val_accuracy: 0.8492\n",
      "Epoch 9/200\n",
      "79/79 [==============================] - 0s 3ms/step - loss: 0.1153 - accuracy: 0.8323 - val_loss: 0.1063 - val_accuracy: 0.8416\n",
      "Epoch 10/200\n",
      "79/79 [==============================] - 0s 3ms/step - loss: 0.1164 - accuracy: 0.8331 - val_loss: 0.1039 - val_accuracy: 0.8476\n",
      "Epoch 11/200\n",
      "79/79 [==============================] - 0s 3ms/step - loss: 0.1159 - accuracy: 0.8327 - val_loss: 0.1046 - val_accuracy: 0.8500\n",
      "Epoch 12/200\n",
      "79/79 [==============================] - 0s 3ms/step - loss: 0.1160 - accuracy: 0.8323 - val_loss: 0.1037 - val_accuracy: 0.8512\n",
      "Epoch 13/200\n",
      "79/79 [==============================] - 0s 3ms/step - loss: 0.1159 - accuracy: 0.8323 - val_loss: 0.1033 - val_accuracy: 0.8480\n",
      "Epoch 14/200\n",
      "79/79 [==============================] - 0s 3ms/step - loss: 0.1139 - accuracy: 0.8319 - val_loss: 0.1044 - val_accuracy: 0.8484\n",
      "Epoch 15/200\n",
      "79/79 [==============================] - 0s 3ms/step - loss: 0.1157 - accuracy: 0.8315 - val_loss: 0.1044 - val_accuracy: 0.8484\n",
      "Epoch 16/200\n",
      "79/79 [==============================] - 0s 3ms/step - loss: 0.1145 - accuracy: 0.8363 - val_loss: 0.1033 - val_accuracy: 0.8516\n",
      "Epoch 17/200\n",
      "79/79 [==============================] - 0s 3ms/step - loss: 0.1126 - accuracy: 0.8383 - val_loss: 0.1028 - val_accuracy: 0.8496\n",
      "Epoch 18/200\n",
      "79/79 [==============================] - 0s 3ms/step - loss: 0.1135 - accuracy: 0.8367 - val_loss: 0.1030 - val_accuracy: 0.8476\n",
      "Epoch 19/200\n",
      "79/79 [==============================] - 0s 3ms/step - loss: 0.1144 - accuracy: 0.8343 - val_loss: 0.1050 - val_accuracy: 0.8476\n",
      "Epoch 20/200\n",
      "79/79 [==============================] - 0s 3ms/step - loss: 0.1146 - accuracy: 0.8347 - val_loss: 0.1123 - val_accuracy: 0.8368\n",
      "Epoch 21/200\n",
      "79/79 [==============================] - 0s 3ms/step - loss: 0.1176 - accuracy: 0.8311 - val_loss: 0.1051 - val_accuracy: 0.8484\n",
      "Epoch 22/200\n",
      "79/79 [==============================] - 0s 3ms/step - loss: 0.1147 - accuracy: 0.8335 - val_loss: 0.1033 - val_accuracy: 0.8512\n",
      "Epoch 23/200\n",
      "79/79 [==============================] - 0s 3ms/step - loss: 0.1131 - accuracy: 0.8379 - val_loss: 0.1039 - val_accuracy: 0.8528\n",
      "Epoch 24/200\n",
      "79/79 [==============================] - 0s 3ms/step - loss: 0.1132 - accuracy: 0.8403 - val_loss: 0.1054 - val_accuracy: 0.8464\n",
      "Epoch 25/200\n",
      "79/79 [==============================] - 0s 3ms/step - loss: 0.1131 - accuracy: 0.8371 - val_loss: 0.1038 - val_accuracy: 0.8468\n",
      "Epoch 26/200\n",
      "79/79 [==============================] - 0s 3ms/step - loss: 0.1144 - accuracy: 0.8371 - val_loss: 0.1034 - val_accuracy: 0.8492\n",
      "Epoch 27/200\n",
      "79/79 [==============================] - 0s 3ms/step - loss: 0.1132 - accuracy: 0.8407 - val_loss: 0.1061 - val_accuracy: 0.8468\n",
      "Epoch 28/200\n",
      "79/79 [==============================] - 0s 3ms/step - loss: 0.1138 - accuracy: 0.8315 - val_loss: 0.1029 - val_accuracy: 0.8496\n",
      "Epoch 29/200\n",
      "79/79 [==============================] - 0s 3ms/step - loss: 0.1130 - accuracy: 0.8339 - val_loss: 0.1023 - val_accuracy: 0.8492\n",
      "Epoch 30/200\n",
      "79/79 [==============================] - 0s 3ms/step - loss: 0.1137 - accuracy: 0.8383 - val_loss: 0.1052 - val_accuracy: 0.8504\n",
      "Epoch 31/200\n",
      "79/79 [==============================] - 0s 3ms/step - loss: 0.1130 - accuracy: 0.8395 - val_loss: 0.1032 - val_accuracy: 0.8484\n",
      "Epoch 32/200\n",
      "79/79 [==============================] - 0s 3ms/step - loss: 0.1127 - accuracy: 0.8383 - val_loss: 0.1039 - val_accuracy: 0.8480\n",
      "Epoch 33/200\n",
      "79/79 [==============================] - 0s 3ms/step - loss: 0.1132 - accuracy: 0.8411 - val_loss: 0.1026 - val_accuracy: 0.8504\n",
      "Epoch 34/200\n",
      "79/79 [==============================] - 0s 3ms/step - loss: 0.1127 - accuracy: 0.8391 - val_loss: 0.1069 - val_accuracy: 0.8452\n",
      "Epoch 35/200\n",
      "79/79 [==============================] - 0s 3ms/step - loss: 0.1151 - accuracy: 0.8407 - val_loss: 0.1029 - val_accuracy: 0.8516\n",
      "Epoch 36/200\n",
      "79/79 [==============================] - 0s 3ms/step - loss: 0.1120 - accuracy: 0.8375 - val_loss: 0.1023 - val_accuracy: 0.8476\n",
      "Epoch 37/200\n",
      "79/79 [==============================] - 0s 3ms/step - loss: 0.1133 - accuracy: 0.8403 - val_loss: 0.1039 - val_accuracy: 0.8544\n",
      "Epoch 38/200\n",
      "79/79 [==============================] - 0s 3ms/step - loss: 0.1133 - accuracy: 0.8375 - val_loss: 0.1037 - val_accuracy: 0.8508\n",
      "Epoch 39/200\n",
      "79/79 [==============================] - 0s 3ms/step - loss: 0.1135 - accuracy: 0.8383 - val_loss: 0.1032 - val_accuracy: 0.8500\n",
      "Epoch 40/200\n",
      "79/79 [==============================] - 0s 3ms/step - loss: 0.1128 - accuracy: 0.8419 - val_loss: 0.1041 - val_accuracy: 0.8528\n",
      "Epoch 41/200\n",
      "79/79 [==============================] - 0s 4ms/step - loss: 0.1126 - accuracy: 0.8395 - val_loss: 0.1034 - val_accuracy: 0.8496\n",
      "Epoch 42/200\n",
      "79/79 [==============================] - 0s 3ms/step - loss: 0.1130 - accuracy: 0.8375 - val_loss: 0.1076 - val_accuracy: 0.8468\n",
      "Epoch 43/200\n",
      "79/79 [==============================] - 0s 3ms/step - loss: 0.1137 - accuracy: 0.8343 - val_loss: 0.1026 - val_accuracy: 0.8488\n",
      "Epoch 44/200\n",
      "79/79 [==============================] - 0s 3ms/step - loss: 0.1122 - accuracy: 0.8419 - val_loss: 0.1027 - val_accuracy: 0.8480\n",
      "Epoch 45/200\n",
      "79/79 [==============================] - 0s 3ms/step - loss: 0.1128 - accuracy: 0.8411 - val_loss: 0.1030 - val_accuracy: 0.8512\n",
      "Epoch 46/200\n",
      "79/79 [==============================] - 0s 3ms/step - loss: 0.1138 - accuracy: 0.8403 - val_loss: 0.1027 - val_accuracy: 0.8468\n",
      "Epoch 47/200\n",
      "79/79 [==============================] - 0s 3ms/step - loss: 0.1139 - accuracy: 0.8399 - val_loss: 0.1052 - val_accuracy: 0.8452\n",
      "Epoch 48/200\n",
      "79/79 [==============================] - 0s 3ms/step - loss: 0.1131 - accuracy: 0.8395 - val_loss: 0.1058 - val_accuracy: 0.8464\n",
      "Epoch 49/200\n",
      "79/79 [==============================] - 0s 3ms/step - loss: 0.1126 - accuracy: 0.8363 - val_loss: 0.1036 - val_accuracy: 0.8536\n",
      "Epoch 50/200\n",
      "79/79 [==============================] - 0s 3ms/step - loss: 0.1126 - accuracy: 0.8331 - val_loss: 0.1027 - val_accuracy: 0.8476\n",
      "Epoch 51/200\n",
      "79/79 [==============================] - 0s 3ms/step - loss: 0.1120 - accuracy: 0.8387 - val_loss: 0.1032 - val_accuracy: 0.8464\n",
      "Epoch 52/200\n",
      "79/79 [==============================] - 0s 3ms/step - loss: 0.1123 - accuracy: 0.8447 - val_loss: 0.1026 - val_accuracy: 0.8512\n",
      "Epoch 53/200\n",
      "79/79 [==============================] - 0s 4ms/step - loss: 0.1121 - accuracy: 0.8387 - val_loss: 0.1028 - val_accuracy: 0.8556\n",
      "Epoch 54/200\n",
      "79/79 [==============================] - 0s 3ms/step - loss: 0.1133 - accuracy: 0.8351 - val_loss: 0.1024 - val_accuracy: 0.8480\n",
      "Epoch 55/200\n",
      "79/79 [==============================] - 0s 3ms/step - loss: 0.1122 - accuracy: 0.8399 - val_loss: 0.1022 - val_accuracy: 0.8492\n",
      "Epoch 56/200\n",
      "79/79 [==============================] - 0s 3ms/step - loss: 0.1121 - accuracy: 0.8371 - val_loss: 0.1028 - val_accuracy: 0.8500\n",
      "Epoch 57/200\n",
      "79/79 [==============================] - 0s 3ms/step - loss: 0.1115 - accuracy: 0.8419 - val_loss: 0.1023 - val_accuracy: 0.8544\n",
      "Epoch 58/200\n",
      "79/79 [==============================] - 0s 3ms/step - loss: 0.1116 - accuracy: 0.8399 - val_loss: 0.1032 - val_accuracy: 0.8528\n"
     ]
    },
    {
     "name": "stdout",
     "output_type": "stream",
     "text": [
      "Epoch 59/200\n",
      "79/79 [==============================] - 0s 3ms/step - loss: 0.1113 - accuracy: 0.8407 - val_loss: 0.1018 - val_accuracy: 0.8496\n",
      "Epoch 60/200\n",
      "79/79 [==============================] - 0s 3ms/step - loss: 0.1125 - accuracy: 0.8339 - val_loss: 0.1025 - val_accuracy: 0.8508\n",
      "Epoch 61/200\n",
      "79/79 [==============================] - 0s 3ms/step - loss: 0.1118 - accuracy: 0.8371 - val_loss: 0.1063 - val_accuracy: 0.8492\n",
      "Epoch 62/200\n",
      "79/79 [==============================] - 0s 3ms/step - loss: 0.1109 - accuracy: 0.8363 - val_loss: 0.1021 - val_accuracy: 0.8504\n",
      "Epoch 63/200\n",
      "79/79 [==============================] - 0s 3ms/step - loss: 0.1105 - accuracy: 0.8399 - val_loss: 0.1027 - val_accuracy: 0.8508\n",
      "Epoch 64/200\n",
      "79/79 [==============================] - 0s 3ms/step - loss: 0.1110 - accuracy: 0.8419 - val_loss: 0.1047 - val_accuracy: 0.8476\n",
      "Epoch 65/200\n",
      "79/79 [==============================] - 0s 3ms/step - loss: 0.1120 - accuracy: 0.8355 - val_loss: 0.1024 - val_accuracy: 0.8516\n",
      "Epoch 66/200\n",
      "79/79 [==============================] - 0s 3ms/step - loss: 0.1101 - accuracy: 0.8455 - val_loss: 0.1035 - val_accuracy: 0.8476\n",
      "Epoch 67/200\n",
      "79/79 [==============================] - 0s 3ms/step - loss: 0.1106 - accuracy: 0.8407 - val_loss: 0.1024 - val_accuracy: 0.8508\n",
      "Epoch 68/200\n",
      "79/79 [==============================] - 0s 3ms/step - loss: 0.1102 - accuracy: 0.8423 - val_loss: 0.1026 - val_accuracy: 0.8496\n",
      "Epoch 69/200\n",
      "79/79 [==============================] - 0s 3ms/step - loss: 0.1094 - accuracy: 0.8415 - val_loss: 0.1080 - val_accuracy: 0.8440\n",
      "Epoch 70/200\n",
      "79/79 [==============================] - 0s 3ms/step - loss: 0.1104 - accuracy: 0.8395 - val_loss: 0.1017 - val_accuracy: 0.8532\n",
      "Epoch 71/200\n",
      "79/79 [==============================] - 0s 3ms/step - loss: 0.1088 - accuracy: 0.8451 - val_loss: 0.1020 - val_accuracy: 0.8492\n",
      "Epoch 72/200\n",
      "79/79 [==============================] - 0s 3ms/step - loss: 0.1095 - accuracy: 0.8447 - val_loss: 0.1035 - val_accuracy: 0.8460\n",
      "Epoch 73/200\n",
      "79/79 [==============================] - 0s 3ms/step - loss: 0.1091 - accuracy: 0.8411 - val_loss: 0.1057 - val_accuracy: 0.8468\n",
      "Epoch 74/200\n",
      "79/79 [==============================] - 0s 3ms/step - loss: 0.1107 - accuracy: 0.8407 - val_loss: 0.1027 - val_accuracy: 0.8460\n",
      "Epoch 75/200\n",
      "79/79 [==============================] - 0s 3ms/step - loss: 0.1092 - accuracy: 0.8435 - val_loss: 0.1040 - val_accuracy: 0.8480\n",
      "Epoch 76/200\n",
      "79/79 [==============================] - 0s 3ms/step - loss: 0.1092 - accuracy: 0.8411 - val_loss: 0.1026 - val_accuracy: 0.8508\n",
      "Epoch 77/200\n",
      "79/79 [==============================] - 0s 3ms/step - loss: 0.1078 - accuracy: 0.8427 - val_loss: 0.1015 - val_accuracy: 0.8512\n",
      "Epoch 78/200\n",
      "79/79 [==============================] - 0s 3ms/step - loss: 0.1079 - accuracy: 0.8459 - val_loss: 0.1048 - val_accuracy: 0.8460\n",
      "Epoch 79/200\n",
      "79/79 [==============================] - 0s 3ms/step - loss: 0.1082 - accuracy: 0.8471 - val_loss: 0.1031 - val_accuracy: 0.8452\n",
      "Epoch 80/200\n",
      "79/79 [==============================] - 0s 3ms/step - loss: 0.1084 - accuracy: 0.8367 - val_loss: 0.1019 - val_accuracy: 0.8484\n",
      "Epoch 81/200\n",
      "79/79 [==============================] - 0s 3ms/step - loss: 0.1082 - accuracy: 0.8443 - val_loss: 0.1032 - val_accuracy: 0.8468\n",
      "Epoch 82/200\n",
      "79/79 [==============================] - 0s 3ms/step - loss: 0.1090 - accuracy: 0.8351 - val_loss: 0.1026 - val_accuracy: 0.8472\n",
      "Epoch 83/200\n",
      "79/79 [==============================] - 0s 3ms/step - loss: 0.1080 - accuracy: 0.8443 - val_loss: 0.1029 - val_accuracy: 0.8488\n",
      "Epoch 84/200\n",
      "79/79 [==============================] - 0s 3ms/step - loss: 0.1083 - accuracy: 0.8431 - val_loss: 0.1027 - val_accuracy: 0.8460\n",
      "Epoch 85/200\n",
      "79/79 [==============================] - 0s 3ms/step - loss: 0.1080 - accuracy: 0.8427 - val_loss: 0.1095 - val_accuracy: 0.8424\n",
      "Epoch 86/200\n",
      "79/79 [==============================] - 0s 3ms/step - loss: 0.1082 - accuracy: 0.8383 - val_loss: 0.1026 - val_accuracy: 0.8500\n",
      "Epoch 87/200\n",
      "79/79 [==============================] - 0s 3ms/step - loss: 0.1076 - accuracy: 0.8451 - val_loss: 0.1033 - val_accuracy: 0.8412\n",
      "Epoch 88/200\n",
      "79/79 [==============================] - 0s 3ms/step - loss: 0.1078 - accuracy: 0.8447 - val_loss: 0.1047 - val_accuracy: 0.8400\n",
      "Epoch 89/200\n",
      "79/79 [==============================] - 0s 3ms/step - loss: 0.1080 - accuracy: 0.8435 - val_loss: 0.1114 - val_accuracy: 0.8404\n",
      "Epoch 90/200\n",
      "79/79 [==============================] - 0s 3ms/step - loss: 0.1092 - accuracy: 0.8447 - val_loss: 0.1024 - val_accuracy: 0.8500\n",
      "Epoch 91/200\n",
      "79/79 [==============================] - 0s 3ms/step - loss: 0.1083 - accuracy: 0.8411 - val_loss: 0.1020 - val_accuracy: 0.8508\n",
      "Epoch 92/200\n",
      "79/79 [==============================] - 0s 3ms/step - loss: 0.1083 - accuracy: 0.8407 - val_loss: 0.1038 - val_accuracy: 0.8452\n",
      "Epoch 93/200\n",
      "79/79 [==============================] - 0s 3ms/step - loss: 0.1069 - accuracy: 0.8419 - val_loss: 0.1024 - val_accuracy: 0.8492\n",
      "Epoch 94/200\n",
      "79/79 [==============================] - 0s 3ms/step - loss: 0.1078 - accuracy: 0.8451 - val_loss: 0.1043 - val_accuracy: 0.8432\n",
      "Epoch 95/200\n",
      "79/79 [==============================] - 0s 3ms/step - loss: 0.1082 - accuracy: 0.8483 - val_loss: 0.1027 - val_accuracy: 0.8484\n",
      "Epoch 96/200\n",
      "79/79 [==============================] - 0s 3ms/step - loss: 0.1080 - accuracy: 0.8443 - val_loss: 0.1029 - val_accuracy: 0.8476\n",
      "Epoch 97/200\n",
      "79/79 [==============================] - 0s 3ms/step - loss: 0.1081 - accuracy: 0.8419 - val_loss: 0.1021 - val_accuracy: 0.8492\n",
      "Epoch 98/200\n",
      "79/79 [==============================] - 0s 3ms/step - loss: 0.1078 - accuracy: 0.8443 - val_loss: 0.1028 - val_accuracy: 0.8460\n",
      "Epoch 99/200\n",
      "79/79 [==============================] - 0s 3ms/step - loss: 0.1078 - accuracy: 0.8447 - val_loss: 0.1023 - val_accuracy: 0.8488\n",
      "Epoch 100/200\n",
      "79/79 [==============================] - 0s 3ms/step - loss: 0.1068 - accuracy: 0.8431 - val_loss: 0.1029 - val_accuracy: 0.8468\n",
      "Epoch 101/200\n",
      "79/79 [==============================] - 0s 3ms/step - loss: 0.1074 - accuracy: 0.8459 - val_loss: 0.1032 - val_accuracy: 0.8484\n",
      "Epoch 102/200\n",
      "79/79 [==============================] - 0s 3ms/step - loss: 0.1077 - accuracy: 0.8403 - val_loss: 0.1052 - val_accuracy: 0.8400\n",
      "Epoch 103/200\n",
      "79/79 [==============================] - 0s 3ms/step - loss: 0.1094 - accuracy: 0.8351 - val_loss: 0.1027 - val_accuracy: 0.8464\n",
      "Epoch 104/200\n",
      "79/79 [==============================] - 0s 3ms/step - loss: 0.1074 - accuracy: 0.8427 - val_loss: 0.1048 - val_accuracy: 0.8424\n",
      "Epoch 105/200\n",
      "79/79 [==============================] - 0s 3ms/step - loss: 0.1073 - accuracy: 0.8431 - val_loss: 0.1022 - val_accuracy: 0.8460\n",
      "Epoch 106/200\n",
      "79/79 [==============================] - 0s 3ms/step - loss: 0.1073 - accuracy: 0.8427 - val_loss: 0.1035 - val_accuracy: 0.8472\n",
      "Epoch 107/200\n",
      "79/79 [==============================] - 0s 3ms/step - loss: 0.1065 - accuracy: 0.8419 - val_loss: 0.1049 - val_accuracy: 0.8464\n",
      "Epoch 108/200\n",
      "79/79 [==============================] - 0s 3ms/step - loss: 0.1065 - accuracy: 0.8399 - val_loss: 0.1052 - val_accuracy: 0.8396\n",
      "Epoch 109/200\n",
      "79/79 [==============================] - 0s 4ms/step - loss: 0.1062 - accuracy: 0.8483 - val_loss: 0.1024 - val_accuracy: 0.8492\n",
      "Epoch 110/200\n",
      "79/79 [==============================] - 0s 3ms/step - loss: 0.1068 - accuracy: 0.8431 - val_loss: 0.1028 - val_accuracy: 0.8492\n",
      "Epoch 111/200\n",
      "79/79 [==============================] - 0s 3ms/step - loss: 0.1069 - accuracy: 0.8443 - val_loss: 0.1033 - val_accuracy: 0.8440\n",
      "Epoch 112/200\n",
      "79/79 [==============================] - 0s 3ms/step - loss: 0.1061 - accuracy: 0.8467 - val_loss: 0.1032 - val_accuracy: 0.8448\n",
      "Epoch 113/200\n",
      "79/79 [==============================] - 0s 3ms/step - loss: 0.1066 - accuracy: 0.8475 - val_loss: 0.1048 - val_accuracy: 0.8460\n",
      "Epoch 114/200\n",
      "79/79 [==============================] - 0s 3ms/step - loss: 0.1068 - accuracy: 0.8491 - val_loss: 0.1079 - val_accuracy: 0.8380\n",
      "Epoch 115/200\n",
      "79/79 [==============================] - 0s 3ms/step - loss: 0.1090 - accuracy: 0.8475 - val_loss: 0.1027 - val_accuracy: 0.8488\n",
      "Epoch 116/200\n"
     ]
    },
    {
     "name": "stdout",
     "output_type": "stream",
     "text": [
      "79/79 [==============================] - 0s 3ms/step - loss: 0.1067 - accuracy: 0.8511 - val_loss: 0.1062 - val_accuracy: 0.8420\n",
      "Epoch 117/200\n",
      "79/79 [==============================] - 0s 3ms/step - loss: 0.1075 - accuracy: 0.8511 - val_loss: 0.1060 - val_accuracy: 0.8408\n",
      "Epoch 118/200\n",
      "79/79 [==============================] - 0s 3ms/step - loss: 0.1069 - accuracy: 0.8435 - val_loss: 0.1032 - val_accuracy: 0.8472\n",
      "Epoch 119/200\n",
      "79/79 [==============================] - 0s 3ms/step - loss: 0.1074 - accuracy: 0.8391 - val_loss: 0.1026 - val_accuracy: 0.8448\n",
      "Epoch 120/200\n",
      "79/79 [==============================] - 0s 3ms/step - loss: 0.1075 - accuracy: 0.8423 - val_loss: 0.1022 - val_accuracy: 0.8472\n",
      "Epoch 121/200\n",
      "79/79 [==============================] - 0s 3ms/step - loss: 0.1067 - accuracy: 0.8447 - val_loss: 0.1037 - val_accuracy: 0.8436\n",
      "Epoch 122/200\n",
      "79/79 [==============================] - 0s 3ms/step - loss: 0.1068 - accuracy: 0.8483 - val_loss: 0.1030 - val_accuracy: 0.8436\n",
      "Epoch 123/200\n",
      "79/79 [==============================] - 0s 3ms/step - loss: 0.1064 - accuracy: 0.8467 - val_loss: 0.1037 - val_accuracy: 0.8444\n",
      "Epoch 124/200\n",
      "79/79 [==============================] - 0s 3ms/step - loss: 0.1066 - accuracy: 0.8459 - val_loss: 0.1040 - val_accuracy: 0.8452\n",
      "Epoch 125/200\n",
      "79/79 [==============================] - 0s 3ms/step - loss: 0.1073 - accuracy: 0.8403 - val_loss: 0.1049 - val_accuracy: 0.8440\n",
      "Epoch 126/200\n",
      "79/79 [==============================] - 0s 3ms/step - loss: 0.1062 - accuracy: 0.8483 - val_loss: 0.1019 - val_accuracy: 0.8472\n",
      "Epoch 127/200\n",
      "79/79 [==============================] - 0s 3ms/step - loss: 0.1070 - accuracy: 0.8431 - val_loss: 0.1030 - val_accuracy: 0.8456\n",
      "Epoch 128/200\n",
      "79/79 [==============================] - 0s 3ms/step - loss: 0.1055 - accuracy: 0.8487 - val_loss: 0.1035 - val_accuracy: 0.8440\n",
      "Epoch 129/200\n",
      "79/79 [==============================] - 0s 3ms/step - loss: 0.1057 - accuracy: 0.8487 - val_loss: 0.1028 - val_accuracy: 0.8444\n",
      "Epoch 130/200\n",
      "79/79 [==============================] - 0s 3ms/step - loss: 0.1069 - accuracy: 0.8479 - val_loss: 0.1040 - val_accuracy: 0.8448\n",
      "Epoch 131/200\n",
      "79/79 [==============================] - 0s 3ms/step - loss: 0.1069 - accuracy: 0.8463 - val_loss: 0.1081 - val_accuracy: 0.8440\n",
      "Epoch 132/200\n",
      "79/79 [==============================] - 0s 3ms/step - loss: 0.1066 - accuracy: 0.8459 - val_loss: 0.1024 - val_accuracy: 0.8472\n",
      "Epoch 133/200\n",
      "79/79 [==============================] - 0s 3ms/step - loss: 0.1065 - accuracy: 0.8475 - val_loss: 0.1024 - val_accuracy: 0.8476\n",
      "Epoch 134/200\n",
      "79/79 [==============================] - 0s 3ms/step - loss: 0.1057 - accuracy: 0.8515 - val_loss: 0.1027 - val_accuracy: 0.8472\n",
      "Epoch 135/200\n",
      "79/79 [==============================] - 0s 3ms/step - loss: 0.1059 - accuracy: 0.8431 - val_loss: 0.1025 - val_accuracy: 0.8464\n",
      "Epoch 136/200\n",
      "79/79 [==============================] - 0s 3ms/step - loss: 0.1053 - accuracy: 0.8519 - val_loss: 0.1028 - val_accuracy: 0.8464\n",
      "Epoch 137/200\n",
      "79/79 [==============================] - 0s 3ms/step - loss: 0.1058 - accuracy: 0.8463 - val_loss: 0.1022 - val_accuracy: 0.8460\n",
      "Epoch 138/200\n",
      "79/79 [==============================] - 0s 3ms/step - loss: 0.1058 - accuracy: 0.8447 - val_loss: 0.1027 - val_accuracy: 0.8472\n",
      "Epoch 139/200\n",
      "79/79 [==============================] - 0s 3ms/step - loss: 0.1056 - accuracy: 0.8455 - val_loss: 0.1033 - val_accuracy: 0.8448\n",
      "Epoch 140/200\n",
      "79/79 [==============================] - 0s 3ms/step - loss: 0.1047 - accuracy: 0.8427 - val_loss: 0.1047 - val_accuracy: 0.8436\n",
      "Epoch 141/200\n",
      "79/79 [==============================] - 0s 3ms/step - loss: 0.1058 - accuracy: 0.8487 - val_loss: 0.1031 - val_accuracy: 0.8472\n",
      "Epoch 142/200\n",
      "79/79 [==============================] - 0s 3ms/step - loss: 0.1052 - accuracy: 0.8423 - val_loss: 0.1029 - val_accuracy: 0.8444\n",
      "Epoch 143/200\n",
      "79/79 [==============================] - 0s 3ms/step - loss: 0.1042 - accuracy: 0.8463 - val_loss: 0.1070 - val_accuracy: 0.8412\n",
      "Epoch 144/200\n",
      "79/79 [==============================] - 0s 3ms/step - loss: 0.1056 - accuracy: 0.8503 - val_loss: 0.1034 - val_accuracy: 0.8484\n",
      "Epoch 145/200\n",
      "79/79 [==============================] - 0s 3ms/step - loss: 0.1064 - accuracy: 0.8451 - val_loss: 0.1030 - val_accuracy: 0.8472\n",
      "Epoch 146/200\n",
      "79/79 [==============================] - 0s 3ms/step - loss: 0.1060 - accuracy: 0.8455 - val_loss: 0.1021 - val_accuracy: 0.8484\n",
      "Epoch 147/200\n",
      "79/79 [==============================] - 0s 3ms/step - loss: 0.1057 - accuracy: 0.8439 - val_loss: 0.1043 - val_accuracy: 0.8436\n",
      "Epoch 148/200\n",
      "79/79 [==============================] - 0s 3ms/step - loss: 0.1072 - accuracy: 0.8435 - val_loss: 0.1031 - val_accuracy: 0.8464\n",
      "Epoch 149/200\n",
      "79/79 [==============================] - 0s 3ms/step - loss: 0.1052 - accuracy: 0.8483 - val_loss: 0.1036 - val_accuracy: 0.8420\n",
      "Epoch 150/200\n",
      "79/79 [==============================] - 0s 3ms/step - loss: 0.1043 - accuracy: 0.8447 - val_loss: 0.1026 - val_accuracy: 0.8468\n",
      "Epoch 151/200\n",
      "79/79 [==============================] - 0s 3ms/step - loss: 0.1053 - accuracy: 0.8503 - val_loss: 0.1043 - val_accuracy: 0.8452\n",
      "Epoch 152/200\n",
      "79/79 [==============================] - 0s 3ms/step - loss: 0.1061 - accuracy: 0.8435 - val_loss: 0.1035 - val_accuracy: 0.8420\n",
      "Epoch 153/200\n",
      "79/79 [==============================] - 0s 3ms/step - loss: 0.1053 - accuracy: 0.8451 - val_loss: 0.1061 - val_accuracy: 0.8424\n",
      "Epoch 154/200\n",
      "79/79 [==============================] - 0s 3ms/step - loss: 0.1041 - accuracy: 0.8531 - val_loss: 0.1036 - val_accuracy: 0.8460\n",
      "Epoch 155/200\n",
      "79/79 [==============================] - 0s 3ms/step - loss: 0.1055 - accuracy: 0.8439 - val_loss: 0.1045 - val_accuracy: 0.8428\n",
      "Epoch 156/200\n",
      "79/79 [==============================] - 0s 3ms/step - loss: 0.1062 - accuracy: 0.8403 - val_loss: 0.1027 - val_accuracy: 0.8472\n",
      "Epoch 157/200\n",
      "79/79 [==============================] - 0s 3ms/step - loss: 0.1042 - accuracy: 0.8467 - val_loss: 0.1027 - val_accuracy: 0.8480\n",
      "Epoch 158/200\n",
      "79/79 [==============================] - 0s 3ms/step - loss: 0.1046 - accuracy: 0.8423 - val_loss: 0.1029 - val_accuracy: 0.8456\n",
      "Epoch 159/200\n",
      "79/79 [==============================] - 0s 3ms/step - loss: 0.1041 - accuracy: 0.8499 - val_loss: 0.1040 - val_accuracy: 0.8480\n",
      "Epoch 160/200\n",
      "79/79 [==============================] - 0s 3ms/step - loss: 0.1043 - accuracy: 0.8471 - val_loss: 0.1045 - val_accuracy: 0.8440\n",
      "Epoch 161/200\n",
      "79/79 [==============================] - 0s 3ms/step - loss: 0.1040 - accuracy: 0.8487 - val_loss: 0.1044 - val_accuracy: 0.8428\n",
      "Epoch 162/200\n",
      "79/79 [==============================] - 0s 3ms/step - loss: 0.1026 - accuracy: 0.8523 - val_loss: 0.1030 - val_accuracy: 0.8456\n",
      "Epoch 163/200\n",
      "79/79 [==============================] - 0s 3ms/step - loss: 0.1036 - accuracy: 0.8519 - val_loss: 0.1035 - val_accuracy: 0.8436\n",
      "Epoch 164/200\n",
      "79/79 [==============================] - 0s 3ms/step - loss: 0.1059 - accuracy: 0.8423 - val_loss: 0.1036 - val_accuracy: 0.8444\n",
      "Epoch 165/200\n",
      "79/79 [==============================] - 0s 3ms/step - loss: 0.1042 - accuracy: 0.8487 - val_loss: 0.1079 - val_accuracy: 0.8396\n",
      "Epoch 166/200\n",
      "79/79 [==============================] - 0s 3ms/step - loss: 0.1045 - accuracy: 0.8471 - val_loss: 0.1043 - val_accuracy: 0.8432\n",
      "Epoch 167/200\n",
      "79/79 [==============================] - 0s 3ms/step - loss: 0.1045 - accuracy: 0.8467 - val_loss: 0.1065 - val_accuracy: 0.8420\n",
      "Epoch 168/200\n",
      "79/79 [==============================] - 0s 3ms/step - loss: 0.1039 - accuracy: 0.8479 - val_loss: 0.1043 - val_accuracy: 0.8424\n",
      "Epoch 169/200\n",
      "79/79 [==============================] - 0s 3ms/step - loss: 0.1027 - accuracy: 0.8475 - val_loss: 0.1050 - val_accuracy: 0.8416\n",
      "Epoch 170/200\n",
      "79/79 [==============================] - 0s 3ms/step - loss: 0.1025 - accuracy: 0.8531 - val_loss: 0.1063 - val_accuracy: 0.8408\n",
      "Epoch 171/200\n",
      "79/79 [==============================] - 0s 3ms/step - loss: 0.1044 - accuracy: 0.8459 - val_loss: 0.1046 - val_accuracy: 0.8440\n",
      "Epoch 172/200\n",
      "79/79 [==============================] - 0s 3ms/step - loss: 0.1022 - accuracy: 0.8507 - val_loss: 0.1026 - val_accuracy: 0.8460\n",
      "Epoch 173/200\n"
     ]
    },
    {
     "name": "stdout",
     "output_type": "stream",
     "text": [
      "79/79 [==============================] - 0s 3ms/step - loss: 0.1034 - accuracy: 0.8523 - val_loss: 0.1034 - val_accuracy: 0.8428\n",
      "Epoch 174/200\n",
      "79/79 [==============================] - 0s 3ms/step - loss: 0.1016 - accuracy: 0.8531 - val_loss: 0.1042 - val_accuracy: 0.8424\n",
      "Epoch 175/200\n",
      "79/79 [==============================] - 0s 3ms/step - loss: 0.1027 - accuracy: 0.8507 - val_loss: 0.1046 - val_accuracy: 0.8412\n",
      "Epoch 176/200\n",
      "79/79 [==============================] - 0s 3ms/step - loss: 0.1012 - accuracy: 0.8511 - val_loss: 0.1054 - val_accuracy: 0.8396\n",
      "Epoch 177/200\n",
      "79/79 [==============================] - 0s 3ms/step - loss: 0.1030 - accuracy: 0.8443 - val_loss: 0.1041 - val_accuracy: 0.8428\n",
      "Epoch 178/200\n",
      "79/79 [==============================] - 0s 3ms/step - loss: 0.1030 - accuracy: 0.8503 - val_loss: 0.1035 - val_accuracy: 0.8448\n",
      "Epoch 179/200\n",
      "79/79 [==============================] - 0s 3ms/step - loss: 0.1035 - accuracy: 0.8431 - val_loss: 0.1066 - val_accuracy: 0.8424\n",
      "Epoch 180/200\n",
      "79/79 [==============================] - 0s 3ms/step - loss: 0.1018 - accuracy: 0.8531 - val_loss: 0.1043 - val_accuracy: 0.8416\n",
      "Epoch 181/200\n",
      "79/79 [==============================] - 0s 3ms/step - loss: 0.1020 - accuracy: 0.8523 - val_loss: 0.1042 - val_accuracy: 0.8412\n",
      "Epoch 182/200\n",
      "79/79 [==============================] - 0s 3ms/step - loss: 0.1058 - accuracy: 0.8431 - val_loss: 0.1052 - val_accuracy: 0.8416\n",
      "Epoch 183/200\n",
      "79/79 [==============================] - 0s 3ms/step - loss: 0.1031 - accuracy: 0.8483 - val_loss: 0.1053 - val_accuracy: 0.8444\n",
      "Epoch 184/200\n",
      "79/79 [==============================] - 0s 3ms/step - loss: 0.1016 - accuracy: 0.8519 - val_loss: 0.1036 - val_accuracy: 0.8460\n",
      "Epoch 185/200\n",
      "79/79 [==============================] - 0s 3ms/step - loss: 0.1042 - accuracy: 0.8499 - val_loss: 0.1048 - val_accuracy: 0.8440\n",
      "Epoch 186/200\n",
      "79/79 [==============================] - 0s 3ms/step - loss: 0.1030 - accuracy: 0.8483 - val_loss: 0.1031 - val_accuracy: 0.8452\n",
      "Epoch 187/200\n",
      "79/79 [==============================] - 0s 3ms/step - loss: 0.1022 - accuracy: 0.8515 - val_loss: 0.1038 - val_accuracy: 0.8424\n",
      "Epoch 188/200\n",
      "79/79 [==============================] - 0s 3ms/step - loss: 0.1033 - accuracy: 0.8515 - val_loss: 0.1025 - val_accuracy: 0.8484\n",
      "Epoch 189/200\n",
      "79/79 [==============================] - 0s 3ms/step - loss: 0.1021 - accuracy: 0.8463 - val_loss: 0.1044 - val_accuracy: 0.8392\n",
      "Epoch 190/200\n",
      "79/79 [==============================] - 0s 3ms/step - loss: 0.1018 - accuracy: 0.8551 - val_loss: 0.1042 - val_accuracy: 0.8396\n",
      "Epoch 191/200\n",
      "79/79 [==============================] - 0s 3ms/step - loss: 0.1032 - accuracy: 0.8435 - val_loss: 0.1034 - val_accuracy: 0.8420\n",
      "Epoch 192/200\n",
      "79/79 [==============================] - 0s 3ms/step - loss: 0.0998 - accuracy: 0.8519 - val_loss: 0.1061 - val_accuracy: 0.8440\n",
      "Epoch 193/200\n",
      "79/79 [==============================] - 0s 3ms/step - loss: 0.1012 - accuracy: 0.8495 - val_loss: 0.1035 - val_accuracy: 0.8424\n",
      "Epoch 194/200\n",
      "79/79 [==============================] - 0s 3ms/step - loss: 0.1032 - accuracy: 0.8467 - val_loss: 0.1056 - val_accuracy: 0.8420\n",
      "Epoch 195/200\n",
      "79/79 [==============================] - 0s 3ms/step - loss: 0.1012 - accuracy: 0.8527 - val_loss: 0.1048 - val_accuracy: 0.8444\n",
      "Epoch 196/200\n",
      "79/79 [==============================] - 0s 3ms/step - loss: 0.1037 - accuracy: 0.8503 - val_loss: 0.1049 - val_accuracy: 0.8440\n",
      "Epoch 197/200\n",
      "79/79 [==============================] - 0s 3ms/step - loss: 0.1034 - accuracy: 0.8479 - val_loss: 0.1044 - val_accuracy: 0.8448\n",
      "Epoch 198/200\n",
      "79/79 [==============================] - 0s 3ms/step - loss: 0.1013 - accuracy: 0.8503 - val_loss: 0.1036 - val_accuracy: 0.8452\n",
      "Epoch 199/200\n",
      "79/79 [==============================] - 0s 3ms/step - loss: 0.1033 - accuracy: 0.8467 - val_loss: 0.1039 - val_accuracy: 0.8436\n",
      "Epoch 200/200\n",
      "79/79 [==============================] - 0s 3ms/step - loss: 0.1029 - accuracy: 0.8483 - val_loss: 0.1026 - val_accuracy: 0.8480\n",
      "79/79 [==============================] - 0s 1ms/step - loss: 0.1026 - accuracy: 0.8480\n"
     ]
    },
    {
     "name": "stderr",
     "output_type": "stream",
     "text": [
      "WARNING:absl:`lr` is deprecated in Keras optimizer, please use `learning_rate` or use the legacy optimizer, e.g.,tf.keras.optimizers.legacy.Adam.\n"
     ]
    },
    {
     "name": "stdout",
     "output_type": "stream",
     "text": [
      "[0.10256778448820114, 0.8479999899864197]\n",
      "Epoch 1/200\n",
      "79/79 [==============================] - 1s 5ms/step - loss: 0.1410 - accuracy: 0.7979 - val_loss: 0.1125 - val_accuracy: 0.8360\n",
      "Epoch 2/200\n",
      "79/79 [==============================] - 0s 3ms/step - loss: 0.1217 - accuracy: 0.8167 - val_loss: 0.1092 - val_accuracy: 0.8416\n",
      "Epoch 3/200\n",
      "79/79 [==============================] - 0s 3ms/step - loss: 0.1241 - accuracy: 0.8135 - val_loss: 0.1070 - val_accuracy: 0.8444\n",
      "Epoch 4/200\n",
      "79/79 [==============================] - 0s 3ms/step - loss: 0.1175 - accuracy: 0.8319 - val_loss: 0.1065 - val_accuracy: 0.8500\n",
      "Epoch 5/200\n",
      "79/79 [==============================] - 0s 3ms/step - loss: 0.1196 - accuracy: 0.8279 - val_loss: 0.1049 - val_accuracy: 0.8512\n",
      "Epoch 6/200\n",
      "79/79 [==============================] - 0s 3ms/step - loss: 0.1164 - accuracy: 0.8303 - val_loss: 0.1052 - val_accuracy: 0.8484\n",
      "Epoch 7/200\n",
      "79/79 [==============================] - 0s 3ms/step - loss: 0.1134 - accuracy: 0.8395 - val_loss: 0.1057 - val_accuracy: 0.8456\n",
      "Epoch 8/200\n",
      "79/79 [==============================] - 0s 3ms/step - loss: 0.1161 - accuracy: 0.8355 - val_loss: 0.1085 - val_accuracy: 0.8428\n",
      "Epoch 9/200\n",
      "79/79 [==============================] - 0s 3ms/step - loss: 0.1149 - accuracy: 0.8391 - val_loss: 0.1074 - val_accuracy: 0.8444\n",
      "Epoch 10/200\n",
      "79/79 [==============================] - 0s 3ms/step - loss: 0.1149 - accuracy: 0.8331 - val_loss: 0.1059 - val_accuracy: 0.8440\n",
      "Epoch 11/200\n",
      "79/79 [==============================] - 0s 3ms/step - loss: 0.1160 - accuracy: 0.8371 - val_loss: 0.1086 - val_accuracy: 0.8420\n",
      "Epoch 12/200\n",
      "79/79 [==============================] - 0s 3ms/step - loss: 0.1151 - accuracy: 0.8343 - val_loss: 0.1031 - val_accuracy: 0.8480\n",
      "Epoch 13/200\n",
      "79/79 [==============================] - 0s 3ms/step - loss: 0.1157 - accuracy: 0.8323 - val_loss: 0.1040 - val_accuracy: 0.8492\n",
      "Epoch 14/200\n",
      "79/79 [==============================] - 0s 3ms/step - loss: 0.1140 - accuracy: 0.8327 - val_loss: 0.1145 - val_accuracy: 0.8244\n",
      "Epoch 15/200\n",
      "79/79 [==============================] - 0s 3ms/step - loss: 0.1145 - accuracy: 0.8359 - val_loss: 0.1037 - val_accuracy: 0.8476\n",
      "Epoch 16/200\n",
      "79/79 [==============================] - 0s 3ms/step - loss: 0.1135 - accuracy: 0.8403 - val_loss: 0.1071 - val_accuracy: 0.8448\n",
      "Epoch 17/200\n",
      "79/79 [==============================] - 0s 3ms/step - loss: 0.1146 - accuracy: 0.8375 - val_loss: 0.1060 - val_accuracy: 0.8484\n",
      "Epoch 18/200\n",
      "79/79 [==============================] - 0s 3ms/step - loss: 0.1145 - accuracy: 0.8363 - val_loss: 0.1047 - val_accuracy: 0.8504\n",
      "Epoch 19/200\n",
      "79/79 [==============================] - 0s 3ms/step - loss: 0.1144 - accuracy: 0.8311 - val_loss: 0.1079 - val_accuracy: 0.8464\n",
      "Epoch 20/200\n",
      "79/79 [==============================] - 0s 3ms/step - loss: 0.1146 - accuracy: 0.8279 - val_loss: 0.1095 - val_accuracy: 0.8392\n",
      "Epoch 21/200\n",
      "79/79 [==============================] - 0s 3ms/step - loss: 0.1147 - accuracy: 0.8311 - val_loss: 0.1071 - val_accuracy: 0.8420\n",
      "Epoch 22/200\n",
      "79/79 [==============================] - 0s 3ms/step - loss: 0.1136 - accuracy: 0.8395 - val_loss: 0.1032 - val_accuracy: 0.8484\n",
      "Epoch 23/200\n",
      "79/79 [==============================] - 0s 3ms/step - loss: 0.1131 - accuracy: 0.8391 - val_loss: 0.1028 - val_accuracy: 0.8488\n",
      "Epoch 24/200\n",
      "79/79 [==============================] - 0s 3ms/step - loss: 0.1151 - accuracy: 0.8331 - val_loss: 0.1031 - val_accuracy: 0.8484\n",
      "Epoch 25/200\n",
      "79/79 [==============================] - 0s 3ms/step - loss: 0.1142 - accuracy: 0.8395 - val_loss: 0.1043 - val_accuracy: 0.8476\n",
      "Epoch 26/200\n",
      "79/79 [==============================] - 0s 3ms/step - loss: 0.1143 - accuracy: 0.8327 - val_loss: 0.1059 - val_accuracy: 0.8444\n",
      "Epoch 27/200\n",
      "79/79 [==============================] - 0s 3ms/step - loss: 0.1142 - accuracy: 0.8331 - val_loss: 0.1030 - val_accuracy: 0.8492\n",
      "Epoch 28/200\n",
      "79/79 [==============================] - 0s 3ms/step - loss: 0.1135 - accuracy: 0.8375 - val_loss: 0.1053 - val_accuracy: 0.8496\n",
      "Epoch 29/200\n",
      "79/79 [==============================] - 0s 3ms/step - loss: 0.1129 - accuracy: 0.8383 - val_loss: 0.1040 - val_accuracy: 0.8508\n",
      "Epoch 30/200\n",
      "79/79 [==============================] - 0s 3ms/step - loss: 0.1124 - accuracy: 0.8359 - val_loss: 0.1025 - val_accuracy: 0.8484\n",
      "Epoch 31/200\n",
      "79/79 [==============================] - 0s 3ms/step - loss: 0.1134 - accuracy: 0.8435 - val_loss: 0.1044 - val_accuracy: 0.8512\n",
      "Epoch 32/200\n",
      "79/79 [==============================] - 0s 3ms/step - loss: 0.1137 - accuracy: 0.8351 - val_loss: 0.1030 - val_accuracy: 0.8476\n",
      "Epoch 33/200\n",
      "79/79 [==============================] - 0s 3ms/step - loss: 0.1127 - accuracy: 0.8359 - val_loss: 0.1033 - val_accuracy: 0.8488\n",
      "Epoch 34/200\n",
      "79/79 [==============================] - 0s 3ms/step - loss: 0.1132 - accuracy: 0.8375 - val_loss: 0.1029 - val_accuracy: 0.8500\n",
      "Epoch 35/200\n",
      "79/79 [==============================] - 0s 3ms/step - loss: 0.1132 - accuracy: 0.8391 - val_loss: 0.1031 - val_accuracy: 0.8496\n",
      "Epoch 36/200\n",
      "79/79 [==============================] - 0s 3ms/step - loss: 0.1142 - accuracy: 0.8371 - val_loss: 0.1028 - val_accuracy: 0.8504\n",
      "Epoch 37/200\n",
      "79/79 [==============================] - 0s 3ms/step - loss: 0.1137 - accuracy: 0.8359 - val_loss: 0.1036 - val_accuracy: 0.8480\n",
      "Epoch 38/200\n",
      "79/79 [==============================] - 0s 3ms/step - loss: 0.1137 - accuracy: 0.8403 - val_loss: 0.1029 - val_accuracy: 0.8476\n",
      "Epoch 39/200\n",
      "79/79 [==============================] - 0s 3ms/step - loss: 0.1134 - accuracy: 0.8355 - val_loss: 0.1025 - val_accuracy: 0.8492\n",
      "Epoch 40/200\n",
      "79/79 [==============================] - 0s 3ms/step - loss: 0.1150 - accuracy: 0.8327 - val_loss: 0.1041 - val_accuracy: 0.8492\n",
      "Epoch 41/200\n",
      "79/79 [==============================] - 0s 3ms/step - loss: 0.1126 - accuracy: 0.8403 - val_loss: 0.1038 - val_accuracy: 0.8476\n",
      "Epoch 42/200\n",
      "79/79 [==============================] - 0s 3ms/step - loss: 0.1133 - accuracy: 0.8331 - val_loss: 0.1029 - val_accuracy: 0.8476\n",
      "Epoch 43/200\n",
      "79/79 [==============================] - 0s 3ms/step - loss: 0.1135 - accuracy: 0.8403 - val_loss: 0.1028 - val_accuracy: 0.8488\n",
      "Epoch 44/200\n",
      "79/79 [==============================] - 0s 3ms/step - loss: 0.1133 - accuracy: 0.8343 - val_loss: 0.1030 - val_accuracy: 0.8500\n",
      "Epoch 45/200\n",
      "79/79 [==============================] - 0s 3ms/step - loss: 0.1140 - accuracy: 0.8371 - val_loss: 0.1032 - val_accuracy: 0.8496\n",
      "Epoch 46/200\n",
      "79/79 [==============================] - 0s 3ms/step - loss: 0.1137 - accuracy: 0.8343 - val_loss: 0.1062 - val_accuracy: 0.8476\n",
      "Epoch 47/200\n",
      "79/79 [==============================] - 0s 3ms/step - loss: 0.1119 - accuracy: 0.8399 - val_loss: 0.1034 - val_accuracy: 0.8480\n",
      "Epoch 48/200\n",
      "79/79 [==============================] - 0s 3ms/step - loss: 0.1137 - accuracy: 0.8395 - val_loss: 0.1028 - val_accuracy: 0.8488\n",
      "Epoch 49/200\n",
      "79/79 [==============================] - 0s 3ms/step - loss: 0.1127 - accuracy: 0.8403 - val_loss: 0.1037 - val_accuracy: 0.8504\n",
      "Epoch 50/200\n",
      "79/79 [==============================] - 0s 3ms/step - loss: 0.1123 - accuracy: 0.8395 - val_loss: 0.1052 - val_accuracy: 0.8484\n",
      "Epoch 51/200\n",
      "79/79 [==============================] - 0s 3ms/step - loss: 0.1130 - accuracy: 0.8379 - val_loss: 0.1026 - val_accuracy: 0.8480\n",
      "Epoch 52/200\n",
      "79/79 [==============================] - 0s 3ms/step - loss: 0.1138 - accuracy: 0.8351 - val_loss: 0.1044 - val_accuracy: 0.8476\n",
      "Epoch 53/200\n",
      "79/79 [==============================] - 0s 3ms/step - loss: 0.1134 - accuracy: 0.8387 - val_loss: 0.1036 - val_accuracy: 0.8480\n",
      "Epoch 54/200\n",
      "79/79 [==============================] - 0s 3ms/step - loss: 0.1128 - accuracy: 0.8359 - val_loss: 0.1030 - val_accuracy: 0.8468\n",
      "Epoch 55/200\n",
      "79/79 [==============================] - 0s 3ms/step - loss: 0.1127 - accuracy: 0.8355 - val_loss: 0.1040 - val_accuracy: 0.8512\n",
      "Epoch 56/200\n",
      "79/79 [==============================] - 0s 3ms/step - loss: 0.1128 - accuracy: 0.8363 - val_loss: 0.1030 - val_accuracy: 0.8480\n",
      "Epoch 57/200\n",
      "79/79 [==============================] - 0s 3ms/step - loss: 0.1124 - accuracy: 0.8403 - val_loss: 0.1061 - val_accuracy: 0.8472\n",
      "Epoch 58/200\n"
     ]
    },
    {
     "name": "stdout",
     "output_type": "stream",
     "text": [
      "79/79 [==============================] - 0s 3ms/step - loss: 0.1133 - accuracy: 0.8347 - val_loss: 0.1027 - val_accuracy: 0.8492\n",
      "Epoch 59/200\n",
      "79/79 [==============================] - 0s 3ms/step - loss: 0.1128 - accuracy: 0.8415 - val_loss: 0.1027 - val_accuracy: 0.8468\n",
      "Epoch 60/200\n",
      "79/79 [==============================] - 0s 3ms/step - loss: 0.1129 - accuracy: 0.8391 - val_loss: 0.1025 - val_accuracy: 0.8496\n",
      "Epoch 61/200\n",
      "79/79 [==============================] - 0s 3ms/step - loss: 0.1129 - accuracy: 0.8379 - val_loss: 0.1023 - val_accuracy: 0.8496\n",
      "Epoch 62/200\n",
      "79/79 [==============================] - 0s 3ms/step - loss: 0.1126 - accuracy: 0.8427 - val_loss: 0.1029 - val_accuracy: 0.8484\n",
      "Epoch 63/200\n",
      "79/79 [==============================] - 0s 3ms/step - loss: 0.1128 - accuracy: 0.8387 - val_loss: 0.1028 - val_accuracy: 0.8508\n",
      "Epoch 64/200\n",
      "79/79 [==============================] - 0s 3ms/step - loss: 0.1132 - accuracy: 0.8355 - val_loss: 0.1033 - val_accuracy: 0.8476\n",
      "Epoch 65/200\n",
      "79/79 [==============================] - 0s 3ms/step - loss: 0.1144 - accuracy: 0.8367 - val_loss: 0.1025 - val_accuracy: 0.8492\n",
      "Epoch 66/200\n",
      "79/79 [==============================] - 0s 3ms/step - loss: 0.1123 - accuracy: 0.8399 - val_loss: 0.1028 - val_accuracy: 0.8480\n",
      "Epoch 67/200\n",
      "79/79 [==============================] - 0s 3ms/step - loss: 0.1120 - accuracy: 0.8403 - val_loss: 0.1035 - val_accuracy: 0.8472\n",
      "Epoch 68/200\n",
      "79/79 [==============================] - 0s 3ms/step - loss: 0.1131 - accuracy: 0.8403 - val_loss: 0.1075 - val_accuracy: 0.8456\n",
      "Epoch 69/200\n",
      "79/79 [==============================] - 0s 3ms/step - loss: 0.1128 - accuracy: 0.8403 - val_loss: 0.1026 - val_accuracy: 0.8488\n",
      "Epoch 70/200\n",
      "79/79 [==============================] - 0s 3ms/step - loss: 0.1115 - accuracy: 0.8447 - val_loss: 0.1032 - val_accuracy: 0.8492\n",
      "Epoch 71/200\n",
      "79/79 [==============================] - 0s 3ms/step - loss: 0.1123 - accuracy: 0.8403 - val_loss: 0.1039 - val_accuracy: 0.8496\n",
      "Epoch 72/200\n",
      "79/79 [==============================] - 0s 3ms/step - loss: 0.1127 - accuracy: 0.8367 - val_loss: 0.1030 - val_accuracy: 0.8488\n",
      "Epoch 73/200\n",
      "79/79 [==============================] - 0s 3ms/step - loss: 0.1116 - accuracy: 0.8399 - val_loss: 0.1071 - val_accuracy: 0.8468\n",
      "Epoch 74/200\n",
      "79/79 [==============================] - 0s 3ms/step - loss: 0.1126 - accuracy: 0.8379 - val_loss: 0.1030 - val_accuracy: 0.8484\n",
      "Epoch 75/200\n",
      "79/79 [==============================] - 0s 3ms/step - loss: 0.1118 - accuracy: 0.8379 - val_loss: 0.1022 - val_accuracy: 0.8504\n",
      "Epoch 76/200\n",
      "79/79 [==============================] - 0s 3ms/step - loss: 0.1126 - accuracy: 0.8391 - val_loss: 0.1031 - val_accuracy: 0.8492\n",
      "Epoch 77/200\n",
      "79/79 [==============================] - 0s 3ms/step - loss: 0.1117 - accuracy: 0.8403 - val_loss: 0.1022 - val_accuracy: 0.8500\n",
      "Epoch 78/200\n",
      "79/79 [==============================] - 0s 3ms/step - loss: 0.1109 - accuracy: 0.8387 - val_loss: 0.1027 - val_accuracy: 0.8520\n",
      "Epoch 79/200\n",
      "79/79 [==============================] - 0s 3ms/step - loss: 0.1110 - accuracy: 0.8395 - val_loss: 0.1031 - val_accuracy: 0.8500\n",
      "Epoch 80/200\n",
      "79/79 [==============================] - 0s 3ms/step - loss: 0.1115 - accuracy: 0.8395 - val_loss: 0.1029 - val_accuracy: 0.8488\n",
      "Epoch 81/200\n",
      "79/79 [==============================] - 0s 3ms/step - loss: 0.1102 - accuracy: 0.8439 - val_loss: 0.1045 - val_accuracy: 0.8492\n",
      "Epoch 82/200\n",
      "79/79 [==============================] - 0s 3ms/step - loss: 0.1112 - accuracy: 0.8387 - val_loss: 0.1021 - val_accuracy: 0.8528\n",
      "Epoch 83/200\n",
      "79/79 [==============================] - 0s 3ms/step - loss: 0.1114 - accuracy: 0.8387 - val_loss: 0.1027 - val_accuracy: 0.8520\n",
      "Epoch 84/200\n",
      "79/79 [==============================] - 0s 3ms/step - loss: 0.1105 - accuracy: 0.8403 - val_loss: 0.1063 - val_accuracy: 0.8460\n",
      "Epoch 85/200\n",
      "79/79 [==============================] - 0s 3ms/step - loss: 0.1119 - accuracy: 0.8391 - val_loss: 0.1044 - val_accuracy: 0.8472\n",
      "Epoch 86/200\n",
      "79/79 [==============================] - 0s 3ms/step - loss: 0.1094 - accuracy: 0.8411 - val_loss: 0.1020 - val_accuracy: 0.8516\n",
      "Epoch 87/200\n",
      "79/79 [==============================] - 0s 3ms/step - loss: 0.1097 - accuracy: 0.8431 - val_loss: 0.1034 - val_accuracy: 0.8480\n",
      "Epoch 88/200\n",
      "79/79 [==============================] - 0s 3ms/step - loss: 0.1102 - accuracy: 0.8415 - val_loss: 0.1027 - val_accuracy: 0.8480\n",
      "Epoch 89/200\n",
      "79/79 [==============================] - 0s 3ms/step - loss: 0.1086 - accuracy: 0.8395 - val_loss: 0.1017 - val_accuracy: 0.8504\n",
      "Epoch 90/200\n",
      "79/79 [==============================] - 0s 3ms/step - loss: 0.1088 - accuracy: 0.8455 - val_loss: 0.1055 - val_accuracy: 0.8492\n",
      "Epoch 91/200\n",
      "79/79 [==============================] - 0s 3ms/step - loss: 0.1087 - accuracy: 0.8379 - val_loss: 0.1026 - val_accuracy: 0.8516\n",
      "Epoch 92/200\n",
      "79/79 [==============================] - 0s 3ms/step - loss: 0.1092 - accuracy: 0.8415 - val_loss: 0.1034 - val_accuracy: 0.8488\n",
      "Epoch 93/200\n",
      "79/79 [==============================] - 0s 3ms/step - loss: 0.1093 - accuracy: 0.8375 - val_loss: 0.1015 - val_accuracy: 0.8504\n",
      "Epoch 94/200\n",
      "79/79 [==============================] - 0s 3ms/step - loss: 0.1079 - accuracy: 0.8427 - val_loss: 0.1024 - val_accuracy: 0.8516\n",
      "Epoch 95/200\n",
      "79/79 [==============================] - 0s 3ms/step - loss: 0.1085 - accuracy: 0.8399 - val_loss: 0.1024 - val_accuracy: 0.8488\n",
      "Epoch 96/200\n",
      "79/79 [==============================] - 0s 3ms/step - loss: 0.1083 - accuracy: 0.8419 - val_loss: 0.1014 - val_accuracy: 0.8504\n",
      "Epoch 97/200\n",
      "79/79 [==============================] - 0s 3ms/step - loss: 0.1070 - accuracy: 0.8447 - val_loss: 0.1052 - val_accuracy: 0.8468\n",
      "Epoch 98/200\n",
      "79/79 [==============================] - 0s 3ms/step - loss: 0.1097 - accuracy: 0.8419 - val_loss: 0.1041 - val_accuracy: 0.8448\n",
      "Epoch 99/200\n",
      "79/79 [==============================] - 0s 3ms/step - loss: 0.1094 - accuracy: 0.8415 - val_loss: 0.1023 - val_accuracy: 0.8492\n",
      "Epoch 100/200\n",
      "79/79 [==============================] - 0s 3ms/step - loss: 0.1082 - accuracy: 0.8391 - val_loss: 0.1020 - val_accuracy: 0.8504\n",
      "Epoch 101/200\n",
      "79/79 [==============================] - 0s 3ms/step - loss: 0.1095 - accuracy: 0.8415 - val_loss: 0.1021 - val_accuracy: 0.8508\n",
      "Epoch 102/200\n",
      "79/79 [==============================] - 0s 3ms/step - loss: 0.1079 - accuracy: 0.8459 - val_loss: 0.1023 - val_accuracy: 0.8480\n",
      "Epoch 103/200\n",
      "79/79 [==============================] - 0s 3ms/step - loss: 0.1068 - accuracy: 0.8451 - val_loss: 0.1019 - val_accuracy: 0.8504\n",
      "Epoch 104/200\n",
      "79/79 [==============================] - 0s 3ms/step - loss: 0.1065 - accuracy: 0.8451 - val_loss: 0.1038 - val_accuracy: 0.8472\n",
      "Epoch 105/200\n",
      "79/79 [==============================] - 0s 3ms/step - loss: 0.1067 - accuracy: 0.8455 - val_loss: 0.1019 - val_accuracy: 0.8460\n",
      "Epoch 106/200\n",
      "79/79 [==============================] - 0s 3ms/step - loss: 0.1066 - accuracy: 0.8463 - val_loss: 0.1057 - val_accuracy: 0.8432\n",
      "Epoch 107/200\n",
      "79/79 [==============================] - 0s 3ms/step - loss: 0.1076 - accuracy: 0.8495 - val_loss: 0.1044 - val_accuracy: 0.8436\n",
      "Epoch 108/200\n",
      "79/79 [==============================] - 0s 3ms/step - loss: 0.1078 - accuracy: 0.8419 - val_loss: 0.1024 - val_accuracy: 0.8464\n",
      "Epoch 109/200\n",
      "79/79 [==============================] - 0s 3ms/step - loss: 0.1079 - accuracy: 0.8427 - val_loss: 0.1029 - val_accuracy: 0.8492\n",
      "Epoch 110/200\n",
      "79/79 [==============================] - 0s 3ms/step - loss: 0.1063 - accuracy: 0.8455 - val_loss: 0.1040 - val_accuracy: 0.8444\n",
      "Epoch 111/200\n",
      "79/79 [==============================] - 0s 3ms/step - loss: 0.1072 - accuracy: 0.8455 - val_loss: 0.1023 - val_accuracy: 0.8496\n",
      "Epoch 112/200\n",
      "79/79 [==============================] - 0s 3ms/step - loss: 0.1072 - accuracy: 0.8471 - val_loss: 0.1024 - val_accuracy: 0.8488\n",
      "Epoch 113/200\n",
      "79/79 [==============================] - 0s 3ms/step - loss: 0.1062 - accuracy: 0.8463 - val_loss: 0.1100 - val_accuracy: 0.8404\n",
      "Epoch 114/200\n",
      "79/79 [==============================] - 0s 3ms/step - loss: 0.1088 - accuracy: 0.8443 - val_loss: 0.1031 - val_accuracy: 0.8468\n",
      "Epoch 115/200\n",
      "79/79 [==============================] - 0s 3ms/step - loss: 0.1069 - accuracy: 0.8439 - val_loss: 0.1020 - val_accuracy: 0.8476\n"
     ]
    },
    {
     "name": "stdout",
     "output_type": "stream",
     "text": [
      "Epoch 116/200\n",
      "79/79 [==============================] - 0s 3ms/step - loss: 0.1065 - accuracy: 0.8415 - val_loss: 0.1047 - val_accuracy: 0.8432\n",
      "Epoch 117/200\n",
      "79/79 [==============================] - 0s 3ms/step - loss: 0.1082 - accuracy: 0.8443 - val_loss: 0.1042 - val_accuracy: 0.8432\n",
      "Epoch 118/200\n",
      "79/79 [==============================] - 0s 3ms/step - loss: 0.1070 - accuracy: 0.8475 - val_loss: 0.1026 - val_accuracy: 0.8484\n",
      "Epoch 119/200\n",
      "79/79 [==============================] - 0s 3ms/step - loss: 0.1059 - accuracy: 0.8463 - val_loss: 0.1047 - val_accuracy: 0.8440\n",
      "Epoch 120/200\n",
      "79/79 [==============================] - 0s 3ms/step - loss: 0.1075 - accuracy: 0.8431 - val_loss: 0.1035 - val_accuracy: 0.8420\n",
      "Epoch 121/200\n",
      "79/79 [==============================] - 0s 3ms/step - loss: 0.1074 - accuracy: 0.8463 - val_loss: 0.1027 - val_accuracy: 0.8480\n",
      "Epoch 122/200\n",
      "79/79 [==============================] - 0s 3ms/step - loss: 0.1070 - accuracy: 0.8455 - val_loss: 0.1023 - val_accuracy: 0.8476\n",
      "Epoch 123/200\n",
      "79/79 [==============================] - 0s 3ms/step - loss: 0.1062 - accuracy: 0.8439 - val_loss: 0.1041 - val_accuracy: 0.8460\n",
      "Epoch 124/200\n",
      "79/79 [==============================] - 0s 3ms/step - loss: 0.1071 - accuracy: 0.8443 - val_loss: 0.1028 - val_accuracy: 0.8484\n",
      "Epoch 125/200\n",
      "79/79 [==============================] - 0s 3ms/step - loss: 0.1065 - accuracy: 0.8463 - val_loss: 0.1068 - val_accuracy: 0.8444\n",
      "Epoch 126/200\n",
      "79/79 [==============================] - 0s 3ms/step - loss: 0.1076 - accuracy: 0.8431 - val_loss: 0.1024 - val_accuracy: 0.8460\n",
      "Epoch 127/200\n",
      "79/79 [==============================] - 0s 3ms/step - loss: 0.1061 - accuracy: 0.8467 - val_loss: 0.1024 - val_accuracy: 0.8456\n",
      "Epoch 128/200\n",
      "79/79 [==============================] - 0s 3ms/step - loss: 0.1059 - accuracy: 0.8435 - val_loss: 0.1031 - val_accuracy: 0.8488\n",
      "Epoch 129/200\n",
      "79/79 [==============================] - 0s 3ms/step - loss: 0.1067 - accuracy: 0.8431 - val_loss: 0.1021 - val_accuracy: 0.8476\n",
      "Epoch 130/200\n",
      "79/79 [==============================] - 0s 3ms/step - loss: 0.1064 - accuracy: 0.8455 - val_loss: 0.1047 - val_accuracy: 0.8424\n",
      "Epoch 131/200\n",
      "79/79 [==============================] - 0s 3ms/step - loss: 0.1064 - accuracy: 0.8463 - val_loss: 0.1024 - val_accuracy: 0.8480\n",
      "Epoch 132/200\n",
      "79/79 [==============================] - 0s 3ms/step - loss: 0.1055 - accuracy: 0.8523 - val_loss: 0.1026 - val_accuracy: 0.8480\n",
      "Epoch 133/200\n",
      "79/79 [==============================] - 0s 3ms/step - loss: 0.1070 - accuracy: 0.8411 - val_loss: 0.1033 - val_accuracy: 0.8440\n",
      "Epoch 134/200\n",
      "79/79 [==============================] - 0s 3ms/step - loss: 0.1070 - accuracy: 0.8423 - val_loss: 0.1024 - val_accuracy: 0.8468\n",
      "Epoch 135/200\n",
      "79/79 [==============================] - 0s 3ms/step - loss: 0.1059 - accuracy: 0.8459 - val_loss: 0.1039 - val_accuracy: 0.8488\n",
      "Epoch 136/200\n",
      "79/79 [==============================] - 0s 3ms/step - loss: 0.1048 - accuracy: 0.8487 - val_loss: 0.1041 - val_accuracy: 0.8464\n",
      "Epoch 137/200\n",
      "79/79 [==============================] - 0s 3ms/step - loss: 0.1072 - accuracy: 0.8447 - val_loss: 0.1039 - val_accuracy: 0.8432\n",
      "Epoch 138/200\n",
      "79/79 [==============================] - 0s 3ms/step - loss: 0.1059 - accuracy: 0.8491 - val_loss: 0.1022 - val_accuracy: 0.8480\n",
      "Epoch 139/200\n",
      "79/79 [==============================] - 0s 3ms/step - loss: 0.1064 - accuracy: 0.8431 - val_loss: 0.1028 - val_accuracy: 0.8468\n",
      "Epoch 140/200\n",
      "79/79 [==============================] - 0s 3ms/step - loss: 0.1076 - accuracy: 0.8455 - val_loss: 0.1024 - val_accuracy: 0.8480\n",
      "Epoch 141/200\n",
      "79/79 [==============================] - 0s 3ms/step - loss: 0.1045 - accuracy: 0.8447 - val_loss: 0.1038 - val_accuracy: 0.8448\n",
      "Epoch 142/200\n",
      "79/79 [==============================] - 0s 3ms/step - loss: 0.1068 - accuracy: 0.8419 - val_loss: 0.1019 - val_accuracy: 0.8480\n",
      "Epoch 143/200\n",
      "79/79 [==============================] - 0s 3ms/step - loss: 0.1055 - accuracy: 0.8451 - val_loss: 0.1043 - val_accuracy: 0.8456\n",
      "Epoch 144/200\n",
      "79/79 [==============================] - 0s 3ms/step - loss: 0.1051 - accuracy: 0.8447 - val_loss: 0.1032 - val_accuracy: 0.8440\n",
      "Epoch 145/200\n",
      "79/79 [==============================] - 0s 3ms/step - loss: 0.1066 - accuracy: 0.8415 - val_loss: 0.1037 - val_accuracy: 0.8484\n",
      "Epoch 146/200\n",
      "79/79 [==============================] - 0s 3ms/step - loss: 0.1059 - accuracy: 0.8455 - val_loss: 0.1023 - val_accuracy: 0.8464\n",
      "Epoch 147/200\n",
      "79/79 [==============================] - 0s 3ms/step - loss: 0.1056 - accuracy: 0.8459 - val_loss: 0.1023 - val_accuracy: 0.8468\n",
      "Epoch 148/200\n",
      "79/79 [==============================] - 0s 3ms/step - loss: 0.1056 - accuracy: 0.8467 - val_loss: 0.1017 - val_accuracy: 0.8488\n",
      "Epoch 149/200\n",
      "79/79 [==============================] - 0s 3ms/step - loss: 0.1039 - accuracy: 0.8483 - val_loss: 0.1048 - val_accuracy: 0.8412\n",
      "Epoch 150/200\n",
      "79/79 [==============================] - 0s 3ms/step - loss: 0.1057 - accuracy: 0.8407 - val_loss: 0.1022 - val_accuracy: 0.8464\n",
      "Epoch 151/200\n",
      "79/79 [==============================] - 0s 3ms/step - loss: 0.1053 - accuracy: 0.8423 - val_loss: 0.1023 - val_accuracy: 0.8476\n",
      "Epoch 152/200\n",
      "79/79 [==============================] - 0s 3ms/step - loss: 0.1053 - accuracy: 0.8463 - val_loss: 0.1036 - val_accuracy: 0.8440\n",
      "Epoch 153/200\n",
      "79/79 [==============================] - 0s 3ms/step - loss: 0.1062 - accuracy: 0.8423 - val_loss: 0.1031 - val_accuracy: 0.8464\n",
      "Epoch 154/200\n",
      "79/79 [==============================] - 0s 3ms/step - loss: 0.1062 - accuracy: 0.8495 - val_loss: 0.1036 - val_accuracy: 0.8448\n",
      "Epoch 155/200\n",
      "79/79 [==============================] - 0s 3ms/step - loss: 0.1045 - accuracy: 0.8463 - val_loss: 0.1037 - val_accuracy: 0.8468\n",
      "Epoch 156/200\n",
      "79/79 [==============================] - 0s 3ms/step - loss: 0.1063 - accuracy: 0.8463 - val_loss: 0.1028 - val_accuracy: 0.8460\n",
      "Epoch 157/200\n",
      "79/79 [==============================] - 0s 3ms/step - loss: 0.1046 - accuracy: 0.8511 - val_loss: 0.1022 - val_accuracy: 0.8448\n",
      "Epoch 158/200\n",
      "79/79 [==============================] - 0s 3ms/step - loss: 0.1069 - accuracy: 0.8415 - val_loss: 0.1016 - val_accuracy: 0.8468\n",
      "Epoch 159/200\n",
      "79/79 [==============================] - 0s 3ms/step - loss: 0.1052 - accuracy: 0.8447 - val_loss: 0.1027 - val_accuracy: 0.8464\n",
      "Epoch 160/200\n",
      "79/79 [==============================] - 0s 3ms/step - loss: 0.1056 - accuracy: 0.8459 - val_loss: 0.1020 - val_accuracy: 0.8448\n",
      "Epoch 161/200\n",
      "79/79 [==============================] - 0s 3ms/step - loss: 0.1049 - accuracy: 0.8447 - val_loss: 0.1026 - val_accuracy: 0.8460\n",
      "Epoch 162/200\n",
      "79/79 [==============================] - 0s 3ms/step - loss: 0.1047 - accuracy: 0.8499 - val_loss: 0.1021 - val_accuracy: 0.8448\n",
      "Epoch 163/200\n",
      "79/79 [==============================] - 0s 3ms/step - loss: 0.1047 - accuracy: 0.8455 - val_loss: 0.1030 - val_accuracy: 0.8444\n",
      "Epoch 164/200\n",
      "79/79 [==============================] - 0s 3ms/step - loss: 0.1059 - accuracy: 0.8435 - val_loss: 0.1025 - val_accuracy: 0.8460\n",
      "Epoch 165/200\n",
      "79/79 [==============================] - 0s 3ms/step - loss: 0.1048 - accuracy: 0.8487 - val_loss: 0.1024 - val_accuracy: 0.8488\n",
      "Epoch 166/200\n",
      "79/79 [==============================] - 0s 3ms/step - loss: 0.1053 - accuracy: 0.8463 - val_loss: 0.1045 - val_accuracy: 0.8444\n",
      "Epoch 167/200\n",
      "79/79 [==============================] - 0s 3ms/step - loss: 0.1057 - accuracy: 0.8439 - val_loss: 0.1032 - val_accuracy: 0.8472\n",
      "Epoch 168/200\n",
      "79/79 [==============================] - 0s 3ms/step - loss: 0.1050 - accuracy: 0.8499 - val_loss: 0.1028 - val_accuracy: 0.8444\n",
      "Epoch 169/200\n",
      "79/79 [==============================] - 0s 3ms/step - loss: 0.1037 - accuracy: 0.8487 - val_loss: 0.1039 - val_accuracy: 0.8428\n",
      "Epoch 170/200\n",
      "79/79 [==============================] - 0s 3ms/step - loss: 0.1052 - accuracy: 0.8515 - val_loss: 0.1031 - val_accuracy: 0.8436\n",
      "Epoch 171/200\n",
      "79/79 [==============================] - 0s 3ms/step - loss: 0.1049 - accuracy: 0.8459 - val_loss: 0.1039 - val_accuracy: 0.8484\n",
      "Epoch 172/200\n",
      "79/79 [==============================] - 0s 3ms/step - loss: 0.1050 - accuracy: 0.8439 - val_loss: 0.1075 - val_accuracy: 0.8412\n",
      "Epoch 173/200\n"
     ]
    },
    {
     "name": "stdout",
     "output_type": "stream",
     "text": [
      "79/79 [==============================] - 0s 3ms/step - loss: 0.1054 - accuracy: 0.8435 - val_loss: 0.1019 - val_accuracy: 0.8480\n",
      "Epoch 174/200\n",
      "79/79 [==============================] - 0s 3ms/step - loss: 0.1033 - accuracy: 0.8515 - val_loss: 0.1026 - val_accuracy: 0.8436\n",
      "Epoch 175/200\n",
      "79/79 [==============================] - 0s 3ms/step - loss: 0.1044 - accuracy: 0.8443 - val_loss: 0.1027 - val_accuracy: 0.8468\n",
      "Epoch 176/200\n",
      "79/79 [==============================] - 0s 3ms/step - loss: 0.1042 - accuracy: 0.8499 - val_loss: 0.1017 - val_accuracy: 0.8460\n",
      "Epoch 177/200\n",
      "79/79 [==============================] - 0s 3ms/step - loss: 0.1027 - accuracy: 0.8511 - val_loss: 0.1026 - val_accuracy: 0.8444\n",
      "Epoch 178/200\n",
      "79/79 [==============================] - 0s 3ms/step - loss: 0.1043 - accuracy: 0.8443 - val_loss: 0.1019 - val_accuracy: 0.8448\n",
      "Epoch 179/200\n",
      "79/79 [==============================] - 0s 3ms/step - loss: 0.1044 - accuracy: 0.8431 - val_loss: 0.1042 - val_accuracy: 0.8476\n",
      "Epoch 180/200\n",
      "79/79 [==============================] - 0s 3ms/step - loss: 0.1042 - accuracy: 0.8495 - val_loss: 0.1040 - val_accuracy: 0.8456\n",
      "Epoch 181/200\n",
      "79/79 [==============================] - 0s 3ms/step - loss: 0.1024 - accuracy: 0.8535 - val_loss: 0.1035 - val_accuracy: 0.8452\n",
      "Epoch 182/200\n",
      "79/79 [==============================] - 0s 3ms/step - loss: 0.1035 - accuracy: 0.8527 - val_loss: 0.1020 - val_accuracy: 0.8480\n",
      "Epoch 183/200\n",
      "79/79 [==============================] - 0s 3ms/step - loss: 0.1036 - accuracy: 0.8443 - val_loss: 0.1032 - val_accuracy: 0.8448\n",
      "Epoch 184/200\n",
      "79/79 [==============================] - 0s 3ms/step - loss: 0.1032 - accuracy: 0.8499 - val_loss: 0.1031 - val_accuracy: 0.8440\n",
      "Epoch 185/200\n",
      "79/79 [==============================] - 0s 3ms/step - loss: 0.1037 - accuracy: 0.8443 - val_loss: 0.1024 - val_accuracy: 0.8464\n",
      "Epoch 186/200\n",
      "79/79 [==============================] - 0s 3ms/step - loss: 0.1029 - accuracy: 0.8535 - val_loss: 0.1032 - val_accuracy: 0.8448\n",
      "Epoch 187/200\n",
      "79/79 [==============================] - 0s 3ms/step - loss: 0.1024 - accuracy: 0.8503 - val_loss: 0.1031 - val_accuracy: 0.8452\n",
      "Epoch 188/200\n",
      "79/79 [==============================] - 0s 3ms/step - loss: 0.1020 - accuracy: 0.8539 - val_loss: 0.1018 - val_accuracy: 0.8460\n",
      "Epoch 189/200\n",
      "79/79 [==============================] - 0s 3ms/step - loss: 0.1023 - accuracy: 0.8499 - val_loss: 0.1041 - val_accuracy: 0.8440\n",
      "Epoch 190/200\n",
      "79/79 [==============================] - 0s 3ms/step - loss: 0.1033 - accuracy: 0.8535 - val_loss: 0.1037 - val_accuracy: 0.8432\n",
      "Epoch 191/200\n",
      "79/79 [==============================] - 0s 3ms/step - loss: 0.1034 - accuracy: 0.8471 - val_loss: 0.1028 - val_accuracy: 0.8448\n",
      "Epoch 192/200\n",
      "79/79 [==============================] - 0s 3ms/step - loss: 0.1009 - accuracy: 0.8511 - val_loss: 0.1037 - val_accuracy: 0.8444\n",
      "Epoch 193/200\n",
      "79/79 [==============================] - 0s 3ms/step - loss: 0.1022 - accuracy: 0.8511 - val_loss: 0.1036 - val_accuracy: 0.8460\n",
      "Epoch 194/200\n",
      "79/79 [==============================] - 0s 3ms/step - loss: 0.1008 - accuracy: 0.8523 - val_loss: 0.1041 - val_accuracy: 0.8436\n",
      "Epoch 195/200\n",
      "79/79 [==============================] - 0s 3ms/step - loss: 0.1022 - accuracy: 0.8499 - val_loss: 0.1044 - val_accuracy: 0.8436\n",
      "Epoch 196/200\n",
      "79/79 [==============================] - 0s 3ms/step - loss: 0.1022 - accuracy: 0.8507 - val_loss: 0.1047 - val_accuracy: 0.8448\n",
      "Epoch 197/200\n",
      "79/79 [==============================] - 0s 3ms/step - loss: 0.1021 - accuracy: 0.8539 - val_loss: 0.1045 - val_accuracy: 0.8432\n",
      "Epoch 198/200\n",
      "79/79 [==============================] - 0s 3ms/step - loss: 0.1008 - accuracy: 0.8579 - val_loss: 0.1073 - val_accuracy: 0.8416\n",
      "Epoch 199/200\n",
      "79/79 [==============================] - 0s 3ms/step - loss: 0.1019 - accuracy: 0.8567 - val_loss: 0.1049 - val_accuracy: 0.8460\n",
      "Epoch 200/200\n",
      "79/79 [==============================] - 0s 3ms/step - loss: 0.1023 - accuracy: 0.8543 - val_loss: 0.1055 - val_accuracy: 0.8436\n",
      "79/79 [==============================] - 0s 963us/step - loss: 0.1055 - accuracy: 0.8436\n"
     ]
    },
    {
     "name": "stderr",
     "output_type": "stream",
     "text": [
      "WARNING:absl:`lr` is deprecated in Keras optimizer, please use `learning_rate` or use the legacy optimizer, e.g.,tf.keras.optimizers.legacy.Adam.\n"
     ]
    },
    {
     "name": "stdout",
     "output_type": "stream",
     "text": [
      "[0.10553993284702301, 0.8435999751091003]\n",
      "Epoch 1/200\n",
      "79/79 [==============================] - 1s 8ms/step - loss: 0.1428 - accuracy: 0.8015 - val_loss: 0.1332 - val_accuracy: 0.8156\n",
      "Epoch 2/200\n",
      "79/79 [==============================] - 1s 6ms/step - loss: 0.1240 - accuracy: 0.8171 - val_loss: 0.1190 - val_accuracy: 0.8188\n",
      "Epoch 3/200\n",
      "79/79 [==============================] - 0s 6ms/step - loss: 0.1210 - accuracy: 0.8247 - val_loss: 0.1055 - val_accuracy: 0.8508\n",
      "Epoch 4/200\n",
      "79/79 [==============================] - 1s 6ms/step - loss: 0.1173 - accuracy: 0.8335 - val_loss: 0.1045 - val_accuracy: 0.8520\n",
      "Epoch 5/200\n",
      "79/79 [==============================] - 0s 6ms/step - loss: 0.1225 - accuracy: 0.8187 - val_loss: 0.1072 - val_accuracy: 0.8460\n",
      "Epoch 6/200\n",
      "79/79 [==============================] - 0s 6ms/step - loss: 0.1162 - accuracy: 0.8299 - val_loss: 0.1128 - val_accuracy: 0.8232\n",
      "Epoch 7/200\n",
      "79/79 [==============================] - 0s 6ms/step - loss: 0.1151 - accuracy: 0.8331 - val_loss: 0.1045 - val_accuracy: 0.8520\n",
      "Epoch 8/200\n",
      "79/79 [==============================] - 1s 7ms/step - loss: 0.1155 - accuracy: 0.8315 - val_loss: 0.1065 - val_accuracy: 0.8464\n",
      "Epoch 9/200\n",
      "79/79 [==============================] - 0s 6ms/step - loss: 0.1171 - accuracy: 0.8279 - val_loss: 0.1058 - val_accuracy: 0.8452\n",
      "Epoch 10/200\n",
      "79/79 [==============================] - 0s 6ms/step - loss: 0.1167 - accuracy: 0.8315 - val_loss: 0.1040 - val_accuracy: 0.8532\n",
      "Epoch 11/200\n",
      "79/79 [==============================] - 0s 6ms/step - loss: 0.1140 - accuracy: 0.8331 - val_loss: 0.1050 - val_accuracy: 0.8516\n",
      "Epoch 12/200\n",
      "79/79 [==============================] - 0s 6ms/step - loss: 0.1154 - accuracy: 0.8355 - val_loss: 0.1029 - val_accuracy: 0.8496\n",
      "Epoch 13/200\n",
      "79/79 [==============================] - 0s 6ms/step - loss: 0.1163 - accuracy: 0.8279 - val_loss: 0.1059 - val_accuracy: 0.8468\n",
      "Epoch 14/200\n",
      "79/79 [==============================] - 0s 6ms/step - loss: 0.1144 - accuracy: 0.8327 - val_loss: 0.1038 - val_accuracy: 0.8488\n",
      "Epoch 15/200\n",
      "79/79 [==============================] - 0s 6ms/step - loss: 0.1150 - accuracy: 0.8351 - val_loss: 0.1031 - val_accuracy: 0.8504\n",
      "Epoch 16/200\n",
      "79/79 [==============================] - 0s 6ms/step - loss: 0.1147 - accuracy: 0.8327 - val_loss: 0.1033 - val_accuracy: 0.8460\n",
      "Epoch 17/200\n",
      "79/79 [==============================] - 0s 6ms/step - loss: 0.1142 - accuracy: 0.8343 - val_loss: 0.1048 - val_accuracy: 0.8508\n",
      "Epoch 18/200\n",
      "79/79 [==============================] - 1s 6ms/step - loss: 0.1141 - accuracy: 0.8391 - val_loss: 0.1025 - val_accuracy: 0.8528\n",
      "Epoch 19/200\n",
      "79/79 [==============================] - 0s 6ms/step - loss: 0.1138 - accuracy: 0.8323 - val_loss: 0.1025 - val_accuracy: 0.8516\n",
      "Epoch 20/200\n",
      "79/79 [==============================] - 0s 6ms/step - loss: 0.1139 - accuracy: 0.8383 - val_loss: 0.1038 - val_accuracy: 0.8456\n",
      "Epoch 21/200\n",
      "79/79 [==============================] - 0s 6ms/step - loss: 0.1150 - accuracy: 0.8343 - val_loss: 0.1038 - val_accuracy: 0.8488\n",
      "Epoch 22/200\n",
      "79/79 [==============================] - 0s 6ms/step - loss: 0.1133 - accuracy: 0.8387 - val_loss: 0.1055 - val_accuracy: 0.8488\n",
      "Epoch 23/200\n",
      "79/79 [==============================] - 0s 6ms/step - loss: 0.1132 - accuracy: 0.8395 - val_loss: 0.1022 - val_accuracy: 0.8524\n",
      "Epoch 24/200\n",
      "79/79 [==============================] - 1s 6ms/step - loss: 0.1128 - accuracy: 0.8363 - val_loss: 0.1039 - val_accuracy: 0.8512\n",
      "Epoch 25/200\n",
      "79/79 [==============================] - 0s 6ms/step - loss: 0.1143 - accuracy: 0.8351 - val_loss: 0.1045 - val_accuracy: 0.8500\n",
      "Epoch 26/200\n",
      "79/79 [==============================] - 0s 6ms/step - loss: 0.1126 - accuracy: 0.8371 - val_loss: 0.1026 - val_accuracy: 0.8500\n",
      "Epoch 27/200\n",
      "79/79 [==============================] - 0s 6ms/step - loss: 0.1114 - accuracy: 0.8399 - val_loss: 0.1055 - val_accuracy: 0.8440\n",
      "Epoch 28/200\n",
      "79/79 [==============================] - 0s 6ms/step - loss: 0.1138 - accuracy: 0.8363 - val_loss: 0.1024 - val_accuracy: 0.8508\n",
      "Epoch 29/200\n",
      "79/79 [==============================] - 0s 6ms/step - loss: 0.1139 - accuracy: 0.8363 - val_loss: 0.1038 - val_accuracy: 0.8504\n",
      "Epoch 30/200\n",
      "79/79 [==============================] - 0s 6ms/step - loss: 0.1141 - accuracy: 0.8395 - val_loss: 0.1027 - val_accuracy: 0.8484\n",
      "Epoch 31/200\n",
      "79/79 [==============================] - 0s 6ms/step - loss: 0.1133 - accuracy: 0.8411 - val_loss: 0.1030 - val_accuracy: 0.8484\n",
      "Epoch 32/200\n",
      "79/79 [==============================] - 0s 6ms/step - loss: 0.1125 - accuracy: 0.8379 - val_loss: 0.1042 - val_accuracy: 0.8484\n",
      "Epoch 33/200\n",
      "79/79 [==============================] - 0s 6ms/step - loss: 0.1148 - accuracy: 0.8347 - val_loss: 0.1059 - val_accuracy: 0.8432\n",
      "Epoch 34/200\n",
      "79/79 [==============================] - 0s 6ms/step - loss: 0.1149 - accuracy: 0.8339 - val_loss: 0.1032 - val_accuracy: 0.8472\n",
      "Epoch 35/200\n",
      "79/79 [==============================] - 0s 6ms/step - loss: 0.1131 - accuracy: 0.8423 - val_loss: 0.1024 - val_accuracy: 0.8472\n",
      "Epoch 36/200\n",
      "79/79 [==============================] - 0s 6ms/step - loss: 0.1126 - accuracy: 0.8383 - val_loss: 0.1032 - val_accuracy: 0.8496\n",
      "Epoch 37/200\n",
      "79/79 [==============================] - 0s 6ms/step - loss: 0.1133 - accuracy: 0.8399 - val_loss: 0.1034 - val_accuracy: 0.8508\n",
      "Epoch 38/200\n",
      "79/79 [==============================] - 1s 6ms/step - loss: 0.1132 - accuracy: 0.8367 - val_loss: 0.1030 - val_accuracy: 0.8488\n",
      "Epoch 39/200\n",
      "79/79 [==============================] - 0s 6ms/step - loss: 0.1133 - accuracy: 0.8331 - val_loss: 0.1044 - val_accuracy: 0.8452\n",
      "Epoch 40/200\n",
      "79/79 [==============================] - 0s 6ms/step - loss: 0.1131 - accuracy: 0.8423 - val_loss: 0.1037 - val_accuracy: 0.8480\n",
      "Epoch 41/200\n",
      "79/79 [==============================] - 0s 6ms/step - loss: 0.1125 - accuracy: 0.8395 - val_loss: 0.1035 - val_accuracy: 0.8484\n",
      "Epoch 42/200\n",
      "79/79 [==============================] - 0s 6ms/step - loss: 0.1142 - accuracy: 0.8387 - val_loss: 0.1027 - val_accuracy: 0.8492\n",
      "Epoch 43/200\n",
      "79/79 [==============================] - 0s 6ms/step - loss: 0.1124 - accuracy: 0.8379 - val_loss: 0.1034 - val_accuracy: 0.8508\n",
      "Epoch 44/200\n",
      "79/79 [==============================] - 0s 6ms/step - loss: 0.1144 - accuracy: 0.8371 - val_loss: 0.1063 - val_accuracy: 0.8492\n",
      "Epoch 45/200\n",
      "79/79 [==============================] - 1s 6ms/step - loss: 0.1140 - accuracy: 0.8379 - val_loss: 0.1047 - val_accuracy: 0.8492\n",
      "Epoch 46/200\n",
      "79/79 [==============================] - 0s 6ms/step - loss: 0.1141 - accuracy: 0.8359 - val_loss: 0.1030 - val_accuracy: 0.8500\n",
      "Epoch 47/200\n",
      "79/79 [==============================] - 0s 6ms/step - loss: 0.1135 - accuracy: 0.8383 - val_loss: 0.1036 - val_accuracy: 0.8500\n",
      "Epoch 48/200\n",
      "79/79 [==============================] - 0s 6ms/step - loss: 0.1132 - accuracy: 0.8379 - val_loss: 0.1070 - val_accuracy: 0.8448\n",
      "Epoch 49/200\n",
      "79/79 [==============================] - 1s 7ms/step - loss: 0.1134 - accuracy: 0.8323 - val_loss: 0.1046 - val_accuracy: 0.8480\n",
      "Epoch 50/200\n",
      "79/79 [==============================] - 0s 6ms/step - loss: 0.1128 - accuracy: 0.8383 - val_loss: 0.1037 - val_accuracy: 0.8488\n",
      "Epoch 51/200\n",
      "79/79 [==============================] - 0s 6ms/step - loss: 0.1131 - accuracy: 0.8419 - val_loss: 0.1026 - val_accuracy: 0.8484\n",
      "Epoch 52/200\n",
      "79/79 [==============================] - 0s 6ms/step - loss: 0.1127 - accuracy: 0.8367 - val_loss: 0.1035 - val_accuracy: 0.8496\n",
      "Epoch 53/200\n",
      "79/79 [==============================] - 1s 6ms/step - loss: 0.1151 - accuracy: 0.8367 - val_loss: 0.1040 - val_accuracy: 0.8496\n",
      "Epoch 54/200\n",
      "79/79 [==============================] - 1s 6ms/step - loss: 0.1121 - accuracy: 0.8427 - val_loss: 0.1028 - val_accuracy: 0.8488\n",
      "Epoch 55/200\n",
      "79/79 [==============================] - 1s 8ms/step - loss: 0.1130 - accuracy: 0.8375 - val_loss: 0.1030 - val_accuracy: 0.8504\n",
      "Epoch 56/200\n",
      "79/79 [==============================] - 1s 7ms/step - loss: 0.1127 - accuracy: 0.8367 - val_loss: 0.1031 - val_accuracy: 0.8484\n",
      "Epoch 57/200\n",
      "79/79 [==============================] - 1s 7ms/step - loss: 0.1128 - accuracy: 0.8423 - val_loss: 0.1032 - val_accuracy: 0.8512\n",
      "Epoch 58/200\n"
     ]
    },
    {
     "name": "stdout",
     "output_type": "stream",
     "text": [
      "79/79 [==============================] - 1s 7ms/step - loss: 0.1135 - accuracy: 0.8375 - val_loss: 0.1027 - val_accuracy: 0.8496\n",
      "Epoch 59/200\n",
      "79/79 [==============================] - 1s 7ms/step - loss: 0.1123 - accuracy: 0.8391 - val_loss: 0.1036 - val_accuracy: 0.8476\n",
      "Epoch 60/200\n",
      "79/79 [==============================] - 1s 7ms/step - loss: 0.1128 - accuracy: 0.8387 - val_loss: 0.1026 - val_accuracy: 0.8488\n",
      "Epoch 61/200\n",
      "79/79 [==============================] - 1s 6ms/step - loss: 0.1122 - accuracy: 0.8383 - val_loss: 0.1023 - val_accuracy: 0.8488\n",
      "Epoch 62/200\n",
      "79/79 [==============================] - 1s 6ms/step - loss: 0.1114 - accuracy: 0.8375 - val_loss: 0.1035 - val_accuracy: 0.8496\n",
      "Epoch 63/200\n",
      "79/79 [==============================] - 1s 7ms/step - loss: 0.1120 - accuracy: 0.8439 - val_loss: 0.1028 - val_accuracy: 0.8480\n",
      "Epoch 64/200\n",
      "79/79 [==============================] - 1s 6ms/step - loss: 0.1123 - accuracy: 0.8363 - val_loss: 0.1046 - val_accuracy: 0.8468\n",
      "Epoch 65/200\n",
      "79/79 [==============================] - 1s 8ms/step - loss: 0.1131 - accuracy: 0.8359 - val_loss: 0.1026 - val_accuracy: 0.8528\n",
      "Epoch 66/200\n",
      "44/79 [===============>..............] - ETA: 0s - loss: 0.1096 - accuracy: 0.8452"
     ]
    }
   ],
   "source": [
    "import pandas as pd\n",
    "import numpy as np\n",
    "import tensorflow as tf\n",
    "from tensorflow.keras.models import Sequential\n",
    "from tensorflow.keras.layers import Flatten, Dense, Activation, Dropout\n",
    "from tensorflow.keras import optimizers\n",
    "from tensorflow.keras.callbacks import TensorBoard\n",
    "\n",
    "def load_split_csv_dataset(csv_file, split_ratio):\n",
    "    # Load the CSV file\n",
    "    dataset = pd.read_csv(csv_file)\n",
    "\n",
    "    # Shuffle the dataset\n",
    "    dataset = dataset.sample(frac=1).reset_index(drop=True)\n",
    "\n",
    "    # Split features and target\n",
    "    x = dataset.iloc[:, :-1].values\n",
    "    y = dataset.iloc[:, -1:].values\n",
    "\n",
    "    # Determine the split point based on the split ratio\n",
    "    split_point = int(len(dataset) * split_ratio)\n",
    "\n",
    "    # Split the dataset into two parts\n",
    "    x_train = x[:split_point]\n",
    "    y_train = y[:split_point]\n",
    "    x_eval = x[split_point:]\n",
    "    y_eval = y[split_point:]\n",
    "\n",
    "    # Convert to numpy array and ensure it's float\n",
    "    x_train = np.array(x_train).astype(float)\n",
    "    y_train = np.array(y_train).astype(float)\n",
    "    x_eval = np.array(x_eval).astype(float)\n",
    "    y_eval = np.array(y_eval).astype(float)\n",
    "\n",
    "    return x_train, y_train, x_eval, y_eval\n",
    "\n",
    "X,y,X_val,y_val = load_split_csv_dataset(\"data/preprocessed_adult.csv\",0.5)\n",
    "\n",
    "n_layers = [2,1,3]\n",
    "n_nodes = [256,512,1024]\n",
    "learning_rates = [0.000001,0.0001,]\n",
    "\n",
    "for n_layer in n_layers:\n",
    "\tfor n_node in n_nodes:\n",
    "\t\tfor lr in learning_rates:\n",
    "\n",
    "\t\t\tmodel = Sequential()\n",
    "\t\t\tmodel.add(Flatten())\n",
    "\n",
    "\t\t\tfor _ in range(n_layer):\n",
    "\t\t\t\tmodel.add(Dense(n_node))\n",
    "\t\t\t\tmodel.add(Activation('tanh'))\n",
    "\t\t\t\tmodel.add(Dropout(0.1))\n",
    "\n",
    "\t\t\tmodel.add(Dense(1))\n",
    "\t\t\tmodel.add(Activation('sigmoid'))\n",
    "\n",
    "\t\t\topt = optimizers.Adam(lr = lr)\n",
    "\n",
    "\t\t\tmodel.compile(optimizer = opt, loss = 'mean_squared_error', metrics = ['accuracy'])\n",
    "\n",
    "\t\t\tmodel.fit(X, y, epochs = 200, batch_size = 32, validation_data = (X_val, y_val))\n",
    "\t\t\tprint(model.evaluate(X_val, y_val))"
   ]
  },
  {
   "cell_type": "markdown",
   "metadata": {
    "id": "779585de"
   },
   "source": [
    "#### Impact of Hyperparameters on Accuracy"
   ]
  },
  {
   "cell_type": "code",
   "execution_count": null,
   "metadata": {
    "id": "5efa485b"
   },
   "outputs": [],
   "source": [
    "#A very slow learning rate coupled with with a high number of epochs allowed us to achieve very high accuracy\n",
    "\n",
    "\n",
    "n_layers = 2\n",
    "n_nodes = 256 #, or 512\n",
    "learning_rates = 0.000001 #,0.0001\n",
    "epochs = 200"
   ]
  },
  {
   "cell_type": "markdown",
   "metadata": {
    "id": "db5eaabb"
   },
   "source": [
    "#### Confusion Matrix\n",
    "\n",
    "- Precision\n",
    "- Recall\n",
    "- F1 score\n",
    "- Accuracy"
   ]
  },
  {
   "cell_type": "code",
   "execution_count": null,
   "metadata": {
    "id": "070b7739"
   },
   "outputs": [],
   "source": [
    "from sklearn.metrics import confusion_matrix\n",
    "import matplotlib.pyplot as plt\n",
    "import seaborn as sns\n",
    "\n",
    "predictions = (model.predict(X_val) > 0.5).astype(\"int32\")\n",
    "\n",
    "# Compute confusion matrix\n",
    "cm = confusion_matrix(y_val, predictions)\n",
    "\n",
    "# Visualizing the confusion matrix\n",
    "plt.figure(figsize=(10,7))\n",
    "sns.heatmap(cm, annot=True, fmt='d', cmap='Blues')\n",
    "plt.xlabel('Predicted')\n",
    "plt.ylabel('Truth')\n",
    "plt.show()"
   ]
  },
  {
   "cell_type": "markdown",
   "metadata": {
    "id": "c35f5dff"
   },
   "source": [
    "# Bias Evaluation\n",
    "\n",
    "https://fairlearn.org/main/user_guide/assessment/common_fairness_metrics.html"
   ]
  },
  {
   "cell_type": "markdown",
   "metadata": {
    "id": "b1704dc6"
   },
   "source": [
    "#### Demographic parity\n",
    "\n",
    "\"Demographic parity is achieved when the probability of a certain prediction is not dependent on sensitive group membership\".\n",
    "\n",
    "Our data has \"sensitive\" features; Notably gender and race."
   ]
  }
 ],
 "metadata": {
  "colab": {
   "provenance": []
  },
  "kernelspec": {
   "display_name": "Python 3",
   "language": "python",
   "name": "python3"
  },
  "language_info": {
   "codemirror_mode": {
    "name": "ipython",
    "version": 3
   },
   "file_extension": ".py",
   "mimetype": "text/x-python",
   "name": "python",
   "nbconvert_exporter": "python",
   "pygments_lexer": "ipython3",
   "version": "3.8.5"
  }
 },
 "nbformat": 4,
 "nbformat_minor": 5
}
