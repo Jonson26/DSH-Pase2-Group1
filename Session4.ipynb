{
 "cells": [
  {
   "cell_type": "code",
   "execution_count": 1,
   "id": "19bec480",
   "metadata": {},
   "outputs": [],
   "source": [
    "import pandas as pd\n",
    "import numpy as np\n",
    "import matplotlib.pyplot as plt\n",
    "\n",
    "# Uncomment if necessary\n",
    "#from sklearn.preprocessing import OneHotEncoder\n",
    "#from category_encoders import TargetEncoder\n",
    "#from sklearn.preprocessing import MinMaxScaler, StandardScaler\n",
    "#from scipy.stats.mstats import winsorize\n",
    "import seaborn as sns\n",
    "#from collections import Counter\n",
    "#from sklearn.datasets import make_classification\n",
    "#from imblearn.under_sampling import RandomUnderSampler\n",
    "from sklearn import tree\n",
    "from sklearn.model_selection import train_test_split\n",
    "from sklearn import metrics"
   ]
  },
  {
   "cell_type": "code",
   "execution_count": 2,
   "id": "45d1a903",
   "metadata": {},
   "outputs": [],
   "source": [
    "db = pd.read_csv('data/preprocessed.csv')\n",
    "\n",
    "# Other possible preprocessed datasets\n",
    "#db2 = pd.read_csv('data/preprocessed_normalized.csv')\n",
    "#db3 = pd.read_csv('data/preprocessed_standardized.csv'\n",
    "#db4 = pd.read_csv('data/preprocessed_noCapital.csv')\n",
    "#db5 = pd.read_csv('data/preprocessed_noCapital_normalized.csv')\n",
    "#db6 = pd.read_csv('data/preprocessed_noCapital_standardized.csv')\n",
    "\n",
    "df = pd.DataFrame(db)"
   ]
  },
  {
   "cell_type": "markdown",
   "id": "557545f7",
   "metadata": {},
   "source": [
    "# Decision Trees\n",
    "\n",
    "- Main advantage : Interpretability\n",
    "- Main disadvantage : Might cause Overfitting\n",
    "\n",
    "Explanations taken from https://scikit-learn.org/stable/modules/tree.html\n",
    "\n",
    "Code partially taken from https://www.datacamp.com/tutorial/decision-tree-classification-python"
   ]
  },
  {
   "cell_type": "markdown",
   "id": "6d7363f0",
   "metadata": {},
   "source": [
    "#### Training and Accuracy"
   ]
  },
  {
   "cell_type": "code",
   "execution_count": 3,
   "id": "018d2aa2",
   "metadata": {},
   "outputs": [],
   "source": [
    "# Split target from features\n",
    "X = df.drop('income', axis=1)\n",
    "y = df['income']"
   ]
  },
  {
   "cell_type": "code",
   "execution_count": 4,
   "id": "de51e47d",
   "metadata": {},
   "outputs": [],
   "source": [
    "# Create training set and test set\n",
    "X_train, X_test, y_train, y_test = train_test_split(X, y, test_size=0.3, random_state=1)"
   ]
  },
  {
   "cell_type": "code",
   "execution_count": 5,
   "id": "c89a5d99",
   "metadata": {},
   "outputs": [],
   "source": [
    "# Train tree\n",
    "clf = tree.DecisionTreeClassifier(random_state=26)\n",
    "clf = clf.fit(X_train, y_train)"
   ]
  },
  {
   "cell_type": "code",
   "execution_count": 6,
   "id": "8bc7b084",
   "metadata": {},
   "outputs": [],
   "source": [
    "# Produce predictions using tree\n",
    "y_pred = clf.predict(X_test)"
   ]
  },
  {
   "cell_type": "code",
   "execution_count": 7,
   "id": "4d7d4372",
   "metadata": {},
   "outputs": [
    {
     "name": "stdout",
     "output_type": "stream",
     "text": [
      "Accuracy: 0.7727272727272727\n"
     ]
    }
   ],
   "source": [
    "# Print accuracy\n",
    "prediAcc = metrics.accuracy_score(y_test, y_pred)\n",
    "print(\"Accuracy:\", prediAcc)"
   ]
  },
  {
   "cell_type": "markdown",
   "id": "5f1b832b",
   "metadata": {},
   "source": [
    "#### Impact of Hyperparameters on Accuracy\n",
    "\n",
    "https://towardsdatascience.com/how-to-tune-a-decision-tree-f03721801680\n",
    "\n",
    "Available Hyperparameters:\n",
    "\n",
    "0. criterion (default \"gini\", or \"entropy\")\n",
    "1. splitter (default \"best\", or \"random\")\n",
    "2. max_depth (default \"None\", or an int below like 700)\n",
    "3. min_samples_split (default \"2\", or an int below 40)\n",
    "4. min_samples_leaf (default \"1\", or an int below 20)\n",
    "5. min_weight_fraction_leaf (default \"0\", or a float up to 1)\n",
    "6. max_features (default \"None\", or \"auto\"/\"sqrt\" or \"log2\" or an int below 13)\n",
    "7. random_state (we should ignore that one and just set it to 42 or something)\n",
    "8. min_impurity_decrease (default \"0\", I do not really understand it but I think we should leave it alone)\n",
    "9. class_weight (default \"None\", too complex to change tbh)\n",
    "10. presort (we should ignore this one)"
   ]
  },
  {
   "cell_type": "code",
   "execution_count": 88,
   "id": "b0f8f76e",
   "metadata": {},
   "outputs": [],
   "source": [
    "# Function: Training tree with specific hyperparameters, and showing the accuracy gain\n",
    "def treeWithHyperparams(**hp):\n",
    "    hp[\"random_state\"] = 26\n",
    "    clf = tree.DecisionTreeClassifier(**hp)\n",
    "    clf = clf.fit(X_train, y_train)\n",
    "    y_pred = clf.predict(X_test)\n",
    "    prediAccNew = metrics.accuracy_score(y_test, y_pred)\n",
    "    improvement = prediAccNew - prediAcc\n",
    "    print(\"Results using\", list(hp.keys())[0], \"=\", list(hp.values())[0])\n",
    "    print(\"Total accuracy:\", prediAccNew)\n",
    "    print(\"Accuracy gain:\", improvement)"
   ]
  },
  {
   "cell_type": "code",
   "execution_count": 89,
   "id": "6e1554a1",
   "metadata": {
    "scrolled": true
   },
   "outputs": [
    {
     "name": "stdout",
     "output_type": "stream",
     "text": [
      "Results using criterion = entropy\n",
      "Total accuracy: 0.765625\n",
      "Accuracy gain: -0.007102272727272707\n"
     ]
    }
   ],
   "source": [
    "treeWithHyperparams(criterion='entropy')"
   ]
  },
  {
   "cell_type": "code",
   "execution_count": 90,
   "id": "4025db39",
   "metadata": {
    "scrolled": true
   },
   "outputs": [
    {
     "name": "stdout",
     "output_type": "stream",
     "text": [
      "Results using splitter = random\n",
      "Total accuracy: 0.7357954545454546\n",
      "Accuracy gain: -0.03693181818181812\n"
     ]
    }
   ],
   "source": [
    "treeWithHyperparams(splitter='random')"
   ]
  },
  {
   "cell_type": "code",
   "execution_count": 91,
   "id": "eec2eb2a",
   "metadata": {},
   "outputs": [
    {
     "name": "stdout",
     "output_type": "stream",
     "text": [
      "Results using max_depth = 5\n",
      "Total accuracy: 0.8309659090909091\n",
      "Accuracy gain: 0.058238636363636354\n"
     ]
    }
   ],
   "source": [
    "treeWithHyperparams(max_depth=5)"
   ]
  },
  {
   "cell_type": "code",
   "execution_count": 92,
   "id": "0dd45474",
   "metadata": {},
   "outputs": [
    {
     "name": "stdout",
     "output_type": "stream",
     "text": [
      "Results using min_samples_split = 20\n",
      "Total accuracy: 0.7997159090909091\n",
      "Accuracy gain: 0.026988636363636354\n"
     ]
    }
   ],
   "source": [
    "treeWithHyperparams(min_samples_split=20)"
   ]
  },
  {
   "cell_type": "code",
   "execution_count": 93,
   "id": "3445b484",
   "metadata": {},
   "outputs": [
    {
     "name": "stdout",
     "output_type": "stream",
     "text": [
      "Results using min_samples_leaf = 20\n",
      "Total accuracy: 0.8082386363636364\n",
      "Accuracy gain: 0.035511363636363646\n"
     ]
    }
   ],
   "source": [
    "treeWithHyperparams(min_samples_leaf=20)"
   ]
  },
  {
   "cell_type": "code",
   "execution_count": 94,
   "id": "763516d6",
   "metadata": {},
   "outputs": [
    {
     "name": "stdout",
     "output_type": "stream",
     "text": [
      "Results using min_weight_fraction_leaf = 0.3\n",
      "Total accuracy: 0.7911931818181818\n",
      "Accuracy gain: 0.01846590909090906\n"
     ]
    }
   ],
   "source": [
    "treeWithHyperparams(min_weight_fraction_leaf=0.3)"
   ]
  },
  {
   "cell_type": "code",
   "execution_count": 95,
   "id": "71d2f1dc",
   "metadata": {},
   "outputs": [
    {
     "name": "stdout",
     "output_type": "stream",
     "text": [
      "Results using max_features = sqrt\n",
      "Total accuracy: 0.7514204545454546\n",
      "Accuracy gain: -0.02130681818181812\n"
     ]
    }
   ],
   "source": [
    "treeWithHyperparams(max_features='sqrt')"
   ]
  },
  {
   "cell_type": "code",
   "execution_count": 96,
   "id": "60ab0aad",
   "metadata": {},
   "outputs": [
    {
     "name": "stdout",
     "output_type": "stream",
     "text": [
      "Results using max_features = log2\n",
      "Total accuracy: 0.7684659090909091\n",
      "Accuracy gain: -0.0042613636363636465\n"
     ]
    }
   ],
   "source": [
    "treeWithHyperparams(max_features='log2')"
   ]
  },
  {
   "cell_type": "markdown",
   "id": "b1f518fd",
   "metadata": {},
   "source": [
    "We make the following observations concerning the individual hyperparameters:\n",
    "\n",
    "0. Changing the criterion from gini to entropy seems useless\n",
    "1. Changing the splitter from best to random seems useless\n",
    "2. **Limiting the max depth to 5 improves performance**\n",
    "3. **Setting the minimum split samples to 20 improves performance**\n",
    "4. **Setting the minimum leaf samples to 20 improves performance**\n",
    "5. Setting the minimum leaf weight fraction to 0.3 slightly improves performance\n",
    "6. Limiting the max features seems useless\n",
    "\n",
    "Our three most important hyperparameters are commonly used to combat overfitting.\n",
    "\n",
    "This means that we can expect the best results if we reduce overfitting in our decision tree."
   ]
  },
  {
   "cell_type": "markdown",
   "id": "9a112c32",
   "metadata": {},
   "source": [
    "#### Confusion Matrix\n",
    "\n",
    "- Precision\n",
    "- Recall\n",
    "- F1 score\n",
    "- Accuracy"
   ]
  },
  {
   "cell_type": "code",
   "execution_count": null,
   "id": "7828a4a3",
   "metadata": {},
   "outputs": [],
   "source": []
  },
  {
   "cell_type": "markdown",
   "id": "7012ff74",
   "metadata": {},
   "source": [
    "#### Bias Evaluation\n",
    "\n",
    "- Demographic parity (?)\n",
    "- Other fairness metrics"
   ]
  },
  {
   "cell_type": "code",
   "execution_count": null,
   "id": "6941e68e",
   "metadata": {},
   "outputs": [],
   "source": []
  },
  {
   "cell_type": "markdown",
   "id": "c525b2be",
   "metadata": {},
   "source": [
    "# Random Forest\n",
    "\n",
    "- Main advantage :\n",
    "- Main disadvantage :"
   ]
  },
  {
   "cell_type": "markdown",
   "id": "70ca56d8",
   "metadata": {},
   "source": [
    "#### Training and Accuracy"
   ]
  },
  {
   "cell_type": "code",
   "execution_count": null,
   "id": "15a8d5cd",
   "metadata": {},
   "outputs": [],
   "source": []
  },
  {
   "cell_type": "markdown",
   "id": "046b74ad",
   "metadata": {},
   "source": [
    "#### Impact of Hyperparameters on Accuracy"
   ]
  },
  {
   "cell_type": "code",
   "execution_count": null,
   "id": "81283d80",
   "metadata": {},
   "outputs": [],
   "source": []
  },
  {
   "cell_type": "markdown",
   "id": "c9e06b7f",
   "metadata": {},
   "source": [
    "#### Confusion Matrix\n",
    "\n",
    "- Precision\n",
    "- Recall\n",
    "- F1 score\n",
    "- Accuracy"
   ]
  },
  {
   "cell_type": "code",
   "execution_count": null,
   "id": "21efbe24",
   "metadata": {},
   "outputs": [],
   "source": []
  },
  {
   "cell_type": "markdown",
   "id": "e2cc852e",
   "metadata": {},
   "source": [
    "#### Bias Evaluation\n",
    "\n",
    "- Demographic parity (?)\n",
    "- Other fairness metrics"
   ]
  },
  {
   "cell_type": "code",
   "execution_count": null,
   "id": "88f90fc6",
   "metadata": {},
   "outputs": [],
   "source": []
  },
  {
   "cell_type": "markdown",
   "id": "4a14bfe7",
   "metadata": {},
   "source": [
    "# Some neural network algorithm\n",
    "\n",
    "- Main advantage :\n",
    "- Main disadvantage :"
   ]
  },
  {
   "cell_type": "markdown",
   "id": "d9b1c800",
   "metadata": {},
   "source": [
    "#### Training and Accuracy"
   ]
  },
  {
   "cell_type": "code",
   "execution_count": null,
   "id": "e6ae7faf",
   "metadata": {},
   "outputs": [],
   "source": []
  },
  {
   "cell_type": "markdown",
   "id": "779585de",
   "metadata": {},
   "source": [
    "#### Impact of Hyperparameters on Accuracy"
   ]
  },
  {
   "cell_type": "code",
   "execution_count": null,
   "id": "5efa485b",
   "metadata": {},
   "outputs": [],
   "source": []
  },
  {
   "cell_type": "markdown",
   "id": "db5eaabb",
   "metadata": {},
   "source": [
    "#### Confusion Matrix\n",
    "\n",
    "- Precision\n",
    "- Recall\n",
    "- F1 score\n",
    "- Accuracy"
   ]
  },
  {
   "cell_type": "code",
   "execution_count": null,
   "id": "070b7739",
   "metadata": {},
   "outputs": [],
   "source": []
  },
  {
   "cell_type": "markdown",
   "id": "b1704dc6",
   "metadata": {},
   "source": [
    "#### Bias Evaluation\n",
    "\n",
    "- Demographic parity (?)\n",
    "- Other fairness metrics"
   ]
  },
  {
   "cell_type": "code",
   "execution_count": null,
   "id": "a45017e3",
   "metadata": {},
   "outputs": [],
   "source": []
  }
 ],
 "metadata": {
  "kernelspec": {
   "display_name": "Python 3 (ipykernel)",
   "language": "python",
   "name": "python3"
  },
  "language_info": {
   "codemirror_mode": {
    "name": "ipython",
    "version": 3
   },
   "file_extension": ".py",
   "mimetype": "text/x-python",
   "name": "python",
   "nbconvert_exporter": "python",
   "pygments_lexer": "ipython3",
   "version": "3.10.10"
  }
 },
 "nbformat": 4,
 "nbformat_minor": 5
}
