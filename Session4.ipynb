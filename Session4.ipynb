{
  "cells": [
    {
      "cell_type": "code",
      "execution_count": null,
      "id": "19bec480",
      "metadata": {
        "id": "19bec480"
      },
      "outputs": [],
      "source": [
        "import pandas as pd\n",
        "import numpy as np\n",
        "import matplotlib.pyplot as plt\n",
        "\n",
        "# Uncomment if necessary\n",
        "#from sklearn.preprocessing import OneHotEncoder\n",
        "#from category_encoders import TargetEncoder\n",
        "#from sklearn.preprocessing import MinMaxScaler, StandardScaler\n",
        "#from scipy.stats.mstats import winsorize\n",
        "import seaborn as sns\n",
        "#from collections import Counter\n",
        "#from sklearn.datasets import make_classification\n",
        "#from imblearn.under_sampling import RandomUnderSampler\n",
        "from sklearn import tree\n",
        "from sklearn.model_selection import train_test_split\n",
        "from sklearn import metrics"
      ]
    },
    {
      "cell_type": "code",
      "execution_count": null,
      "id": "45d1a903",
      "metadata": {
        "id": "45d1a903"
      },
      "outputs": [],
      "source": [
        "db = pd.read_csv('data/preprocessed.csv')\n",
        "\n",
        "# Other possible preprocessed datasets\n",
        "#db2 = pd.read_csv('data/preprocessed_normalized.csv')\n",
        "#db3 = pd.read_csv('data/preprocessed_standardized.csv'\n",
        "#db4 = pd.read_csv('data/preprocessed_noCapital.csv')\n",
        "#db5 = pd.read_csv('data/preprocessed_noCapital_normalized.csv')\n",
        "#db6 = pd.read_csv('data/preprocessed_noCapital_standardized.csv')\n",
        "\n",
        "df = pd.DataFrame(db)"
      ]
    },
    {
      "cell_type": "markdown",
      "id": "557545f7",
      "metadata": {
        "id": "557545f7"
      },
      "source": [
        "# Decision Trees\n",
        "\n",
        "- Main advantage : Interpretability\n",
        "- Main disadvantage : Might cause Overfitting\n",
        "\n",
        "Explanations taken from https://scikit-learn.org/stable/modules/tree.html\n",
        "\n",
        "Code partially taken from https://www.datacamp.com/tutorial/decision-tree-classification-python"
      ]
    },
    {
      "cell_type": "markdown",
      "id": "6d7363f0",
      "metadata": {
        "id": "6d7363f0"
      },
      "source": [
        "#### Training and Accuracy"
      ]
    },
    {
      "cell_type": "code",
      "execution_count": null,
      "id": "018d2aa2",
      "metadata": {
        "id": "018d2aa2"
      },
      "outputs": [],
      "source": [
        "# Split target from features\n",
        "X = df.drop('income', axis=1)\n",
        "y = df['income']"
      ]
    },
    {
      "cell_type": "code",
      "execution_count": null,
      "id": "de51e47d",
      "metadata": {
        "id": "de51e47d"
      },
      "outputs": [],
      "source": [
        "# Create training set and test set\n",
        "X_train, X_test, y_train, y_test = train_test_split(X, y, test_size=0.3, random_state=1)"
      ]
    },
    {
      "cell_type": "code",
      "execution_count": null,
      "id": "c89a5d99",
      "metadata": {
        "id": "c89a5d99"
      },
      "outputs": [],
      "source": [
        "# Train tree\n",
        "clf = tree.DecisionTreeClassifier(random_state=26)\n",
        "clf = clf.fit(X_train, y_train)"
      ]
    },
    {
      "cell_type": "code",
      "execution_count": null,
      "id": "8bc7b084",
      "metadata": {
        "id": "8bc7b084"
      },
      "outputs": [],
      "source": [
        "# Produce predictions using tree\n",
        "y_pred_tree = clf.predict(X_test)"
      ]
    },
    {
      "cell_type": "code",
      "execution_count": null,
      "id": "4d7d4372",
      "metadata": {
        "id": "4d7d4372",
        "outputId": "c623ede8-a3a2-412f-c8e1-65451a0fe537"
      },
      "outputs": [
        {
          "name": "stdout",
          "output_type": "stream",
          "text": [
            "Accuracy: 0.7727272727272727\n"
          ]
        }
      ],
      "source": [
        "# Print accuracy\n",
        "prediAccTree = metrics.accuracy_score(y_test, y_pred_tree)\n",
        "print(\"Accuracy:\", prediAccTree)"
      ]
    },
    {
      "cell_type": "markdown",
      "id": "5f1b832b",
      "metadata": {
        "id": "5f1b832b"
      },
      "source": [
        "#### Impact of Hyperparameters on Accuracy\n",
        "\n",
        "https://towardsdatascience.com/how-to-tune-a-decision-tree-f03721801680\n",
        "\n",
        "Available Hyperparameters:\n",
        "\n",
        "0. criterion (default \"gini\", or \"entropy\")\n",
        "1. splitter (default \"best\", or \"random\")\n",
        "2. max_depth (default \"None\", or an int below like 700)\n",
        "3. min_samples_split (default \"2\", or an int below 40)\n",
        "4. min_samples_leaf (default \"1\", or an int below 20)\n",
        "5. min_weight_fraction_leaf (default \"0\", or a float up to 1)\n",
        "6. max_features (default \"None\", or \"auto\"/\"sqrt\" or \"log2\" or an int below 13)\n",
        "7. random_state (we should ignore that one and just set it to 42 or something)\n",
        "8. min_impurity_decrease (default \"0\", I do not really understand it but I think we should leave it alone)\n",
        "9. class_weight (default \"None\", too complex to change tbh)\n",
        "10. presort (we should ignore this one)"
      ]
    },
    {
      "cell_type": "code",
      "execution_count": null,
      "id": "b0f8f76e",
      "metadata": {
        "id": "b0f8f76e"
      },
      "outputs": [],
      "source": [
        "# Function: Training tree with specific hyperparameters, and showing the accuracy gain\n",
        "def treeWithHyperparams(**hp):\n",
        "    hp[\"random_state\"] = 26\n",
        "    clf = tree.DecisionTreeClassifier(**hp)\n",
        "    clf = clf.fit(X_train, y_train)\n",
        "    y_pred = clf.predict(X_test)\n",
        "    prediAccNew = metrics.accuracy_score(y_test, y_pred)\n",
        "    improvement = prediAccNew - prediAccTree\n",
        "    #print(\"Results using\", list(hp.keys())[0], \"=\", list(hp.values())[0])\n",
        "    print(\"Total accuracy:\", prediAccNew)\n",
        "    print(\"Accuracy gain:\", improvement)"
      ]
    },
    {
      "cell_type": "code",
      "execution_count": null,
      "id": "6e1554a1",
      "metadata": {
        "scrolled": true,
        "id": "6e1554a1",
        "outputId": "8dce3c94-3ab6-4369-b797-f8553b03fe42"
      },
      "outputs": [
        {
          "name": "stdout",
          "output_type": "stream",
          "text": [
            "Total accuracy: 0.765625\n",
            "Accuracy gain: -0.007102272727272707\n"
          ]
        }
      ],
      "source": [
        "treeWithHyperparams(criterion='entropy')"
      ]
    },
    {
      "cell_type": "code",
      "execution_count": null,
      "id": "4025db39",
      "metadata": {
        "scrolled": true,
        "id": "4025db39",
        "outputId": "6e4f2fdc-5551-4662-cb14-8a7493ae3acb"
      },
      "outputs": [
        {
          "name": "stdout",
          "output_type": "stream",
          "text": [
            "Total accuracy: 0.7357954545454546\n",
            "Accuracy gain: -0.03693181818181812\n"
          ]
        }
      ],
      "source": [
        "treeWithHyperparams(splitter='random')"
      ]
    },
    {
      "cell_type": "code",
      "execution_count": null,
      "id": "eec2eb2a",
      "metadata": {
        "id": "eec2eb2a",
        "outputId": "50107c5e-8cc3-4ba2-f47d-45eae9c08317"
      },
      "outputs": [
        {
          "name": "stdout",
          "output_type": "stream",
          "text": [
            "Total accuracy: 0.8309659090909091\n",
            "Accuracy gain: 0.058238636363636354\n"
          ]
        }
      ],
      "source": [
        "treeWithHyperparams(max_depth=5)"
      ]
    },
    {
      "cell_type": "code",
      "execution_count": null,
      "id": "0dd45474",
      "metadata": {
        "id": "0dd45474",
        "outputId": "7d197b36-65ea-419c-80a9-1f5eab7950fe"
      },
      "outputs": [
        {
          "name": "stdout",
          "output_type": "stream",
          "text": [
            "Total accuracy: 0.7997159090909091\n",
            "Accuracy gain: 0.026988636363636354\n"
          ]
        }
      ],
      "source": [
        "treeWithHyperparams(min_samples_split=20)"
      ]
    },
    {
      "cell_type": "code",
      "execution_count": null,
      "id": "3445b484",
      "metadata": {
        "id": "3445b484",
        "outputId": "277213f4-43c8-4320-939f-aa58bfb7b648"
      },
      "outputs": [
        {
          "name": "stdout",
          "output_type": "stream",
          "text": [
            "Total accuracy: 0.8082386363636364\n",
            "Accuracy gain: 0.035511363636363646\n"
          ]
        }
      ],
      "source": [
        "treeWithHyperparams(min_samples_leaf=20)"
      ]
    },
    {
      "cell_type": "code",
      "execution_count": null,
      "id": "763516d6",
      "metadata": {
        "id": "763516d6",
        "outputId": "cf9c8587-6a45-4823-9f68-8044431814e8"
      },
      "outputs": [
        {
          "name": "stdout",
          "output_type": "stream",
          "text": [
            "Total accuracy: 0.7911931818181818\n",
            "Accuracy gain: 0.01846590909090906\n"
          ]
        }
      ],
      "source": [
        "treeWithHyperparams(min_weight_fraction_leaf=0.3)"
      ]
    },
    {
      "cell_type": "code",
      "execution_count": null,
      "id": "71d2f1dc",
      "metadata": {
        "id": "71d2f1dc",
        "outputId": "3570fbda-59b7-49d6-aae0-14205cb47338"
      },
      "outputs": [
        {
          "name": "stdout",
          "output_type": "stream",
          "text": [
            "Total accuracy: 0.7514204545454546\n",
            "Accuracy gain: -0.02130681818181812\n"
          ]
        }
      ],
      "source": [
        "treeWithHyperparams(max_features='sqrt')"
      ]
    },
    {
      "cell_type": "code",
      "execution_count": null,
      "id": "60ab0aad",
      "metadata": {
        "id": "60ab0aad",
        "outputId": "57c13958-29da-4393-aa0c-5dd1513944d5"
      },
      "outputs": [
        {
          "name": "stdout",
          "output_type": "stream",
          "text": [
            "Total accuracy: 0.7684659090909091\n",
            "Accuracy gain: -0.0042613636363636465\n"
          ]
        }
      ],
      "source": [
        "treeWithHyperparams(max_features='log2')"
      ]
    },
    {
      "cell_type": "markdown",
      "id": "b1f518fd",
      "metadata": {
        "id": "b1f518fd"
      },
      "source": [
        "We make the following observations concerning the individual hyperparameters:\n",
        "\n",
        "0. Changing the criterion from gini to entropy seems useless\n",
        "1. Changing the splitter from best to random seems useless\n",
        "2. **Limiting the max depth to 5 improves performance**\n",
        "3. **Setting the minimum split samples to 20 improves performance**\n",
        "4. **Setting the minimum leaf samples to 20 improves performance**\n",
        "5. Setting the minimum leaf weight fraction to 0.3 slightly improves performance\n",
        "6. Limiting the max features seems useless\n",
        "\n",
        "Our three most important hyperparameters are commonly used to combat overfitting.\n",
        "\n",
        "This means that we can expect the best results if we reduce overfitting in our decision tree."
      ]
    },
    {
      "cell_type": "markdown",
      "id": "9a112c32",
      "metadata": {
        "id": "9a112c32"
      },
      "source": [
        "#### Confusion Matrix\n",
        "\n",
        "- Precision\n",
        "- Recall\n",
        "- F1 score\n",
        "- Accuracy"
      ]
    },
    {
      "cell_type": "code",
      "execution_count": null,
      "id": "fc81d353",
      "metadata": {
        "id": "fc81d353",
        "outputId": "bfe74b2d-a7d0-4ee4-8289-659dae272a11"
      },
      "outputs": [
        {
          "name": "stdout",
          "output_type": "stream",
          "text": [
            "[[287  70]\n",
            " [ 90 257]]\n"
          ]
        }
      ],
      "source": [
        "confMat_tree= metrics.confusion_matrix(y_test, y_pred_tree)\n",
        "print(confMat_tree)"
      ]
    },
    {
      "cell_type": "code",
      "execution_count": null,
      "id": "38a734aa",
      "metadata": {
        "id": "38a734aa"
      },
      "outputs": [],
      "source": [
        "TP_tree = confMat_tree[0][0]\n",
        "FN_tree = confMat_tree[0][1]\n",
        "FP_tree = confMat_tree[1][0]\n",
        "TN_tree = confMat_tree[1][1]\n",
        "precision_tree = TP_tree / TP_tree + FP_tree\n",
        "recall_tree = TP_tree / TP_tree + FN_tree\n",
        "F1score_tree = 2 * ((precision_tree * recall_tree) / (precision_tree + recall_tree))"
      ]
    },
    {
      "cell_type": "code",
      "execution_count": null,
      "id": "4445b579",
      "metadata": {
        "id": "4445b579",
        "outputId": "05cba6d0-cbfe-4265-cf4c-4522f1d655d7"
      },
      "outputs": [
        {
          "name": "stdout",
          "output_type": "stream",
          "text": [
            "Precision: 91.0\n",
            "Recall: 71.0\n",
            "F1-Score: 79.76543209876543\n"
          ]
        }
      ],
      "source": [
        "print(\"Precision:\", precision_tree)\n",
        "print(\"Recall:\", recall_tree)\n",
        "print(\"F1-Score:\", F1score_tree)"
      ]
    },
    {
      "cell_type": "markdown",
      "id": "b06e6c14",
      "metadata": {
        "id": "b06e6c14"
      },
      "source": [
        "The decision tree does not always identify people with an income above 50K.\n",
        "\n",
        "However, if the model determines that somebody has an income above 50K, it is very likely correct."
      ]
    },
    {
      "cell_type": "markdown",
      "id": "c525b2be",
      "metadata": {
        "id": "c525b2be"
      },
      "source": [
        "# Random Forest\n",
        "\n",
        "- Main advantage :\n",
        "- Main disadvantage :"
      ]
    },
    {
      "cell_type": "markdown",
      "id": "70ca56d8",
      "metadata": {
        "id": "70ca56d8"
      },
      "source": [
        "#### Training and Accuracy"
      ]
    },
    {
      "cell_type": "code",
      "execution_count": null,
      "id": "15a8d5cd",
      "metadata": {
        "id": "15a8d5cd"
      },
      "outputs": [],
      "source": [
        "import pandas as pd\n",
        "from sklearn.ensemble import RandomForestClassifier\n",
        "from sklearn.model_selection import train_test_split\n",
        "from sklearn.metrics import confusion_matrix, classification_report\n",
        "from fairlearn.metrics import demographic_parity_difference, MetricFrame\n",
        "from sklearn.model_selection import GridSearchCV\n",
        "import pandas as pd"
      ]
    },
    {
      "cell_type": "code",
      "execution_count": null,
      "id": "5ba6203c",
      "metadata": {
        "id": "5ba6203c"
      },
      "outputs": [],
      "source": [
        "\n",
        "data = pd.read_csv('C:\\semster6\\DSH\\preprocessed.csv')"
      ]
    },
    {
      "cell_type": "code",
      "execution_count": null,
      "id": "13c1819a",
      "metadata": {
        "id": "13c1819a"
      },
      "outputs": [],
      "source": [
        "# Split the data into features and target variable\n",
        "X = data.drop('income', axis=1)\n",
        "y = data['income']"
      ]
    },
    {
      "cell_type": "code",
      "execution_count": null,
      "id": "48701b9a",
      "metadata": {
        "id": "48701b9a"
      },
      "outputs": [],
      "source": [
        "# Split the data into training and testing sets\n",
        "X_train, X_test, y_train, y_test = train_test_split(X, y, test_size=0.3, random_state=1)\n"
      ]
    },
    {
      "cell_type": "code",
      "execution_count": null,
      "id": "f47ac7ee",
      "metadata": {
        "id": "f47ac7ee",
        "outputId": "105b82a8-e413-49cb-8ae1-dc3fef987ab3"
      },
      "outputs": [
        {
          "name": "stdout",
          "output_type": "stream",
          "text": [
            "Random Forest - Evaluation Metrics:\n",
            "              precision    recall  f1-score   support\n",
            "\n",
            "           0       0.86      0.82      0.84       357\n",
            "           1       0.83      0.87      0.85       347\n",
            "\n",
            "    accuracy                           0.85       704\n",
            "   macro avg       0.85      0.85      0.85       704\n",
            "weighted avg       0.85      0.85      0.85       704\n",
            "\n"
          ]
        }
      ],
      "source": [
        "# Split the data into training and testing sets\n",
        "X_train, X_test, y_train, y_test = train_test_split(X, y, test_size=0.3, random_state=1)\n",
        "\n",
        "# Random Forest\n",
        "clf = RandomForestClassifier(random_state=26)\n",
        "\n",
        "# Train the Random Forest classifier\n",
        "clf.fit(X_train, y_train)\n",
        "\n",
        "# Predict on the test set\n",
        "y_pred_rf = clf.predict(X_test)\n",
        "\n",
        "# Evaluation Metrics\n",
        "print(\"Random Forest - Evaluation Metrics:\")\n",
        "print(classification_report(y_test, y_pred_rf))\n"
      ]
    },
    {
      "cell_type": "markdown",
      "id": "046b74ad",
      "metadata": {
        "id": "046b74ad"
      },
      "source": [
        "#### Impact of Hyperparameters on Accuracy"
      ]
    },
    {
      "cell_type": "code",
      "execution_count": null,
      "id": "bb8f1a0b",
      "metadata": {
        "id": "bb8f1a0b",
        "outputId": "bb71db68-675a-4254-8653-5f5b3737ee9b"
      },
      "outputs": [
        {
          "name": "stdout",
          "output_type": "stream",
          "text": [
            "Confusion Matrix:\n",
            "[[294  63]\n",
            " [ 46 301]]\n",
            "Accuracy: 0.8451704545454546\n",
            "Best Hyperparameters: {'max_depth': None, 'min_samples_split': 5, 'n_estimators': 100}\n"
          ]
        }
      ],
      "source": [
        "# Calculate confusion matrix\n",
        "confusion_mat_rf = confusion_matrix(y_test, y_pred_rf)\n",
        "print(\"Confusion Matrix:\")\n",
        "print(confusion_mat_rf)\n",
        "\n",
        "# Calculate accuracy\n",
        "accuracy_rf = (confusion_mat_rf[0, 0] + confusion_mat_rf[1, 1]) / sum(sum(confusion_mat_rf))\n",
        "print(\"Accuracy:\", accuracy_rf)\n",
        "\n",
        "# Hyperparameter Tuning\n",
        "param_grid = {\n",
        "    'n_estimators': [100, 200, 300],\n",
        "    'max_depth': [None, 5, 10],\n",
        "    'min_samples_split': [2, 5, 10]\n",
        "}\n",
        "\n",
        "grid_search = GridSearchCV(estimator=clf, param_grid=param_grid, cv=5)\n",
        "grid_search.fit(X_train, y_train)\n",
        "\n",
        "best_params = grid_search.best_params_\n",
        "print(\"Best Hyperparameters:\", best_params)"
      ]
    },
    {
      "cell_type": "code",
      "execution_count": null,
      "id": "9f852f6e",
      "metadata": {
        "id": "9f852f6e",
        "outputId": "8b4aa154-70b4-4cf6-965e-e1cc8d6b3813"
      },
      "outputs": [
        {
          "name": "stdout",
          "output_type": "stream",
          "text": [
            "Total accuracy: 0.8480113636363636\n",
            "Accuracy gain: 0.0028409090909090606\n"
          ]
        }
      ],
      "source": [
        "from sklearn.ensemble import RandomForestClassifier\n",
        "from sklearn.metrics import accuracy_score\n",
        "# Function: Training Random Forest with specific hyperparameters, and showing the accuracy gain\n",
        "def randomForestWithHyperparams(**hp):\n",
        "    hp[\"random_state\"] = 26\n",
        "    clf = RandomForestClassifier(**hp)\n",
        "    clf.fit(X_train, y_train)\n",
        "    y_pred = clf.predict(X_test)\n",
        "    predAccNew = accuracy_score(y_test, y_pred)\n",
        "    improvement = predAccNew - accuracy_rf\n",
        "    print(\"Total accuracy:\", predAccNew)\n",
        "    print(\"Accuracy gain:\", improvement)\n",
        "\n",
        "# Call the randomForestWithHyperparams function with the best hyperparameters\n",
        "randomForestWithHyperparams(**best_params)\n"
      ]
    },
    {
      "cell_type": "markdown",
      "id": "2208258f",
      "metadata": {
        "id": "2208258f"
      },
      "source": []
    },
    {
      "cell_type": "markdown",
      "id": "c9e06b7f",
      "metadata": {
        "id": "c9e06b7f"
      },
      "source": [
        "#### Confusion Matrix\n",
        "\n",
        "- Precision\n",
        "- Recall\n",
        "- F1 score\n",
        "- Accuracy"
      ]
    },
    {
      "cell_type": "code",
      "execution_count": null,
      "id": "21efbe24",
      "metadata": {
        "id": "21efbe24",
        "outputId": "cace3b01-3239-4c37-e801-0fa174416fb2"
      },
      "outputs": [
        {
          "name": "stdout",
          "output_type": "stream",
          "text": [
            "Random Forest with Best Hyperparameters - Evaluation Metrics:\n",
            "              precision    recall  f1-score   support\n",
            "\n",
            "           0       0.88      0.80      0.84       357\n",
            "           1       0.81      0.89      0.85       347\n",
            "\n",
            "    accuracy                           0.84       704\n",
            "   macro avg       0.85      0.84      0.84       704\n",
            "weighted avg       0.85      0.84      0.84       704\n",
            "\n",
            "Confusion Matrix with Best Hyperparameters:\n",
            "[[284  73]\n",
            " [ 37 310]]\n",
            "Accuracy with Best Hyperparameters: 0.84375\n"
          ]
        }
      ],
      "source": [
        "\n",
        "best_clf = RandomForestClassifier(random_state=42, **best_params)\n",
        "best_clf.fit(X_train, y_train)\n",
        "\n",
        "y_pred_best = best_clf.predict(X_test)\n",
        "\n",
        "\n",
        "print(\"Random Forest with Best Hyperparameters - Evaluation Metrics:\")\n",
        "print(classification_report(y_test, y_pred_best))\n",
        "\n",
        "\n",
        "confusion_mat_best = confusion_matrix(y_test, y_pred_best)\n",
        "print(\"Confusion Matrix with Best Hyperparameters:\")\n",
        "print(confusion_mat_best)\n",
        "\n",
        "accuracy_best = (confusion_mat_best[0, 0] + confusion_mat_best[1, 1]) / sum(sum(confusion_mat_best))\n",
        "print(\"Accuracy with Best Hyperparameters:\", accuracy_best)"
      ]
    },
    {
      "cell_type": "code",
      "execution_count": null,
      "id": "840bd157",
      "metadata": {
        "id": "840bd157",
        "outputId": "c93411dc-b832-4997-8e5b-8fd0c6ef5911"
      },
      "outputs": [
        {
          "name": "stdout",
          "output_type": "stream",
          "text": [
            "Precision: 0.8093994778067886\n",
            "Recall: 0.8933717579250721\n",
            "F1-Score: 0.8493150684931507\n"
          ]
        }
      ],
      "source": [
        "from sklearn.metrics import classification_report\n",
        "\n",
        "report = classification_report(y_test, y_pred_best, output_dict=True)\n",
        "\n",
        "precision = report['1']['precision']\n",
        "recall = report['1']['recall']\n",
        "f1_score = report['1']['f1-score']\n",
        "\n",
        "print(\"Precision:\", precision)\n",
        "print(\"Recall:\", recall)\n",
        "print(\"F1-Score:\", f1_score)\n"
      ]
    },
    {
      "cell_type": "markdown",
      "id": "4a14bfe7",
      "metadata": {
        "id": "4a14bfe7"
      },
      "source": [
        "# Some neural network algorithm\n",
        "\n",
        "- Main advantage :\n",
        "- Main disadvantage :"
      ]
    },
    {
      "cell_type": "markdown",
      "id": "d9b1c800",
      "metadata": {
        "id": "d9b1c800"
      },
      "source": [
        "#### Training and Accuracy"
      ]
    },
    {
      "cell_type": "code",
      "execution_count": null,
      "id": "e6ae7faf",
      "metadata": {
        "id": "e6ae7faf"
      },
      "outputs": [],
      "source": [
        "import pandas as pd\n",
        "import numpy as np\n",
        "import tensorflow as tf\n",
        "from tensorflow.keras.models import Sequential\n",
        "from tensorflow.keras.layers import Flatten, Dense, Activation, Dropout\n",
        "from tensorflow.keras import optimizers\n",
        "from tensorflow.keras.callbacks import TensorBoard\n",
        "\n",
        "def load_split_csv_dataset(csv_file, split_ratio):\n",
        "    # Load the CSV file\n",
        "    dataset = pd.read_csv(csv_file)\n",
        "\n",
        "    # Shuffle the dataset\n",
        "    dataset = dataset.sample(frac=1).reset_index(drop=True)\n",
        "\n",
        "    # Split features and target\n",
        "    x = dataset.iloc[:, :-1].values\n",
        "    y = dataset.iloc[:, -1:].values\n",
        "\n",
        "    # Determine the split point based on the split ratio\n",
        "    split_point = int(len(dataset) * split_ratio)\n",
        "\n",
        "    # Split the dataset into two parts\n",
        "    x_train = x[:split_point]\n",
        "    y_train = y[:split_point]\n",
        "    x_eval = x[split_point:]\n",
        "    y_eval = y[split_point:]\n",
        "\n",
        "    # Convert to numpy array and ensure it's float\n",
        "    x_train = np.array(x_train).astype(float)\n",
        "    y_train = np.array(y_train).astype(float)\n",
        "    x_eval = np.array(x_eval).astype(float)\n",
        "    y_eval = np.array(y_eval).astype(float)\n",
        "\n",
        "    return x_train, y_train, x_eval, y_eval\n",
        "\n",
        "X,y,X_val,y_val = load_split_csv_dataset(\"data/preprocessed_adult.csv\",0.5)\n",
        "\n",
        "n_layers = [2,1,3]\n",
        "n_nodes = [256,512,1024]\n",
        "learning_rates = [0.000001,0.0001,]\n",
        "\n",
        "for n_layer in n_layers:\n",
        "\tfor n_node in n_nodes:\n",
        "\t\tfor lr in learning_rates:\n",
        "\n",
        "\t\t\tmodel = Sequential()\n",
        "\t\t\tmodel.add(Flatten())\n",
        "\n",
        "\t\t\tfor _ in range(n_layer):\n",
        "\t\t\t\tmodel.add(Dense(n_node))\n",
        "\t\t\t\tmodel.add(Activation('tanh'))\n",
        "\t\t\t\tmodel.add(Dropout(0.1))\n",
        "\n",
        "\t\t\tmodel.add(Dense(1))\n",
        "\t\t\tmodel.add(Activation('sigmoid'))\n",
        "\n",
        "\t\t\topt = optimizers.Adam(lr = lr)\n",
        "\n",
        "\t\t\tmodel.compile(optimizer = opt, loss = 'mean_squared_error', metrics = ['accuracy'])\n",
        "\n",
        "\t\t\tmodel.fit(X, y, epochs = 200, batch_size = 32, validation_data = (X_val, y_val))\n",
        "\t\t\tprint(model.evaluate(X_val, y_val))"
      ]
    },
    {
      "cell_type": "markdown",
      "id": "779585de",
      "metadata": {
        "id": "779585de"
      },
      "source": [
        "#### Impact of Hyperparameters on Accuracy"
      ]
    },
    {
      "cell_type": "code",
      "execution_count": null,
      "id": "5efa485b",
      "metadata": {
        "id": "5efa485b"
      },
      "outputs": [],
      "source": [
        "#A very slow learning rate coupled with with a high number of epochs allowed us to achieve very high accuracy\n",
        "\n",
        "\n",
        "n_layers = 2\n",
        "n_nodes = 256 #, or 512\n",
        "learning_rates = 0.000001 #,0.0001\n",
        "epochs = 200"
      ]
    },
    {
      "cell_type": "markdown",
      "id": "db5eaabb",
      "metadata": {
        "id": "db5eaabb"
      },
      "source": [
        "#### Confusion Matrix\n",
        "\n",
        "- Precision\n",
        "- Recall\n",
        "- F1 score\n",
        "- Accuracy"
      ]
    },
    {
      "cell_type": "code",
      "execution_count": null,
      "id": "070b7739",
      "metadata": {
        "id": "070b7739"
      },
      "outputs": [],
      "source": [
        "from sklearn.metrics import confusion_matrix\n",
        "import matplotlib.pyplot as plt\n",
        "import seaborn as sns\n",
        "\n",
        "predictions = (model.predict(X_val) > 0.5).astype(\"int32\")\n",
        "\n",
        "# Compute confusion matrix\n",
        "cm = confusion_matrix(y_val, predictions)\n",
        "\n",
        "# Visualizing the confusion matrix\n",
        "plt.figure(figsize=(10,7))\n",
        "sns.heatmap(cm, annot=True, fmt='d', cmap='Blues')\n",
        "plt.xlabel('Predicted')\n",
        "plt.ylabel('Truth')\n",
        "plt.show()"
      ]
    },
    {
      "cell_type": "markdown",
      "id": "c35f5dff",
      "metadata": {
        "id": "c35f5dff"
      },
      "source": [
        "# Bias Evaluation\n",
        "\n",
        "https://fairlearn.org/main/user_guide/assessment/common_fairness_metrics.html"
      ]
    },
    {
      "cell_type": "markdown",
      "id": "b1704dc6",
      "metadata": {
        "id": "b1704dc6"
      },
      "source": [
        "#### Demographic parity\n",
        "\n",
        "\"Demographic parity is achieved when the probability of a certain prediction is not dependent on sensitive group membership\".\n",
        "\n",
        "Our data has \"sensitive\" features; Notably gender and race."
      ]
    }
  ],
  "metadata": {
    "kernelspec": {
      "display_name": "Python 3 (ipykernel)",
      "language": "python",
      "name": "python3"
    },
    "language_info": {
      "codemirror_mode": {
        "name": "ipython",
        "version": 3
      },
      "file_extension": ".py",
      "mimetype": "text/x-python",
      "name": "python",
      "nbconvert_exporter": "python",
      "pygments_lexer": "ipython3",
      "version": "3.9.13"
    },
    "colab": {
      "provenance": []
    }
  },
  "nbformat": 4,
  "nbformat_minor": 5
}