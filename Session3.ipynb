{
 "cells": [
  {
   "cell_type": "code",
   "execution_count": null,
   "id": "3110e435",
   "metadata": {},
   "outputs": [],
   "source": [
    "import pandas as pd\n",
    "import numpy as np\n",
    "import matplotlib.pyplot as plt\n",
    "\n",
    "# Uncomment if necessary\n",
    "#from sklearn.preprocessing import OneHotEncoder\n",
    "#from category_encoders import TargetEncoder\n",
    "#from sklearn.preprocessing import MinMaxScaler, StandardScaler\n",
    "#from scipy.stats.mstats import winsorize\n",
    "#import seaborn as sns\n",
    "#from collections import Counter\n",
    "#from sklearn.datasets import make_classification\n",
    "#from imblearn.under_sampling import RandomUnderSampler"
   ]
  },
  {
   "cell_type": "code",
   "execution_count": null,
   "id": "88827fac",
   "metadata": {},
   "outputs": [],
   "source": [
    "db = pd.read_csv('other/Session2/adult_improv.csv')\n",
    "df = pd.DataFrame(db)"
   ]
  },
  {
   "cell_type": "markdown",
   "id": "a7694988",
   "metadata": {},
   "source": [
    "# Task 1\n",
    "\n",
    ">Create a bar chart to visualize the distribution of work hours per week for people in different income categories. Are there any notable differences in the distribution of work hours for high-income earners compared to low-income earners? (Plot number of hours worked per week on the x-axis and income on the y-axis.)"
   ]
  },
  {
   "cell_type": "code",
   "execution_count": null,
   "id": "a7269d0d",
   "metadata": {},
   "outputs": [],
   "source": []
  },
  {
   "cell_type": "markdown",
   "id": "a393e07f",
   "metadata": {},
   "source": [
    "# Task 2\n",
    "\n",
    ">Create a bar chart to compare the proportion of males and females in different occupation types. What does this visualization tell you about gender representation in different professions? "
   ]
  },
  {
   "cell_type": "code",
   "execution_count": null,
   "id": "085c1460",
   "metadata": {},
   "outputs": [],
   "source": []
  },
  {
   "cell_type": "markdown",
   "id": "603cd7a1",
   "metadata": {},
   "source": [
    "# Task 3\n",
    "\n",
    ">Create a scatter plot to explore the relationship between age and work hours per week. What insights can you gain from this visualization?"
   ]
  },
  {
   "cell_type": "code",
   "execution_count": null,
   "id": "4a8ecf40",
   "metadata": {},
   "outputs": [],
   "source": []
  },
  {
   "cell_type": "markdown",
   "id": "492d758e",
   "metadata": {},
   "source": [
    "# Task 4\n",
    "\n",
    ">Create a bar chart to compare the proportion of people in different income categories who are self-employed vs those employed by someone else. What does this visualization tell you about the distribution of income sources among different income groups? "
   ]
  },
  {
   "cell_type": "code",
   "execution_count": null,
   "id": "ac81ded1",
   "metadata": {},
   "outputs": [],
   "source": []
  },
  {
   "cell_type": "markdown",
   "id": "4d38e6e9",
   "metadata": {},
   "source": [
    "# Task 5\n",
    "\n",
    ">Create a histogram to visualize the distribution of age for people in different occupation types. Are there any notable differences in the distribution of age between different professions? "
   ]
  },
  {
   "cell_type": "code",
   "execution_count": null,
   "id": "ab9804ce",
   "metadata": {},
   "outputs": [],
   "source": []
  },
  {
   "cell_type": "markdown",
   "id": "bd351106",
   "metadata": {},
   "source": [
    "# Task 6\n",
    "\n",
    ">Create a scatter plot or bar chart to compare the distribution of education level between different occupation types. What insights can you gain from this visualization? "
   ]
  },
  {
   "cell_type": "code",
   "execution_count": null,
   "id": "8e5311e0",
   "metadata": {},
   "outputs": [],
   "source": []
  },
  {
   "cell_type": "markdown",
   "id": "79444fb0",
   "metadata": {},
   "source": [
    "# Task 7\n",
    "\n",
    ">How does income vary by age? Create a scatter plot or line plot to show the relationship between income and age? "
   ]
  },
  {
   "cell_type": "code",
   "execution_count": null,
   "id": "c111f4ab",
   "metadata": {},
   "outputs": [],
   "source": []
  },
  {
   "cell_type": "markdown",
   "id": "86db6abb",
   "metadata": {},
   "source": [
    "# Task 8\n",
    "\n",
    ">What is the relationship between income and education level? Create a bar chart or heat map to compare income levels across different education levels? "
   ]
  },
  {
   "cell_type": "code",
   "execution_count": null,
   "id": "a7e6179d",
   "metadata": {},
   "outputs": [],
   "source": []
  },
  {
   "cell_type": "markdown",
   "id": "0613ca2f",
   "metadata": {},
   "source": [
    "# Task 9\n",
    "\n",
    ">How does income vary by occupation? Create a bar chart to compare average incomes across different occupations? "
   ]
  },
  {
   "cell_type": "code",
   "execution_count": null,
   "id": "c43b3a3e",
   "metadata": {},
   "outputs": [],
   "source": []
  },
  {
   "cell_type": "markdown",
   "id": "fe5506b4",
   "metadata": {},
   "source": [
    "# Task 10\n",
    "\n",
    ">Are there any interesting patterns in the data when you compare income levels across different regions or native countries?  Create a stacked bar chart to explore these differences? "
   ]
  },
  {
   "cell_type": "code",
   "execution_count": null,
   "id": "c29f8e63",
   "metadata": {},
   "outputs": [],
   "source": []
  },
  {
   "cell_type": "markdown",
   "id": "6b373703",
   "metadata": {},
   "source": [
    "# Task 11\n",
    "\n",
    ">Create a stacked bar chart to show the distribution of different race categories among the different income groups "
   ]
  },
  {
   "cell_type": "code",
   "execution_count": null,
   "id": "9fd11dbb",
   "metadata": {},
   "outputs": [],
   "source": []
  },
  {
   "cell_type": "markdown",
   "id": "edd3fcdc",
   "metadata": {},
   "source": [
    "# Task 12\n",
    "\n",
    ">How does income vary by marital status? Create a stacked bar chart or grouped bar chart to compare income across different marital statuses?"
   ]
  },
  {
   "cell_type": "code",
   "execution_count": null,
   "id": "ad86c9e9",
   "metadata": {},
   "outputs": [],
   "source": []
  },
  {
   "cell_type": "markdown",
   "id": "9aa46a76",
   "metadata": {},
   "source": [
    "# Task 13\n",
    "\n",
    ">Create a stacked bar chart to compare the distribution of occupation types across different native countries. Are there any notable differences in job roles based on country of origin? "
   ]
  },
  {
   "cell_type": "code",
   "execution_count": null,
   "id": "f8634a1b",
   "metadata": {},
   "outputs": [],
   "source": []
  },
  {
   "cell_type": "markdown",
   "id": "2f336f7a",
   "metadata": {},
   "source": [
    "# Task 14\n",
    "\n",
    ">How does the distribution of education levels vary across different native countries? Use a stacked bar chart to visualize the data and identify any significant differences in educational attainment based on country of origin."
   ]
  },
  {
   "cell_type": "code",
   "execution_count": null,
   "id": "d0257259",
   "metadata": {},
   "outputs": [],
   "source": []
  }
 ],
 "metadata": {
  "kernelspec": {
   "display_name": "Python 3 (ipykernel)",
   "language": "python",
   "name": "python3"
  },
  "language_info": {
   "codemirror_mode": {
    "name": "ipython",
    "version": 3
   },
   "file_extension": ".py",
   "mimetype": "text/x-python",
   "name": "python",
   "nbconvert_exporter": "python",
   "pygments_lexer": "ipython3",
   "version": "3.10.10"
  }
 },
 "nbformat": 4,
 "nbformat_minor": 5
}
