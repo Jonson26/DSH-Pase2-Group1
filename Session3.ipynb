{
 "cells": [
  {
   "cell_type": "code",
   "execution_count": null,
   "id": "3110e435",
   "metadata": {},
   "outputs": [],
   "source": [
    "import pandas as pd\n",
    "import numpy as np\n",
    "import matplotlib.pyplot as plt\n",
    "\n",
    "# Uncomment if necessary\n",
    "#from sklearn.preprocessing import OneHotEncoder\n",
    "#from category_encoders import TargetEncoder\n",
    "#from sklearn.preprocessing import MinMaxScaler, StandardScaler\n",
    "#from scipy.stats.mstats import winsorize\n",
    "#import seaborn as sns\n",
    "#from collections import Counter\n",
    "#from sklearn.datasets import make_classification\n",
    "#from imblearn.under_sampling import RandomUnderSampler"
   ]
  },
  {
   "cell_type": "code",
   "execution_count": null,
   "id": "54493fbb",
   "metadata": {},
   "outputs": [],
   "source": [
    "db_unscaled = pd.read_csv('other/Session2/adult_preprocessed.csv')\n",
    "df = pd.DataFrame(db_unscaled)"
   ]
  },
  {
   "cell_type": "code",
   "execution_count": null,
   "id": "ac792a25",
   "metadata": {},
   "outputs": [],
   "source": [
    "db_normalized = pd.read_csv('other/Session2/adult_preprocessed_normalized.csv')\n",
    "dfn = pd.DataFrame(db_normalized)"
   ]
  },
  {
   "cell_type": "code",
   "execution_count": null,
   "id": "efdf53c1",
   "metadata": {},
   "outputs": [],
   "source": [
    "db_standardized = pd.read_csv('other/Session2/adult_preprocessed_standardized.csv')\n",
    "dfs = pd.DataFrame(db_standardized)"
   ]
  },
  {
   "attachments": {},
   "cell_type": "markdown",
   "id": "a7694988",
   "metadata": {},
   "source": [
    "# Task 1\n",
    "\n",
    ">Create a bar chart to visualize the distribution of work hours per week for people in different income categories. Are there any notable differences in the distribution of work hours for high-income earners compared to low-income earners? (Plot number of hours worked per week on the x-axis and income on the y-axis.)"
   ]
  },
  {
   "cell_type": "code",
   "execution_count": null,
   "id": "a7269d0d",
   "metadata": {},
   "outputs": [],
   "source": [
    "import pandas as pd\n",
    "import seaborn as sns\n",
    "import matplotlib.pyplot as plt\n",
    "# Load the data\n",
    "db = pd.read_csv(r'C:\\semster6\\DSH\\adult.csv')\n",
    "df = pd.DataFrame(db)\n",
    "sp_df = df[:5000]\n",
    "df = pd.DataFrame(sp_df)\n",
    "df\n",
    "# List the columns that contain a question mark value\n",
    "df.columns[df.isin(['?']).any()]\n",
    "df = df[~df.isin(['?']).any(axis=1)]\n",
    "#Create a bar chart\n",
    "sns.barplot(x='hours-per-week', y='income', data=df)\n",
    "plt.title('Distribution of Work Hours per Week by Income')\n",
    "plt.xlabel('Average Hours per Week')\n",
    "plt.ylabel('Income')\n",
    "plt.show()"
   ]
  },
  {
   "attachments": {},
   "cell_type": "markdown",
   "id": "a393e07f",
   "metadata": {},
   "source": [
    "# Task 2\n",
    "\n",
    ">Create a bar chart to compare the proportion of males and females in different occupation types. What does this visualization tell you about gender representation in different professions? "
   ]
  },
  {
   "cell_type": "code",
   "execution_count": null,
   "id": "085c1460",
   "metadata": {},
   "outputs": [],
   "source": [
    "# Group the data by occupation type and gender\n",
    "grouped = df.groupby(['occupation', 'gender']).size().reset_index(name='count')\n",
    "\n",
    "# Calculate the total count for each occupation type\n",
    "total_counts = grouped.groupby('occupation')['count'].sum()\n",
    "\n",
    "# Calculate the percentage of males and females in each occupation type\n",
    "grouped['percentage'] = grouped.apply(lambda x: x['count']/total_counts[x['occupation']] * 100, axis=1)\n",
    "\n",
    "# Pivot the data to get separate columns for males and females\n",
    "pivoted = grouped.pivot(index='occupation', columns='gender', values='percentage')\n",
    "\n",
    "# Create a bar chart of the percentage of males and females in each occupation type\n",
    "#pivoted.plot(kind='bar', stacked=True)\n",
    "pivoted.plot(kind='bar', stacked=True, color=['pink', 'skyblue'])"
   ]
  },
  {
   "attachments": {},
   "cell_type": "markdown",
   "id": "603cd7a1",
   "metadata": {},
   "source": [
    "# Task 3\n",
    "\n",
    ">Create a scatter plot to explore the relationship between age and work hours per week. What insights can you gain from this visualization?"
   ]
  },
  {
   "cell_type": "code",
   "execution_count": null,
   "id": "4a8ecf40",
   "metadata": {},
   "outputs": [],
   "source": [
    "#first plot example:\n",
    "plt.scatter(df['age'], df['hours-per-week'])\n",
    "plt.xlabel('Age')\n",
    "plt.ylabel('Hours per week')\n",
    "plt.show()"
   ]
  },
  {
   "cell_type": "code",
   "execution_count": null,
   "id": "2a45d5b6",
   "metadata": {},
   "outputs": [],
   "source": [
    "#second plot example:\n",
    "fig, ax = plt.subplots(figsize=(10, 6))\n",
    "ax.scatter(df['age'], df['hours-per-week'], alpha=0.3)\n",
    "\n",
    "ax.set_xlabel('Age')\n",
    "ax.set_ylabel('Hours per week')\n",
    "ax.set_title('Scatter plot of Age vs. Work Hours per Week')\n",
    "\n",
    "plt.show()"
   ]
  },
  {
   "attachments": {},
   "cell_type": "markdown",
   "id": "492d758e",
   "metadata": {},
   "source": [
    "# Task 4\n",
    "\n",
    ">Create a bar chart to compare the proportion of people in different income categories who are self-employed vs those employed by someone else. What does this visualization tell you about the distribution of income sources among different income groups? "
   ]
  },
  {
   "cell_type": "code",
   "execution_count": null,
   "id": "ac81ded1",
   "metadata": {},
   "outputs": [],
   "source": [
    "# Group the data by income and employment type, and count the number of occurrences for each group\n",
    "employment_counts = df.groupby(['income', 'workclass']).size().unstack()\n",
    "\n",
    "# Calculate the total number of individuals in each income category\n",
    "income_totals = employment_counts.sum(axis=1)\n",
    "\n",
    "# Calculate the proportion of individuals in each employment category for each income group\n",
    "employment_proportions = employment_counts.div(income_totals, axis=0)\n",
    "\n",
    "# Plot the bar chart\n",
    "employment_proportions.plot(kind='bar', stacked=True)\n",
    "\n",
    "# Add chart labels and legend\n",
    "plt.title('Proportion of individuals employed vs self-employed by income category')\n",
    "plt.xlabel('Income')\n",
    "plt.ylabel('Proportion')\n",
    "plt.legend(title='Employment Type', loc='upper right')\n",
    "plt.show()"
   ]
  },
  {
   "attachments": {},
   "cell_type": "markdown",
   "id": "4d38e6e9",
   "metadata": {},
   "source": [
    "# Task 5\n",
    "\n",
    ">Create a histogram to visualize the distribution of age for people in different occupation types. Are there any notable differences in the distribution of age between different professions? "
   ]
  },
  {
   "cell_type": "code",
   "execution_count": null,
   "id": "ab9804ce",
   "metadata": {},
   "outputs": [],
   "source": []
  },
  {
   "attachments": {},
   "cell_type": "markdown",
   "id": "bd351106",
   "metadata": {},
   "source": [
    "# Task 6\n",
    "\n",
    ">Create a scatter plot or bar chart to compare the distribution of education level between different occupation types. What insights can you gain from this visualization? "
   ]
  },
  {
   "cell_type": "code",
   "execution_count": null,
   "id": "8e5311e0",
   "metadata": {},
   "outputs": [],
   "source": []
  },
  {
   "attachments": {},
   "cell_type": "markdown",
   "id": "79444fb0",
   "metadata": {},
   "source": [
    "# Task 7\n",
    "\n",
    ">How does income vary by age? Create a scatter plot or line plot to show the relationship between income and age? "
   ]
  },
  {
   "cell_type": "code",
   "execution_count": null,
   "id": "c111f4ab",
   "metadata": {},
   "outputs": [],
   "source": []
  },
  {
   "attachments": {},
   "cell_type": "markdown",
   "id": "86db6abb",
   "metadata": {},
   "source": [
    "# Task 8\n",
    "\n",
    ">What is the relationship between income and education level? Create a bar chart or heat map to compare income levels across different education levels? "
   ]
  },
  {
   "cell_type": "code",
   "execution_count": null,
   "id": "a7e6179d",
   "metadata": {},
   "outputs": [],
   "source": []
  },
  {
   "attachments": {},
   "cell_type": "markdown",
   "id": "0613ca2f",
   "metadata": {},
   "source": [
    "# Task 9\n",
    "\n",
    ">How does income vary by occupation? Create a bar chart to compare average incomes across different occupations? "
   ]
  },
  {
   "cell_type": "code",
   "execution_count": null,
   "id": "c43b3a3e",
   "metadata": {},
   "outputs": [],
   "source": []
  },
  {
   "attachments": {},
   "cell_type": "markdown",
   "id": "fe5506b4",
   "metadata": {},
   "source": [
    "# Task 10\n",
    "\n",
    ">Are there any interesting patterns in the data when you compare income levels across different regions or native countries?  Create a stacked bar chart to explore these differences? "
   ]
  },
  {
   "cell_type": "code",
   "execution_count": null,
   "id": "c29f8e63",
   "metadata": {},
   "outputs": [],
   "source": []
  },
  {
   "attachments": {},
   "cell_type": "markdown",
   "id": "6b373703",
   "metadata": {},
   "source": [
    "# Task 11\n",
    "\n",
    ">Create a stacked bar chart to show the distribution of different race categories among the different income groups "
   ]
  },
  {
   "cell_type": "code",
   "execution_count": null,
   "id": "9fd11dbb",
   "metadata": {},
   "outputs": [],
   "source": []
  },
  {
   "attachments": {},
   "cell_type": "markdown",
   "id": "edd3fcdc",
   "metadata": {},
   "source": [
    "# Task 12\n",
    "\n",
    ">How does income vary by marital status? Create a stacked bar chart or grouped bar chart to compare income across different marital statuses?"
   ]
  },
  {
   "cell_type": "code",
   "execution_count": null,
   "id": "ad86c9e9",
   "metadata": {},
   "outputs": [],
   "source": []
  },
  {
   "attachments": {},
   "cell_type": "markdown",
   "id": "9aa46a76",
   "metadata": {},
   "source": [
    "# Task 13\n",
    "\n",
    ">Create a stacked bar chart to compare the distribution of occupation types across different native countries. Are there any notable differences in job roles based on country of origin? "
   ]
  },
  {
   "cell_type": "code",
   "execution_count": null,
   "id": "f8634a1b",
   "metadata": {},
   "outputs": [],
   "source": []
  },
  {
   "attachments": {},
   "cell_type": "markdown",
   "id": "2f336f7a",
   "metadata": {},
   "source": [
    "# Task 14\n",
    "\n",
    ">How does the distribution of education levels vary across different native countries? Use a stacked bar chart to visualize the data and identify any significant differences in educational attainment based on country of origin."
   ]
  },
  {
   "cell_type": "code",
   "execution_count": null,
   "id": "d0257259",
   "metadata": {},
   "outputs": [],
   "source": []
  }
 ],
 "metadata": {
  "kernelspec": {
   "display_name": "Python 3 (ipykernel)",
   "language": "python",
   "name": "python3"
  },
  "language_info": {
   "codemirror_mode": {
    "name": "ipython",
    "version": 3
   },
   "file_extension": ".py",
   "mimetype": "text/x-python",
   "name": "python",
   "nbconvert_exporter": "python",
   "pygments_lexer": "ipython3",
   "version": "3.10.10"
  }
 },
 "nbformat": 4,
 "nbformat_minor": 5
}
