{
 "cells": [
  {
   "cell_type": "markdown",
   "id": "29ce3fc3",
   "metadata": {},
   "source": [
    "# Note\n",
    "\n",
    "Session 2 ended before Tasks 4, 6 & 7 were completed. Feedback that we got:\n",
    "\n",
    "- Use the code in this notebook to produce new, different database files.\n",
    "- Use target encoding for \"native-country\" instead of one-hot encoding (you will see that the result has many less columns).\n",
    "- Never use the whole adult dataset, only the first 5000 entries.\n",
    "- Regarding Task 7, it is easy to guess which features are important (an appropriate graph could confirm our suspicions e.g. age, gender, ...).\n",
    "- The missing steps can be redone in the final report"
   ]
  },
  {
   "cell_type": "code",
   "execution_count": 1,
   "id": "b8547c53",
   "metadata": {
    "tags": []
   },
   "outputs": [],
   "source": [
    "import pandas as pd\n",
    "import numpy as np\n",
    "import matplotlib.pyplot as plt\n",
    "from sklearn.preprocessing import OneHotEncoder\n",
    "from category_encoders import TargetEncoder\n",
    "from sklearn.preprocessing import MinMaxScaler, StandardScaler\n",
    "from scipy.stats.mstats import winsorize\n",
    "import seaborn as sns\n",
    "from collections import Counter\n",
    "from sklearn.datasets import make_classification\n",
    "from imblearn.under_sampling import RandomUnderSampler\n",
    "db = pd.read_csv('data/adult.csv')\n",
    "df = pd.DataFrame(db)"
   ]
  },
  {
   "cell_type": "markdown",
   "id": "200ca6df",
   "metadata": {
    "tags": []
   },
   "source": [
    "# Task 1\n",
    "\n",
    ">Check for missing values in the dataset and handle them \\[...\\]\n",
    "\n",
    ">Check the dataset for noisy data, inconsistencies, and duplicate entries \\[...\\]."
   ]
  },
  {
   "cell_type": "markdown",
   "id": "e0bfb1e2",
   "metadata": {
    "tags": []
   },
   "source": [
    "## 1.1. Checking for missing values and handling them"
   ]
  },
  {
   "cell_type": "markdown",
   "id": "0a15ee99",
   "metadata": {},
   "source": [
    "#### Counting the missing values\n",
    "\n",
    "There are missing values in the form of question marks (\"?\").\n",
    "\n",
    "Let us [count](https://stackoverflow.com/questions/20076195/) these missing values."
   ]
  },
  {
   "cell_type": "code",
   "execution_count": 2,
   "id": "9a2ea13b",
   "metadata": {
    "scrolled": true,
    "tags": []
   },
   "outputs": [
    {
     "data": {
      "text/plain": [
       "707"
      ]
     },
     "execution_count": 2,
     "metadata": {},
     "output_type": "execute_result"
    }
   ],
   "source": [
    "# Stack all values and count the question marks\n",
    "column_names = [\"age\", \"workclass\", \"fnlwgt\", \"education\", \"educational-num\", \"marital-status\", \"occupation\", \"relationship\", \"race\", \"gender\", \"capital-gain\", \"capital-loss\", \"hours-per-week\", \"native-country\", \"income\"]\n",
    "df[[i for i in column_names]].astype('str').stack().value_counts()['?'].sum()"
   ]
  },
  {
   "cell_type": "markdown",
   "id": "5e57253a",
   "metadata": {},
   "source": [
    "#### Counting the Null values\n",
    "\n",
    "As seen above, there are 707 missing values in total.\n",
    "\n",
    "Let us count the null values (if any):"
   ]
  },
  {
   "cell_type": "code",
   "execution_count": 3,
   "id": "bf2c9999",
   "metadata": {
    "tags": []
   },
   "outputs": [
    {
     "data": {
      "text/plain": [
       "0"
      ]
     },
     "execution_count": 3,
     "metadata": {},
     "output_type": "execute_result"
    }
   ],
   "source": [
    "# Check for null values\n",
    "df.isnull().sum().sum()"
   ]
  },
  {
   "cell_type": "markdown",
   "id": "1a06b1c1",
   "metadata": {},
   "source": [
    "#### Listing the affected columns (variables)\n",
    "\n",
    "So there are no null values.\n",
    "\n",
    "As for the 707 missing values found earlier, we need to know how to impute them. Let us [find](https://stackoverflow.com/questions/50923707) the columns that contain missing values."
   ]
  },
  {
   "cell_type": "code",
   "execution_count": 4,
   "id": "ba7e9f55",
   "metadata": {
    "tags": []
   },
   "outputs": [
    {
     "data": {
      "text/plain": [
       "Index(['workclass', 'occupation', 'native-country'], dtype='object')"
      ]
     },
     "execution_count": 4,
     "metadata": {},
     "output_type": "execute_result"
    }
   ],
   "source": [
    "# List the columns that contain a question mark value\n",
    "df.columns[df.isin(['?']).any()]"
   ]
  },
  {
   "cell_type": "markdown",
   "id": "968bbf25",
   "metadata": {},
   "source": [
    "#### Determining their most frequent category\n",
    "\n",
    "The 707 missing values are distributed over three variables. All three of these are nominal variables.\n",
    "\n",
    "For now, we will impute them using the most frequent category. Since the 707 missing values are distributed over a total of 5'000x3 = 15'000 values, this simple imputation method should not significantly affect the data.\n",
    "\n",
    "Let us first find out the most frequent category in each variable."
   ]
  },
  {
   "cell_type": "code",
   "execution_count": 5,
   "id": "5da1c841",
   "metadata": {
    "tags": []
   },
   "outputs": [
    {
     "data": {
      "text/plain": [
       "workclass\n",
       "Private    3420\n",
       "Name: count, dtype: int64"
      ]
     },
     "execution_count": 5,
     "metadata": {},
     "output_type": "execute_result"
    }
   ],
   "source": [
    "# Count most frequent value in \"workclass\"\n",
    "df.workclass.value_counts().head(1)"
   ]
  },
  {
   "cell_type": "code",
   "execution_count": 6,
   "id": "e29c552a",
   "metadata": {
    "tags": []
   },
   "outputs": [
    {
     "data": {
      "text/plain": [
       "occupation\n",
       "Prof-specialty    644\n",
       "Name: count, dtype: int64"
      ]
     },
     "execution_count": 6,
     "metadata": {},
     "output_type": "execute_result"
    }
   ],
   "source": [
    "# Count most frequent value in \"occupation\"\n",
    "df.occupation.value_counts().head(1)"
   ]
  },
  {
   "cell_type": "code",
   "execution_count": 7,
   "id": "57affc8e",
   "metadata": {
    "tags": []
   },
   "outputs": [
    {
     "data": {
      "text/plain": [
       "native-country\n",
       "United-States    4514\n",
       "Name: count, dtype: int64"
      ]
     },
     "execution_count": 7,
     "metadata": {},
     "output_type": "execute_result"
    }
   ],
   "source": [
    "# Count most frequent value in \"native-country\"\n",
    "df['native-country'].value_counts().head(1)"
   ]
  },
  {
   "cell_type": "markdown",
   "id": "57b0522a",
   "metadata": {},
   "source": [
    "#### Imputing with their most frequent category\n",
    "\n",
    "Now we know that the most frequent categories are the Private sector, the \"Prof-specialty\" occupation, and the country United States.\n",
    "\n",
    "Let us replace the missing values with the respective most frequent category."
   ]
  },
  {
   "cell_type": "code",
   "execution_count": 8,
   "id": "0b1a8fba",
   "metadata": {
    "scrolled": true,
    "tags": []
   },
   "outputs": [
    {
     "data": {
      "text/plain": [
       "workclass\n",
       "Private    3735\n",
       "Name: count, dtype: int64"
      ]
     },
     "execution_count": 8,
     "metadata": {},
     "output_type": "execute_result"
    }
   ],
   "source": [
    "# Workclass : Replace question marks\n",
    "df.workclass.replace('?','Private', inplace=True)\n",
    "# Count most frequent value again\n",
    "df.workclass.value_counts().head(1)"
   ]
  },
  {
   "cell_type": "code",
   "execution_count": 9,
   "id": "cd20d732",
   "metadata": {
    "tags": []
   },
   "outputs": [
    {
     "data": {
      "text/plain": [
       "occupation\n",
       "Prof-specialty    959\n",
       "Name: count, dtype: int64"
      ]
     },
     "execution_count": 9,
     "metadata": {},
     "output_type": "execute_result"
    }
   ],
   "source": [
    "# Occupation : Replace question marks\n",
    "df.occupation.replace('?','Prof-specialty', inplace=True)\n",
    "# Count most frequent value again\n",
    "df.occupation.value_counts().head(1)"
   ]
  },
  {
   "cell_type": "code",
   "execution_count": 10,
   "id": "5cfe31d8",
   "metadata": {
    "tags": []
   },
   "outputs": [
    {
     "data": {
      "text/plain": [
       "native-country\n",
       "United-States    4591\n",
       "Name: count, dtype: int64"
      ]
     },
     "execution_count": 10,
     "metadata": {},
     "output_type": "execute_result"
    }
   ],
   "source": [
    "# Native-country : Replace question marks\n",
    "df['native-country'].replace('?','United-States', inplace=True)\n",
    "# Count most frequent value again\n",
    "df['native-country'].value_counts().head(1)"
   ]
  },
  {
   "cell_type": "markdown",
   "id": "01142ae9",
   "metadata": {},
   "source": [
    "#### Checking that the missing values are handled\n",
    "\n",
    "As expected, the most frequent categories became even more frequent. Let us check for missing values again."
   ]
  },
  {
   "cell_type": "code",
   "execution_count": 11,
   "id": "dbb20f19",
   "metadata": {
    "scrolled": true,
    "tags": []
   },
   "outputs": [
    {
     "data": {
      "text/plain": [
       "Index([], dtype='object')"
      ]
     },
     "execution_count": 11,
     "metadata": {},
     "output_type": "execute_result"
    }
   ],
   "source": [
    "# List the columns that contain a question mark value\n",
    "df.columns[df.isin(['?']).any()]"
   ]
  },
  {
   "cell_type": "markdown",
   "id": "02389d1e-09ce-40aa-a870-5bde82c4fd93",
   "metadata": {
    "tags": []
   },
   "source": [
    "## 1.2. Checking for noisy data, inconsistencies & duplicate entries"
   ]
  },
  {
   "cell_type": "markdown",
   "id": "b3491121",
   "metadata": {
    "tags": []
   },
   "source": [
    "### 1.2.1 Checking for noisy data\n",
    "\n",
    "Some definitions for noisy data include: Data that is corrupted/distorted & Data that has a low signal-to-noise ratio.\n",
    "\n",
    "While the latter can be [measured using a formula](https://en.wikipedia.org/wiki/Signal-to-noise_ratio), checking for corrupted and distorted data will need manual examination."
   ]
  },
  {
   "cell_type": "markdown",
   "id": "816e6b0b-ff2e-4449-9f3d-93208d565f18",
   "metadata": {
    "tags": []
   },
   "source": [
    "#### Finding corrupted data\n",
    "\n",
    "[There are 8 nominal variables in our data.](http://www.cs.toronto.edu/~delve/data/adult/adultDetail.html) Corrupted values are likely to hide in their rarest categories.\n",
    "\n",
    "Let us search for corrupted data, by listing rare categories in non-number variables, treating \"native-country\" separately since it has especially many categories."
   ]
  },
  {
   "cell_type": "code",
   "execution_count": 12,
   "id": "4164d3d7",
   "metadata": {
    "tags": []
   },
   "outputs": [
    {
     "data": {
      "text/plain": [
       "1st-4th              24\n",
       "Preschool            13\n",
       "Married-AF-spouse     3\n",
       "Without-pay           2\n",
       "Armed-Forces          1\n",
       "Name: count, dtype: int64"
      ]
     },
     "execution_count": 12,
     "metadata": {},
     "output_type": "execute_result"
    }
   ],
   "source": [
    "# Stack values in said non-number variables and show the rarest categories\n",
    "non_num_column_names = ['workclass', 'education', 'marital-status', 'occupation', 'relationship', 'race', 'gender']\n",
    "df[[i for i in non_num_column_names]].astype('str').stack().value_counts().tail()"
   ]
  },
  {
   "cell_type": "code",
   "execution_count": 13,
   "id": "9570fbc3",
   "metadata": {
    "tags": []
   },
   "outputs": [
    {
     "data": {
      "text/plain": [
       "Laos                          1\n",
       "Hong                          1\n",
       "Trinadad&Tobago               1\n",
       "Outlying-US(Guam-USVI-etc)    1\n",
       "France                        1\n",
       "Name: count, dtype: int64"
      ]
     },
     "execution_count": 13,
     "metadata": {},
     "output_type": "execute_result"
    }
   ],
   "source": [
    "# Stack values in \"native-country\" and show the rarest categories\n",
    "df[['native-country']].astype('str').stack().value_counts().tail()"
   ]
  },
  {
   "cell_type": "markdown",
   "id": "60f36acd-4f0c-44ba-bb2a-0e386daed445",
   "metadata": {},
   "source": [
    "Examining these values reveals no corrupted information except for typing errors in the country names of Hong Kong and Trinidad&Tobago. However, the typing errors do not affect the usefulness of the data, as each country is represented by only one category."
   ]
  },
  {
   "cell_type": "markdown",
   "id": "25f4cd4b-e71f-4e5d-bfb7-c785f2e730fa",
   "metadata": {},
   "source": [
    "#### Finding distorted data\n",
    "\n",
    "[Our data has 6 continous variables.](http://www.cs.toronto.edu/~delve/data/adult/adultDetail.html) They are \"age\", \"fnlwgt\" (finalweight), \"educational-num\", \"capital-gain\", \"capital-loss\", and \"hours-per-week\". For the first five, there exists a distribution plot in our first presentation. As for \"hours-per-week\", a plot has been generated below.\n",
    "\n",
    "Considering all of these plots, there is only one obvious distortion: Age 90 is more represented than the other ages in that range. We assume that this is an intended grouping of ages 90+ that has been made in the original data. Therefore it does not negatively affect the quality of the dataset"
   ]
  },
  {
   "cell_type": "code",
   "execution_count": 14,
   "id": "a83de69b-f9e8-454d-b548-abbb952f326a",
   "metadata": {
    "tags": []
   },
   "outputs": [
    {
     "data": {
      "text/plain": [
       "<Axes: ylabel='Frequency'>"
      ]
     },
     "execution_count": 14,
     "metadata": {},
     "output_type": "execute_result"
    },
    {
     "data": {
      "image/png": "[encoded data removed]",
      "text/plain": [
       "<Figure size 640x480 with 1 Axes>"
      ]
     },
     "metadata": {},
     "output_type": "display_data"
    }
   ],
   "source": [
    "# Value distribution plot for \"hours-per-week\" (requires matplotlib)\n",
    "df['hours-per-week'].plot.hist()"
   ]
  },
  {
   "cell_type": "markdown",
   "id": "66d4b0e2-9c3c-42c2-aefb-c95a430970aa",
   "metadata": {},
   "source": [
    "#### Measuring noise in numeric variables\n",
    "\n",
    "We will measure the signal-to-noise ratio (SNR) of the 6 numeric variables to determine if any has a high noise.\n",
    "\n",
    "According to [this Wikipedia article](https://en.wikipedia.org/wiki/Signal-to-noise_ratio), the SNR can be calculated as (μ^2/σ^2).\n",
    "\n",
    "Let us find μ (the means) and σ (the standard deviations) to apply the formula."
   ]
  },
  {
   "cell_type": "code",
   "execution_count": 15,
   "id": "48fb13bc",
   "metadata": {},
   "outputs": [
    {
     "data": {
      "text/html": [
       "<div>\n",
       "<style scoped>\n",
       "    .dataframe tbody tr th:only-of-type {\n",
       "        vertical-align: middle;\n",
       "    }\n",
       "\n",
       "    .dataframe tbody tr th {\n",
       "        vertical-align: top;\n",
       "    }\n",
       "\n",
       "    .dataframe thead th {\n",
       "        text-align: right;\n",
       "    }\n",
       "</style>\n",
       "<table border=\"1\" class=\"dataframe\">\n",
       "  <thead>\n",
       "    <tr style=\"text-align: right;\">\n",
       "      <th></th>\n",
       "      <th>age</th>\n",
       "      <th>fnlwgt</th>\n",
       "      <th>educational-num</th>\n",
       "      <th>capital-gain</th>\n",
       "      <th>capital-loss</th>\n",
       "      <th>hours-per-week</th>\n",
       "    </tr>\n",
       "  </thead>\n",
       "  <tbody>\n",
       "    <tr>\n",
       "      <th>mean</th>\n",
       "      <td>38.504800</td>\n",
       "      <td>187269.876000</td>\n",
       "      <td>10.038400</td>\n",
       "      <td>1107.090200</td>\n",
       "      <td>89.561400</td>\n",
       "      <td>40.20600</td>\n",
       "    </tr>\n",
       "    <tr>\n",
       "      <th>std</th>\n",
       "      <td>13.779781</td>\n",
       "      <td>102781.411899</td>\n",
       "      <td>2.595433</td>\n",
       "      <td>7708.019951</td>\n",
       "      <td>408.651437</td>\n",
       "      <td>12.45805</td>\n",
       "    </tr>\n",
       "  </tbody>\n",
       "</table>\n",
       "</div>"
      ],
      "text/plain": [
       "            age         fnlwgt  educational-num  capital-gain  capital-loss   \n",
       "mean  38.504800  187269.876000        10.038400   1107.090200     89.561400  \\\n",
       "std   13.779781  102781.411899         2.595433   7708.019951    408.651437   \n",
       "\n",
       "      hours-per-week  \n",
       "mean        40.20600  \n",
       "std         12.45805  "
      ]
     },
     "execution_count": 15,
     "metadata": {},
     "output_type": "execute_result"
    }
   ],
   "source": [
    "# Get mean and STD of the the numerical variables\n",
    "numericInfo = df.describe().iloc[1:3]\n",
    "numericInfo"
   ]
  },
  {
   "cell_type": "markdown",
   "id": "44e660e7",
   "metadata": {},
   "source": [
    "Now, let us compute the SNR."
   ]
  },
  {
   "cell_type": "code",
   "execution_count": 16,
   "id": "3bbe46ff",
   "metadata": {},
   "outputs": [
    {
     "data": {
      "text/plain": [
       "{'Age': 7.8080958880742415,\n",
       " 'Final Weight': 3.319759996517732,\n",
       " 'Education-Num': 14.959233262883458,\n",
       " 'Capital Gain': 0.02062910339656595,\n",
       " 'Capital Loss': 0.04803255474767841,\n",
       " 'Hours per Week': 10.415535705359764}"
      ]
     },
     "execution_count": 16,
     "metadata": {},
     "output_type": "execute_result"
    }
   ],
   "source": [
    "# Calculate SNRs and store them in variables\n",
    "resultage = ( (numericInfo['age'][0])**2 ) / ( (numericInfo['age'][1])**2 )\n",
    "resultweight = ( (numericInfo['fnlwgt'][0])**2 ) / ( (numericInfo['fnlwgt'][1])**2 )\n",
    "resultedu = ( (numericInfo['educational-num'][0])**2 ) / ( (numericInfo['educational-num'][1])**2 )\n",
    "resultcapg = ( (numericInfo['capital-gain'][0])**2 ) / ( (numericInfo['capital-gain'][1])**2 )\n",
    "resultcapl = ( (numericInfo['capital-loss'][0])**2 ) / ( (numericInfo['capital-loss'][1])**2 )\n",
    "resulthpw = ( (numericInfo['hours-per-week'][0])**2 ) / ( (numericInfo['hours-per-week'][1])**2 )\n",
    "# Output the variables\n",
    "def SNRs():\n",
    "    return {\"Age\": resultage, \"Final Weight\": resultweight, \"Education-Num\": resultedu, \"Capital Gain\": resultcapg, \"Capital Loss\": resultcapl, \"Hours per Week\": resulthpw}\n",
    "SNRs()"
   ]
  },
  {
   "cell_type": "markdown",
   "id": "9964b77c",
   "metadata": {},
   "source": [
    "As we can see, the signal is significantly stronger than the noise for most variables. However, the two variables \"capital-gain\" and \"capital-loss\" have a very weak SNR.\n",
    "\n",
    "The high noise in the capital related data might make its analysis difficult. Feature Engineering might be a solution to make more useful data from \"capital-gain\" and \"capital-loss\"."
   ]
  },
  {
   "cell_type": "markdown",
   "id": "f9889e29-fbba-4d86-9965-d0a1bcd53064",
   "metadata": {
    "tags": []
   },
   "source": [
    "### 1.2.2 Checking for inconsistencies\n",
    "\n",
    "Let us make sure Capital Gains VS Losses are mutually exclusive."
   ]
  },
  {
   "cell_type": "code",
   "execution_count": 17,
   "id": "66edcc07",
   "metadata": {},
   "outputs": [
    {
     "data": {
      "text/plain": [
       "'Empty Dataset'"
      ]
     },
     "execution_count": 17,
     "metadata": {},
     "output_type": "execute_result"
    }
   ],
   "source": [
    "# Output entries with non-zero capital gains AND losses, if any\n",
    "def capitalInconsistencies():\n",
    "    inconsistent_data = df[(df['capital-gain'] > 0) & (df['capital-loss'] > 0)]\n",
    "    if not inconsistent_data.empty:\n",
    "        return inconsistent_data\n",
    "    else:\n",
    "        return \"Empty Dataset\"\n",
    "capitalInconsistencies()"
   ]
  },
  {
   "cell_type": "markdown",
   "id": "a200cc83",
   "metadata": {},
   "source": [
    "We note that there is no entry with capital gains AND losses."
   ]
  },
  {
   "cell_type": "markdown",
   "id": "5c4ec507-0e86-49e4-81aa-aa9f33ac773b",
   "metadata": {
    "tags": []
   },
   "source": [
    "### 1.2.3 Checking for duplicates"
   ]
  },
  {
   "cell_type": "code",
   "execution_count": 18,
   "id": "62addb01-a1b2-49f5-90c9-ac5d28616e15",
   "metadata": {},
   "outputs": [
    {
     "data": {
      "text/html": [
       "<div>\n",
       "<style scoped>\n",
       "    .dataframe tbody tr th:only-of-type {\n",
       "        vertical-align: middle;\n",
       "    }\n",
       "\n",
       "    .dataframe tbody tr th {\n",
       "        vertical-align: top;\n",
       "    }\n",
       "\n",
       "    .dataframe thead th {\n",
       "        text-align: right;\n",
       "    }\n",
       "</style>\n",
       "<table border=\"1\" class=\"dataframe\">\n",
       "  <thead>\n",
       "    <tr style=\"text-align: right;\">\n",
       "      <th></th>\n",
       "      <th>age</th>\n",
       "      <th>workclass</th>\n",
       "      <th>fnlwgt</th>\n",
       "      <th>education</th>\n",
       "      <th>educational-num</th>\n",
       "      <th>marital-status</th>\n",
       "      <th>occupation</th>\n",
       "      <th>relationship</th>\n",
       "      <th>race</th>\n",
       "      <th>gender</th>\n",
       "      <th>capital-gain</th>\n",
       "      <th>capital-loss</th>\n",
       "      <th>hours-per-week</th>\n",
       "      <th>native-country</th>\n",
       "      <th>income</th>\n",
       "    </tr>\n",
       "  </thead>\n",
       "  <tbody>\n",
       "    <tr>\n",
       "      <th>488</th>\n",
       "      <td>24</td>\n",
       "      <td>Private</td>\n",
       "      <td>194630</td>\n",
       "      <td>Bachelors</td>\n",
       "      <td>13</td>\n",
       "      <td>Never-married</td>\n",
       "      <td>Prof-specialty</td>\n",
       "      <td>Not-in-family</td>\n",
       "      <td>White</td>\n",
       "      <td>Male</td>\n",
       "      <td>0</td>\n",
       "      <td>0</td>\n",
       "      <td>35</td>\n",
       "      <td>United-States</td>\n",
       "      <td>&lt;=50K</td>\n",
       "    </tr>\n",
       "    <tr>\n",
       "      <th>864</th>\n",
       "      <td>24</td>\n",
       "      <td>Private</td>\n",
       "      <td>194630</td>\n",
       "      <td>Bachelors</td>\n",
       "      <td>13</td>\n",
       "      <td>Never-married</td>\n",
       "      <td>Prof-specialty</td>\n",
       "      <td>Not-in-family</td>\n",
       "      <td>White</td>\n",
       "      <td>Male</td>\n",
       "      <td>0</td>\n",
       "      <td>0</td>\n",
       "      <td>35</td>\n",
       "      <td>United-States</td>\n",
       "      <td>&lt;=50K</td>\n",
       "    </tr>\n",
       "  </tbody>\n",
       "</table>\n",
       "</div>"
      ],
      "text/plain": [
       "     age workclass  fnlwgt  education  educational-num marital-status   \n",
       "488   24   Private  194630  Bachelors               13  Never-married  \\\n",
       "864   24   Private  194630  Bachelors               13  Never-married   \n",
       "\n",
       "         occupation   relationship   race gender  capital-gain  capital-loss   \n",
       "488  Prof-specialty  Not-in-family  White   Male             0             0  \\\n",
       "864  Prof-specialty  Not-in-family  White   Male             0             0   \n",
       "\n",
       "     hours-per-week native-country income  \n",
       "488              35  United-States  <=50K  \n",
       "864              35  United-States  <=50K  "
      ]
     },
     "execution_count": 18,
     "metadata": {},
     "output_type": "execute_result"
    }
   ],
   "source": [
    "# Output entries that are identical, if any\n",
    "def duplicatesInDf():\n",
    "    duplicates = df[df.duplicated(keep=False)]\n",
    "    if not duplicates.empty:\n",
    "        return duplicates\n",
    "    else:\n",
    "        return \"Empty Dataset\"\n",
    "duplicatesInDf()"
   ]
  },
  {
   "cell_type": "markdown",
   "id": "8aa0b41c",
   "metadata": {},
   "source": [
    "Seeing as there is one duplicate, let us drop it."
   ]
  },
  {
   "cell_type": "code",
   "execution_count": 19,
   "id": "6bc5bee5",
   "metadata": {},
   "outputs": [
    {
     "data": {
      "text/plain": [
       "'Empty Dataset'"
      ]
     },
     "execution_count": 19,
     "metadata": {},
     "output_type": "execute_result"
    }
   ],
   "source": [
    "# Remove duplicates\n",
    "df.drop_duplicates(inplace=True)\n",
    "# Search for duplicates\n",
    "duplicatesInDf()"
   ]
  },
  {
   "cell_type": "code",
   "execution_count": 20,
   "id": "1533fb7f",
   "metadata": {
    "scrolled": true
   },
   "outputs": [
    {
     "data": {
      "text/plain": [
       "True"
      ]
     },
     "execution_count": 20,
     "metadata": {},
     "output_type": "execute_result"
    }
   ],
   "source": [
    "# Make sure that there are still no missing values somehow\n",
    "assert df.isnull().sum().sum() == 0\n",
    "True"
   ]
  },
  {
   "cell_type": "markdown",
   "id": "53c50221",
   "metadata": {
    "tags": []
   },
   "source": [
    "# Task 2\n",
    "\n",
    ">[Convert categorical features to numerical values using encoding techniques]\n",
    "\n",
    "**To avoid confusion: \"categorical\" = \"nominal\". We do not count the index column.**"
   ]
  },
  {
   "cell_type": "markdown",
   "id": "0313f59e",
   "metadata": {},
   "source": [
    "## 2.1. Encoding education and income"
   ]
  },
  {
   "cell_type": "markdown",
   "id": "2233fda1",
   "metadata": {
    "tags": []
   },
   "source": [
    "#### Encoding education\n",
    "\n",
    "As already mentioned in 1.2.1, there are 8 nominal variables. Education is already ordinally encoded, so let us drop the non-numerical variable."
   ]
  },
  {
   "cell_type": "code",
   "execution_count": 21,
   "id": "35686dd3",
   "metadata": {},
   "outputs": [],
   "source": [
    "# Remove variable \"education\"\n",
    "df.drop(columns='education',inplace=True)"
   ]
  },
  {
   "cell_type": "markdown",
   "id": "7676159f",
   "metadata": {},
   "source": [
    "Note that **the number of columns has decreased from 15 to 14.**"
   ]
  },
  {
   "cell_type": "markdown",
   "id": "ddc8fd7e",
   "metadata": {},
   "source": [
    "#### Encoding income\n",
    "\n",
    "The class of our dataset - \"income\" - only has two categories. We can simply apply binary encoding."
   ]
  },
  {
   "cell_type": "code",
   "execution_count": 22,
   "id": "39832e67",
   "metadata": {},
   "outputs": [],
   "source": [
    "# Replace \"income\" value \"<=50K\" with 0, and \"income\" value \">50K\" with 1\n",
    "df['income'].replace('<=50K', 0, inplace=True)\n",
    "df['income'].replace('>50K', 1, inplace=True)"
   ]
  },
  {
   "cell_type": "markdown",
   "id": "8d789cfb",
   "metadata": {},
   "source": [
    "## 2.2. Encoding the remaining categorical variables\n",
    "\n",
    "There remain 13 columns that we need to consider:\n",
    "1. We have 6 numerical features that we can ignore because they are already numerical\n",
    "2. **We have 7 categorical features for which we will try one-hot-encoding**\n",
    "\n",
    "NB: Due to the Feature Engineering in Task 6, there is one more categorical feature (\"occupation-type\") that is accounted for in the code below. However, the notes and the comments are from before this new feature was created."
   ]
  },
  {
   "cell_type": "markdown",
   "id": "7ab7a182",
   "metadata": {},
   "source": [
    "#### One-hot-encoding\n",
    "\n",
    "Since the remaining 7 nominal variables are not ordinal, we do not want to use e.g. label encoding, as that could introduce unintended biases. Instead, we will use One-Hot encoding for them.\n",
    "\n",
    "Let us apply One-Hot Encoding."
   ]
  },
  {
   "cell_type": "code",
   "execution_count": 25,
   "id": "c0876d15",
   "metadata": {},
   "outputs": [
    {
     "data": {
      "text/html": [
       "<div>\n",
       "<style scoped>\n",
       "    .dataframe tbody tr th:only-of-type {\n",
       "        vertical-align: middle;\n",
       "    }\n",
       "\n",
       "    .dataframe tbody tr th {\n",
       "        vertical-align: top;\n",
       "    }\n",
       "\n",
       "    .dataframe thead th {\n",
       "        text-align: right;\n",
       "    }\n",
       "</style>\n",
       "<table border=\"1\" class=\"dataframe\">\n",
       "  <thead>\n",
       "    <tr style=\"text-align: right;\">\n",
       "      <th></th>\n",
       "      <th>age</th>\n",
       "      <th>capital-gain</th>\n",
       "      <th>capital-loss</th>\n",
       "      <th>educational-num</th>\n",
       "      <th>fnlwgt</th>\n",
       "      <th>hours-per-week</th>\n",
       "      <th>income</th>\n",
       "      <th>workclass_Federal-gov</th>\n",
       "      <th>workclass_Local-gov</th>\n",
       "      <th>workclass_Private</th>\n",
       "      <th>...</th>\n",
       "      <th>native-country_South</th>\n",
       "      <th>native-country_Taiwan</th>\n",
       "      <th>native-country_Thailand</th>\n",
       "      <th>native-country_Trinadad&amp;Tobago</th>\n",
       "      <th>native-country_United-States</th>\n",
       "      <th>native-country_Vietnam</th>\n",
       "      <th>native-country_Yugoslavia</th>\n",
       "      <th>occupation-type_Professional</th>\n",
       "      <th>occupation-type_Service</th>\n",
       "      <th>occupation-type_Technical</th>\n",
       "    </tr>\n",
       "  </thead>\n",
       "  <tbody>\n",
       "    <tr>\n",
       "      <th>0</th>\n",
       "      <td>25</td>\n",
       "      <td>0</td>\n",
       "      <td>0</td>\n",
       "      <td>7</td>\n",
       "      <td>226802</td>\n",
       "      <td>40</td>\n",
       "      <td>0</td>\n",
       "      <td>0.0</td>\n",
       "      <td>0.0</td>\n",
       "      <td>1.0</td>\n",
       "      <td>...</td>\n",
       "      <td>0.0</td>\n",
       "      <td>0.0</td>\n",
       "      <td>0.0</td>\n",
       "      <td>0.0</td>\n",
       "      <td>1.0</td>\n",
       "      <td>0.0</td>\n",
       "      <td>0.0</td>\n",
       "      <td>0.0</td>\n",
       "      <td>0.0</td>\n",
       "      <td>1.0</td>\n",
       "    </tr>\n",
       "  </tbody>\n",
       "</table>\n",
       "<p>1 rows × 91 columns</p>\n",
       "</div>"
      ],
      "text/plain": [
       "   age  capital-gain  capital-loss  educational-num  fnlwgt  hours-per-week   \n",
       "0   25             0             0                7  226802              40  \\\n",
       "\n",
       "   income  workclass_Federal-gov  workclass_Local-gov  workclass_Private  ...   \n",
       "0       0                    0.0                  0.0                1.0  ...  \\\n",
       "\n",
       "   native-country_South  native-country_Taiwan  native-country_Thailand   \n",
       "0                   0.0                    0.0                      0.0  \\\n",
       "\n",
       "   native-country_Trinadad&Tobago  native-country_United-States   \n",
       "0                             0.0                           1.0  \\\n",
       "\n",
       "   native-country_Vietnam  native-country_Yugoslavia   \n",
       "0                     0.0                        0.0  \\\n",
       "\n",
       "   occupation-type_Professional  occupation-type_Service   \n",
       "0                           0.0                      0.0  \\\n",
       "\n",
       "   occupation-type_Technical  \n",
       "0                        1.0  \n",
       "\n",
       "[1 rows x 91 columns]"
      ]
     },
     "execution_count": 25,
     "metadata": {},
     "output_type": "execute_result"
    }
   ],
   "source": [
    "# Select the 7 nominal columns\n",
    "categorical_cols = ['workclass', 'marital-status', 'occupation', 'relationship', 'race', 'gender', 'native-country', 'occupation-type']\n",
    "# Select the other 7 columns (6 numericals + \"income\")\n",
    "numeric_cols = df.columns.difference(categorical_cols)\n",
    "# Perform one-hot encoding on categorical columns\n",
    "onehot_encoder = OneHotEncoder(sparse_output=False)\n",
    "onehot_array = onehot_encoder.fit_transform(df[categorical_cols])\n",
    "column_names = onehot_encoder.get_feature_names_out(categorical_cols)\n",
    "onehot_df = pd.DataFrame(onehot_array, columns=column_names)\n",
    "# Concatenate one-hot encoded DataFrame with original numerical and income columns\n",
    "numeric_df = df[numeric_cols].reset_index(drop=True)\n",
    "encoded_df = pd.concat([numeric_df, onehot_df], axis=1)\n",
    "# Get snippet of the processed DataFrame\n",
    "encoded_df.head(1)"
   ]
  },
  {
   "cell_type": "markdown",
   "id": "f95d0e32",
   "metadata": {},
   "source": [
    "The increase in the number of columns from 14 to 87 indicates that there were 73 unique values across the 7 encoded categorical columns."
   ]
  },
  {
   "cell_type": "markdown",
   "id": "53d6156d",
   "metadata": {},
   "source": [
    "## 2.3. Changing the approach for \"native-country\"\n",
    "\n",
    "Since the number of columns increased considerably after One-hot-encoding, we shall try it again. But this time, instead of using One-hot-encoding for \"native-country\" , we will apply target encoding. This way, the \"native-country\" variable will not inflate the number of columns.\n",
    "\n",
    "Let us omit \"native-country\" from the One-hot-encoding."
   ]
  },
  {
   "cell_type": "code",
   "execution_count": 26,
   "id": "00e5113d",
   "metadata": {
    "scrolled": true
   },
   "outputs": [
    {
     "data": {
      "text/html": [
       "<div>\n",
       "<style scoped>\n",
       "    .dataframe tbody tr th:only-of-type {\n",
       "        vertical-align: middle;\n",
       "    }\n",
       "\n",
       "    .dataframe tbody tr th {\n",
       "        vertical-align: top;\n",
       "    }\n",
       "\n",
       "    .dataframe thead th {\n",
       "        text-align: right;\n",
       "    }\n",
       "</style>\n",
       "<table border=\"1\" class=\"dataframe\">\n",
       "  <thead>\n",
       "    <tr style=\"text-align: right;\">\n",
       "      <th></th>\n",
       "      <th>age</th>\n",
       "      <th>capital-gain</th>\n",
       "      <th>capital-loss</th>\n",
       "      <th>educational-num</th>\n",
       "      <th>fnlwgt</th>\n",
       "      <th>hours-per-week</th>\n",
       "      <th>income</th>\n",
       "      <th>native-country</th>\n",
       "      <th>workclass_Federal-gov</th>\n",
       "      <th>workclass_Local-gov</th>\n",
       "      <th>...</th>\n",
       "      <th>race_Amer-Indian-Eskimo</th>\n",
       "      <th>race_Asian-Pac-Islander</th>\n",
       "      <th>race_Black</th>\n",
       "      <th>race_Other</th>\n",
       "      <th>race_White</th>\n",
       "      <th>gender_Female</th>\n",
       "      <th>gender_Male</th>\n",
       "      <th>occupation-type_Professional</th>\n",
       "      <th>occupation-type_Service</th>\n",
       "      <th>occupation-type_Technical</th>\n",
       "    </tr>\n",
       "  </thead>\n",
       "  <tbody>\n",
       "    <tr>\n",
       "      <th>0</th>\n",
       "      <td>25</td>\n",
       "      <td>0</td>\n",
       "      <td>0</td>\n",
       "      <td>7</td>\n",
       "      <td>226802</td>\n",
       "      <td>40</td>\n",
       "      <td>0</td>\n",
       "      <td>United-States</td>\n",
       "      <td>0.0</td>\n",
       "      <td>0.0</td>\n",
       "      <td>...</td>\n",
       "      <td>0.0</td>\n",
       "      <td>0.0</td>\n",
       "      <td>1.0</td>\n",
       "      <td>0.0</td>\n",
       "      <td>0.0</td>\n",
       "      <td>0.0</td>\n",
       "      <td>1.0</td>\n",
       "      <td>0.0</td>\n",
       "      <td>0.0</td>\n",
       "      <td>1.0</td>\n",
       "    </tr>\n",
       "  </tbody>\n",
       "</table>\n",
       "<p>1 rows × 52 columns</p>\n",
       "</div>"
      ],
      "text/plain": [
       "   age  capital-gain  capital-loss  educational-num  fnlwgt  hours-per-week   \n",
       "0   25             0             0                7  226802              40  \\\n",
       "\n",
       "   income native-country  workclass_Federal-gov  workclass_Local-gov  ...   \n",
       "0       0  United-States                    0.0                  0.0  ...  \\\n",
       "\n",
       "   race_Amer-Indian-Eskimo  race_Asian-Pac-Islander  race_Black  race_Other   \n",
       "0                      0.0                      0.0         1.0         0.0  \\\n",
       "\n",
       "   race_White  gender_Female  gender_Male  occupation-type_Professional   \n",
       "0         0.0            0.0          1.0                           0.0  \\\n",
       "\n",
       "   occupation-type_Service  occupation-type_Technical  \n",
       "0                      0.0                        1.0  \n",
       "\n",
       "[1 rows x 52 columns]"
      ]
     },
     "execution_count": 26,
     "metadata": {},
     "output_type": "execute_result"
    }
   ],
   "source": [
    "# Repeat the One-hot-encoding of the 7 nominal columns (EXCEPT \"native-country\")\n",
    "categorical_cols = ['workclass', 'marital-status', 'occupation', 'relationship', 'race', 'gender', 'occupation-type']\n",
    "numeric_cols = df.columns.difference(categorical_cols)\n",
    "onehot_encoder = OneHotEncoder(sparse_output=False)\n",
    "onehot_array = onehot_encoder.fit_transform(df[categorical_cols])\n",
    "column_names = onehot_encoder.get_feature_names_out(categorical_cols)\n",
    "onehot_df = pd.DataFrame(onehot_array, columns=column_names)\n",
    "numeric_df = df[numeric_cols].reset_index(drop=True)\n",
    "encoded_df = pd.concat([numeric_df, onehot_df], axis=1)\n",
    "encoded_df.head(1)"
   ]
  },
  {
   "cell_type": "markdown",
   "id": "c21fdf60",
   "metadata": {},
   "source": [
    "**Target-Encoding is problematic** due to target leakage. For instance, we plan to replace the native country with the average income for that country (the *mean of the target*). By doing that, we train a model with information that is directly related to what it should predict. \n",
    "\n",
    "We want to avoid that. Therefore [prior smoothing](https://towardsdatascience.com/dealing-with-categorical-variables-by-using-target-encoder-a0f1733a4c69) is necessary. For this purpose, we can use the [Target Encoder from Category Encoders](https://contrib.scikit-learn.org/category_encoders/targetencoder.html).\n",
    "\n",
    "Let us target-encode the remaining column \"native-country\", with an encoder that applies measures to prevent target leakage."
   ]
  },
  {
   "cell_type": "code",
   "execution_count": 27,
   "id": "6b71af3d",
   "metadata": {},
   "outputs": [
    {
     "data": {
      "text/html": [
       "<div>\n",
       "<style scoped>\n",
       "    .dataframe tbody tr th:only-of-type {\n",
       "        vertical-align: middle;\n",
       "    }\n",
       "\n",
       "    .dataframe tbody tr th {\n",
       "        vertical-align: top;\n",
       "    }\n",
       "\n",
       "    .dataframe thead th {\n",
       "        text-align: right;\n",
       "    }\n",
       "</style>\n",
       "<table border=\"1\" class=\"dataframe\">\n",
       "  <thead>\n",
       "    <tr style=\"text-align: right;\">\n",
       "      <th></th>\n",
       "      <th>age</th>\n",
       "      <th>capital-gain</th>\n",
       "      <th>capital-loss</th>\n",
       "      <th>educational-num</th>\n",
       "      <th>fnlwgt</th>\n",
       "      <th>hours-per-week</th>\n",
       "      <th>income</th>\n",
       "      <th>native-country</th>\n",
       "      <th>workclass_Federal-gov</th>\n",
       "      <th>workclass_Local-gov</th>\n",
       "      <th>...</th>\n",
       "      <th>race_Amer-Indian-Eskimo</th>\n",
       "      <th>race_Asian-Pac-Islander</th>\n",
       "      <th>race_Black</th>\n",
       "      <th>race_Other</th>\n",
       "      <th>race_White</th>\n",
       "      <th>gender_Female</th>\n",
       "      <th>gender_Male</th>\n",
       "      <th>occupation-type_Professional</th>\n",
       "      <th>occupation-type_Service</th>\n",
       "      <th>occupation-type_Technical</th>\n",
       "    </tr>\n",
       "  </thead>\n",
       "  <tbody>\n",
       "    <tr>\n",
       "      <th>0</th>\n",
       "      <td>25</td>\n",
       "      <td>0</td>\n",
       "      <td>0</td>\n",
       "      <td>7</td>\n",
       "      <td>226802</td>\n",
       "      <td>40</td>\n",
       "      <td>0</td>\n",
       "      <td>0.240741</td>\n",
       "      <td>0.0</td>\n",
       "      <td>0.0</td>\n",
       "      <td>...</td>\n",
       "      <td>0.0</td>\n",
       "      <td>0.0</td>\n",
       "      <td>1.0</td>\n",
       "      <td>0.0</td>\n",
       "      <td>0.0</td>\n",
       "      <td>0.0</td>\n",
       "      <td>1.0</td>\n",
       "      <td>0.0</td>\n",
       "      <td>0.0</td>\n",
       "      <td>1.0</td>\n",
       "    </tr>\n",
       "  </tbody>\n",
       "</table>\n",
       "<p>1 rows × 52 columns</p>\n",
       "</div>"
      ],
      "text/plain": [
       "   age  capital-gain  capital-loss  educational-num  fnlwgt  hours-per-week   \n",
       "0   25             0             0                7  226802              40  \\\n",
       "\n",
       "   income  native-country  workclass_Federal-gov  workclass_Local-gov  ...   \n",
       "0       0        0.240741                    0.0                  0.0  ...  \\\n",
       "\n",
       "   race_Amer-Indian-Eskimo  race_Asian-Pac-Islander  race_Black  race_Other   \n",
       "0                      0.0                      0.0         1.0         0.0  \\\n",
       "\n",
       "   race_White  gender_Female  gender_Male  occupation-type_Professional   \n",
       "0         0.0            0.0          1.0                           0.0  \\\n",
       "\n",
       "   occupation-type_Service  occupation-type_Technical  \n",
       "0                      0.0                        1.0  \n",
       "\n",
       "[1 rows x 52 columns]"
      ]
     },
     "execution_count": 27,
     "metadata": {},
     "output_type": "execute_result"
    }
   ],
   "source": [
    "# Copy the one-hot-encoded database\n",
    "df = encoded_df.copy()\n",
    "# Target-Encode \"native-country\" and replace the original countries in the copy\n",
    "target_encoder = TargetEncoder()\n",
    "df['native-country'] = target_encoder.fit_transform(encoded_df['native-country'], encoded_df['income'])\n",
    "# Print a snippet of the fully encoded copy\n",
    "df.head(1)"
   ]
  },
  {
   "cell_type": "markdown",
   "id": "0d444492",
   "metadata": {},
   "source": [
    "# Task 3\n",
    "\n",
    ">How can you scale the continuous features in your dataset? Consider using techniques such as min-max scaling and normalization.\n",
    "\n",
    "**To avoid confusion: The \"Scaling\" methods showcased here are \"Normalization\" and \"Standardization\". The specific technique that we used for \"Normalization\" is called \"Min-Max Scaling\".**"
   ]
  },
  {
   "cell_type": "code",
   "execution_count": 28,
   "id": "5c350c14",
   "metadata": {},
   "outputs": [],
   "source": [
    "# Select continuous columns\n",
    "continuous_cols = ['age', 'capital-gain', 'capital-loss', 'educational-num', 'fnlwgt', 'hours-per-week']"
   ]
  },
  {
   "cell_type": "markdown",
   "id": "cbe93297",
   "metadata": {},
   "source": [
    "#### Min-Max Scaling\n",
    "\n",
    "We use Min-Max Scaling because it is the usual method of Normalization: [\"Normalization typically means rescales the values into a range of [0,1]\"](https://towardsdatascience.com/normalization-vs-standardization-quantitative-analysis-a91e8a79cebf).\n",
    "\n",
    "Let us apply Min-Max Scaling to the continuous variables."
   ]
  },
  {
   "cell_type": "code",
   "execution_count": 29,
   "id": "ee95b45b",
   "metadata": {},
   "outputs": [],
   "source": [
    "# Perform min-max scaling\n",
    "min_max_scaler = MinMaxScaler()\n",
    "minmax_df = df.copy()\n",
    "minmax_df[continuous_cols] = min_max_scaler.fit_transform(minmax_df[continuous_cols])"
   ]
  },
  {
   "cell_type": "markdown",
   "id": "751b7266",
   "metadata": {},
   "source": [
    "#### Standardization\n",
    "\n",
    "[\"Standardization typically means rescales data to have a mean of 0 and a standard deviation of 1 (unit variance).\"](https://towardsdatascience.com/normalization-vs-standardization-quantitative-analysis-a91e8a79cebf)\n",
    "\n",
    "Let us try Standardization instead."
   ]
  },
  {
   "cell_type": "code",
   "execution_count": 30,
   "id": "31ce4a7c",
   "metadata": {},
   "outputs": [],
   "source": [
    "# Perform standardization\n",
    "standard_scaler = StandardScaler()\n",
    "standard_df = df.copy()\n",
    "standard_df[continuous_cols] = standard_scaler.fit_transform(standard_df[continuous_cols])"
   ]
  },
  {
   "cell_type": "markdown",
   "id": "a5e18fe7",
   "metadata": {},
   "source": [
    "#### Comparing scaling methods\n",
    "\n",
    "We have tried 3 different scaling methods: (1) Not scaling at all, (2) Min-Max Scaling & (3) Standardization.\n",
    "\n",
    "Without an ML model, we cannot compare their use. However, we can already confirm the following suspicions:\n",
    "\n",
    "1. Without Scaling, the range of values widely varies\n",
    "2. With Min-Max Scaling, the continous variables are reduced to the same range as the encoded categorical variables\n",
    "3. With Standardization, we introduce the first negative values to the dataset\n",
    "\n",
    "Let us visualize the differently scaled datasets."
   ]
  },
  {
   "cell_type": "code",
   "execution_count": 31,
   "id": "77a790d1",
   "metadata": {},
   "outputs": [
    {
     "data": {
      "text/plain": [
       "<Axes: >"
      ]
     },
     "execution_count": 31,
     "metadata": {},
     "output_type": "execute_result"
    },
    {
     "data": {
      "image/png": "[encoded data removed]",
      "text/plain": [
       "<Figure size 640x480 with 1 Axes>"
      ]
     },
     "metadata": {},
     "output_type": "display_data"
    }
   ],
   "source": [
    "# Boxplot the continuous features in processed_df\n",
    "df[continuous_cols].boxplot()"
   ]
  },
  {
   "cell_type": "code",
   "execution_count": 32,
   "id": "9f52e0c0",
   "metadata": {
    "scrolled": true
   },
   "outputs": [
    {
     "data": {
      "text/plain": [
       "<Axes: >"
      ]
     },
     "execution_count": 32,
     "metadata": {},
     "output_type": "execute_result"
    },
    {
     "data": {
      "image/png": "[encoded data removed]",
      "text/plain": [
       "<Figure size 640x480 with 1 Axes>"
      ]
     },
     "metadata": {},
     "output_type": "display_data"
    }
   ],
   "source": [
    "# Boxplot the continuous features in minmax_df\n",
    "minmax_df[continuous_cols].boxplot()"
   ]
  },
  {
   "cell_type": "code",
   "execution_count": 33,
   "id": "9123d0bc",
   "metadata": {
    "scrolled": false
   },
   "outputs": [
    {
     "data": {
      "text/plain": [
       "<Axes: >"
      ]
     },
     "execution_count": 33,
     "metadata": {},
     "output_type": "execute_result"
    },
    {
     "data": {
      "image/png": "[encoded data removed]",
      "text/plain": [
       "<Figure size 640x480 with 1 Axes>"
      ]
     },
     "metadata": {},
     "output_type": "display_data"
    }
   ],
   "source": [
    "# Boxplot the continuous features in standard_df\n",
    "standard_df[continuous_cols].boxplot()"
   ]
  },
  {
   "cell_type": "code",
   "execution_count": 34,
   "id": "0021ce99",
   "metadata": {
    "scrolled": true
   },
   "outputs": [
    {
     "name": "stdout",
     "output_type": "stream",
     "text": [
      "Bounds in unscaled dataset:  0.0 - 1047822.0\n",
      "Bounds in normalized dataset:  0.0 - 1.0\n",
      "Bounds in standardized dataset:  -3.4826500572282546 - 12.829740070056708\n"
     ]
    }
   ],
   "source": [
    "df_vals = df.to_numpy()\n",
    "minmax_vals = minmax_df.to_numpy()\n",
    "standard_vals = standard_df.to_numpy()\n",
    "print(\"Bounds in unscaled dataset: \", df_vals.min(), \"-\", df_vals.max())\n",
    "print(\"Bounds in normalized dataset: \", minmax_vals.min(), \"-\", minmax_vals.max())\n",
    "print(\"Bounds in standardized dataset: \", standard_vals.min(), \"-\", standard_vals.max())"
   ]
  },
  {
   "cell_type": "markdown",
   "id": "3ba5f6b1",
   "metadata": {},
   "source": [
    "# Task 4\n",
    "\n",
    ">Check for outliers in the dataset features and handle them using appropriate techniques like removing outliers, imputation, winsorization, transformation, and bin binning.\n",
    "\n",
    "We have seen above that there are many outliers. They can \"[have a significant impact on conclusions](https://towardsdatascience.com/detecting-and-treating-outliers-in-python-part-1-4ece5098b755)\" (A. Horsch). For Subtasks 4.1. and 4.2., we will cite Horsch and her articles unless otherwise linked.\n",
    "\n",
    "According to Horsch, there are 3 main ways of handling outliers:\n",
    "1. Keep\n",
    "2. Delete\n",
    "3. Recode\n",
    "\n",
    "We will **keep** the original values of \"fnlwgt\". There is no good reason to manipulate the weights of entries.\n",
    "\n",
    "We will not **delete** any entries. Deleting entries is not recommended when there are many outliers.\n",
    "\n",
    "Hence we will **recode** the remaining 5 continuous variables."
   ]
  },
  {
   "cell_type": "markdown",
   "id": "de5d7cb2",
   "metadata": {},
   "source": [
    "## 4.1. Deciding on the appropriate technique\n",
    "\n",
    "### 4.1.1 Identifying inappropriate techniques\n",
    "\n",
    "#### Imputation.\n",
    "\n",
    "Imputation is often used to replace outliers with a reasonable estimate. However, it works best with so-called Multiple Imputation, which is more complicated to implement in Python than in R (allegedly). Moreover, for our case, Imputation has no obvious advantage over Winsorization.\n",
    "\n",
    "#### Log Transformation.\n",
    "\n",
    "Log Transformation is \"[preferred when a variable grows or decays on an exponential scale](https://towardsdatascience.com/dont-throw-away-your-outliers-c37e1ab0ce19)\", which our variables do not.\n",
    "\n",
    "### 4.1.2 Identifying appropriate techniques\n",
    "\n",
    "#### Winsorization\n",
    "\n",
    "Winsorization is also known as \"capping\". For most variables, it seems appropriate.\n",
    "\n",
    "Horsch recommends to use a Winsorization level close to the Outer Fence of a variable \"to keep as much data as possible\".\n",
    "\n",
    "#### Binning\n",
    "\n",
    "Binning effectively groups continuous variables into a smaller number of possible values. We can apply Binning to the \"age\" variable, since we plan to create age groups anyway."
   ]
  },
  {
   "cell_type": "markdown",
   "id": "06eaf68e",
   "metadata": {},
   "source": [
    "## 4.2. Winsorizing"
   ]
  },
  {
   "cell_type": "markdown",
   "id": "0d4fff97",
   "metadata": {},
   "source": [
    "### 4.2.1 Finding the outer fences\n",
    "\n",
    "Please note that some of the following code is from [one of Horsch's articles](https://towardsdatascience.com/detecting-and-treating-outliers-in-python-part-3-dcb54abaf7b0).\n",
    "\n",
    "Let us find the lower outer fence (LOF) and upper outer fence (UOF) of \"capital-gain\", \"capital-loss\", \"educational-num\" and \"hours-per-week\"."
   ]
  },
  {
   "cell_type": "code",
   "execution_count": 35,
   "id": "55f4adf3",
   "metadata": {},
   "outputs": [],
   "source": [
    "# Define function that ouputs LOF and UOF\n",
    "def fences(df, variable_name):    \n",
    "    q1 = df[variable_name].quantile(0.25)\n",
    "    q3 = df[variable_name].quantile(0.75)\n",
    "    iqr = q3-q1\n",
    "    OF = 3*iqr\n",
    "    LOF = q1-OF\n",
    "    UOF = q3+OF\n",
    "    return LOF, UOF"
   ]
  },
  {
   "cell_type": "markdown",
   "id": "7ba4b487",
   "metadata": {},
   "source": [
    "#### Outer fences of hours-per-week"
   ]
  },
  {
   "cell_type": "code",
   "execution_count": 36,
   "id": "784d4a13",
   "metadata": {
    "scrolled": false
   },
   "outputs": [
    {
     "name": "stdout",
     "output_type": "stream",
     "text": [
      "Outer fences of hours-per-week\n",
      "\n",
      "Lower outer fence:  21.0\n",
      "Upper end outer fence:  63.0\n"
     ]
    }
   ],
   "source": [
    "HPWLOF, HPWUOF = fences(df, 'hours-per-week')\n",
    "print(\"Outer fences of hours-per-week\")\n",
    "print()\n",
    "print(\"Lower outer fence: \", HPWLOF)\n",
    "print(\"Upper end outer fence: \", HPWUOF)"
   ]
  },
  {
   "cell_type": "markdown",
   "id": "ccb034eb",
   "metadata": {},
   "source": [
    "Apparently, putting the Winsorization Level to the outer fences would make sense for the \"hours-per-week\" variable."
   ]
  },
  {
   "cell_type": "markdown",
   "id": "f2a3a379",
   "metadata": {},
   "source": [
    "#### Outer fences of educational-num"
   ]
  },
  {
   "cell_type": "code",
   "execution_count": 37,
   "id": "9b51c2bd",
   "metadata": {},
   "outputs": [
    {
     "name": "stdout",
     "output_type": "stream",
     "text": [
      "Outer fences of educational-num\n",
      "\n",
      "Lower outer fence:  0.0\n",
      "Upper end outer fence:  21.0\n"
     ]
    }
   ],
   "source": [
    "ENLOF, ENUOF = fences(df, 'educational-num')\n",
    "print(\"Outer fences of educational-num\")\n",
    "print()\n",
    "print(\"Lower outer fence: \", ENLOF)\n",
    "print(\"Upper end outer fence: \", ENUOF)"
   ]
  },
  {
   "cell_type": "markdown",
   "id": "b488a161",
   "metadata": {},
   "source": [
    "As for \"educational-num\", the outliers do not need to removed; They are within the outer fences and thus mild outliers."
   ]
  },
  {
   "cell_type": "markdown",
   "id": "26431dc5",
   "metadata": {},
   "source": [
    "#### Outer fences of the two \"capital\" variables"
   ]
  },
  {
   "cell_type": "code",
   "execution_count": 38,
   "id": "05da2fd7",
   "metadata": {
    "scrolled": true
   },
   "outputs": [
    {
     "name": "stdout",
     "output_type": "stream",
     "text": [
      "Outer fences of capital-gain\n",
      "\n",
      "Lower outer fence:  0.0\n",
      "Upper end outer fence:  0.0\n"
     ]
    }
   ],
   "source": [
    "CGLOF, CGUOF = fences(df, 'capital-gain')\n",
    "print(\"Outer fences of capital-gain\")\n",
    "print()\n",
    "print(\"Lower outer fence: \", CGLOF)\n",
    "print(\"Upper end outer fence: \", CGUOF)"
   ]
  },
  {
   "cell_type": "code",
   "execution_count": 39,
   "id": "c93bea7b",
   "metadata": {},
   "outputs": [
    {
     "name": "stdout",
     "output_type": "stream",
     "text": [
      "Outer fences of capital-loss\n",
      "\n",
      "Lower outer fence:  0.0\n",
      "Upper end outer fence:  0.0\n"
     ]
    }
   ],
   "source": [
    "CLLOF, CLUOF = fences(df, 'capital-loss')\n",
    "print(\"Outer fences of capital-loss\")\n",
    "print()\n",
    "print(\"Lower outer fence: \", CLLOF)\n",
    "print(\"Upper end outer fence: \", CLUOF)"
   ]
  },
  {
   "cell_type": "markdown",
   "id": "10d27b6f",
   "metadata": {},
   "source": [
    "The two variables related to capital have their outer fences at 0. Therefore a different approach is necessary.\n",
    "\n",
    "We will consider how to handle the problematic \"capital\" variables in the Feature Engineering step."
   ]
  },
  {
   "cell_type": "markdown",
   "id": "ec02796d",
   "metadata": {},
   "source": [
    "### 4.2.2 Capping the Outliers\n",
    "\n",
    "Recall that we apply Winsorization only to \"hours-per-week\". We shall use the 9th and the 97th percentile as the Winsorization Level since they approximately correspond to the outer fences.\n",
    "\n",
    "Let us winsorize said variable."
   ]
  },
  {
   "cell_type": "code",
   "execution_count": 40,
   "id": "5c5137cd",
   "metadata": {},
   "outputs": [],
   "source": [
    "# Make a copy\n",
    "df_old = df.copy()\n",
    "# Winsorize \"hours-per-week\"\n",
    "df['hours-per-week'] = winsorize(df_old['hours-per-week'], limits=(0.09, 0.03))"
   ]
  },
  {
   "cell_type": "markdown",
   "id": "c6b98128",
   "metadata": {},
   "source": [
    "Let us compare the statistics from before and after."
   ]
  },
  {
   "cell_type": "code",
   "execution_count": 41,
   "id": "e736b06a",
   "metadata": {},
   "outputs": [
    {
     "data": {
      "text/html": [
       "<div>\n",
       "<style scoped>\n",
       "    .dataframe tbody tr th:only-of-type {\n",
       "        vertical-align: middle;\n",
       "    }\n",
       "\n",
       "    .dataframe tbody tr th {\n",
       "        vertical-align: top;\n",
       "    }\n",
       "\n",
       "    .dataframe thead th {\n",
       "        text-align: right;\n",
       "    }\n",
       "</style>\n",
       "<table border=\"1\" class=\"dataframe\">\n",
       "  <thead>\n",
       "    <tr style=\"text-align: right;\">\n",
       "      <th></th>\n",
       "      <th>old</th>\n",
       "      <th>new</th>\n",
       "    </tr>\n",
       "  </thead>\n",
       "  <tbody>\n",
       "    <tr>\n",
       "      <th>count</th>\n",
       "      <td>4999.000000</td>\n",
       "      <td>4999.000000</td>\n",
       "    </tr>\n",
       "    <tr>\n",
       "      <th>mean</th>\n",
       "      <td>40.207041</td>\n",
       "      <td>40.344069</td>\n",
       "    </tr>\n",
       "    <tr>\n",
       "      <th>std</th>\n",
       "      <td>12.459078</td>\n",
       "      <td>10.365743</td>\n",
       "    </tr>\n",
       "    <tr>\n",
       "      <th>min</th>\n",
       "      <td>1.000000</td>\n",
       "      <td>20.000000</td>\n",
       "    </tr>\n",
       "    <tr>\n",
       "      <th>25%</th>\n",
       "      <td>39.000000</td>\n",
       "      <td>39.000000</td>\n",
       "    </tr>\n",
       "    <tr>\n",
       "      <th>50%</th>\n",
       "      <td>40.000000</td>\n",
       "      <td>40.000000</td>\n",
       "    </tr>\n",
       "    <tr>\n",
       "      <th>75%</th>\n",
       "      <td>45.000000</td>\n",
       "      <td>45.000000</td>\n",
       "    </tr>\n",
       "    <tr>\n",
       "      <th>max</th>\n",
       "      <td>99.000000</td>\n",
       "      <td>65.000000</td>\n",
       "    </tr>\n",
       "  </tbody>\n",
       "</table>\n",
       "</div>"
      ],
      "text/plain": [
       "               old          new\n",
       "count  4999.000000  4999.000000\n",
       "mean     40.207041    40.344069\n",
       "std      12.459078    10.365743\n",
       "min       1.000000    20.000000\n",
       "25%      39.000000    39.000000\n",
       "50%      40.000000    40.000000\n",
       "75%      45.000000    45.000000\n",
       "max      99.000000    65.000000"
      ]
     },
     "execution_count": 41,
     "metadata": {},
     "output_type": "execute_result"
    }
   ],
   "source": [
    "# Make a comparison table\n",
    "dfCompare = pd.DataFrame()\n",
    "dfCompare['old'] = df_old[['hours-per-week']]\n",
    "dfCompare['new'] = df[['hours-per-week']]\n",
    "dfCompare.describe()"
   ]
  },
  {
   "cell_type": "markdown",
   "id": "2a81774e",
   "metadata": {},
   "source": [
    "## 4.3. Binning\n",
    "\n",
    "Recall that we apply Binning only to \"age\". We shall use binning with the custom edges defined in the instruction of Task 4.\n",
    "\n",
    "NB: Instead of actually binning age, we will keep the original age feature and create a new variable for age groups. In this sense this step is more Feature Engineering than Outlier Handling."
   ]
  },
  {
   "cell_type": "markdown",
   "id": "d9bbefb8",
   "metadata": {},
   "source": [
    "### 4.3.1 Finding the Bin Edges\n",
    "\n",
    "Please note that some of the following code is from [this article](https://towardsdatascience.com/data-preprocessing-with-python-pandas-part-5-binning-c5bd5fd1b950).\n",
    "\n",
    "We will group ages into three bins. Let us compute the edges of our bins."
   ]
  },
  {
   "cell_type": "code",
   "execution_count": 42,
   "id": "70863286",
   "metadata": {},
   "outputs": [
    {
     "name": "stdout",
     "output_type": "stream",
     "text": [
      "17\n",
      "90\n"
     ]
    },
    {
     "data": {
      "text/plain": [
       "[17, 25, 50, 90]"
      ]
     },
     "execution_count": 42,
     "metadata": {},
     "output_type": "execute_result"
    }
   ],
   "source": [
    "# Print age range and output 4 custom distanced values within the range\n",
    "minAge = df['age'].min()\n",
    "print(minAge)\n",
    "maxAge = df['age'].max()\n",
    "print(maxAge)\n",
    "bins = [17, 25, 50, 90] # Edges\n",
    "bins"
   ]
  },
  {
   "cell_type": "markdown",
   "id": "351bcd87",
   "metadata": {},
   "source": [
    "Now, we can effectively label-encode the age groups, which is appropriate because age groups have an implicit order.\n",
    "\n",
    "Let us use the numeric labels 0, 1 and 2 for young, middle-aged and senior ages respectively."
   ]
  },
  {
   "cell_type": "code",
   "execution_count": 43,
   "id": "6eef435a",
   "metadata": {},
   "outputs": [],
   "source": [
    "# Define labels for the bins\n",
    "labels = [0, 1, 2]"
   ]
  },
  {
   "cell_type": "markdown",
   "id": "3ae92efc",
   "metadata": {},
   "source": [
    "### 4.3.2 Creating the bins\n",
    "\n",
    "Let us convert each age to its respective bin label. Let us also print the first three rows of the dataset before and after binning."
   ]
  },
  {
   "cell_type": "code",
   "execution_count": 44,
   "id": "2645e086",
   "metadata": {},
   "outputs": [
    {
     "data": {
      "text/html": [
       "<div>\n",
       "<style scoped>\n",
       "    .dataframe tbody tr th:only-of-type {\n",
       "        vertical-align: middle;\n",
       "    }\n",
       "\n",
       "    .dataframe tbody tr th {\n",
       "        vertical-align: top;\n",
       "    }\n",
       "\n",
       "    .dataframe thead th {\n",
       "        text-align: right;\n",
       "    }\n",
       "</style>\n",
       "<table border=\"1\" class=\"dataframe\">\n",
       "  <thead>\n",
       "    <tr style=\"text-align: right;\">\n",
       "      <th></th>\n",
       "      <th>age</th>\n",
       "      <th>capital-gain</th>\n",
       "      <th>capital-loss</th>\n",
       "      <th>educational-num</th>\n",
       "      <th>fnlwgt</th>\n",
       "      <th>hours-per-week</th>\n",
       "      <th>income</th>\n",
       "      <th>native-country</th>\n",
       "      <th>workclass_Federal-gov</th>\n",
       "      <th>workclass_Local-gov</th>\n",
       "      <th>...</th>\n",
       "      <th>race_Amer-Indian-Eskimo</th>\n",
       "      <th>race_Asian-Pac-Islander</th>\n",
       "      <th>race_Black</th>\n",
       "      <th>race_Other</th>\n",
       "      <th>race_White</th>\n",
       "      <th>gender_Female</th>\n",
       "      <th>gender_Male</th>\n",
       "      <th>occupation-type_Professional</th>\n",
       "      <th>occupation-type_Service</th>\n",
       "      <th>occupation-type_Technical</th>\n",
       "    </tr>\n",
       "  </thead>\n",
       "  <tbody>\n",
       "    <tr>\n",
       "      <th>0</th>\n",
       "      <td>25</td>\n",
       "      <td>0</td>\n",
       "      <td>0</td>\n",
       "      <td>7</td>\n",
       "      <td>226802</td>\n",
       "      <td>40</td>\n",
       "      <td>0</td>\n",
       "      <td>0.240741</td>\n",
       "      <td>0.0</td>\n",
       "      <td>0.0</td>\n",
       "      <td>...</td>\n",
       "      <td>0.0</td>\n",
       "      <td>0.0</td>\n",
       "      <td>1.0</td>\n",
       "      <td>0.0</td>\n",
       "      <td>0.0</td>\n",
       "      <td>0.0</td>\n",
       "      <td>1.0</td>\n",
       "      <td>0.0</td>\n",
       "      <td>0.0</td>\n",
       "      <td>1.0</td>\n",
       "    </tr>\n",
       "    <tr>\n",
       "      <th>1</th>\n",
       "      <td>38</td>\n",
       "      <td>0</td>\n",
       "      <td>0</td>\n",
       "      <td>9</td>\n",
       "      <td>89814</td>\n",
       "      <td>50</td>\n",
       "      <td>0</td>\n",
       "      <td>0.240741</td>\n",
       "      <td>0.0</td>\n",
       "      <td>0.0</td>\n",
       "      <td>...</td>\n",
       "      <td>0.0</td>\n",
       "      <td>0.0</td>\n",
       "      <td>0.0</td>\n",
       "      <td>0.0</td>\n",
       "      <td>1.0</td>\n",
       "      <td>0.0</td>\n",
       "      <td>1.0</td>\n",
       "      <td>1.0</td>\n",
       "      <td>0.0</td>\n",
       "      <td>0.0</td>\n",
       "    </tr>\n",
       "    <tr>\n",
       "      <th>2</th>\n",
       "      <td>28</td>\n",
       "      <td>0</td>\n",
       "      <td>0</td>\n",
       "      <td>12</td>\n",
       "      <td>336951</td>\n",
       "      <td>40</td>\n",
       "      <td>1</td>\n",
       "      <td>0.240741</td>\n",
       "      <td>0.0</td>\n",
       "      <td>1.0</td>\n",
       "      <td>...</td>\n",
       "      <td>0.0</td>\n",
       "      <td>0.0</td>\n",
       "      <td>0.0</td>\n",
       "      <td>0.0</td>\n",
       "      <td>1.0</td>\n",
       "      <td>0.0</td>\n",
       "      <td>1.0</td>\n",
       "      <td>0.0</td>\n",
       "      <td>1.0</td>\n",
       "      <td>0.0</td>\n",
       "    </tr>\n",
       "    <tr>\n",
       "      <th>3</th>\n",
       "      <td>44</td>\n",
       "      <td>7688</td>\n",
       "      <td>0</td>\n",
       "      <td>10</td>\n",
       "      <td>160323</td>\n",
       "      <td>40</td>\n",
       "      <td>1</td>\n",
       "      <td>0.240741</td>\n",
       "      <td>0.0</td>\n",
       "      <td>0.0</td>\n",
       "      <td>...</td>\n",
       "      <td>0.0</td>\n",
       "      <td>0.0</td>\n",
       "      <td>1.0</td>\n",
       "      <td>0.0</td>\n",
       "      <td>0.0</td>\n",
       "      <td>0.0</td>\n",
       "      <td>1.0</td>\n",
       "      <td>0.0</td>\n",
       "      <td>0.0</td>\n",
       "      <td>1.0</td>\n",
       "    </tr>\n",
       "    <tr>\n",
       "      <th>4</th>\n",
       "      <td>18</td>\n",
       "      <td>0</td>\n",
       "      <td>0</td>\n",
       "      <td>10</td>\n",
       "      <td>103497</td>\n",
       "      <td>30</td>\n",
       "      <td>0</td>\n",
       "      <td>0.240741</td>\n",
       "      <td>0.0</td>\n",
       "      <td>0.0</td>\n",
       "      <td>...</td>\n",
       "      <td>0.0</td>\n",
       "      <td>0.0</td>\n",
       "      <td>0.0</td>\n",
       "      <td>0.0</td>\n",
       "      <td>1.0</td>\n",
       "      <td>1.0</td>\n",
       "      <td>0.0</td>\n",
       "      <td>1.0</td>\n",
       "      <td>0.0</td>\n",
       "      <td>0.0</td>\n",
       "    </tr>\n",
       "  </tbody>\n",
       "</table>\n",
       "<p>5 rows × 52 columns</p>\n",
       "</div>"
      ],
      "text/plain": [
       "   age  capital-gain  capital-loss  educational-num  fnlwgt  hours-per-week   \n",
       "0   25             0             0                7  226802              40  \\\n",
       "1   38             0             0                9   89814              50   \n",
       "2   28             0             0               12  336951              40   \n",
       "3   44          7688             0               10  160323              40   \n",
       "4   18             0             0               10  103497              30   \n",
       "\n",
       "   income  native-country  workclass_Federal-gov  workclass_Local-gov  ...   \n",
       "0       0        0.240741                    0.0                  0.0  ...  \\\n",
       "1       0        0.240741                    0.0                  0.0  ...   \n",
       "2       1        0.240741                    0.0                  1.0  ...   \n",
       "3       1        0.240741                    0.0                  0.0  ...   \n",
       "4       0        0.240741                    0.0                  0.0  ...   \n",
       "\n",
       "   race_Amer-Indian-Eskimo  race_Asian-Pac-Islander  race_Black  race_Other   \n",
       "0                      0.0                      0.0         1.0         0.0  \\\n",
       "1                      0.0                      0.0         0.0         0.0   \n",
       "2                      0.0                      0.0         0.0         0.0   \n",
       "3                      0.0                      0.0         1.0         0.0   \n",
       "4                      0.0                      0.0         0.0         0.0   \n",
       "\n",
       "   race_White  gender_Female  gender_Male  occupation-type_Professional   \n",
       "0         0.0            0.0          1.0                           0.0  \\\n",
       "1         1.0            0.0          1.0                           1.0   \n",
       "2         1.0            0.0          1.0                           0.0   \n",
       "3         0.0            0.0          1.0                           0.0   \n",
       "4         1.0            1.0          0.0                           1.0   \n",
       "\n",
       "   occupation-type_Service  occupation-type_Technical  \n",
       "0                      0.0                        1.0  \n",
       "1                      0.0                        0.0  \n",
       "2                      1.0                        0.0  \n",
       "3                      0.0                        1.0  \n",
       "4                      0.0                        0.0  \n",
       "\n",
       "[5 rows x 52 columns]"
      ]
     },
     "execution_count": 44,
     "metadata": {},
     "output_type": "execute_result"
    }
   ],
   "source": [
    "# Output the Dataframe without Bins\n",
    "df.head()"
   ]
  },
  {
   "cell_type": "code",
   "execution_count": 45,
   "id": "ba9b1fe6",
   "metadata": {},
   "outputs": [],
   "source": [
    "# Use the bins to create age groups (This is the actual Binning step)\n",
    "df['age-group'] = pd.cut(df['age'], bins=bins, labels=labels, include_lowest=True)"
   ]
  },
  {
   "cell_type": "code",
   "execution_count": 46,
   "id": "84c341cf",
   "metadata": {},
   "outputs": [
    {
     "data": {
      "text/html": [
       "<div>\n",
       "<style scoped>\n",
       "    .dataframe tbody tr th:only-of-type {\n",
       "        vertical-align: middle;\n",
       "    }\n",
       "\n",
       "    .dataframe tbody tr th {\n",
       "        vertical-align: top;\n",
       "    }\n",
       "\n",
       "    .dataframe thead th {\n",
       "        text-align: right;\n",
       "    }\n",
       "</style>\n",
       "<table border=\"1\" class=\"dataframe\">\n",
       "  <thead>\n",
       "    <tr style=\"text-align: right;\">\n",
       "      <th></th>\n",
       "      <th>age</th>\n",
       "      <th>capital-gain</th>\n",
       "      <th>capital-loss</th>\n",
       "      <th>educational-num</th>\n",
       "      <th>fnlwgt</th>\n",
       "      <th>hours-per-week</th>\n",
       "      <th>income</th>\n",
       "      <th>native-country</th>\n",
       "      <th>workclass_Federal-gov</th>\n",
       "      <th>workclass_Local-gov</th>\n",
       "      <th>...</th>\n",
       "      <th>race_Asian-Pac-Islander</th>\n",
       "      <th>race_Black</th>\n",
       "      <th>race_Other</th>\n",
       "      <th>race_White</th>\n",
       "      <th>gender_Female</th>\n",
       "      <th>gender_Male</th>\n",
       "      <th>occupation-type_Professional</th>\n",
       "      <th>occupation-type_Service</th>\n",
       "      <th>occupation-type_Technical</th>\n",
       "      <th>age-group</th>\n",
       "    </tr>\n",
       "  </thead>\n",
       "  <tbody>\n",
       "    <tr>\n",
       "      <th>0</th>\n",
       "      <td>25</td>\n",
       "      <td>0</td>\n",
       "      <td>0</td>\n",
       "      <td>7</td>\n",
       "      <td>226802</td>\n",
       "      <td>40</td>\n",
       "      <td>0</td>\n",
       "      <td>0.240741</td>\n",
       "      <td>0.0</td>\n",
       "      <td>0.0</td>\n",
       "      <td>...</td>\n",
       "      <td>0.0</td>\n",
       "      <td>1.0</td>\n",
       "      <td>0.0</td>\n",
       "      <td>0.0</td>\n",
       "      <td>0.0</td>\n",
       "      <td>1.0</td>\n",
       "      <td>0.0</td>\n",
       "      <td>0.0</td>\n",
       "      <td>1.0</td>\n",
       "      <td>0</td>\n",
       "    </tr>\n",
       "    <tr>\n",
       "      <th>1</th>\n",
       "      <td>38</td>\n",
       "      <td>0</td>\n",
       "      <td>0</td>\n",
       "      <td>9</td>\n",
       "      <td>89814</td>\n",
       "      <td>50</td>\n",
       "      <td>0</td>\n",
       "      <td>0.240741</td>\n",
       "      <td>0.0</td>\n",
       "      <td>0.0</td>\n",
       "      <td>...</td>\n",
       "      <td>0.0</td>\n",
       "      <td>0.0</td>\n",
       "      <td>0.0</td>\n",
       "      <td>1.0</td>\n",
       "      <td>0.0</td>\n",
       "      <td>1.0</td>\n",
       "      <td>1.0</td>\n",
       "      <td>0.0</td>\n",
       "      <td>0.0</td>\n",
       "      <td>1</td>\n",
       "    </tr>\n",
       "    <tr>\n",
       "      <th>2</th>\n",
       "      <td>28</td>\n",
       "      <td>0</td>\n",
       "      <td>0</td>\n",
       "      <td>12</td>\n",
       "      <td>336951</td>\n",
       "      <td>40</td>\n",
       "      <td>1</td>\n",
       "      <td>0.240741</td>\n",
       "      <td>0.0</td>\n",
       "      <td>1.0</td>\n",
       "      <td>...</td>\n",
       "      <td>0.0</td>\n",
       "      <td>0.0</td>\n",
       "      <td>0.0</td>\n",
       "      <td>1.0</td>\n",
       "      <td>0.0</td>\n",
       "      <td>1.0</td>\n",
       "      <td>0.0</td>\n",
       "      <td>1.0</td>\n",
       "      <td>0.0</td>\n",
       "      <td>1</td>\n",
       "    </tr>\n",
       "    <tr>\n",
       "      <th>3</th>\n",
       "      <td>44</td>\n",
       "      <td>7688</td>\n",
       "      <td>0</td>\n",
       "      <td>10</td>\n",
       "      <td>160323</td>\n",
       "      <td>40</td>\n",
       "      <td>1</td>\n",
       "      <td>0.240741</td>\n",
       "      <td>0.0</td>\n",
       "      <td>0.0</td>\n",
       "      <td>...</td>\n",
       "      <td>0.0</td>\n",
       "      <td>1.0</td>\n",
       "      <td>0.0</td>\n",
       "      <td>0.0</td>\n",
       "      <td>0.0</td>\n",
       "      <td>1.0</td>\n",
       "      <td>0.0</td>\n",
       "      <td>0.0</td>\n",
       "      <td>1.0</td>\n",
       "      <td>1</td>\n",
       "    </tr>\n",
       "    <tr>\n",
       "      <th>4</th>\n",
       "      <td>18</td>\n",
       "      <td>0</td>\n",
       "      <td>0</td>\n",
       "      <td>10</td>\n",
       "      <td>103497</td>\n",
       "      <td>30</td>\n",
       "      <td>0</td>\n",
       "      <td>0.240741</td>\n",
       "      <td>0.0</td>\n",
       "      <td>0.0</td>\n",
       "      <td>...</td>\n",
       "      <td>0.0</td>\n",
       "      <td>0.0</td>\n",
       "      <td>0.0</td>\n",
       "      <td>1.0</td>\n",
       "      <td>1.0</td>\n",
       "      <td>0.0</td>\n",
       "      <td>1.0</td>\n",
       "      <td>0.0</td>\n",
       "      <td>0.0</td>\n",
       "      <td>0</td>\n",
       "    </tr>\n",
       "  </tbody>\n",
       "</table>\n",
       "<p>5 rows × 53 columns</p>\n",
       "</div>"
      ],
      "text/plain": [
       "   age  capital-gain  capital-loss  educational-num  fnlwgt  hours-per-week   \n",
       "0   25             0             0                7  226802              40  \\\n",
       "1   38             0             0                9   89814              50   \n",
       "2   28             0             0               12  336951              40   \n",
       "3   44          7688             0               10  160323              40   \n",
       "4   18             0             0               10  103497              30   \n",
       "\n",
       "   income  native-country  workclass_Federal-gov  workclass_Local-gov  ...   \n",
       "0       0        0.240741                    0.0                  0.0  ...  \\\n",
       "1       0        0.240741                    0.0                  0.0  ...   \n",
       "2       1        0.240741                    0.0                  1.0  ...   \n",
       "3       1        0.240741                    0.0                  0.0  ...   \n",
       "4       0        0.240741                    0.0                  0.0  ...   \n",
       "\n",
       "   race_Asian-Pac-Islander  race_Black  race_Other  race_White  gender_Female   \n",
       "0                      0.0         1.0         0.0         0.0            0.0  \\\n",
       "1                      0.0         0.0         0.0         1.0            0.0   \n",
       "2                      0.0         0.0         0.0         1.0            0.0   \n",
       "3                      0.0         1.0         0.0         0.0            0.0   \n",
       "4                      0.0         0.0         0.0         1.0            1.0   \n",
       "\n",
       "   gender_Male  occupation-type_Professional  occupation-type_Service   \n",
       "0          1.0                           0.0                      0.0  \\\n",
       "1          1.0                           1.0                      0.0   \n",
       "2          1.0                           0.0                      1.0   \n",
       "3          1.0                           0.0                      0.0   \n",
       "4          0.0                           1.0                      0.0   \n",
       "\n",
       "   occupation-type_Technical  age-group  \n",
       "0                        1.0          0  \n",
       "1                        0.0          1  \n",
       "2                        0.0          1  \n",
       "3                        1.0          1  \n",
       "4                        0.0          0  \n",
       "\n",
       "[5 rows x 53 columns]"
      ]
     },
     "execution_count": 46,
     "metadata": {},
     "output_type": "execute_result"
    }
   ],
   "source": [
    "# Output the current Dataframe\n",
    "df.head()"
   ]
  },
  {
   "cell_type": "markdown",
   "id": "f1c72821",
   "metadata": {},
   "source": [
    "# Task 5\n",
    "\n",
    ">Analyse the dataset and determine if the target variable 'class' is balanced or not.\n",
    "\n",
    ">[...] balance it using techniques [like under-sampling]."
   ]
  },
  {
   "cell_type": "markdown",
   "id": "ec2a2181",
   "metadata": {},
   "source": [
    "#### Determining if the dataset is balanced\n",
    "\n",
    "First, we need to calculate the proportion of each class in the target variable. Let us count the number of occurrences of each class (<=50K and >50K) and calculate the percentage of each class."
   ]
  },
  {
   "cell_type": "code",
   "execution_count": 47,
   "id": "e5dffb39",
   "metadata": {},
   "outputs": [
    {
     "name": "stdout",
     "output_type": "stream",
     "text": [
      "Counts of each class:\n",
      "income\n",
      "0    3827\n",
      "1    1172\n",
      "Name: count, dtype: int64\n",
      "\n",
      "Percentage of each class:\n",
      "income\n",
      "0    76.555311\n",
      "1    23.444689\n",
      "Name: proportion, dtype: float64\n"
     ]
    }
   ],
   "source": [
    "income_counts = df['income'].value_counts()\n",
    "income_percentage = df['income'].value_counts(normalize=True) * 100\n",
    "\n",
    "print(\"Counts of each class:\")\n",
    "print(income_counts)\n",
    "print(\"\\nPercentage of each class:\")\n",
    "print(income_percentage)"
   ]
  },
  {
   "cell_type": "code",
   "execution_count": 48,
   "id": "c49d0254",
   "metadata": {
    "scrolled": true
   },
   "outputs": [
    {
     "data": {
      "image/png": "[encoded data removed]",
      "text/plain": [
       "<Figure size 1000x600 with 1 Axes>"
      ]
     },
     "metadata": {},
     "output_type": "display_data"
    }
   ],
   "source": [
    "plt.figure(figsize=(10, 6))\n",
    "sns.countplot(x='income', data=df)\n",
    "plt.title(\"Class Distribution (Before Under-Sampling)\")\n",
    "plt.show()"
   ]
  },
  {
   "cell_type": "markdown",
   "id": "597158c4",
   "metadata": {},
   "source": [
    "#### Undersampling the data\n",
    "\n",
    "We chose random under-sampling because it's simple: Eliminating instances from the majority class. It's useful when the dataset is large enough for model performance to remain the same. NB: Random under-sampling can potentially remove important information from the majority class, especially when there is a high imbalance ratio."
   ]
  },
  {
   "cell_type": "code",
   "execution_count": 49,
   "id": "fb0e4153",
   "metadata": {
    "scrolled": true
   },
   "outputs": [
    {
     "name": "stdout",
     "output_type": "stream",
     "text": [
      "\n",
      "Counts of each class after random under-sampling:\n",
      "Counter({0: 1172, 1: 1172})\n"
     ]
    },
    {
     "data": {
      "image/png": "[encoded data removed]",
      "text/plain": [
       "<Figure size 1000x600 with 1 Axes>"
      ]
     },
     "metadata": {},
     "output_type": "display_data"
    }
   ],
   "source": [
    "X = df.drop('income', axis=1)\n",
    "y = df['income']\n",
    "\n",
    "rus = RandomUnderSampler(random_state=42)\n",
    "X_resampled, y_resampled = rus.fit_resample(X, y)\n",
    "\n",
    "print(\"\\nCounts of each class after random under-sampling:\")\n",
    "print(Counter(y_resampled))\n",
    "\n",
    "df = pd.concat([X_resampled, y_resampled], axis=1) # Resampled Data\n",
    "\n",
    "plt.figure(figsize=(10, 6))\n",
    "sns.countplot(x='income', data=df)\n",
    "plt.title(\"Class Distribution (After Under-Sampling)\")\n",
    "plt.show()"
   ]
  },
  {
   "cell_type": "markdown",
   "id": "62b28d1d",
   "metadata": {},
   "source": [
    "# Task 6\n",
    "\n",
    ">Analyse the dataset and create new features/derived features. [...] This can help the model better capture patterns.\n",
    "\n",
    "We have 3 instances of Feature Engineering:\n",
    "1. In Task 4 (Outlier Handling), we already binned age in a new variable \"age-group\".\n",
    "2. We can further categorize \"occupation\" in a new variable \"occupation-type\".\n",
    "3. We somehow need to address the two capital related variables, which exhibit a high noise."
   ]
  },
  {
   "cell_type": "markdown",
   "id": "3e4dedab",
   "metadata": {},
   "source": [
    "## 6.2. Further categorizing occupation\n",
    "\n",
    "We want to add a feature \"occupation-type\", which we also want to one-hot-encode.\n",
    "\n",
    "So, let us create Occupation types before the One-hot-encoding step in the 2.2. Subtask."
   ]
  },
  {
   "cell_type": "code",
   "execution_count": 23,
   "id": "eddf2ce1",
   "metadata": {},
   "outputs": [],
   "source": [
    "# RUN THIS BEFORE THE ENCODING IN 2.2.\n",
    "# Select rows of different occupation types and add according value in new feature 'occupation-type'\n",
    "df.loc[df['occupation'].isin(['Prof-specialty', 'Exec-managerial', 'Adm-clerical', 'Farming-fishing', 'Armed-Forces']), 'occupation-type'] = 'Professional'\n",
    "df.loc[df['occupation'].isin(['Craft-repair', 'Machine-op-inspct', 'Tech-support']), 'occupation-type'] = 'Technical'\n",
    "df.loc[df['occupation'].isin(['Sales', 'Other-service', 'Transport-moving', 'Handlers-cleaners', 'Protective-serv', 'Priv-house-serv']), 'occupation-type'] = 'Service'"
   ]
  },
  {
   "cell_type": "code",
   "execution_count": 24,
   "id": "4e73b964",
   "metadata": {},
   "outputs": [
    {
     "data": {
      "text/html": [
       "<div>\n",
       "<style scoped>\n",
       "    .dataframe tbody tr th:only-of-type {\n",
       "        vertical-align: middle;\n",
       "    }\n",
       "\n",
       "    .dataframe tbody tr th {\n",
       "        vertical-align: top;\n",
       "    }\n",
       "\n",
       "    .dataframe thead th {\n",
       "        text-align: right;\n",
       "    }\n",
       "</style>\n",
       "<table border=\"1\" class=\"dataframe\">\n",
       "  <thead>\n",
       "    <tr style=\"text-align: right;\">\n",
       "      <th></th>\n",
       "      <th>age</th>\n",
       "      <th>workclass</th>\n",
       "      <th>fnlwgt</th>\n",
       "      <th>educational-num</th>\n",
       "      <th>marital-status</th>\n",
       "      <th>occupation</th>\n",
       "      <th>relationship</th>\n",
       "      <th>race</th>\n",
       "      <th>gender</th>\n",
       "      <th>capital-gain</th>\n",
       "      <th>capital-loss</th>\n",
       "      <th>hours-per-week</th>\n",
       "      <th>native-country</th>\n",
       "      <th>income</th>\n",
       "      <th>occupation-type</th>\n",
       "    </tr>\n",
       "  </thead>\n",
       "  <tbody>\n",
       "    <tr>\n",
       "      <th>0</th>\n",
       "      <td>25</td>\n",
       "      <td>Private</td>\n",
       "      <td>226802</td>\n",
       "      <td>7</td>\n",
       "      <td>Never-married</td>\n",
       "      <td>Machine-op-inspct</td>\n",
       "      <td>Own-child</td>\n",
       "      <td>Black</td>\n",
       "      <td>Male</td>\n",
       "      <td>0</td>\n",
       "      <td>0</td>\n",
       "      <td>40</td>\n",
       "      <td>United-States</td>\n",
       "      <td>0</td>\n",
       "      <td>Technical</td>\n",
       "    </tr>\n",
       "    <tr>\n",
       "      <th>1</th>\n",
       "      <td>38</td>\n",
       "      <td>Private</td>\n",
       "      <td>89814</td>\n",
       "      <td>9</td>\n",
       "      <td>Married-civ-spouse</td>\n",
       "      <td>Farming-fishing</td>\n",
       "      <td>Husband</td>\n",
       "      <td>White</td>\n",
       "      <td>Male</td>\n",
       "      <td>0</td>\n",
       "      <td>0</td>\n",
       "      <td>50</td>\n",
       "      <td>United-States</td>\n",
       "      <td>0</td>\n",
       "      <td>Professional</td>\n",
       "    </tr>\n",
       "    <tr>\n",
       "      <th>2</th>\n",
       "      <td>28</td>\n",
       "      <td>Local-gov</td>\n",
       "      <td>336951</td>\n",
       "      <td>12</td>\n",
       "      <td>Married-civ-spouse</td>\n",
       "      <td>Protective-serv</td>\n",
       "      <td>Husband</td>\n",
       "      <td>White</td>\n",
       "      <td>Male</td>\n",
       "      <td>0</td>\n",
       "      <td>0</td>\n",
       "      <td>40</td>\n",
       "      <td>United-States</td>\n",
       "      <td>1</td>\n",
       "      <td>Service</td>\n",
       "    </tr>\n",
       "    <tr>\n",
       "      <th>3</th>\n",
       "      <td>44</td>\n",
       "      <td>Private</td>\n",
       "      <td>160323</td>\n",
       "      <td>10</td>\n",
       "      <td>Married-civ-spouse</td>\n",
       "      <td>Machine-op-inspct</td>\n",
       "      <td>Husband</td>\n",
       "      <td>Black</td>\n",
       "      <td>Male</td>\n",
       "      <td>7688</td>\n",
       "      <td>0</td>\n",
       "      <td>40</td>\n",
       "      <td>United-States</td>\n",
       "      <td>1</td>\n",
       "      <td>Technical</td>\n",
       "    </tr>\n",
       "    <tr>\n",
       "      <th>4</th>\n",
       "      <td>18</td>\n",
       "      <td>Private</td>\n",
       "      <td>103497</td>\n",
       "      <td>10</td>\n",
       "      <td>Never-married</td>\n",
       "      <td>Prof-specialty</td>\n",
       "      <td>Own-child</td>\n",
       "      <td>White</td>\n",
       "      <td>Female</td>\n",
       "      <td>0</td>\n",
       "      <td>0</td>\n",
       "      <td>30</td>\n",
       "      <td>United-States</td>\n",
       "      <td>0</td>\n",
       "      <td>Professional</td>\n",
       "    </tr>\n",
       "    <tr>\n",
       "      <th>...</th>\n",
       "      <td>...</td>\n",
       "      <td>...</td>\n",
       "      <td>...</td>\n",
       "      <td>...</td>\n",
       "      <td>...</td>\n",
       "      <td>...</td>\n",
       "      <td>...</td>\n",
       "      <td>...</td>\n",
       "      <td>...</td>\n",
       "      <td>...</td>\n",
       "      <td>...</td>\n",
       "      <td>...</td>\n",
       "      <td>...</td>\n",
       "      <td>...</td>\n",
       "      <td>...</td>\n",
       "    </tr>\n",
       "    <tr>\n",
       "      <th>4995</th>\n",
       "      <td>49</td>\n",
       "      <td>Private</td>\n",
       "      <td>141483</td>\n",
       "      <td>6</td>\n",
       "      <td>Married-civ-spouse</td>\n",
       "      <td>Prof-specialty</td>\n",
       "      <td>Wife</td>\n",
       "      <td>White</td>\n",
       "      <td>Female</td>\n",
       "      <td>0</td>\n",
       "      <td>0</td>\n",
       "      <td>40</td>\n",
       "      <td>United-States</td>\n",
       "      <td>0</td>\n",
       "      <td>Professional</td>\n",
       "    </tr>\n",
       "    <tr>\n",
       "      <th>4996</th>\n",
       "      <td>35</td>\n",
       "      <td>Federal-gov</td>\n",
       "      <td>191480</td>\n",
       "      <td>13</td>\n",
       "      <td>Married-spouse-absent</td>\n",
       "      <td>Exec-managerial</td>\n",
       "      <td>Not-in-family</td>\n",
       "      <td>Black</td>\n",
       "      <td>Male</td>\n",
       "      <td>0</td>\n",
       "      <td>0</td>\n",
       "      <td>40</td>\n",
       "      <td>United-States</td>\n",
       "      <td>0</td>\n",
       "      <td>Professional</td>\n",
       "    </tr>\n",
       "    <tr>\n",
       "      <th>4997</th>\n",
       "      <td>40</td>\n",
       "      <td>Private</td>\n",
       "      <td>202466</td>\n",
       "      <td>9</td>\n",
       "      <td>Divorced</td>\n",
       "      <td>Exec-managerial</td>\n",
       "      <td>Not-in-family</td>\n",
       "      <td>White</td>\n",
       "      <td>Female</td>\n",
       "      <td>0</td>\n",
       "      <td>0</td>\n",
       "      <td>60</td>\n",
       "      <td>United-States</td>\n",
       "      <td>0</td>\n",
       "      <td>Professional</td>\n",
       "    </tr>\n",
       "    <tr>\n",
       "      <th>4998</th>\n",
       "      <td>50</td>\n",
       "      <td>Private</td>\n",
       "      <td>28765</td>\n",
       "      <td>14</td>\n",
       "      <td>Married-civ-spouse</td>\n",
       "      <td>Prof-specialty</td>\n",
       "      <td>Husband</td>\n",
       "      <td>White</td>\n",
       "      <td>Male</td>\n",
       "      <td>0</td>\n",
       "      <td>0</td>\n",
       "      <td>40</td>\n",
       "      <td>United-States</td>\n",
       "      <td>1</td>\n",
       "      <td>Professional</td>\n",
       "    </tr>\n",
       "    <tr>\n",
       "      <th>4999</th>\n",
       "      <td>35</td>\n",
       "      <td>Private</td>\n",
       "      <td>141584</td>\n",
       "      <td>14</td>\n",
       "      <td>Married-civ-spouse</td>\n",
       "      <td>Adm-clerical</td>\n",
       "      <td>Husband</td>\n",
       "      <td>White</td>\n",
       "      <td>Male</td>\n",
       "      <td>0</td>\n",
       "      <td>0</td>\n",
       "      <td>45</td>\n",
       "      <td>United-States</td>\n",
       "      <td>1</td>\n",
       "      <td>Professional</td>\n",
       "    </tr>\n",
       "  </tbody>\n",
       "</table>\n",
       "<p>4999 rows × 15 columns</p>\n",
       "</div>"
      ],
      "text/plain": [
       "      age    workclass  fnlwgt  educational-num         marital-status   \n",
       "0      25      Private  226802                7          Never-married  \\\n",
       "1      38      Private   89814                9     Married-civ-spouse   \n",
       "2      28    Local-gov  336951               12     Married-civ-spouse   \n",
       "3      44      Private  160323               10     Married-civ-spouse   \n",
       "4      18      Private  103497               10          Never-married   \n",
       "...   ...          ...     ...              ...                    ...   \n",
       "4995   49      Private  141483                6     Married-civ-spouse   \n",
       "4996   35  Federal-gov  191480               13  Married-spouse-absent   \n",
       "4997   40      Private  202466                9               Divorced   \n",
       "4998   50      Private   28765               14     Married-civ-spouse   \n",
       "4999   35      Private  141584               14     Married-civ-spouse   \n",
       "\n",
       "             occupation   relationship   race  gender  capital-gain   \n",
       "0     Machine-op-inspct      Own-child  Black    Male             0  \\\n",
       "1       Farming-fishing        Husband  White    Male             0   \n",
       "2       Protective-serv        Husband  White    Male             0   \n",
       "3     Machine-op-inspct        Husband  Black    Male          7688   \n",
       "4        Prof-specialty      Own-child  White  Female             0   \n",
       "...                 ...            ...    ...     ...           ...   \n",
       "4995     Prof-specialty           Wife  White  Female             0   \n",
       "4996    Exec-managerial  Not-in-family  Black    Male             0   \n",
       "4997    Exec-managerial  Not-in-family  White  Female             0   \n",
       "4998     Prof-specialty        Husband  White    Male             0   \n",
       "4999       Adm-clerical        Husband  White    Male             0   \n",
       "\n",
       "      capital-loss  hours-per-week native-country  income occupation-type  \n",
       "0                0              40  United-States       0       Technical  \n",
       "1                0              50  United-States       0    Professional  \n",
       "2                0              40  United-States       1         Service  \n",
       "3                0              40  United-States       1       Technical  \n",
       "4                0              30  United-States       0    Professional  \n",
       "...            ...             ...            ...     ...             ...  \n",
       "4995             0              40  United-States       0    Professional  \n",
       "4996             0              40  United-States       0    Professional  \n",
       "4997             0              60  United-States       0    Professional  \n",
       "4998             0              40  United-States       1    Professional  \n",
       "4999             0              45  United-States       1    Professional  \n",
       "\n",
       "[4999 rows x 15 columns]"
      ]
     },
     "execution_count": 24,
     "metadata": {},
     "output_type": "execute_result"
    }
   ],
   "source": [
    "# Output pre-encoding dataframe\n",
    "df"
   ]
  },
  {
   "cell_type": "markdown",
   "id": "a6468aef",
   "metadata": {},
   "source": [
    "## 6.1. Merging capital related features\n",
    "\n",
    "We have shown that \"capital-gain\" and \"capital-loss\" are not very useful, nor easy to handle:\n",
    "- They exhibit a high statistical noise\n",
    "- They inflate our data with many unnecessary 0's (in those cases that have a gain or a loss)\n",
    "- Most rows have no gain or loss, so those that do are automatically outliers\n",
    "\n",
    "We choose an exteme approach: We merge the variables, bin their values to labels that mean \"loss\", \"nothing\", and \"gain\" respectively, and afterwards we delete the original two variables. This labeling retains the appropriate order, as well as the distinction between people with capital activity and those without.\n",
    "\n",
    "This approach is extreme because, due to only using 3 bins, it is basically mass deletion of original data. For this reason, we will produce two preprocessed datasets: One that contains only the newly created feature as described above, and one that contains the new feature along with the two original features.\n",
    "\n",
    "Let us create a new feature \"capital\" from \"capital-gain\" and \"capital-loss\". "
   ]
  },
  {
   "cell_type": "code",
   "execution_count": 50,
   "id": "4ed14611",
   "metadata": {},
   "outputs": [],
   "source": [
    "# Create \"capital\" as difference between gain and loss\n",
    "df['capital'] = df['capital-gain'] - df['capital-loss']"
   ]
  },
  {
   "cell_type": "markdown",
   "id": "c71737cc",
   "metadata": {},
   "source": [
    "Now, let us follow a simple approach as with Age Binning. Let loss = 0, nothing = 1, and gain = 2."
   ]
  },
  {
   "cell_type": "code",
   "execution_count": 51,
   "id": "d31b506a",
   "metadata": {},
   "outputs": [
    {
     "name": "stdout",
     "output_type": "stream",
     "text": [
      "-3175\n",
      "99999\n",
      "[-3175, -1, 1, 99999]\n"
     ]
    }
   ],
   "source": [
    "# Print capital range and the edges of the bins\n",
    "minCap = df['capital'].min()\n",
    "print(minCap)\n",
    "maxCap = df['capital'].max()\n",
    "print(maxCap)\n",
    "binsCap = [minCap, -1, 1, maxCap]\n",
    "print(binsCap)\n",
    "# Use the bins to create capital groups\n",
    "df['capital'] = pd.cut(df['capital'], bins=binsCap, labels=labels, include_lowest=True)"
   ]
  },
  {
   "cell_type": "markdown",
   "id": "bd85484a",
   "metadata": {},
   "source": [
    "Finally, let us remove \"capital-gain\" and \"capital-loss\"."
   ]
  },
  {
   "cell_type": "code",
   "execution_count": 52,
   "id": "3022cdb1",
   "metadata": {},
   "outputs": [
    {
     "data": {
      "text/html": [
       "<div>\n",
       "<style scoped>\n",
       "    .dataframe tbody tr th:only-of-type {\n",
       "        vertical-align: middle;\n",
       "    }\n",
       "\n",
       "    .dataframe tbody tr th {\n",
       "        vertical-align: top;\n",
       "    }\n",
       "\n",
       "    .dataframe thead th {\n",
       "        text-align: right;\n",
       "    }\n",
       "</style>\n",
       "<table border=\"1\" class=\"dataframe\">\n",
       "  <thead>\n",
       "    <tr style=\"text-align: right;\">\n",
       "      <th></th>\n",
       "      <th>age</th>\n",
       "      <th>educational-num</th>\n",
       "      <th>fnlwgt</th>\n",
       "      <th>hours-per-week</th>\n",
       "      <th>native-country</th>\n",
       "      <th>workclass_Federal-gov</th>\n",
       "      <th>workclass_Local-gov</th>\n",
       "      <th>workclass_Private</th>\n",
       "      <th>workclass_Self-emp-inc</th>\n",
       "      <th>workclass_Self-emp-not-inc</th>\n",
       "      <th>...</th>\n",
       "      <th>race_Other</th>\n",
       "      <th>race_White</th>\n",
       "      <th>gender_Female</th>\n",
       "      <th>gender_Male</th>\n",
       "      <th>occupation-type_Professional</th>\n",
       "      <th>occupation-type_Service</th>\n",
       "      <th>occupation-type_Technical</th>\n",
       "      <th>age-group</th>\n",
       "      <th>income</th>\n",
       "      <th>capital</th>\n",
       "    </tr>\n",
       "  </thead>\n",
       "  <tbody>\n",
       "    <tr>\n",
       "      <th>0</th>\n",
       "      <td>31</td>\n",
       "      <td>13</td>\n",
       "      <td>109195</td>\n",
       "      <td>65</td>\n",
       "      <td>0.240741</td>\n",
       "      <td>0.0</td>\n",
       "      <td>0.0</td>\n",
       "      <td>0.0</td>\n",
       "      <td>0.0</td>\n",
       "      <td>1.0</td>\n",
       "      <td>...</td>\n",
       "      <td>0.0</td>\n",
       "      <td>1.0</td>\n",
       "      <td>0.0</td>\n",
       "      <td>1.0</td>\n",
       "      <td>1.0</td>\n",
       "      <td>0.0</td>\n",
       "      <td>0.0</td>\n",
       "      <td>1</td>\n",
       "      <td>0</td>\n",
       "      <td>1</td>\n",
       "    </tr>\n",
       "    <tr>\n",
       "      <th>1</th>\n",
       "      <td>17</td>\n",
       "      <td>5</td>\n",
       "      <td>141445</td>\n",
       "      <td>20</td>\n",
       "      <td>0.240741</td>\n",
       "      <td>0.0</td>\n",
       "      <td>0.0</td>\n",
       "      <td>1.0</td>\n",
       "      <td>0.0</td>\n",
       "      <td>0.0</td>\n",
       "      <td>...</td>\n",
       "      <td>0.0</td>\n",
       "      <td>1.0</td>\n",
       "      <td>0.0</td>\n",
       "      <td>1.0</td>\n",
       "      <td>1.0</td>\n",
       "      <td>0.0</td>\n",
       "      <td>0.0</td>\n",
       "      <td>0</td>\n",
       "      <td>0</td>\n",
       "      <td>1</td>\n",
       "    </tr>\n",
       "    <tr>\n",
       "      <th>2</th>\n",
       "      <td>44</td>\n",
       "      <td>10</td>\n",
       "      <td>114753</td>\n",
       "      <td>38</td>\n",
       "      <td>0.240741</td>\n",
       "      <td>0.0</td>\n",
       "      <td>0.0</td>\n",
       "      <td>1.0</td>\n",
       "      <td>0.0</td>\n",
       "      <td>0.0</td>\n",
       "      <td>...</td>\n",
       "      <td>0.0</td>\n",
       "      <td>1.0</td>\n",
       "      <td>1.0</td>\n",
       "      <td>0.0</td>\n",
       "      <td>0.0</td>\n",
       "      <td>0.0</td>\n",
       "      <td>1.0</td>\n",
       "      <td>1</td>\n",
       "      <td>0</td>\n",
       "      <td>1</td>\n",
       "    </tr>\n",
       "    <tr>\n",
       "      <th>3</th>\n",
       "      <td>32</td>\n",
       "      <td>9</td>\n",
       "      <td>339196</td>\n",
       "      <td>40</td>\n",
       "      <td>0.240741</td>\n",
       "      <td>0.0</td>\n",
       "      <td>0.0</td>\n",
       "      <td>1.0</td>\n",
       "      <td>0.0</td>\n",
       "      <td>0.0</td>\n",
       "      <td>...</td>\n",
       "      <td>0.0</td>\n",
       "      <td>1.0</td>\n",
       "      <td>0.0</td>\n",
       "      <td>1.0</td>\n",
       "      <td>0.0</td>\n",
       "      <td>0.0</td>\n",
       "      <td>1.0</td>\n",
       "      <td>1</td>\n",
       "      <td>0</td>\n",
       "      <td>1</td>\n",
       "    </tr>\n",
       "    <tr>\n",
       "      <th>4</th>\n",
       "      <td>45</td>\n",
       "      <td>3</td>\n",
       "      <td>123219</td>\n",
       "      <td>40</td>\n",
       "      <td>0.240741</td>\n",
       "      <td>0.0</td>\n",
       "      <td>0.0</td>\n",
       "      <td>1.0</td>\n",
       "      <td>0.0</td>\n",
       "      <td>0.0</td>\n",
       "      <td>...</td>\n",
       "      <td>0.0</td>\n",
       "      <td>1.0</td>\n",
       "      <td>0.0</td>\n",
       "      <td>1.0</td>\n",
       "      <td>0.0</td>\n",
       "      <td>0.0</td>\n",
       "      <td>1.0</td>\n",
       "      <td>1</td>\n",
       "      <td>0</td>\n",
       "      <td>1</td>\n",
       "    </tr>\n",
       "  </tbody>\n",
       "</table>\n",
       "<p>5 rows × 52 columns</p>\n",
       "</div>"
      ],
      "text/plain": [
       "   age  educational-num  fnlwgt  hours-per-week  native-country   \n",
       "0   31               13  109195              65        0.240741  \\\n",
       "1   17                5  141445              20        0.240741   \n",
       "2   44               10  114753              38        0.240741   \n",
       "3   32                9  339196              40        0.240741   \n",
       "4   45                3  123219              40        0.240741   \n",
       "\n",
       "   workclass_Federal-gov  workclass_Local-gov  workclass_Private   \n",
       "0                    0.0                  0.0                0.0  \\\n",
       "1                    0.0                  0.0                1.0   \n",
       "2                    0.0                  0.0                1.0   \n",
       "3                    0.0                  0.0                1.0   \n",
       "4                    0.0                  0.0                1.0   \n",
       "\n",
       "   workclass_Self-emp-inc  workclass_Self-emp-not-inc  ...  race_Other   \n",
       "0                     0.0                         1.0  ...         0.0  \\\n",
       "1                     0.0                         0.0  ...         0.0   \n",
       "2                     0.0                         0.0  ...         0.0   \n",
       "3                     0.0                         0.0  ...         0.0   \n",
       "4                     0.0                         0.0  ...         0.0   \n",
       "\n",
       "   race_White  gender_Female  gender_Male  occupation-type_Professional   \n",
       "0         1.0            0.0          1.0                           1.0  \\\n",
       "1         1.0            0.0          1.0                           1.0   \n",
       "2         1.0            1.0          0.0                           0.0   \n",
       "3         1.0            0.0          1.0                           0.0   \n",
       "4         1.0            0.0          1.0                           0.0   \n",
       "\n",
       "   occupation-type_Service  occupation-type_Technical  age-group  income   \n",
       "0                      0.0                        0.0          1       0  \\\n",
       "1                      0.0                        0.0          0       0   \n",
       "2                      0.0                        1.0          1       0   \n",
       "3                      0.0                        1.0          1       0   \n",
       "4                      0.0                        1.0          1       0   \n",
       "\n",
       "   capital  \n",
       "0        1  \n",
       "1        1  \n",
       "2        1  \n",
       "3        1  \n",
       "4        1  \n",
       "\n",
       "[5 rows x 52 columns]"
      ]
     },
     "execution_count": 52,
     "metadata": {},
     "output_type": "execute_result"
    }
   ],
   "source": [
    "# Remove variables \"capital-gain\" and \"capital-loss\"\n",
    "df.drop(columns=['capital-gain', 'capital-loss'],inplace=True)\n",
    "# Output sclice of Dataframe with \"capital\" feature binned and original variables removed\n",
    "df.head()"
   ]
  },
  {
   "cell_type": "code",
   "execution_count": 53,
   "id": "c110a655",
   "metadata": {},
   "outputs": [
    {
     "data": {
      "text/plain": [
       "capital\n",
       "1          1892\n",
       "2           301\n",
       "0           151\n",
       "Name: count, dtype: int64"
      ]
     },
     "execution_count": 53,
     "metadata": {},
     "output_type": "execute_result"
    }
   ],
   "source": [
    "df[['capital']].value_counts()"
   ]
  },
  {
   "cell_type": "markdown",
   "id": "f0415bf8",
   "metadata": {},
   "source": [
    "<h1><span style=\"color:red\">Task 7</span></h1>\n",
    "\n",
    ">Identify:\n",
    "\n",
    ">[1.] The relevant features that are likely to have a significant impact [on income]\n",
    "\n",
    ">[2.] The irrelevant or redundant features [...] to the prediction task."
   ]
  }
 ],
 "metadata": {
  "kernelspec": {
   "display_name": "Python 3 (ipykernel)",
   "language": "python",
   "name": "python3"
  },
  "language_info": {
   "codemirror_mode": {
    "name": "ipython",
    "version": 3
   },
   "file_extension": ".py",
   "mimetype": "text/x-python",
   "name": "python",
   "nbconvert_exporter": "python",
   "pygments_lexer": "ipython3",
   "version": "3.10.10"
  }
 },
 "nbformat": 4,
 "nbformat_minor": 5
}
