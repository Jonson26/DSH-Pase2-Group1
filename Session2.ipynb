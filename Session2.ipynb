{
 "cells": [
  {
   "cell_type": "markdown",
   "id": "29ce3fc3",
   "metadata": {},
   "source": [
    "# Note\n",
    "\n",
    "Session 2 ended before Tasks 4, 6 & 7 were completed. Feedback that we got:\n",
    "\n",
    "- Use the code in this notebook to produce new, different database files.\n",
    "- Use target encoding for \"native-country\" instead of one-hot encoding (you will see that the result has many less columns).\n",
    "- Never use the whole adult dataset, only the first 5000 entries.\n",
    "- Regarding Task 7, it is easy to guess which features are important (an appropriate graph could confirm our suspicions e.g. age, gender, ...).\n",
    "- The missing steps can be redone in the final report"
   ]
  },
  {
   "cell_type": "code",
   "execution_count": 1,
   "id": "b8547c53",
   "metadata": {
    "tags": []
   },
   "outputs": [],
   "source": [
    "import pandas as pd\n",
    "import numpy as np\n",
    "import matplotlib.pyplot as plt\n",
    "from sklearn.preprocessing import OneHotEncoder\n",
    "from sklearn.preprocessing import MinMaxScaler, StandardScaler\n",
    "import seaborn as sns\n",
    "from collections import Counter\n",
    "from sklearn.datasets import make_classification\n",
    "from imblearn.under_sampling import RandomUnderSampler\n",
    "db = pd.read_csv('data/adult.csv')\n",
    "df = pd.DataFrame(db)"
   ]
  },
  {
   "cell_type": "markdown",
   "id": "091c961f",
   "metadata": {},
   "source": [
    "# Tasks\n",
    "\n",
    "[Task 1](#Task-1) : \n",
    "[1.1. Missing Values](#Subtask-1.1.-Checking-for-missing-values-and-handling-them), \n",
    "[1.2. Noise, inconsistencies, duplicates](#Subtask-1.2.-Checking-for-noisy-data,-inconsistencies-&-duplicate-entries), \n",
    "[1.2.1 Noisy data](#Subsubtask-1.2.1-Checking-for-noisy-data), \n",
    "[1.2.2 Inconsistencies](#Subsubtask-1.2.2-Checking-for-inconsistencies), \n",
    "[1.2.3 Duplicates](#Subsubtask-1.2.3-Checking-for-duplicates)\n",
    "\n",
    "[Task 2](#Task-2), \n",
    "[Task 3](#Task-3), \n",
    "[Task 4 (Missing)](#Task-4), \n",
    "[Task 5](#Task-5), \n",
    "[Task 6 (Missing)](#Task-6), \n",
    "[Task 7 (Missing)](#Task-7)"
   ]
  },
  {
   "cell_type": "markdown",
   "id": "200ca6df",
   "metadata": {
    "tags": []
   },
   "source": [
    "# Task 1\n",
    "\n",
    ">Check for missing values in the dataset and handle them \\[...\\] ([1.1.](#Subtask-1.1.-Checking-for-missing-values-and-handling-them))\n",
    "\n",
    ">Check the dataset for noisy data, inconsistencies, and duplicate entries \\[...\\]. ([1.2.](#Subtask-1.2.-Checking-for-noisy-data,-inconsistencies-&-duplicate-entries))"
   ]
  },
  {
   "cell_type": "markdown",
   "id": "e0bfb1e2",
   "metadata": {
    "tags": []
   },
   "source": [
    "## Subtask 1.1. Checking for missing values and handling them"
   ]
  },
  {
   "cell_type": "markdown",
   "id": "0a15ee99",
   "metadata": {},
   "source": [
    "#### Counting the missing values\n",
    "\n",
    "There are missing values in the form of question marks (\"?\").\n",
    "\n",
    "Let us [count](https://stackoverflow.com/questions/20076195/) these missing values."
   ]
  },
  {
   "cell_type": "code",
   "execution_count": 2,
   "id": "9a2ea13b",
   "metadata": {
    "scrolled": true,
    "tags": []
   },
   "outputs": [
    {
     "data": {
      "text/plain": [
       "707"
      ]
     },
     "execution_count": 2,
     "metadata": {},
     "output_type": "execute_result"
    }
   ],
   "source": [
    "# Stack all values and count the question marks\n",
    "column_names = [\"age\", \"workclass\", \"fnlwgt\", \"education\", \"educational-num\", \"marital-status\", \"occupation\", \"relationship\", \"race\", \"gender\", \"capital-gain\", \"capital-loss\", \"hours-per-week\", \"native-country\", \"income\"]\n",
    "df[[i for i in column_names]].astype('str').stack().value_counts()['?'].sum()"
   ]
  },
  {
   "cell_type": "markdown",
   "id": "5e57253a",
   "metadata": {},
   "source": [
    "#### Counting the Null values\n",
    "\n",
    "As seen above, there are 707 missing values in total.\n",
    "\n",
    "Let us count the null values (if any):"
   ]
  },
  {
   "cell_type": "code",
   "execution_count": 3,
   "id": "bf2c9999",
   "metadata": {
    "tags": []
   },
   "outputs": [
    {
     "data": {
      "text/plain": [
       "0"
      ]
     },
     "execution_count": 3,
     "metadata": {},
     "output_type": "execute_result"
    }
   ],
   "source": [
    "# Check for null values\n",
    "df.isnull().sum().sum()"
   ]
  },
  {
   "cell_type": "markdown",
   "id": "1a06b1c1",
   "metadata": {},
   "source": [
    "#### Listing the affected columns (variables)\n",
    "\n",
    "So there are no null values.\n",
    "\n",
    "As for the 707 missing values found earlier, we need to know how to impute them. Let us [find](https://stackoverflow.com/questions/50923707) the columns that contain missing values."
   ]
  },
  {
   "cell_type": "code",
   "execution_count": 4,
   "id": "ba7e9f55",
   "metadata": {
    "tags": []
   },
   "outputs": [
    {
     "data": {
      "text/plain": [
       "Index(['workclass', 'occupation', 'native-country'], dtype='object')"
      ]
     },
     "execution_count": 4,
     "metadata": {},
     "output_type": "execute_result"
    }
   ],
   "source": [
    "# List the columns that contain a question mark value\n",
    "df.columns[df.isin(['?']).any()]"
   ]
  },
  {
   "cell_type": "markdown",
   "id": "968bbf25",
   "metadata": {},
   "source": [
    "#### Determining their most frequent category\n",
    "\n",
    "The 707 missing values are distributed over three variables. All three of these are nominal variables.\n",
    "\n",
    "For now, we will impute them using the most frequent category. Since the 707 missing values are distributed over a total of 5'000x3 = 15'000 values, this simple imputation method should not significantly affect the data.\n",
    "\n",
    "Let us first find out the most frequent category in each variable."
   ]
  },
  {
   "cell_type": "code",
   "execution_count": 5,
   "id": "5da1c841",
   "metadata": {
    "tags": []
   },
   "outputs": [
    {
     "data": {
      "text/plain": [
       "workclass\n",
       "Private    3420\n",
       "Name: count, dtype: int64"
      ]
     },
     "execution_count": 5,
     "metadata": {},
     "output_type": "execute_result"
    }
   ],
   "source": [
    "# Count most frequent value in \"workclass\"\n",
    "df.workclass.value_counts().head(1)"
   ]
  },
  {
   "cell_type": "code",
   "execution_count": 6,
   "id": "e29c552a",
   "metadata": {
    "tags": []
   },
   "outputs": [
    {
     "data": {
      "text/plain": [
       "occupation\n",
       "Prof-specialty    644\n",
       "Name: count, dtype: int64"
      ]
     },
     "execution_count": 6,
     "metadata": {},
     "output_type": "execute_result"
    }
   ],
   "source": [
    "# Count most frequent value in \"occupation\"\n",
    "df.occupation.value_counts().head(1)"
   ]
  },
  {
   "cell_type": "code",
   "execution_count": 7,
   "id": "57affc8e",
   "metadata": {
    "tags": []
   },
   "outputs": [
    {
     "data": {
      "text/plain": [
       "native-country\n",
       "United-States    4514\n",
       "Name: count, dtype: int64"
      ]
     },
     "execution_count": 7,
     "metadata": {},
     "output_type": "execute_result"
    }
   ],
   "source": [
    "# Count most frequent value in \"native-country\"\n",
    "df['native-country'].value_counts().head(1)"
   ]
  },
  {
   "cell_type": "markdown",
   "id": "57b0522a",
   "metadata": {},
   "source": [
    "#### Imputing with their most frequent category\n",
    "\n",
    "Now we know that the most frequent categories are the Private sector, the \"Prof-specialty\" occupation, and the country United States.\n",
    "\n",
    "Let us replace the missing values with the respective most frequent category."
   ]
  },
  {
   "cell_type": "code",
   "execution_count": 8,
   "id": "0b1a8fba",
   "metadata": {
    "tags": []
   },
   "outputs": [
    {
     "data": {
      "text/plain": [
       "workclass\n",
       "Private    3735\n",
       "Name: count, dtype: int64"
      ]
     },
     "execution_count": 8,
     "metadata": {},
     "output_type": "execute_result"
    }
   ],
   "source": [
    "# Workclass : Replace question marks\n",
    "df.workclass.replace('?','Private', inplace=True)\n",
    "# Count most frequent value again\n",
    "df.workclass.value_counts().head(1)"
   ]
  },
  {
   "cell_type": "code",
   "execution_count": 9,
   "id": "cd20d732",
   "metadata": {
    "tags": []
   },
   "outputs": [
    {
     "data": {
      "text/plain": [
       "occupation\n",
       "Prof-specialty    959\n",
       "Name: count, dtype: int64"
      ]
     },
     "execution_count": 9,
     "metadata": {},
     "output_type": "execute_result"
    }
   ],
   "source": [
    "# Occupation : Replace question marks\n",
    "df.occupation.replace('?','Prof-specialty', inplace=True)\n",
    "# Count most frequent value again\n",
    "df.occupation.value_counts().head(1)"
   ]
  },
  {
   "cell_type": "code",
   "execution_count": 10,
   "id": "5cfe31d8",
   "metadata": {
    "tags": []
   },
   "outputs": [
    {
     "data": {
      "text/plain": [
       "native-country\n",
       "United-States    4591\n",
       "Name: count, dtype: int64"
      ]
     },
     "execution_count": 10,
     "metadata": {},
     "output_type": "execute_result"
    }
   ],
   "source": [
    "# Native-country : Replace question marks\n",
    "df['native-country'].replace('?','United-States', inplace=True)\n",
    "# Count most frequent value again\n",
    "df['native-country'].value_counts().head(1)"
   ]
  },
  {
   "cell_type": "markdown",
   "id": "01142ae9",
   "metadata": {},
   "source": [
    "#### Checking that the missing values are handled\n",
    "\n",
    "As expected, the most frequent categories became even more frequent. Let us check for missing values again."
   ]
  },
  {
   "cell_type": "code",
   "execution_count": 11,
   "id": "dbb20f19",
   "metadata": {
    "scrolled": true,
    "tags": []
   },
   "outputs": [
    {
     "data": {
      "text/plain": [
       "Index([], dtype='object')"
      ]
     },
     "execution_count": 11,
     "metadata": {},
     "output_type": "execute_result"
    }
   ],
   "source": [
    "# List the columns that contain a question mark value\n",
    "df.columns[df.isin(['?']).any()]"
   ]
  },
  {
   "cell_type": "markdown",
   "id": "02389d1e-09ce-40aa-a870-5bde82c4fd93",
   "metadata": {
    "tags": []
   },
   "source": [
    "## Subtask 1.2. Checking for noisy data, inconsistencies & duplicate entries"
   ]
  },
  {
   "cell_type": "markdown",
   "id": "b3491121",
   "metadata": {
    "tags": []
   },
   "source": [
    "### Subsubtask 1.2.1 Checking for noisy data\n",
    "\n",
    "Some definitions for noisy data include: Data that is corrupted/distorted & Data that has a low signal-to-noise ratio.\n",
    "\n",
    "While the latter can be [measured using a formula](https://en.wikipedia.org/wiki/Signal-to-noise_ratio), checking for corrupted and distorted data will need manual examination."
   ]
  },
  {
   "cell_type": "markdown",
   "id": "816e6b0b-ff2e-4449-9f3d-93208d565f18",
   "metadata": {
    "tags": []
   },
   "source": [
    "#### Finding corrupted data\n",
    "\n",
    "[There are 8 nominal variables in our data.](http://www.cs.toronto.edu/~delve/data/adult/adultDetail.html) Corrupted values are likely to hide in their rarest categories.\n",
    "\n",
    "Let us search for corrupted data, by listing rare categories in non-number variables, treating \"native-country\" separately since it has especially many categories."
   ]
  },
  {
   "cell_type": "code",
   "execution_count": 12,
   "id": "4164d3d7",
   "metadata": {
    "tags": []
   },
   "outputs": [
    {
     "data": {
      "text/plain": [
       "1st-4th              24\n",
       "Preschool            13\n",
       "Married-AF-spouse     3\n",
       "Without-pay           2\n",
       "Armed-Forces          1\n",
       "Name: count, dtype: int64"
      ]
     },
     "execution_count": 12,
     "metadata": {},
     "output_type": "execute_result"
    }
   ],
   "source": [
    "# Stack values in said non-number variables and show the rarest categories\n",
    "non_num_column_names = ['workclass', 'education', 'marital-status', 'occupation', 'relationship', 'race', 'gender']\n",
    "df[[i for i in non_num_column_names]].astype('str').stack().value_counts().tail()"
   ]
  },
  {
   "cell_type": "code",
   "execution_count": 13,
   "id": "9570fbc3",
   "metadata": {
    "tags": []
   },
   "outputs": [
    {
     "data": {
      "text/plain": [
       "Laos                          1\n",
       "Hong                          1\n",
       "Trinadad&Tobago               1\n",
       "Outlying-US(Guam-USVI-etc)    1\n",
       "France                        1\n",
       "Name: count, dtype: int64"
      ]
     },
     "execution_count": 13,
     "metadata": {},
     "output_type": "execute_result"
    }
   ],
   "source": [
    "# Stack values in \"native-country\" and show the rarest categories\n",
    "df[['native-country']].astype('str').stack().value_counts().tail()"
   ]
  },
  {
   "cell_type": "markdown",
   "id": "60f36acd-4f0c-44ba-bb2a-0e386daed445",
   "metadata": {},
   "source": [
    "Examining these values reveals no corrupted information except for typing errors in the country names of Hong Kong and Trinidad&Tobago. However, the typing errors do not affect the usefulness of the data, as each country is represented by only one category."
   ]
  },
  {
   "cell_type": "markdown",
   "id": "25f4cd4b-e71f-4e5d-bfb7-c785f2e730fa",
   "metadata": {},
   "source": [
    "#### Finding distorted data\n",
    "\n",
    "[Our data has 6 continous variables.](http://www.cs.toronto.edu/~delve/data/adult/adultDetail.html) They are \"age\", \"fnlwgt\" (finalweight), \"educational-num\", \"capital-gain\", \"capital-loss\", and \"hours-per-week\". For the first five, there exists a distribution plot in our first presentation. As for \"hours-per-week\", a plot has been generated below.\n",
    "\n",
    "Considering all of these plots, there is only one obvious distortion: Age 90 is more represented than the other ages in that range. We assume that this is an intended grouping of ages 90+ that has been made in the original data. Therefore it does not negatively affect the quality of the dataset"
   ]
  },
  {
   "cell_type": "code",
   "execution_count": 14,
   "id": "a83de69b-f9e8-454d-b548-abbb952f326a",
   "metadata": {
    "tags": []
   },
   "outputs": [
    {
     "data": {
      "text/plain": [
       "<Axes: ylabel='Frequency'>"
      ]
     },
     "execution_count": 14,
     "metadata": {},
     "output_type": "execute_result"
    },
    {
     "data": {
      "image/png": "[encoded data removed]",
      "text/plain": [
       "<Figure size 640x480 with 1 Axes>"
      ]
     },
     "metadata": {},
     "output_type": "display_data"
    }
   ],
   "source": [
    "# Value distribution plot for \"hours-per-week\" (requires matplotlib)\n",
    "df['hours-per-week'].plot.hist()"
   ]
  },
  {
   "cell_type": "markdown",
   "id": "66d4b0e2-9c3c-42c2-aefb-c95a430970aa",
   "metadata": {},
   "source": [
    "#### Measuring noise in numeric variables\n",
    "\n",
    "We will measure the signal-to-noise ratio (SNR) of the 6 numeric variables to determine if any has a high noise.\n",
    "\n",
    "According to [this Wikipedia article](https://en.wikipedia.org/wiki/Signal-to-noise_ratio), the SNR can be calculated as (μ^2/σ^2).\n",
    "\n",
    "Let us find μ (the means) and σ (the standard deviations) to apply the formula."
   ]
  },
  {
   "cell_type": "code",
   "execution_count": 15,
   "id": "48fb13bc",
   "metadata": {},
   "outputs": [
    {
     "data": {
      "text/html": [
       "<div>\n",
       "<style scoped>\n",
       "    .dataframe tbody tr th:only-of-type {\n",
       "        vertical-align: middle;\n",
       "    }\n",
       "\n",
       "    .dataframe tbody tr th {\n",
       "        vertical-align: top;\n",
       "    }\n",
       "\n",
       "    .dataframe thead th {\n",
       "        text-align: right;\n",
       "    }\n",
       "</style>\n",
       "<table border=\"1\" class=\"dataframe\">\n",
       "  <thead>\n",
       "    <tr style=\"text-align: right;\">\n",
       "      <th></th>\n",
       "      <th>age</th>\n",
       "      <th>fnlwgt</th>\n",
       "      <th>educational-num</th>\n",
       "      <th>capital-gain</th>\n",
       "      <th>capital-loss</th>\n",
       "      <th>hours-per-week</th>\n",
       "    </tr>\n",
       "  </thead>\n",
       "  <tbody>\n",
       "    <tr>\n",
       "      <th>mean</th>\n",
       "      <td>38.504800</td>\n",
       "      <td>187269.876000</td>\n",
       "      <td>10.038400</td>\n",
       "      <td>1107.090200</td>\n",
       "      <td>89.561400</td>\n",
       "      <td>40.20600</td>\n",
       "    </tr>\n",
       "    <tr>\n",
       "      <th>std</th>\n",
       "      <td>13.779781</td>\n",
       "      <td>102781.411899</td>\n",
       "      <td>2.595433</td>\n",
       "      <td>7708.019951</td>\n",
       "      <td>408.651437</td>\n",
       "      <td>12.45805</td>\n",
       "    </tr>\n",
       "  </tbody>\n",
       "</table>\n",
       "</div>"
      ],
      "text/plain": [
       "            age         fnlwgt  educational-num  capital-gain  capital-loss   \n",
       "mean  38.504800  187269.876000        10.038400   1107.090200     89.561400  \\\n",
       "std   13.779781  102781.411899         2.595433   7708.019951    408.651437   \n",
       "\n",
       "      hours-per-week  \n",
       "mean        40.20600  \n",
       "std         12.45805  "
      ]
     },
     "execution_count": 15,
     "metadata": {},
     "output_type": "execute_result"
    }
   ],
   "source": [
    "# Get mean and STD of the the numerical variables\n",
    "numericInfo = df.describe().iloc[1:3]\n",
    "numericInfo"
   ]
  },
  {
   "cell_type": "markdown",
   "id": "44e660e7",
   "metadata": {},
   "source": [
    "Now, let us compute the SNR."
   ]
  },
  {
   "cell_type": "code",
   "execution_count": 16,
   "id": "3bbe46ff",
   "metadata": {},
   "outputs": [
    {
     "data": {
      "text/plain": [
       "{'Age': 7.8080958880742415,\n",
       " 'Final Weight': 3.319759996517732,\n",
       " 'Education-Num': 14.959233262883458,\n",
       " 'Capital Gain': 0.02062910339656595,\n",
       " 'Capital Loss': 0.04803255474767841,\n",
       " 'Hours per Week': 10.415535705359764}"
      ]
     },
     "execution_count": 16,
     "metadata": {},
     "output_type": "execute_result"
    }
   ],
   "source": [
    "# Calculate SNRs and store them in variables\n",
    "resultage = ( (numericInfo['age'][0])**2 ) / ( (numericInfo['age'][1])**2 )\n",
    "resultweight = ( (numericInfo['fnlwgt'][0])**2 ) / ( (numericInfo['fnlwgt'][1])**2 )\n",
    "resultedu = ( (numericInfo['educational-num'][0])**2 ) / ( (numericInfo['educational-num'][1])**2 )\n",
    "resultcapg = ( (numericInfo['capital-gain'][0])**2 ) / ( (numericInfo['capital-gain'][1])**2 )\n",
    "resultcapl = ( (numericInfo['capital-loss'][0])**2 ) / ( (numericInfo['capital-loss'][1])**2 )\n",
    "resulthpw = ( (numericInfo['hours-per-week'][0])**2 ) / ( (numericInfo['hours-per-week'][1])**2 )\n",
    "# Output the variables\n",
    "def SNRs():\n",
    "    return {\"Age\": resultage, \"Final Weight\": resultweight, \"Education-Num\": resultedu, \"Capital Gain\": resultcapg, \"Capital Loss\": resultcapl, \"Hours per Week\": resulthpw}\n",
    "SNRs()"
   ]
  },
  {
   "cell_type": "markdown",
   "id": "9964b77c",
   "metadata": {},
   "source": [
    "As we can see, the signal is significantly stronger than the noise for most variables. However, the two variables \"capital-gain\" and \"capital-loss\" have a very weak SNR.\n",
    "\n",
    "The high noise in the capital related data might make its analysis difficult. Feature Engineering might be a solution to make more useful data from \"capital-gain\" and \"capital-loss\"."
   ]
  },
  {
   "cell_type": "markdown",
   "id": "f9889e29-fbba-4d86-9965-d0a1bcd53064",
   "metadata": {
    "tags": []
   },
   "source": [
    "### Subsubtask 1.2.2 Checking for inconsistencies\n",
    "\n",
    "Let us make sure Capital Gains VS Losses are mutually exclusive."
   ]
  },
  {
   "cell_type": "code",
   "execution_count": 17,
   "id": "66edcc07",
   "metadata": {},
   "outputs": [
    {
     "data": {
      "text/plain": [
       "'Empty Dataset'"
      ]
     },
     "execution_count": 17,
     "metadata": {},
     "output_type": "execute_result"
    }
   ],
   "source": [
    "# Output entries with non-zero capital gains AND losses, if any\n",
    "def capitalInconsistencies():\n",
    "    inconsistent_data = df[(df['capital-gain'] > 0) & (df['capital-loss'] > 0)]\n",
    "    if not inconsistent_data.empty:\n",
    "        return inconsistent_data\n",
    "    else:\n",
    "        return \"Empty Dataset\"\n",
    "capitalInconsistencies()"
   ]
  },
  {
   "cell_type": "markdown",
   "id": "a200cc83",
   "metadata": {},
   "source": [
    "We note that there is no entry with capital gains AND losses."
   ]
  },
  {
   "cell_type": "markdown",
   "id": "5c4ec507-0e86-49e4-81aa-aa9f33ac773b",
   "metadata": {
    "tags": []
   },
   "source": [
    "### Subsubtask 1.2.3 Checking for duplicates"
   ]
  },
  {
   "cell_type": "code",
   "execution_count": 18,
   "id": "62addb01-a1b2-49f5-90c9-ac5d28616e15",
   "metadata": {},
   "outputs": [
    {
     "data": {
      "text/html": [
       "<div>\n",
       "<style scoped>\n",
       "    .dataframe tbody tr th:only-of-type {\n",
       "        vertical-align: middle;\n",
       "    }\n",
       "\n",
       "    .dataframe tbody tr th {\n",
       "        vertical-align: top;\n",
       "    }\n",
       "\n",
       "    .dataframe thead th {\n",
       "        text-align: right;\n",
       "    }\n",
       "</style>\n",
       "<table border=\"1\" class=\"dataframe\">\n",
       "  <thead>\n",
       "    <tr style=\"text-align: right;\">\n",
       "      <th></th>\n",
       "      <th>age</th>\n",
       "      <th>workclass</th>\n",
       "      <th>fnlwgt</th>\n",
       "      <th>education</th>\n",
       "      <th>educational-num</th>\n",
       "      <th>marital-status</th>\n",
       "      <th>occupation</th>\n",
       "      <th>relationship</th>\n",
       "      <th>race</th>\n",
       "      <th>gender</th>\n",
       "      <th>capital-gain</th>\n",
       "      <th>capital-loss</th>\n",
       "      <th>hours-per-week</th>\n",
       "      <th>native-country</th>\n",
       "      <th>income</th>\n",
       "    </tr>\n",
       "  </thead>\n",
       "  <tbody>\n",
       "    <tr>\n",
       "      <th>488</th>\n",
       "      <td>24</td>\n",
       "      <td>Private</td>\n",
       "      <td>194630</td>\n",
       "      <td>Bachelors</td>\n",
       "      <td>13</td>\n",
       "      <td>Never-married</td>\n",
       "      <td>Prof-specialty</td>\n",
       "      <td>Not-in-family</td>\n",
       "      <td>White</td>\n",
       "      <td>Male</td>\n",
       "      <td>0</td>\n",
       "      <td>0</td>\n",
       "      <td>35</td>\n",
       "      <td>United-States</td>\n",
       "      <td>&lt;=50K</td>\n",
       "    </tr>\n",
       "    <tr>\n",
       "      <th>864</th>\n",
       "      <td>24</td>\n",
       "      <td>Private</td>\n",
       "      <td>194630</td>\n",
       "      <td>Bachelors</td>\n",
       "      <td>13</td>\n",
       "      <td>Never-married</td>\n",
       "      <td>Prof-specialty</td>\n",
       "      <td>Not-in-family</td>\n",
       "      <td>White</td>\n",
       "      <td>Male</td>\n",
       "      <td>0</td>\n",
       "      <td>0</td>\n",
       "      <td>35</td>\n",
       "      <td>United-States</td>\n",
       "      <td>&lt;=50K</td>\n",
       "    </tr>\n",
       "  </tbody>\n",
       "</table>\n",
       "</div>"
      ],
      "text/plain": [
       "     age workclass  fnlwgt  education  educational-num marital-status   \n",
       "488   24   Private  194630  Bachelors               13  Never-married  \\\n",
       "864   24   Private  194630  Bachelors               13  Never-married   \n",
       "\n",
       "         occupation   relationship   race gender  capital-gain  capital-loss   \n",
       "488  Prof-specialty  Not-in-family  White   Male             0             0  \\\n",
       "864  Prof-specialty  Not-in-family  White   Male             0             0   \n",
       "\n",
       "     hours-per-week native-country income  \n",
       "488              35  United-States  <=50K  \n",
       "864              35  United-States  <=50K  "
      ]
     },
     "execution_count": 18,
     "metadata": {},
     "output_type": "execute_result"
    }
   ],
   "source": [
    "# Output entries that are identical, if any\n",
    "def duplicatesInDf():\n",
    "    duplicates = df[df.duplicated(keep=False)]\n",
    "    if not duplicates.empty:\n",
    "        return duplicates\n",
    "    else:\n",
    "        return \"Empty Dataset\"\n",
    "duplicatesInDf()"
   ]
  },
  {
   "cell_type": "markdown",
   "id": "8aa0b41c",
   "metadata": {},
   "source": [
    "Seeing as there is one duplicate, let us drop it."
   ]
  },
  {
   "cell_type": "code",
   "execution_count": 19,
   "id": "6bc5bee5",
   "metadata": {},
   "outputs": [
    {
     "data": {
      "text/plain": [
       "'Empty Dataset'"
      ]
     },
     "execution_count": 19,
     "metadata": {},
     "output_type": "execute_result"
    }
   ],
   "source": [
    "# Remove duplicates\n",
    "df.drop_duplicates(inplace=True)\n",
    "# Search for duplicates\n",
    "duplicatesInDf()"
   ]
  },
  {
   "cell_type": "code",
   "execution_count": 20,
   "id": "1533fb7f",
   "metadata": {
    "scrolled": true
   },
   "outputs": [
    {
     "data": {
      "text/plain": [
       "True"
      ]
     },
     "execution_count": 20,
     "metadata": {},
     "output_type": "execute_result"
    }
   ],
   "source": [
    "# Make sure that there are still no missing values somehow\n",
    "assert df.isnull().sum().sum() == 0\n",
    "True"
   ]
  },
  {
   "cell_type": "markdown",
   "id": "53c50221",
   "metadata": {
    "tags": []
   },
   "source": [
    "# Task 2\n",
    "\n",
    ">[Convert categorical features to numerical values using encoding techniques]\n",
    "\n",
    "**To avoid confusion: We will use the term \"categorical\" interchangeably with \"nominal\". We will NOT consider the \"income\" variable as a feature but rather as a class. We will always subtract the index column when counting the columns.**\n",
    "\n",
    "**Explanation: Our dataset has 15 columns (excluding the index column), and 14 features (excluding the income variable). These 14 features consist of 8 categorical (nominal) variables, and 6 numerical variables.**"
   ]
  },
  {
   "cell_type": "markdown",
   "id": "2233fda1",
   "metadata": {
    "tags": []
   },
   "source": [
    "#### Encoding education\n",
    "\n",
    "As already mentioned in [1.2.1](#Subsubtask-1.2.1-Checking-for-noisy-data), there are 8 nominal variables. Education is already ordinally encoded, so let us drop the non-numerical variable."
   ]
  },
  {
   "cell_type": "code",
   "execution_count": 21,
   "id": "35686dd3",
   "metadata": {},
   "outputs": [],
   "source": [
    "# Remove variable \"education\"\n",
    "df.drop(columns='education',inplace=True)"
   ]
  },
  {
   "cell_type": "code",
   "execution_count": 22,
   "id": "c6b7f582",
   "metadata": {},
   "outputs": [
    {
     "data": {
      "text/html": [
       "<div>\n",
       "<style scoped>\n",
       "    .dataframe tbody tr th:only-of-type {\n",
       "        vertical-align: middle;\n",
       "    }\n",
       "\n",
       "    .dataframe tbody tr th {\n",
       "        vertical-align: top;\n",
       "    }\n",
       "\n",
       "    .dataframe thead th {\n",
       "        text-align: right;\n",
       "    }\n",
       "</style>\n",
       "<table border=\"1\" class=\"dataframe\">\n",
       "  <thead>\n",
       "    <tr style=\"text-align: right;\">\n",
       "      <th></th>\n",
       "      <th>age</th>\n",
       "      <th>workclass</th>\n",
       "      <th>fnlwgt</th>\n",
       "      <th>educational-num</th>\n",
       "      <th>marital-status</th>\n",
       "      <th>occupation</th>\n",
       "      <th>relationship</th>\n",
       "      <th>race</th>\n",
       "      <th>gender</th>\n",
       "      <th>capital-gain</th>\n",
       "      <th>capital-loss</th>\n",
       "      <th>hours-per-week</th>\n",
       "      <th>native-country</th>\n",
       "      <th>income</th>\n",
       "    </tr>\n",
       "  </thead>\n",
       "  <tbody>\n",
       "    <tr>\n",
       "      <th>0</th>\n",
       "      <td>25</td>\n",
       "      <td>Private</td>\n",
       "      <td>226802</td>\n",
       "      <td>7</td>\n",
       "      <td>Never-married</td>\n",
       "      <td>Machine-op-inspct</td>\n",
       "      <td>Own-child</td>\n",
       "      <td>Black</td>\n",
       "      <td>Male</td>\n",
       "      <td>0</td>\n",
       "      <td>0</td>\n",
       "      <td>40</td>\n",
       "      <td>United-States</td>\n",
       "      <td>&lt;=50K</td>\n",
       "    </tr>\n",
       "    <tr>\n",
       "      <th>1</th>\n",
       "      <td>38</td>\n",
       "      <td>Private</td>\n",
       "      <td>89814</td>\n",
       "      <td>9</td>\n",
       "      <td>Married-civ-spouse</td>\n",
       "      <td>Farming-fishing</td>\n",
       "      <td>Husband</td>\n",
       "      <td>White</td>\n",
       "      <td>Male</td>\n",
       "      <td>0</td>\n",
       "      <td>0</td>\n",
       "      <td>50</td>\n",
       "      <td>United-States</td>\n",
       "      <td>&lt;=50K</td>\n",
       "    </tr>\n",
       "    <tr>\n",
       "      <th>2</th>\n",
       "      <td>28</td>\n",
       "      <td>Local-gov</td>\n",
       "      <td>336951</td>\n",
       "      <td>12</td>\n",
       "      <td>Married-civ-spouse</td>\n",
       "      <td>Protective-serv</td>\n",
       "      <td>Husband</td>\n",
       "      <td>White</td>\n",
       "      <td>Male</td>\n",
       "      <td>0</td>\n",
       "      <td>0</td>\n",
       "      <td>40</td>\n",
       "      <td>United-States</td>\n",
       "      <td>&gt;50K</td>\n",
       "    </tr>\n",
       "    <tr>\n",
       "      <th>3</th>\n",
       "      <td>44</td>\n",
       "      <td>Private</td>\n",
       "      <td>160323</td>\n",
       "      <td>10</td>\n",
       "      <td>Married-civ-spouse</td>\n",
       "      <td>Machine-op-inspct</td>\n",
       "      <td>Husband</td>\n",
       "      <td>Black</td>\n",
       "      <td>Male</td>\n",
       "      <td>7688</td>\n",
       "      <td>0</td>\n",
       "      <td>40</td>\n",
       "      <td>United-States</td>\n",
       "      <td>&gt;50K</td>\n",
       "    </tr>\n",
       "    <tr>\n",
       "      <th>4</th>\n",
       "      <td>18</td>\n",
       "      <td>Private</td>\n",
       "      <td>103497</td>\n",
       "      <td>10</td>\n",
       "      <td>Never-married</td>\n",
       "      <td>Prof-specialty</td>\n",
       "      <td>Own-child</td>\n",
       "      <td>White</td>\n",
       "      <td>Female</td>\n",
       "      <td>0</td>\n",
       "      <td>0</td>\n",
       "      <td>30</td>\n",
       "      <td>United-States</td>\n",
       "      <td>&lt;=50K</td>\n",
       "    </tr>\n",
       "  </tbody>\n",
       "</table>\n",
       "</div>"
      ],
      "text/plain": [
       "   age  workclass  fnlwgt  educational-num      marital-status   \n",
       "0   25    Private  226802                7       Never-married  \\\n",
       "1   38    Private   89814                9  Married-civ-spouse   \n",
       "2   28  Local-gov  336951               12  Married-civ-spouse   \n",
       "3   44    Private  160323               10  Married-civ-spouse   \n",
       "4   18    Private  103497               10       Never-married   \n",
       "\n",
       "          occupation relationship   race  gender  capital-gain  capital-loss   \n",
       "0  Machine-op-inspct    Own-child  Black    Male             0             0  \\\n",
       "1    Farming-fishing      Husband  White    Male             0             0   \n",
       "2    Protective-serv      Husband  White    Male             0             0   \n",
       "3  Machine-op-inspct      Husband  Black    Male          7688             0   \n",
       "4     Prof-specialty    Own-child  White  Female             0             0   \n",
       "\n",
       "   hours-per-week native-country income  \n",
       "0              40  United-States  <=50K  \n",
       "1              50  United-States  <=50K  \n",
       "2              40  United-States   >50K  \n",
       "3              40  United-States   >50K  \n",
       "4              30  United-States  <=50K  "
      ]
     },
     "execution_count": 22,
     "metadata": {},
     "output_type": "execute_result"
    }
   ],
   "source": [
    "# (debug) Get snippet of the updated DataFrame\n",
    "df.head()"
   ]
  },
  {
   "cell_type": "markdown",
   "id": "7676159f",
   "metadata": {},
   "source": [
    "We note that **the number of columns has decreased from 15 to 14.** The number of features has decreased from 14 to 13 (i.e. 7 nominal + 6 numerical)."
   ]
  },
  {
   "cell_type": "markdown",
   "id": "7ab7a182",
   "metadata": {},
   "source": [
    "#### Encoding workclass, marital-status, occupation, relationship, race, gender\n",
    "\n",
    "Since the remaining 7 nominal variables are not ordinal, we do not want to use e.g. label encoding, as that could introduce unintended biases. Instead, we will use One-Hot encoding for them.\n",
    "\n",
    "Let us apply One-Hot Encoding."
   ]
  },
  {
   "cell_type": "code",
   "execution_count": 23,
   "id": "c0876d15",
   "metadata": {},
   "outputs": [],
   "source": [
    "# Select the 7 nominal columns\n",
    "categorical_cols = df[['workclass', 'marital-status', 'occupation', 'relationship', 'race', 'gender', 'native-country']].columns\n",
    "\n",
    "# Select the other 7 columns (6 numericals + \"income\")\n",
    "numeric_cols = df.columns.difference(categorical_cols)"
   ]
  },
  {
   "cell_type": "code",
   "execution_count": 24,
   "id": "44bdfbc9",
   "metadata": {
    "scrolled": true
   },
   "outputs": [
    {
     "data": {
      "text/html": [
       "<div>\n",
       "<style scoped>\n",
       "    .dataframe tbody tr th:only-of-type {\n",
       "        vertical-align: middle;\n",
       "    }\n",
       "\n",
       "    .dataframe tbody tr th {\n",
       "        vertical-align: top;\n",
       "    }\n",
       "\n",
       "    .dataframe thead th {\n",
       "        text-align: right;\n",
       "    }\n",
       "</style>\n",
       "<table border=\"1\" class=\"dataframe\">\n",
       "  <thead>\n",
       "    <tr style=\"text-align: right;\">\n",
       "      <th></th>\n",
       "      <th>age</th>\n",
       "      <th>capital-gain</th>\n",
       "      <th>capital-loss</th>\n",
       "      <th>educational-num</th>\n",
       "      <th>fnlwgt</th>\n",
       "      <th>hours-per-week</th>\n",
       "      <th>income</th>\n",
       "      <th>workclass_Federal-gov</th>\n",
       "      <th>workclass_Local-gov</th>\n",
       "      <th>workclass_Private</th>\n",
       "      <th>...</th>\n",
       "      <th>native-country_Portugal</th>\n",
       "      <th>native-country_Puerto-Rico</th>\n",
       "      <th>native-country_Scotland</th>\n",
       "      <th>native-country_South</th>\n",
       "      <th>native-country_Taiwan</th>\n",
       "      <th>native-country_Thailand</th>\n",
       "      <th>native-country_Trinadad&amp;Tobago</th>\n",
       "      <th>native-country_United-States</th>\n",
       "      <th>native-country_Vietnam</th>\n",
       "      <th>native-country_Yugoslavia</th>\n",
       "    </tr>\n",
       "  </thead>\n",
       "  <tbody>\n",
       "    <tr>\n",
       "      <th>0</th>\n",
       "      <td>25</td>\n",
       "      <td>0</td>\n",
       "      <td>0</td>\n",
       "      <td>7</td>\n",
       "      <td>226802</td>\n",
       "      <td>40</td>\n",
       "      <td>&lt;=50K</td>\n",
       "      <td>0.0</td>\n",
       "      <td>0.0</td>\n",
       "      <td>1.0</td>\n",
       "      <td>...</td>\n",
       "      <td>0.0</td>\n",
       "      <td>0.0</td>\n",
       "      <td>0.0</td>\n",
       "      <td>0.0</td>\n",
       "      <td>0.0</td>\n",
       "      <td>0.0</td>\n",
       "      <td>0.0</td>\n",
       "      <td>1.0</td>\n",
       "      <td>0.0</td>\n",
       "      <td>0.0</td>\n",
       "    </tr>\n",
       "    <tr>\n",
       "      <th>1</th>\n",
       "      <td>38</td>\n",
       "      <td>0</td>\n",
       "      <td>0</td>\n",
       "      <td>9</td>\n",
       "      <td>89814</td>\n",
       "      <td>50</td>\n",
       "      <td>&lt;=50K</td>\n",
       "      <td>0.0</td>\n",
       "      <td>0.0</td>\n",
       "      <td>1.0</td>\n",
       "      <td>...</td>\n",
       "      <td>0.0</td>\n",
       "      <td>0.0</td>\n",
       "      <td>0.0</td>\n",
       "      <td>0.0</td>\n",
       "      <td>0.0</td>\n",
       "      <td>0.0</td>\n",
       "      <td>0.0</td>\n",
       "      <td>1.0</td>\n",
       "      <td>0.0</td>\n",
       "      <td>0.0</td>\n",
       "    </tr>\n",
       "    <tr>\n",
       "      <th>2</th>\n",
       "      <td>28</td>\n",
       "      <td>0</td>\n",
       "      <td>0</td>\n",
       "      <td>12</td>\n",
       "      <td>336951</td>\n",
       "      <td>40</td>\n",
       "      <td>&gt;50K</td>\n",
       "      <td>0.0</td>\n",
       "      <td>1.0</td>\n",
       "      <td>0.0</td>\n",
       "      <td>...</td>\n",
       "      <td>0.0</td>\n",
       "      <td>0.0</td>\n",
       "      <td>0.0</td>\n",
       "      <td>0.0</td>\n",
       "      <td>0.0</td>\n",
       "      <td>0.0</td>\n",
       "      <td>0.0</td>\n",
       "      <td>1.0</td>\n",
       "      <td>0.0</td>\n",
       "      <td>0.0</td>\n",
       "    </tr>\n",
       "    <tr>\n",
       "      <th>3</th>\n",
       "      <td>44</td>\n",
       "      <td>7688</td>\n",
       "      <td>0</td>\n",
       "      <td>10</td>\n",
       "      <td>160323</td>\n",
       "      <td>40</td>\n",
       "      <td>&gt;50K</td>\n",
       "      <td>0.0</td>\n",
       "      <td>0.0</td>\n",
       "      <td>1.0</td>\n",
       "      <td>...</td>\n",
       "      <td>0.0</td>\n",
       "      <td>0.0</td>\n",
       "      <td>0.0</td>\n",
       "      <td>0.0</td>\n",
       "      <td>0.0</td>\n",
       "      <td>0.0</td>\n",
       "      <td>0.0</td>\n",
       "      <td>1.0</td>\n",
       "      <td>0.0</td>\n",
       "      <td>0.0</td>\n",
       "    </tr>\n",
       "    <tr>\n",
       "      <th>4</th>\n",
       "      <td>18</td>\n",
       "      <td>0</td>\n",
       "      <td>0</td>\n",
       "      <td>10</td>\n",
       "      <td>103497</td>\n",
       "      <td>30</td>\n",
       "      <td>&lt;=50K</td>\n",
       "      <td>0.0</td>\n",
       "      <td>0.0</td>\n",
       "      <td>1.0</td>\n",
       "      <td>...</td>\n",
       "      <td>0.0</td>\n",
       "      <td>0.0</td>\n",
       "      <td>0.0</td>\n",
       "      <td>0.0</td>\n",
       "      <td>0.0</td>\n",
       "      <td>0.0</td>\n",
       "      <td>0.0</td>\n",
       "      <td>1.0</td>\n",
       "      <td>0.0</td>\n",
       "      <td>0.0</td>\n",
       "    </tr>\n",
       "  </tbody>\n",
       "</table>\n",
       "<p>5 rows × 88 columns</p>\n",
       "</div>"
      ],
      "text/plain": [
       "   age  capital-gain  capital-loss  educational-num  fnlwgt  hours-per-week   \n",
       "0   25             0             0                7  226802              40  \\\n",
       "1   38             0             0                9   89814              50   \n",
       "2   28             0             0               12  336951              40   \n",
       "3   44          7688             0               10  160323              40   \n",
       "4   18             0             0               10  103497              30   \n",
       "\n",
       "  income  workclass_Federal-gov  workclass_Local-gov  workclass_Private  ...   \n",
       "0  <=50K                    0.0                  0.0                1.0  ...  \\\n",
       "1  <=50K                    0.0                  0.0                1.0  ...   \n",
       "2   >50K                    0.0                  1.0                0.0  ...   \n",
       "3   >50K                    0.0                  0.0                1.0  ...   \n",
       "4  <=50K                    0.0                  0.0                1.0  ...   \n",
       "\n",
       "   native-country_Portugal  native-country_Puerto-Rico   \n",
       "0                      0.0                         0.0  \\\n",
       "1                      0.0                         0.0   \n",
       "2                      0.0                         0.0   \n",
       "3                      0.0                         0.0   \n",
       "4                      0.0                         0.0   \n",
       "\n",
       "   native-country_Scotland  native-country_South  native-country_Taiwan   \n",
       "0                      0.0                   0.0                    0.0  \\\n",
       "1                      0.0                   0.0                    0.0   \n",
       "2                      0.0                   0.0                    0.0   \n",
       "3                      0.0                   0.0                    0.0   \n",
       "4                      0.0                   0.0                    0.0   \n",
       "\n",
       "   native-country_Thailand  native-country_Trinadad&Tobago   \n",
       "0                      0.0                             0.0  \\\n",
       "1                      0.0                             0.0   \n",
       "2                      0.0                             0.0   \n",
       "3                      0.0                             0.0   \n",
       "4                      0.0                             0.0   \n",
       "\n",
       "   native-country_United-States  native-country_Vietnam   \n",
       "0                           1.0                     0.0  \\\n",
       "1                           1.0                     0.0   \n",
       "2                           1.0                     0.0   \n",
       "3                           1.0                     0.0   \n",
       "4                           1.0                     0.0   \n",
       "\n",
       "   native-country_Yugoslavia  \n",
       "0                        0.0  \n",
       "1                        0.0  \n",
       "2                        0.0  \n",
       "3                        0.0  \n",
       "4                        0.0  \n",
       "\n",
       "[5 rows x 88 columns]"
      ]
     },
     "execution_count": 24,
     "metadata": {},
     "output_type": "execute_result"
    }
   ],
   "source": [
    "# Perform one-hot encoding on categorical columns\n",
    "onehot_encoder = OneHotEncoder(sparse_output=False)\n",
    "onehot_array = onehot_encoder.fit_transform(df[categorical_cols])\n",
    "column_names = onehot_encoder.get_feature_names_out(categorical_cols)\n",
    "onehot_df = pd.DataFrame(onehot_array, columns=column_names)\n",
    "\n",
    "# Concatenate one-hot encoded DataFrame with original numerical and income columns\n",
    "numeric_df = df[numeric_cols].reset_index(drop=True)\n",
    "encoded_df = pd.concat([numeric_df, onehot_df], axis=1)\n",
    "\n",
    "# Get snippet of the processed DataFrame\n",
    "encoded_df.head()"
   ]
  },
  {
   "cell_type": "markdown",
   "id": "f95d0e32",
   "metadata": {},
   "source": [
    "The increase in the number of columns from 14 to 87 after one-hot encoding indicates that there were 73 unique categorical values across the 7 encoded categorical columns. One-hot encoding created a new binary column for each unique value, resulting in the increase in the number of columns. This is a common outcome of one-hot encoding, and it enables us to represent categorical variables as numerical variables in a way that can be easily processed by machine learning algorithms."
   ]
  },
  {
   "cell_type": "markdown",
   "id": "ddc8fd7e",
   "metadata": {},
   "source": [
    "#### Encoding income\n",
    "\n",
    "The class of our dataset - \"income\" - only has two categories. We can simply apply binary encoding."
   ]
  },
  {
   "cell_type": "code",
   "execution_count": 25,
   "id": "39832e67",
   "metadata": {},
   "outputs": [],
   "source": [
    "# Replace \"income\" value \"<=50K\" with 0, and \"income\" value \">50K\" with 1\n",
    "encoded_df['income'].replace('<=50K', 0, inplace=True)\n",
    "encoded_df['income'].replace('>50K', 1, inplace=True)\n",
    "df = encoded_df.copy()"
   ]
  },
  {
   "cell_type": "code",
   "execution_count": 26,
   "id": "9043a447",
   "metadata": {
    "scrolled": true
   },
   "outputs": [
    {
     "data": {
      "text/html": [
       "<div>\n",
       "<style scoped>\n",
       "    .dataframe tbody tr th:only-of-type {\n",
       "        vertical-align: middle;\n",
       "    }\n",
       "\n",
       "    .dataframe tbody tr th {\n",
       "        vertical-align: top;\n",
       "    }\n",
       "\n",
       "    .dataframe thead th {\n",
       "        text-align: right;\n",
       "    }\n",
       "</style>\n",
       "<table border=\"1\" class=\"dataframe\">\n",
       "  <thead>\n",
       "    <tr style=\"text-align: right;\">\n",
       "      <th></th>\n",
       "      <th>age</th>\n",
       "      <th>capital-gain</th>\n",
       "      <th>capital-loss</th>\n",
       "      <th>educational-num</th>\n",
       "      <th>fnlwgt</th>\n",
       "      <th>hours-per-week</th>\n",
       "      <th>income</th>\n",
       "      <th>workclass_Federal-gov</th>\n",
       "      <th>workclass_Local-gov</th>\n",
       "      <th>workclass_Private</th>\n",
       "      <th>...</th>\n",
       "      <th>native-country_Portugal</th>\n",
       "      <th>native-country_Puerto-Rico</th>\n",
       "      <th>native-country_Scotland</th>\n",
       "      <th>native-country_South</th>\n",
       "      <th>native-country_Taiwan</th>\n",
       "      <th>native-country_Thailand</th>\n",
       "      <th>native-country_Trinadad&amp;Tobago</th>\n",
       "      <th>native-country_United-States</th>\n",
       "      <th>native-country_Vietnam</th>\n",
       "      <th>native-country_Yugoslavia</th>\n",
       "    </tr>\n",
       "  </thead>\n",
       "  <tbody>\n",
       "    <tr>\n",
       "      <th>count</th>\n",
       "      <td>4999.000000</td>\n",
       "      <td>4999.000000</td>\n",
       "      <td>4999.000000</td>\n",
       "      <td>4999.000000</td>\n",
       "      <td>4.999000e+03</td>\n",
       "      <td>4999.000000</td>\n",
       "      <td>4999.000000</td>\n",
       "      <td>4999.000000</td>\n",
       "      <td>4999.000000</td>\n",
       "      <td>4999.000000</td>\n",
       "      <td>...</td>\n",
       "      <td>4999.000000</td>\n",
       "      <td>4999.000000</td>\n",
       "      <td>4999.000000</td>\n",
       "      <td>4999.000000</td>\n",
       "      <td>4999.000000</td>\n",
       "      <td>4999.000000</td>\n",
       "      <td>4999.000000</td>\n",
       "      <td>4999.000000</td>\n",
       "      <td>4999.000000</td>\n",
       "      <td>4999.0000</td>\n",
       "    </tr>\n",
       "    <tr>\n",
       "      <th>mean</th>\n",
       "      <td>38.507702</td>\n",
       "      <td>1107.311662</td>\n",
       "      <td>89.579316</td>\n",
       "      <td>10.037808</td>\n",
       "      <td>1.872684e+05</td>\n",
       "      <td>40.207041</td>\n",
       "      <td>0.234447</td>\n",
       "      <td>0.029606</td>\n",
       "      <td>0.061812</td>\n",
       "      <td>0.746949</td>\n",
       "      <td>...</td>\n",
       "      <td>0.001200</td>\n",
       "      <td>0.004401</td>\n",
       "      <td>0.001000</td>\n",
       "      <td>0.002801</td>\n",
       "      <td>0.000600</td>\n",
       "      <td>0.001000</td>\n",
       "      <td>0.000200</td>\n",
       "      <td>0.918184</td>\n",
       "      <td>0.001200</td>\n",
       "      <td>0.0004</td>\n",
       "    </tr>\n",
       "    <tr>\n",
       "      <th>std</th>\n",
       "      <td>13.779631</td>\n",
       "      <td>7708.775114</td>\n",
       "      <td>408.690353</td>\n",
       "      <td>2.595355</td>\n",
       "      <td>1.027916e+05</td>\n",
       "      <td>12.459078</td>\n",
       "      <td>0.423695</td>\n",
       "      <td>0.169514</td>\n",
       "      <td>0.240839</td>\n",
       "      <td>0.434803</td>\n",
       "      <td>...</td>\n",
       "      <td>0.034627</td>\n",
       "      <td>0.066200</td>\n",
       "      <td>0.031613</td>\n",
       "      <td>0.052851</td>\n",
       "      <td>0.024492</td>\n",
       "      <td>0.031613</td>\n",
       "      <td>0.014144</td>\n",
       "      <td>0.274112</td>\n",
       "      <td>0.034627</td>\n",
       "      <td>0.0200</td>\n",
       "    </tr>\n",
       "    <tr>\n",
       "      <th>min</th>\n",
       "      <td>17.000000</td>\n",
       "      <td>0.000000</td>\n",
       "      <td>0.000000</td>\n",
       "      <td>1.000000</td>\n",
       "      <td>1.376900e+04</td>\n",
       "      <td>1.000000</td>\n",
       "      <td>0.000000</td>\n",
       "      <td>0.000000</td>\n",
       "      <td>0.000000</td>\n",
       "      <td>0.000000</td>\n",
       "      <td>...</td>\n",
       "      <td>0.000000</td>\n",
       "      <td>0.000000</td>\n",
       "      <td>0.000000</td>\n",
       "      <td>0.000000</td>\n",
       "      <td>0.000000</td>\n",
       "      <td>0.000000</td>\n",
       "      <td>0.000000</td>\n",
       "      <td>0.000000</td>\n",
       "      <td>0.000000</td>\n",
       "      <td>0.0000</td>\n",
       "    </tr>\n",
       "    <tr>\n",
       "      <th>25%</th>\n",
       "      <td>27.000000</td>\n",
       "      <td>0.000000</td>\n",
       "      <td>0.000000</td>\n",
       "      <td>9.000000</td>\n",
       "      <td>1.154385e+05</td>\n",
       "      <td>39.000000</td>\n",
       "      <td>0.000000</td>\n",
       "      <td>0.000000</td>\n",
       "      <td>0.000000</td>\n",
       "      <td>0.000000</td>\n",
       "      <td>...</td>\n",
       "      <td>0.000000</td>\n",
       "      <td>0.000000</td>\n",
       "      <td>0.000000</td>\n",
       "      <td>0.000000</td>\n",
       "      <td>0.000000</td>\n",
       "      <td>0.000000</td>\n",
       "      <td>0.000000</td>\n",
       "      <td>1.000000</td>\n",
       "      <td>0.000000</td>\n",
       "      <td>0.0000</td>\n",
       "    </tr>\n",
       "    <tr>\n",
       "      <th>50%</th>\n",
       "      <td>37.000000</td>\n",
       "      <td>0.000000</td>\n",
       "      <td>0.000000</td>\n",
       "      <td>10.000000</td>\n",
       "      <td>1.775430e+05</td>\n",
       "      <td>40.000000</td>\n",
       "      <td>0.000000</td>\n",
       "      <td>0.000000</td>\n",
       "      <td>0.000000</td>\n",
       "      <td>1.000000</td>\n",
       "      <td>...</td>\n",
       "      <td>0.000000</td>\n",
       "      <td>0.000000</td>\n",
       "      <td>0.000000</td>\n",
       "      <td>0.000000</td>\n",
       "      <td>0.000000</td>\n",
       "      <td>0.000000</td>\n",
       "      <td>0.000000</td>\n",
       "      <td>1.000000</td>\n",
       "      <td>0.000000</td>\n",
       "      <td>0.0000</td>\n",
       "    </tr>\n",
       "    <tr>\n",
       "      <th>75%</th>\n",
       "      <td>48.000000</td>\n",
       "      <td>0.000000</td>\n",
       "      <td>0.000000</td>\n",
       "      <td>12.000000</td>\n",
       "      <td>2.362120e+05</td>\n",
       "      <td>45.000000</td>\n",
       "      <td>0.000000</td>\n",
       "      <td>0.000000</td>\n",
       "      <td>0.000000</td>\n",
       "      <td>1.000000</td>\n",
       "      <td>...</td>\n",
       "      <td>0.000000</td>\n",
       "      <td>0.000000</td>\n",
       "      <td>0.000000</td>\n",
       "      <td>0.000000</td>\n",
       "      <td>0.000000</td>\n",
       "      <td>0.000000</td>\n",
       "      <td>0.000000</td>\n",
       "      <td>1.000000</td>\n",
       "      <td>0.000000</td>\n",
       "      <td>0.0000</td>\n",
       "    </tr>\n",
       "    <tr>\n",
       "      <th>max</th>\n",
       "      <td>90.000000</td>\n",
       "      <td>99999.000000</td>\n",
       "      <td>3175.000000</td>\n",
       "      <td>16.000000</td>\n",
       "      <td>1.047822e+06</td>\n",
       "      <td>99.000000</td>\n",
       "      <td>1.000000</td>\n",
       "      <td>1.000000</td>\n",
       "      <td>1.000000</td>\n",
       "      <td>1.000000</td>\n",
       "      <td>...</td>\n",
       "      <td>1.000000</td>\n",
       "      <td>1.000000</td>\n",
       "      <td>1.000000</td>\n",
       "      <td>1.000000</td>\n",
       "      <td>1.000000</td>\n",
       "      <td>1.000000</td>\n",
       "      <td>1.000000</td>\n",
       "      <td>1.000000</td>\n",
       "      <td>1.000000</td>\n",
       "      <td>1.0000</td>\n",
       "    </tr>\n",
       "  </tbody>\n",
       "</table>\n",
       "<p>8 rows × 88 columns</p>\n",
       "</div>"
      ],
      "text/plain": [
       "               age  capital-gain  capital-loss  educational-num        fnlwgt   \n",
       "count  4999.000000   4999.000000   4999.000000      4999.000000  4.999000e+03  \\\n",
       "mean     38.507702   1107.311662     89.579316        10.037808  1.872684e+05   \n",
       "std      13.779631   7708.775114    408.690353         2.595355  1.027916e+05   \n",
       "min      17.000000      0.000000      0.000000         1.000000  1.376900e+04   \n",
       "25%      27.000000      0.000000      0.000000         9.000000  1.154385e+05   \n",
       "50%      37.000000      0.000000      0.000000        10.000000  1.775430e+05   \n",
       "75%      48.000000      0.000000      0.000000        12.000000  2.362120e+05   \n",
       "max      90.000000  99999.000000   3175.000000        16.000000  1.047822e+06   \n",
       "\n",
       "       hours-per-week       income  workclass_Federal-gov   \n",
       "count     4999.000000  4999.000000            4999.000000  \\\n",
       "mean        40.207041     0.234447               0.029606   \n",
       "std         12.459078     0.423695               0.169514   \n",
       "min          1.000000     0.000000               0.000000   \n",
       "25%         39.000000     0.000000               0.000000   \n",
       "50%         40.000000     0.000000               0.000000   \n",
       "75%         45.000000     0.000000               0.000000   \n",
       "max         99.000000     1.000000               1.000000   \n",
       "\n",
       "       workclass_Local-gov  workclass_Private  ...  native-country_Portugal   \n",
       "count          4999.000000        4999.000000  ...              4999.000000  \\\n",
       "mean              0.061812           0.746949  ...                 0.001200   \n",
       "std               0.240839           0.434803  ...                 0.034627   \n",
       "min               0.000000           0.000000  ...                 0.000000   \n",
       "25%               0.000000           0.000000  ...                 0.000000   \n",
       "50%               0.000000           1.000000  ...                 0.000000   \n",
       "75%               0.000000           1.000000  ...                 0.000000   \n",
       "max               1.000000           1.000000  ...                 1.000000   \n",
       "\n",
       "       native-country_Puerto-Rico  native-country_Scotland   \n",
       "count                 4999.000000              4999.000000  \\\n",
       "mean                     0.004401                 0.001000   \n",
       "std                      0.066200                 0.031613   \n",
       "min                      0.000000                 0.000000   \n",
       "25%                      0.000000                 0.000000   \n",
       "50%                      0.000000                 0.000000   \n",
       "75%                      0.000000                 0.000000   \n",
       "max                      1.000000                 1.000000   \n",
       "\n",
       "       native-country_South  native-country_Taiwan  native-country_Thailand   \n",
       "count           4999.000000            4999.000000              4999.000000  \\\n",
       "mean               0.002801               0.000600                 0.001000   \n",
       "std                0.052851               0.024492                 0.031613   \n",
       "min                0.000000               0.000000                 0.000000   \n",
       "25%                0.000000               0.000000                 0.000000   \n",
       "50%                0.000000               0.000000                 0.000000   \n",
       "75%                0.000000               0.000000                 0.000000   \n",
       "max                1.000000               1.000000                 1.000000   \n",
       "\n",
       "       native-country_Trinadad&Tobago  native-country_United-States   \n",
       "count                     4999.000000                   4999.000000  \\\n",
       "mean                         0.000200                      0.918184   \n",
       "std                          0.014144                      0.274112   \n",
       "min                          0.000000                      0.000000   \n",
       "25%                          0.000000                      1.000000   \n",
       "50%                          0.000000                      1.000000   \n",
       "75%                          0.000000                      1.000000   \n",
       "max                          1.000000                      1.000000   \n",
       "\n",
       "       native-country_Vietnam  native-country_Yugoslavia  \n",
       "count             4999.000000                  4999.0000  \n",
       "mean                 0.001200                     0.0004  \n",
       "std                  0.034627                     0.0200  \n",
       "min                  0.000000                     0.0000  \n",
       "25%                  0.000000                     0.0000  \n",
       "50%                  0.000000                     0.0000  \n",
       "75%                  0.000000                     0.0000  \n",
       "max                  1.000000                     1.0000  \n",
       "\n",
       "[8 rows x 88 columns]"
      ]
     },
     "execution_count": 26,
     "metadata": {},
     "output_type": "execute_result"
    }
   ],
   "source": [
    "# (debug) Show information about of fully encoded dataset\n",
    "df.describe()"
   ]
  },
  {
   "cell_type": "markdown",
   "id": "0d444492",
   "metadata": {},
   "source": [
    "# Task 3\n",
    "\n",
    ">How can you scale the continuous features in your dataset? Consider using techniques such as min-max scaling and normalization."
   ]
  },
  {
   "cell_type": "code",
   "execution_count": 27,
   "id": "5c350c14",
   "metadata": {},
   "outputs": [],
   "source": [
    "# Select continuous columns\n",
    "continuous_cols = ['age', 'capital-gain', 'capital-loss', 'educational-num', 'fnlwgt', 'hours-per-week']"
   ]
  },
  {
   "cell_type": "markdown",
   "id": "cbe93297",
   "metadata": {},
   "source": [
    "#### Min-Max Scaling\n",
    "\n",
    "To scale the continuous features in the processed_df dataset, we can use either Min-Max Scaling or other normalization techniques. Here's an example of how to apply these techniques using scikit-learn.\n",
    "\n",
    "Let us apply Min-Max Scaling first."
   ]
  },
  {
   "cell_type": "code",
   "execution_count": 28,
   "id": "ee95b45b",
   "metadata": {},
   "outputs": [],
   "source": [
    "# Perform min-max scaling\n",
    "min_max_scaler = MinMaxScaler()\n",
    "minmax_df = df.copy()\n",
    "minmax_df[continuous_cols] = min_max_scaler.fit_transform(minmax_df[continuous_cols])"
   ]
  },
  {
   "cell_type": "markdown",
   "id": "751b7266",
   "metadata": {},
   "source": [
    "#### Standardization\n",
    "\n",
    "Let us try Standardization instead."
   ]
  },
  {
   "cell_type": "code",
   "execution_count": 29,
   "id": "31ce4a7c",
   "metadata": {},
   "outputs": [],
   "source": [
    "# Perform standardization\n",
    "standard_scaler = StandardScaler()\n",
    "standard_df = df.copy()\n",
    "standard_df[continuous_cols] = standard_scaler.fit_transform(standard_df[continuous_cols])"
   ]
  },
  {
   "cell_type": "markdown",
   "id": "a5e18fe7",
   "metadata": {},
   "source": [
    "#### Comparing normalization techniques\n",
    "\n",
    "We have tried 3 different normalization techniques: (1) Not normalizing at all, (2) Min-Max Scaling & (3) Standardization.\n",
    "\n",
    "At this point we cannot say which is better because we do not have an ML model. However, we can plot the data in its normalized and raw form to get an idea. Let us make three boxplots, excluding \"capital-loss\" and \"capital-gains\" because visualizing them would serve a very limited use (cf. [1.2.1](#Measuring-noise-in-numeric-variables))."
   ]
  },
  {
   "cell_type": "code",
   "execution_count": 30,
   "id": "77a790d1",
   "metadata": {},
   "outputs": [
    {
     "data": {
      "text/plain": [
       "<Axes: >"
      ]
     },
     "execution_count": 30,
     "metadata": {},
     "output_type": "execute_result"
    },
    {
     "data": {
      "image/png": "[encoded data removed]",
      "text/plain": [
       "<Figure size 640x480 with 1 Axes>"
      ]
     },
     "metadata": {},
     "output_type": "display_data"
    }
   ],
   "source": [
    "# Boxplot the continuous features in processed_df\n",
    "df[['age', 'educational-num', 'fnlwgt', 'hours-per-week']].boxplot()"
   ]
  },
  {
   "cell_type": "code",
   "execution_count": 31,
   "id": "9f52e0c0",
   "metadata": {},
   "outputs": [
    {
     "data": {
      "text/plain": [
       "<Axes: >"
      ]
     },
     "execution_count": 31,
     "metadata": {},
     "output_type": "execute_result"
    },
    {
     "data": {
      "image/png": "[encoded data removed]",
      "text/plain": [
       "<Figure size 640x480 with 1 Axes>"
      ]
     },
     "metadata": {},
     "output_type": "display_data"
    }
   ],
   "source": [
    "# Boxplot the continuous features in minmax_df\n",
    "minmax_df[['age', 'educational-num', 'fnlwgt', 'hours-per-week']].boxplot()"
   ]
  },
  {
   "cell_type": "code",
   "execution_count": 32,
   "id": "9123d0bc",
   "metadata": {},
   "outputs": [
    {
     "data": {
      "text/plain": [
       "<Axes: >"
      ]
     },
     "execution_count": 32,
     "metadata": {},
     "output_type": "execute_result"
    },
    {
     "data": {
      "image/png": "[encoded data removed]",
      "text/plain": [
       "<Figure size 640x480 with 1 Axes>"
      ]
     },
     "metadata": {},
     "output_type": "display_data"
    }
   ],
   "source": [
    "# Boxplot the continuous features in standard_df\n",
    "standard_df[['age', 'educational-num', 'fnlwgt', 'hours-per-week']].boxplot()"
   ]
  },
  {
   "cell_type": "markdown",
   "id": "3ba5f6b1",
   "metadata": {},
   "source": [
    "<h1><span style=\"color:red\">Task 4</span></h1>\n",
    "\n",
    ">Check for outliers in the dataset features and handle them using appropriate techniques like removing outliers, imputation, winsorization, transformation, and bin binning."
   ]
  },
  {
   "cell_type": "markdown",
   "id": "50a41b54",
   "metadata": {},
   "source": [
    "From the Box Plots above, we can guess that the outliers in the continuous variables play a big role. The continuous variables \"capital-gain\" and \"capital-loss\" have an even bigger share of outliers."
   ]
  },
  {
   "cell_type": "markdown",
   "id": "447673bf",
   "metadata": {},
   "source": [
    "#### Identifying the outliers"
   ]
  },
  {
   "cell_type": "markdown",
   "id": "decab8b3",
   "metadata": {},
   "source": [
    "##### Bugged Code\n",
    "\n",
    "The code below is not functional as of now"
   ]
  },
  {
   "cell_type": "code",
   "execution_count": 33,
   "id": "f43b3661",
   "metadata": {},
   "outputs": [],
   "source": [
    "#cont_df = df[continuous_cols].copy()"
   ]
  },
  {
   "cell_type": "code",
   "execution_count": 34,
   "id": "5476b369",
   "metadata": {},
   "outputs": [],
   "source": [
    "# Compute interquartile range (IQR) for each continuous feature\n",
    "#q1 = cont_df.quantile(0.25)\n",
    "#q3 = cont_df.quantile(0.75)\n",
    "#iqr = q3 - q1\n",
    "# Compute lower and upper bounds for identifying outliers\n",
    "#lower_bound = q1 - 1.5 * iqr\n",
    "#upper_bound = q3 + 1.5 * iqr"
   ]
  },
  {
   "cell_type": "code",
   "execution_count": 35,
   "id": "7e10190a",
   "metadata": {},
   "outputs": [],
   "source": [
    "# Identify potential outliers\n",
    "#outliers = {}\n",
    "#outliers = cont_df[(cont_df[col] < lower_bound[col]) | (cont_df[col] > upper_bound[col])]\n",
    "#outliers"
   ]
  },
  {
   "cell_type": "markdown",
   "id": "f1c72821",
   "metadata": {},
   "source": [
    "# Task 5\n",
    "\n",
    ">Analyse the dataset and determine if the target variable 'class' is balanced or not.\n",
    "\n",
    ">[...] balance it using techniques [like under-sampling]."
   ]
  },
  {
   "cell_type": "markdown",
   "id": "ec2a2181",
   "metadata": {},
   "source": [
    "#### Determining if the dataset is balanced\n",
    "\n",
    "First, we need to calculate the proportion of each class in the target variable. Let us count the number of occurrences of each class (<=50K and >50K) and calculate the percentage of each class."
   ]
  },
  {
   "cell_type": "code",
   "execution_count": 36,
   "id": "e5dffb39",
   "metadata": {},
   "outputs": [
    {
     "name": "stdout",
     "output_type": "stream",
     "text": [
      "Counts of each class:\n",
      "income\n",
      "0    3827\n",
      "1    1172\n",
      "Name: count, dtype: int64\n",
      "\n",
      "Percentage of each class:\n",
      "income\n",
      "0    76.555311\n",
      "1    23.444689\n",
      "Name: proportion, dtype: float64\n"
     ]
    }
   ],
   "source": [
    "income_counts = df['income'].value_counts()\n",
    "income_percentage = df['income'].value_counts(normalize=True) * 100\n",
    "\n",
    "print(\"Counts of each class:\")\n",
    "print(income_counts)\n",
    "print(\"\\nPercentage of each class:\")\n",
    "print(income_percentage)"
   ]
  },
  {
   "cell_type": "code",
   "execution_count": 37,
   "id": "c49d0254",
   "metadata": {
    "scrolled": true
   },
   "outputs": [
    {
     "data": {
      "image/png": "[encoded data removed]",
      "text/plain": [
       "<Figure size 1000x600 with 1 Axes>"
      ]
     },
     "metadata": {},
     "output_type": "display_data"
    }
   ],
   "source": [
    "plt.figure(figsize=(10, 6))\n",
    "sns.countplot(x='income', data=df)\n",
    "plt.title(\"Class Distribution (Before Under-Sampling)\")\n",
    "plt.show()"
   ]
  },
  {
   "cell_type": "markdown",
   "id": "597158c4",
   "metadata": {},
   "source": [
    "#### Undersampling the data\n",
    "\n",
    "We chose random under-sampling because it's simple: Eliminating instances from the majority class. It's useful when the dataset is large enough for model performance to remain the same. NB: Random under-sampling can potentially remove important information from the majority class, especially when there is a high imbalance ratio."
   ]
  },
  {
   "cell_type": "code",
   "execution_count": 38,
   "id": "fb0e4153",
   "metadata": {},
   "outputs": [
    {
     "name": "stdout",
     "output_type": "stream",
     "text": [
      "\n",
      "Counts of each class after random under-sampling:\n",
      "Counter({0: 1172, 1: 1172})\n"
     ]
    },
    {
     "data": {
      "image/png": "[encoded data removed]",
      "text/plain": [
       "<Figure size 1000x600 with 1 Axes>"
      ]
     },
     "metadata": {},
     "output_type": "display_data"
    }
   ],
   "source": [
    "X = df.drop('income', axis=1)\n",
    "y = df['income']\n",
    "\n",
    "rus = RandomUnderSampler(random_state=42)\n",
    "X_resampled, y_resampled = rus.fit_resample(X, y)\n",
    "\n",
    "print(\"\\nCounts of each class after random under-sampling:\")\n",
    "print(Counter(y_resampled))\n",
    "\n",
    "resampled_data = pd.concat([X_resampled, y_resampled], axis=1)\n",
    "\n",
    "plt.figure(figsize=(10, 6))\n",
    "sns.countplot(x='income', data=resampled_data)\n",
    "plt.title(\"Class Distribution (After Under-Sampling)\")\n",
    "plt.show()"
   ]
  },
  {
   "cell_type": "markdown",
   "id": "62b28d1d",
   "metadata": {},
   "source": [
    "<h1><span style=\"color:red\">Task 6</span></h1>\n",
    "\n",
    ">Analyse the dataset and create new features/derived features. [...] This can help the model better capture patterns."
   ]
  },
  {
   "cell_type": "markdown",
   "id": "f0415bf8",
   "metadata": {},
   "source": [
    "<h1><span style=\"color:red\">Task 7</span></h1>\n",
    "\n",
    ">Identify:\n",
    "\n",
    ">[1.] The relevant features that are likely to have a significant impact [on income]\n",
    "\n",
    ">[2.] The irrelevant or redundant features [...] to the prediction task."
   ]
  }
 ],
 "metadata": {
  "kernelspec": {
   "display_name": "Python 3 (ipykernel)",
   "language": "python",
   "name": "python3"
  },
  "language_info": {
   "codemirror_mode": {
    "name": "ipython",
    "version": 3
   },
   "file_extension": ".py",
   "mimetype": "text/x-python",
   "name": "python",
   "nbconvert_exporter": "python",
   "pygments_lexer": "ipython3",
   "version": "3.10.10"
  }
 },
 "nbformat": 4,
 "nbformat_minor": 5
}
