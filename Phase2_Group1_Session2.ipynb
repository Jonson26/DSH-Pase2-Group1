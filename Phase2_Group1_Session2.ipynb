{
 "cells": [
  {
   "cell_type": "markdown",
   "id": "24c59546",
   "metadata": {
    "tags": []
   },
   "source": [
    "#### Creating a Dataframe\n",
    "\n",
    "Let us initiate the dataframe with the first 5000 rows."
   ]
  },
  {
   "cell_type": "code",
   "execution_count": 1,
   "id": "65be3386",
   "metadata": {
    "scrolled": true,
    "tags": []
   },
   "outputs": [],
   "source": [
    "import pandas as pd\n",
    "import numpy as np\n",
    "# Store the first 5000 rows as a dataframe\n",
    "ds = pd.read_csv('adult.csv')\n",
    "sp_ds = ds[:5000]\n",
    "df = pd.DataFrame(sp_ds)"
   ]
  },
  {
   "cell_type": "markdown",
   "id": "200ca6df",
   "metadata": {
    "tags": []
   },
   "source": [
    "# Task 1\n",
    "\n",
    ">Check for missing values in the dataset and handle them \\[...\\] ([1.1.](#Subtask-1.1.-Checking-for-missing-values-and-handling-them))\n",
    "\n",
    ">Check the dataset for noisy data, inconsistencies, and duplicate entries \\[...\\]. ([1.2.](#Subtask-1.2.-Checking-for-noisy-data,-inconsistencies-&-duplicate-entries))"
   ]
  },
  {
   "cell_type": "markdown",
   "id": "e0bfb1e2",
   "metadata": {
    "tags": []
   },
   "source": [
    "## Subtask 1.1. Checking for missing values and handling them"
   ]
  },
  {
   "cell_type": "markdown",
   "id": "0a15ee99",
   "metadata": {},
   "source": [
    "#### Counting the missing values\n",
    "\n",
    "There are missing values in the form of question marks (\"?\").\n",
    "\n",
    "Let us [count](https://stackoverflow.com/questions/20076195/) these missing values."
   ]
  },
  {
   "cell_type": "code",
   "execution_count": 2,
   "id": "9a2ea13b",
   "metadata": {
    "scrolled": true,
    "tags": []
   },
   "outputs": [
    {
     "data": {
      "text/plain": [
       "707"
      ]
     },
     "execution_count": 2,
     "metadata": {},
     "output_type": "execute_result"
    }
   ],
   "source": [
    "# Stack all values and count the question marks\n",
    "column_names = [\"age\", \"workclass\", \"fnlwgt\", \"education\", \"educational-num\", \"marital-status\", \"occupation\", \"relationship\", \"race\", \"gender\", \"capital-gain\", \"capital-loss\", \"hours-per-week\", \"native-country\", \"income\"]\n",
    "df[[i for i in column_names]].astype('str').stack().value_counts()['?'].sum()"
   ]
  },
  {
   "cell_type": "markdown",
   "id": "5e57253a",
   "metadata": {},
   "source": [
    "#### Counting the Null values\n",
    "\n",
    "As seen above, there are 707 missing values in total.\n",
    "\n",
    "Let us count the null values (if any):"
   ]
  },
  {
   "cell_type": "code",
   "execution_count": 3,
   "id": "bf2c9999",
   "metadata": {
    "tags": []
   },
   "outputs": [
    {
     "data": {
      "text/plain": [
       "0"
      ]
     },
     "execution_count": 3,
     "metadata": {},
     "output_type": "execute_result"
    }
   ],
   "source": [
    "# Check for null values\n",
    "df.isnull().sum().sum()"
   ]
  },
  {
   "cell_type": "markdown",
   "id": "1a06b1c1",
   "metadata": {},
   "source": [
    "#### Listing the affected columns (variables)\n",
    "\n",
    "So there are no null values.\n",
    "\n",
    "As for the 707 missing values found earlier, we need to know how to impute them. Let us [find](https://stackoverflow.com/questions/50923707) the columns that contain missing values."
   ]
  },
  {
   "cell_type": "code",
   "execution_count": 4,
   "id": "ba7e9f55",
   "metadata": {
    "tags": []
   },
   "outputs": [
    {
     "data": {
      "text/plain": [
       "Index(['workclass', 'occupation', 'native-country'], dtype='object')"
      ]
     },
     "execution_count": 4,
     "metadata": {},
     "output_type": "execute_result"
    }
   ],
   "source": [
    "# List the columns that contain a question mark value\n",
    "df.columns[df.isin(['?']).any()]"
   ]
  },
  {
   "cell_type": "markdown",
   "id": "968bbf25",
   "metadata": {},
   "source": [
    "#### Determining their most frequent category\n",
    "\n",
    "The 707 missing values are distributed over three variables. All three of these are nominal variables.\n",
    "\n",
    "For now, we will impute them using the most frequent category. Since the 707 missing values are distributed over a total of 5'000x3 = 15'000 values, this simple imputation method should not significantly affect the data.\n",
    "\n",
    "Let us first find out the most frequent category in each variable."
   ]
  },
  {
   "cell_type": "code",
   "execution_count": 5,
   "id": "5da1c841",
   "metadata": {
    "tags": []
   },
   "outputs": [
    {
     "data": {
      "text/plain": [
       "workclass\n",
       "Private    3420\n",
       "Name: count, dtype: int64"
      ]
     },
     "execution_count": 5,
     "metadata": {},
     "output_type": "execute_result"
    }
   ],
   "source": [
    "# Count most frequent value in \"workclass\"\n",
    "df.workclass.value_counts().head(1)"
   ]
  },
  {
   "cell_type": "code",
   "execution_count": 6,
   "id": "e29c552a",
   "metadata": {
    "tags": []
   },
   "outputs": [
    {
     "data": {
      "text/plain": [
       "occupation\n",
       "Prof-specialty    644\n",
       "Name: count, dtype: int64"
      ]
     },
     "execution_count": 6,
     "metadata": {},
     "output_type": "execute_result"
    }
   ],
   "source": [
    "# Count most frequent value in \"occupation\"\n",
    "df.occupation.value_counts().head(1)"
   ]
  },
  {
   "cell_type": "code",
   "execution_count": 7,
   "id": "57affc8e",
   "metadata": {
    "tags": []
   },
   "outputs": [
    {
     "data": {
      "text/plain": [
       "native-country\n",
       "United-States    4514\n",
       "Name: count, dtype: int64"
      ]
     },
     "execution_count": 7,
     "metadata": {},
     "output_type": "execute_result"
    }
   ],
   "source": [
    "# Count most frequent value in \"native-country\"\n",
    "df['native-country'].value_counts().head(1)"
   ]
  },
  {
   "cell_type": "markdown",
   "id": "57b0522a",
   "metadata": {},
   "source": [
    "#### Imputing with their most frequent category\n",
    "\n",
    "Now we know that the most frequent categories are the Private sector, the \"Prof-specialty\" occupation, and the country United States.\n",
    "\n",
    "Let us replace the missing values with the respective most frequent category."
   ]
  },
  {
   "cell_type": "code",
   "execution_count": 8,
   "id": "0b1a8fba",
   "metadata": {
    "tags": []
   },
   "outputs": [
    {
     "data": {
      "text/plain": [
       "workclass\n",
       "Private    3735\n",
       "Name: count, dtype: int64"
      ]
     },
     "execution_count": 8,
     "metadata": {},
     "output_type": "execute_result"
    }
   ],
   "source": [
    "# Workclass : Replace question marks\n",
    "df.workclass.replace('?','Private', inplace=True)\n",
    "# Count most frequent value again\n",
    "df.workclass.value_counts().head(1)"
   ]
  },
  {
   "cell_type": "code",
   "execution_count": 9,
   "id": "cd20d732",
   "metadata": {
    "tags": []
   },
   "outputs": [
    {
     "data": {
      "text/plain": [
       "occupation\n",
       "Prof-specialty    959\n",
       "Name: count, dtype: int64"
      ]
     },
     "execution_count": 9,
     "metadata": {},
     "output_type": "execute_result"
    }
   ],
   "source": [
    "# Occupation : Replace question marks\n",
    "df.occupation.replace('?','Prof-specialty', inplace=True)\n",
    "# Count most frequent value again\n",
    "df.occupation.value_counts().head(1)"
   ]
  },
  {
   "cell_type": "code",
   "execution_count": 10,
   "id": "5cfe31d8",
   "metadata": {
    "tags": []
   },
   "outputs": [
    {
     "data": {
      "text/plain": [
       "native-country\n",
       "United-States    4591\n",
       "Name: count, dtype: int64"
      ]
     },
     "execution_count": 10,
     "metadata": {},
     "output_type": "execute_result"
    }
   ],
   "source": [
    "# Native-country : Replace question marks\n",
    "df['native-country'].replace('?','United-States', inplace=True)\n",
    "# Count most frequent value again\n",
    "df['native-country'].value_counts().head(1)"
   ]
  },
  {
   "cell_type": "markdown",
   "id": "01142ae9",
   "metadata": {},
   "source": [
    "#### Checking that the missing values are handled\n",
    "\n",
    "As expected, the most frequent categories became even more frequent. Let us check for missing values again."
   ]
  },
  {
   "cell_type": "code",
   "execution_count": 11,
   "id": "dbb20f19",
   "metadata": {
    "scrolled": true,
    "tags": []
   },
   "outputs": [
    {
     "data": {
      "text/plain": [
       "Index([], dtype='object')"
      ]
     },
     "execution_count": 11,
     "metadata": {},
     "output_type": "execute_result"
    }
   ],
   "source": [
    "# List the columns that contain a question mark value\n",
    "df.columns[df.isin(['?']).any()]"
   ]
  },
  {
   "cell_type": "markdown",
   "id": "02389d1e-09ce-40aa-a870-5bde82c4fd93",
   "metadata": {
    "tags": []
   },
   "source": [
    "## Subtask 1.2. Checking for noisy data, inconsistencies & duplicate entries"
   ]
  },
  {
   "cell_type": "markdown",
   "id": "b3491121",
   "metadata": {
    "tags": []
   },
   "source": [
    "### Subsubtask 1.2.1 Checking for noisy data\n",
    "\n",
    "Some definitions for noisy data include: Data that is corrupted/distorted & Data that has a low signal-to-noise ratio.\n",
    "\n",
    "While the latter can be [measured using a formula](https://en.wikipedia.org/wiki/Signal-to-noise_ratio), checking for corrupted and distorted data will need manual examination."
   ]
  },
  {
   "cell_type": "markdown",
   "id": "816e6b0b-ff2e-4449-9f3d-93208d565f18",
   "metadata": {
    "tags": []
   },
   "source": [
    "#### Finding corrupted data\n",
    "\n",
    "[There are 8 nominal variables in our data.](http://www.cs.toronto.edu/~delve/data/adult/adultDetail.html) Corrupted values are likely to hide in their rarest categories.\n",
    "\n",
    "Let us search for corrupted data, by listing rare categories in non-number variables, treating \"native-country\" separately since it has especially many categories."
   ]
  },
  {
   "cell_type": "code",
   "execution_count": 12,
   "id": "4164d3d7",
   "metadata": {
    "tags": []
   },
   "outputs": [
    {
     "data": {
      "text/plain": [
       "1st-4th              24\n",
       "Preschool            13\n",
       "Married-AF-spouse     3\n",
       "Without-pay           2\n",
       "Armed-Forces          1\n",
       "Name: count, dtype: int64"
      ]
     },
     "execution_count": 12,
     "metadata": {},
     "output_type": "execute_result"
    }
   ],
   "source": [
    "# Stack values in said non-number variables and show the rarest categories\n",
    "non_num_column_names = [\"workclass\", \"education\", \"marital-status\", \"occupation\", \"relationship\", \"race\", \"gender\"]\n",
    "df[[i for i in non_num_column_names]].astype('str').stack().value_counts().tail()"
   ]
  },
  {
   "cell_type": "code",
   "execution_count": 13,
   "id": "9570fbc3",
   "metadata": {
    "tags": []
   },
   "outputs": [
    {
     "data": {
      "text/plain": [
       "Laos                          1\n",
       "Hong                          1\n",
       "Trinadad&Tobago               1\n",
       "Outlying-US(Guam-USVI-etc)    1\n",
       "France                        1\n",
       "Name: count, dtype: int64"
      ]
     },
     "execution_count": 13,
     "metadata": {},
     "output_type": "execute_result"
    }
   ],
   "source": [
    "# Stack values in \"native-country\" and show the rarest categories\n",
    "df[['native-country']].astype('str').stack().value_counts().tail()"
   ]
  },
  {
   "cell_type": "markdown",
   "id": "60f36acd-4f0c-44ba-bb2a-0e386daed445",
   "metadata": {},
   "source": [
    "Examining these values reveals no corrupted information except for typing errors in the country names of Hong Kong and Trinidad&Tobago. However, the typing errors do not affect the usefulness of the data, as each country is represented by only one category."
   ]
  },
  {
   "cell_type": "markdown",
   "id": "25f4cd4b-e71f-4e5d-bfb7-c785f2e730fa",
   "metadata": {},
   "source": [
    "#### Finding distorted data\n",
    "\n",
    "[Our data has 6 continous variables.](http://www.cs.toronto.edu/~delve/data/adult/adultDetail.html) They are \"age\", \"fnlwgt\" (finalweight), \"educational-num\", \"capital-gain\", \"capital-loss\", and \"hours-per-week\". For the first five, there exists a distribution plot in our first presentation. As for \"hours-per-week\", a plot has been generated below.\n",
    "\n",
    "Considering all of these plots, there is only one obvious distortion: Age 90 is more represented than the other ages in that range. We assume that this is an intended grouping of ages 90+ that has been made in the original data. Therefore it does not negatively affect the quality of the dataset"
   ]
  },
  {
   "cell_type": "code",
   "execution_count": null,
   "id": "a83de69b-f9e8-454d-b548-abbb952f326a",
   "metadata": {
    "tags": []
   },
   "outputs": [],
   "source": [
    "# Value distribution plot for \"hours-per-week\" (requires matplotlib)\n",
    "df['hours-per-week'].plot.hist()"
   ]
  },
  {
   "cell_type": "markdown",
   "id": "66d4b0e2-9c3c-42c2-aefb-c95a430970aa",
   "metadata": {},
   "source": [
    "#### Measuring noise in numeric variables\n",
    "\n",
    "We will measure the signal-to-noise ratio (SNR) of the 6 numeric variables to determine if any has a high noise.\n",
    "\n",
    "According to [this Wikipedia article](https://en.wikipedia.org/wiki/Signal-to-noise_ratio), the SNR can be calculated as (μ^2/σ^2).\n",
    "\n",
    "Let us find μ (the means) and σ (the standard deviations) to apply the formula."
   ]
  },
  {
   "cell_type": "code",
   "execution_count": 14,
   "id": "48fb13bc",
   "metadata": {},
   "outputs": [
    {
     "data": {
      "text/html": [
       "<div>\n",
       "<style scoped>\n",
       "    .dataframe tbody tr th:only-of-type {\n",
       "        vertical-align: middle;\n",
       "    }\n",
       "\n",
       "    .dataframe tbody tr th {\n",
       "        vertical-align: top;\n",
       "    }\n",
       "\n",
       "    .dataframe thead th {\n",
       "        text-align: right;\n",
       "    }\n",
       "</style>\n",
       "<table border=\"1\" class=\"dataframe\">\n",
       "  <thead>\n",
       "    <tr style=\"text-align: right;\">\n",
       "      <th></th>\n",
       "      <th>age</th>\n",
       "      <th>fnlwgt</th>\n",
       "      <th>educational-num</th>\n",
       "      <th>capital-gain</th>\n",
       "      <th>capital-loss</th>\n",
       "      <th>hours-per-week</th>\n",
       "    </tr>\n",
       "  </thead>\n",
       "  <tbody>\n",
       "    <tr>\n",
       "      <th>mean</th>\n",
       "      <td>38.504800</td>\n",
       "      <td>187269.876000</td>\n",
       "      <td>10.038400</td>\n",
       "      <td>1107.090200</td>\n",
       "      <td>89.561400</td>\n",
       "      <td>40.20600</td>\n",
       "    </tr>\n",
       "    <tr>\n",
       "      <th>std</th>\n",
       "      <td>13.779781</td>\n",
       "      <td>102781.411899</td>\n",
       "      <td>2.595433</td>\n",
       "      <td>7708.019951</td>\n",
       "      <td>408.651437</td>\n",
       "      <td>12.45805</td>\n",
       "    </tr>\n",
       "  </tbody>\n",
       "</table>\n",
       "</div>"
      ],
      "text/plain": [
       "            age         fnlwgt  educational-num  capital-gain  capital-loss   \n",
       "mean  38.504800  187269.876000        10.038400   1107.090200     89.561400  \\\n",
       "std   13.779781  102781.411899         2.595433   7708.019951    408.651437   \n",
       "\n",
       "      hours-per-week  \n",
       "mean        40.20600  \n",
       "std         12.45805  "
      ]
     },
     "execution_count": 14,
     "metadata": {},
     "output_type": "execute_result"
    }
   ],
   "source": [
    "# Get mean and STD of the the numerical variables\n",
    "numericInfo = df.describe().iloc[1:3]\n",
    "numericInfo"
   ]
  },
  {
   "cell_type": "markdown",
   "id": "44e660e7",
   "metadata": {},
   "source": [
    "Now, let us compute the SNR."
   ]
  },
  {
   "cell_type": "code",
   "execution_count": 15,
   "id": "3bbe46ff",
   "metadata": {},
   "outputs": [
    {
     "data": {
      "text/plain": [
       "{'Age': 7.8080958880742415,\n",
       " 'Final Weight': 3.319759996517732,\n",
       " 'Education-Num': 14.959233262883458,\n",
       " 'Capital Gain': 0.02062910339656595,\n",
       " 'Capital Loss': 0.04803255474767841,\n",
       " 'Hours per Week': 10.415535705359764}"
      ]
     },
     "execution_count": 15,
     "metadata": {},
     "output_type": "execute_result"
    }
   ],
   "source": [
    "# Calculate SNRs and store them in variables\n",
    "resultage = ( (numericInfo['age'][0])**2 ) / ( (numericInfo['age'][1])**2 )\n",
    "resultweight = ( (numericInfo['fnlwgt'][0])**2 ) / ( (numericInfo['fnlwgt'][1])**2 )\n",
    "resultedu = ( (numericInfo['educational-num'][0])**2 ) / ( (numericInfo['educational-num'][1])**2 )\n",
    "resultcapg = ( (numericInfo['capital-gain'][0])**2 ) / ( (numericInfo['capital-gain'][1])**2 )\n",
    "resultcapl = ( (numericInfo['capital-loss'][0])**2 ) / ( (numericInfo['capital-loss'][1])**2 )\n",
    "resulthpw = ( (numericInfo['hours-per-week'][0])**2 ) / ( (numericInfo['hours-per-week'][1])**2 )\n",
    "# Output the variables\n",
    "def SNRs():\n",
    "    return {\"Age\": resultage, \"Final Weight\": resultweight, \"Education-Num\": resultedu, \"Capital Gain\": resultcapg, \"Capital Loss\": resultcapl, \"Hours per Week\": resulthpw}\n",
    "SNRs()"
   ]
  },
  {
   "cell_type": "markdown",
   "id": "9964b77c",
   "metadata": {},
   "source": [
    "As we can see, the signal is significantly stronger than the noise for most variables. However, the two variables \"capital-gain\" and \"capital-loss\" have a very weak SNR.\n",
    "\n",
    "The high noise in the capital related data might make its analysis difficult for machine learning (ML) models. We will approach this problem with either feature scaling or feature engineering in Task 3."
   ]
  },
  {
   "cell_type": "markdown",
   "id": "f9889e29-fbba-4d86-9965-d0a1bcd53064",
   "metadata": {
    "tags": []
   },
   "source": [
    "### Subsubtask 1.2.2 Checking for inconsistencies\n",
    "\n",
    "Let us make sure Capital Gains VS Losses are mutually exclusive."
   ]
  },
  {
   "cell_type": "code",
   "execution_count": 16,
   "id": "66edcc07",
   "metadata": {},
   "outputs": [
    {
     "data": {
      "text/plain": [
       "'Empty Dataset'"
      ]
     },
     "execution_count": 16,
     "metadata": {},
     "output_type": "execute_result"
    }
   ],
   "source": [
    "# Output entries with non-zero capital gains AND losses, if any\n",
    "def capitalInconsistencies():\n",
    "    inconsistent_data = df[(df['capital-gain'] > 0) & (df['capital-loss'] > 0)]\n",
    "    if not inconsistent_data.empty:\n",
    "        return inconsistent_data\n",
    "    else:\n",
    "        return \"Empty Dataset\"\n",
    "capitalInconsistencies()"
   ]
  },
  {
   "cell_type": "markdown",
   "id": "a200cc83",
   "metadata": {},
   "source": [
    "We note that there is no entry with capital gains AND losses."
   ]
  },
  {
   "cell_type": "markdown",
   "id": "5c4ec507-0e86-49e4-81aa-aa9f33ac773b",
   "metadata": {
    "tags": []
   },
   "source": [
    "### Subsubtask 1.2.3 Checking for duplicates"
   ]
  },
  {
   "cell_type": "code",
   "execution_count": 17,
   "id": "62addb01-a1b2-49f5-90c9-ac5d28616e15",
   "metadata": {},
   "outputs": [
    {
     "data": {
      "text/html": [
       "<div>\n",
       "<style scoped>\n",
       "    .dataframe tbody tr th:only-of-type {\n",
       "        vertical-align: middle;\n",
       "    }\n",
       "\n",
       "    .dataframe tbody tr th {\n",
       "        vertical-align: top;\n",
       "    }\n",
       "\n",
       "    .dataframe thead th {\n",
       "        text-align: right;\n",
       "    }\n",
       "</style>\n",
       "<table border=\"1\" class=\"dataframe\">\n",
       "  <thead>\n",
       "    <tr style=\"text-align: right;\">\n",
       "      <th></th>\n",
       "      <th>age</th>\n",
       "      <th>workclass</th>\n",
       "      <th>fnlwgt</th>\n",
       "      <th>education</th>\n",
       "      <th>educational-num</th>\n",
       "      <th>marital-status</th>\n",
       "      <th>occupation</th>\n",
       "      <th>relationship</th>\n",
       "      <th>race</th>\n",
       "      <th>gender</th>\n",
       "      <th>capital-gain</th>\n",
       "      <th>capital-loss</th>\n",
       "      <th>hours-per-week</th>\n",
       "      <th>native-country</th>\n",
       "      <th>income</th>\n",
       "    </tr>\n",
       "  </thead>\n",
       "  <tbody>\n",
       "    <tr>\n",
       "      <th>488</th>\n",
       "      <td>24</td>\n",
       "      <td>Private</td>\n",
       "      <td>194630</td>\n",
       "      <td>Bachelors</td>\n",
       "      <td>13</td>\n",
       "      <td>Never-married</td>\n",
       "      <td>Prof-specialty</td>\n",
       "      <td>Not-in-family</td>\n",
       "      <td>White</td>\n",
       "      <td>Male</td>\n",
       "      <td>0</td>\n",
       "      <td>0</td>\n",
       "      <td>35</td>\n",
       "      <td>United-States</td>\n",
       "      <td>&lt;=50K</td>\n",
       "    </tr>\n",
       "    <tr>\n",
       "      <th>864</th>\n",
       "      <td>24</td>\n",
       "      <td>Private</td>\n",
       "      <td>194630</td>\n",
       "      <td>Bachelors</td>\n",
       "      <td>13</td>\n",
       "      <td>Never-married</td>\n",
       "      <td>Prof-specialty</td>\n",
       "      <td>Not-in-family</td>\n",
       "      <td>White</td>\n",
       "      <td>Male</td>\n",
       "      <td>0</td>\n",
       "      <td>0</td>\n",
       "      <td>35</td>\n",
       "      <td>United-States</td>\n",
       "      <td>&lt;=50K</td>\n",
       "    </tr>\n",
       "  </tbody>\n",
       "</table>\n",
       "</div>"
      ],
      "text/plain": [
       "     age workclass  fnlwgt  education  educational-num marital-status   \n",
       "488   24   Private  194630  Bachelors               13  Never-married  \\\n",
       "864   24   Private  194630  Bachelors               13  Never-married   \n",
       "\n",
       "         occupation   relationship   race gender  capital-gain  capital-loss   \n",
       "488  Prof-specialty  Not-in-family  White   Male             0             0  \\\n",
       "864  Prof-specialty  Not-in-family  White   Male             0             0   \n",
       "\n",
       "     hours-per-week native-country income  \n",
       "488              35  United-States  <=50K  \n",
       "864              35  United-States  <=50K  "
      ]
     },
     "execution_count": 17,
     "metadata": {},
     "output_type": "execute_result"
    }
   ],
   "source": [
    "# Output entries that are identical, if any\n",
    "def duplicatesInDf():\n",
    "    duplicates = df[df.duplicated(keep=False)]\n",
    "    if not duplicates.empty:\n",
    "        return duplicates\n",
    "    else:\n",
    "        return \"Empty Dataset\"\n",
    "duplicatesInDf()"
   ]
  },
  {
   "cell_type": "markdown",
   "id": "8aa0b41c",
   "metadata": {},
   "source": [
    "Seeing as there is one duplicate, let us drop it."
   ]
  },
  {
   "cell_type": "code",
   "execution_count": 18,
   "id": "6bc5bee5",
   "metadata": {},
   "outputs": [
    {
     "data": {
      "text/plain": [
       "'Empty Dataset'"
      ]
     },
     "execution_count": 18,
     "metadata": {},
     "output_type": "execute_result"
    }
   ],
   "source": [
    "# Remove duplicates\n",
    "df.drop_duplicates(inplace=True)\n",
    "# Search for duplicates\n",
    "duplicatesInDf()"
   ]
  },
  {
   "cell_type": "code",
   "execution_count": 19,
   "id": "1533fb7f",
   "metadata": {
    "scrolled": true
   },
   "outputs": [
    {
     "data": {
      "text/plain": [
       "True"
      ]
     },
     "execution_count": 19,
     "metadata": {},
     "output_type": "execute_result"
    }
   ],
   "source": [
    "# Make sure that there are still no missing values somehow\n",
    "assert df.isnull().sum().sum() == 0\n",
    "True"
   ]
  },
  {
   "cell_type": "markdown",
   "id": "53c50221",
   "metadata": {
    "tags": []
   },
   "source": [
    "# Task 2\n",
    "\n",
    ">[Convert categorical features to numerical values using encoding techniques]"
   ]
  },
  {
   "cell_type": "markdown",
   "id": "2233fda1",
   "metadata": {
    "tags": []
   },
   "source": [
    "#### Encoding education\n",
    "\n",
    "As already mentioned in [1.2.1](#Subsubtask-1.2.1-Checking-for-noisy-data), there are 8 nominal variables. Education is already ordinally encoded, so let us drop the non-numerical variable."
   ]
  },
  {
   "cell_type": "code",
   "execution_count": 20,
   "id": "35686dd3",
   "metadata": {},
   "outputs": [],
   "source": [
    "# Remove variable \"education\""
   ]
  },
  {
   "cell_type": "markdown",
   "id": "7ab7a182",
   "metadata": {},
   "source": [
    "#### Encoding workclass, marital-status, occupation, relationship, race, gender\n",
    "\n",
    "Since the other nominal variables are not ordinal, we do not want to use e.g. label encoding, as that could introduce unintended biases. Instead, we will use One-Hot encoding, for which we will need to map a category to an integer."
   ]
  },
  {
   "cell_type": "code",
   "execution_count": 21,
   "id": "44bdfbc9",
   "metadata": {},
   "outputs": [],
   "source": [
    "# One-hot Encoding for 6 of the nominal features"
   ]
  },
  {
   "cell_type": "markdown",
   "id": "8bb5356c",
   "metadata": {},
   "source": [
    "#### Encoding native-country\n",
    "\n",
    "The only exception will be \"native-country\" which has many categories. Therefore we will use target encoding."
   ]
  },
  {
   "cell_type": "code",
   "execution_count": 22,
   "id": "6c4ab5f2",
   "metadata": {},
   "outputs": [],
   "source": [
    "# Target encode \"native-country\""
   ]
  }
 ],
 "metadata": {
  "kernelspec": {
   "display_name": "Python 3 (ipykernel)",
   "language": "python",
   "name": "python3"
  },
  "language_info": {
   "codemirror_mode": {
    "name": "ipython",
    "version": 3
   },
   "file_extension": ".py",
   "mimetype": "text/x-python",
   "name": "python",
   "nbconvert_exporter": "python",
   "pygments_lexer": "ipython3",
   "version": "3.10.10"
  }
 },
 "nbformat": 4,
 "nbformat_minor": 5
}
