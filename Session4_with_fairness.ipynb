{
 "cells": [
  {
   "cell_type": "code",
   "execution_count": 5,
   "id": "13e27a1f",
   "metadata": {
    "id": "19bec480"
   },
   "outputs": [],
   "source": [
    "import pandas as pd\n",
    "import numpy as np\n",
    "import matplotlib.pyplot as plt\n",
    "\n",
    "# Uncomment if necessary\n",
    "#from sklearn.preprocessing import OneHotEncoder\n",
    "#from category_encoders import TargetEncoder\n",
    "#from sklearn.preprocessing import MinMaxScaler, StandardScaler\n",
    "#from scipy.stats.mstats import winsorize\n",
    "import seaborn as sns\n",
    "#from collections import Counter\n",
    "#from sklearn.datasets import make_classification\n",
    "#from imblearn.under_sampling import RandomUnderSampler\n",
    "from sklearn import tree\n",
    "from sklearn.model_selection import train_test_split\n",
    "from sklearn import metrics"
   ]
  },
  {
   "cell_type": "code",
   "execution_count": 6,
   "id": "ac64afa1",
   "metadata": {
    "id": "45d1a903"
   },
   "outputs": [],
   "source": [
    "db = pd.read_csv('data/preprocessed.csv')\n",
    "\n",
    "# Other possible preprocessed datasets\n",
    "#db2 = pd.read_csv('data/preprocessed_normalized.csv')\n",
    "#db3 = pd.read_csv('data/preprocessed_standardized.csv'\n",
    "#db4 = pd.read_csv('data/preprocessed_noCapital.csv')\n",
    "#db5 = pd.read_csv('data/preprocessed_noCapital_normalized.csv')\n",
    "#db6 = pd.read_csv('data/preprocessed_noCapital_standardized.csv')\n",
    "\n",
    "df = pd.DataFrame(db)"
   ]
  },
  {
   "cell_type": "markdown",
   "id": "cf3e7ea9",
   "metadata": {
    "id": "557545f7"
   },
   "source": [
    "# Decision Trees\n",
    "\n",
    "- Main advantage : Interpretability\n",
    "- Main disadvantage : Might cause Overfitting\n",
    "\n",
    "Explanations taken from https://scikit-learn.org/stable/modules/tree.html\n",
    "\n",
    "Code partially taken from https://www.datacamp.com/tutorial/decision-tree-classification-python"
   ]
  },
  {
   "cell_type": "markdown",
   "id": "7837bbf5",
   "metadata": {
    "id": "6d7363f0"
   },
   "source": [
    "#### Training and Accuracy"
   ]
  },
  {
   "cell_type": "code",
   "execution_count": 7,
   "id": "2a36741b",
   "metadata": {
    "id": "018d2aa2"
   },
   "outputs": [],
   "source": [
    "# Split target from features\n",
    "X = df.drop('income', axis=1)\n",
    "y = df['income']"
   ]
  },
  {
   "cell_type": "code",
   "execution_count": 8,
   "id": "2447969e",
   "metadata": {
    "id": "de51e47d"
   },
   "outputs": [],
   "source": [
    "# Create training set and test set\n",
    "X_train, X_test, y_train, y_test = train_test_split(X, y, test_size=0.3, random_state=1)"
   ]
  },
  {
   "cell_type": "code",
   "execution_count": 9,
   "id": "5bed7c27",
   "metadata": {
    "id": "c89a5d99"
   },
   "outputs": [],
   "source": [
    "# Train tree\n",
    "clf = tree.DecisionTreeClassifier(random_state=26)\n",
    "clf = clf.fit(X_train, y_train)"
   ]
  },
  {
   "cell_type": "code",
   "execution_count": 10,
   "id": "2fe25830",
   "metadata": {
    "id": "8bc7b084"
   },
   "outputs": [],
   "source": [
    "# Produce predictions using tree\n",
    "y_pred_tree = clf.predict(X_test)"
   ]
  },
  {
   "cell_type": "code",
   "execution_count": 24,
   "id": "161e9e89",
   "metadata": {
    "id": "4d7d4372",
    "outputId": "c623ede8-a3a2-412f-c8e1-65451a0fe537"
   },
   "outputs": [
    {
     "name": "stdout",
     "output_type": "stream",
     "text": [
      "Accuracy: 0.7727272727272727\n"
     ]
    }
   ],
   "source": [
    "# Print accuracy\n",
    "prediAccTree = metrics.accuracy_score(y_test, y_pred_tree)\n",
    "print(\"Accuracy:\", prediAccTree)"
   ]
  },
  {
   "cell_type": "markdown",
   "id": "703184de",
   "metadata": {
    "id": "5f1b832b"
   },
   "source": [
    "#### Impact of Hyperparameters on Accuracy\n",
    "\n",
    "https://towardsdatascience.com/how-to-tune-a-decision-tree-f03721801680\n",
    "\n",
    "Available Hyperparameters:\n",
    "\n",
    "0. criterion (default \"gini\", or \"entropy\")\n",
    "1. splitter (default \"best\", or \"random\")\n",
    "2. max_depth (default \"None\", or an int below like 700)\n",
    "3. min_samples_split (default \"2\", or an int below 40)\n",
    "4. min_samples_leaf (default \"1\", or an int below 20)\n",
    "5. min_weight_fraction_leaf (default \"0\", or a float up to 1)\n",
    "6. max_features (default \"None\", or \"auto\"/\"sqrt\" or \"log2\" or an int below 13)\n",
    "7. random_state (we should ignore that one and just set it to 42 or something)\n",
    "8. min_impurity_decrease (default \"0\", I do not really understand it but I think we should leave it alone)\n",
    "9. class_weight (default \"None\", too complex to change tbh)\n",
    "10. presort (we should ignore this one)"
   ]
  },
  {
   "cell_type": "code",
   "execution_count": 8,
   "id": "23361b24",
   "metadata": {
    "id": "b0f8f76e"
   },
   "outputs": [],
   "source": [
    "# Function: Training tree with specific hyperparameters, and showing the accuracy gain\n",
    "def treeWithHyperparams(**hp):\n",
    "    hp[\"random_state\"] = 26\n",
    "    clf = tree.DecisionTreeClassifier(**hp)\n",
    "    clf = clf.fit(X_train, y_train)\n",
    "    y_pred = clf.predict(X_test)\n",
    "    prediAccNew = metrics.accuracy_score(y_test, y_pred)\n",
    "    improvement = prediAccNew - prediAccTree\n",
    "    #print(\"Results using\", list(hp.keys())[0], \"=\", list(hp.values())[0])\n",
    "    print(\"Total accuracy:\", prediAccNew)\n",
    "    print(\"Accuracy gain:\", improvement)"
   ]
  },
  {
   "cell_type": "code",
   "execution_count": 9,
   "id": "4e228c39",
   "metadata": {
    "id": "6e1554a1",
    "outputId": "8dce3c94-3ab6-4369-b797-f8553b03fe42",
    "scrolled": true
   },
   "outputs": [
    {
     "name": "stdout",
     "output_type": "stream",
     "text": [
      "Total accuracy: 0.765625\n",
      "Accuracy gain: -0.007102272727272707\n"
     ]
    }
   ],
   "source": [
    "treeWithHyperparams(criterion='entropy')"
   ]
  },
  {
   "cell_type": "code",
   "execution_count": 10,
   "id": "171f4fc2",
   "metadata": {
    "id": "4025db39",
    "outputId": "6e4f2fdc-5551-4662-cb14-8a7493ae3acb",
    "scrolled": true
   },
   "outputs": [
    {
     "name": "stdout",
     "output_type": "stream",
     "text": [
      "Total accuracy: 0.7357954545454546\n",
      "Accuracy gain: -0.03693181818181812\n"
     ]
    }
   ],
   "source": [
    "treeWithHyperparams(splitter='random')"
   ]
  },
  {
   "cell_type": "code",
   "execution_count": 11,
   "id": "33c4eff7",
   "metadata": {
    "id": "eec2eb2a",
    "outputId": "50107c5e-8cc3-4ba2-f47d-45eae9c08317"
   },
   "outputs": [
    {
     "name": "stdout",
     "output_type": "stream",
     "text": [
      "Total accuracy: 0.8309659090909091\n",
      "Accuracy gain: 0.058238636363636354\n"
     ]
    }
   ],
   "source": [
    "treeWithHyperparams(max_depth=5)"
   ]
  },
  {
   "cell_type": "code",
   "execution_count": 12,
   "id": "e282d972",
   "metadata": {
    "id": "0dd45474",
    "outputId": "7d197b36-65ea-419c-80a9-1f5eab7950fe"
   },
   "outputs": [
    {
     "name": "stdout",
     "output_type": "stream",
     "text": [
      "Total accuracy: 0.7997159090909091\n",
      "Accuracy gain: 0.026988636363636354\n"
     ]
    }
   ],
   "source": [
    "treeWithHyperparams(min_samples_split=20)"
   ]
  },
  {
   "cell_type": "code",
   "execution_count": 13,
   "id": "9dab58d4",
   "metadata": {
    "id": "3445b484",
    "outputId": "277213f4-43c8-4320-939f-aa58bfb7b648"
   },
   "outputs": [
    {
     "name": "stdout",
     "output_type": "stream",
     "text": [
      "Total accuracy: 0.8082386363636364\n",
      "Accuracy gain: 0.035511363636363646\n"
     ]
    }
   ],
   "source": [
    "treeWithHyperparams(min_samples_leaf=20)"
   ]
  },
  {
   "cell_type": "code",
   "execution_count": 14,
   "id": "bd4e7fa6",
   "metadata": {
    "id": "763516d6",
    "outputId": "cf9c8587-6a45-4823-9f68-8044431814e8"
   },
   "outputs": [
    {
     "name": "stdout",
     "output_type": "stream",
     "text": [
      "Total accuracy: 0.7911931818181818\n",
      "Accuracy gain: 0.01846590909090906\n"
     ]
    }
   ],
   "source": [
    "treeWithHyperparams(min_weight_fraction_leaf=0.3)"
   ]
  },
  {
   "cell_type": "code",
   "execution_count": 15,
   "id": "a6dae54e",
   "metadata": {
    "id": "71d2f1dc",
    "outputId": "3570fbda-59b7-49d6-aae0-14205cb47338"
   },
   "outputs": [
    {
     "name": "stdout",
     "output_type": "stream",
     "text": [
      "Total accuracy: 0.7514204545454546\n",
      "Accuracy gain: -0.02130681818181812\n"
     ]
    }
   ],
   "source": [
    "treeWithHyperparams(max_features='sqrt')"
   ]
  },
  {
   "cell_type": "code",
   "execution_count": 16,
   "id": "bc2eddb7",
   "metadata": {
    "id": "60ab0aad",
    "outputId": "57c13958-29da-4393-aa0c-5dd1513944d5"
   },
   "outputs": [
    {
     "name": "stdout",
     "output_type": "stream",
     "text": [
      "Total accuracy: 0.7684659090909091\n",
      "Accuracy gain: -0.0042613636363636465\n"
     ]
    }
   ],
   "source": [
    "treeWithHyperparams(max_features='log2')"
   ]
  },
  {
   "cell_type": "markdown",
   "id": "c6279192",
   "metadata": {
    "id": "b1f518fd"
   },
   "source": [
    "We make the following observations concerning the individual hyperparameters:\n",
    "\n",
    "0. Changing the criterion from gini to entropy seems useless\n",
    "1. Changing the splitter from best to random seems useless\n",
    "2. **Limiting the max depth to 5 improves performance**\n",
    "3. **Setting the minimum split samples to 20 improves performance**\n",
    "4. **Setting the minimum leaf samples to 20 improves performance**\n",
    "5. Setting the minimum leaf weight fraction to 0.3 slightly improves performance\n",
    "6. Limiting the max features seems useless\n",
    "\n",
    "Our three most important hyperparameters are commonly used to combat overfitting.\n",
    "\n",
    "This means that we can expect the best results if we reduce overfitting in our decision tree."
   ]
  },
  {
   "cell_type": "markdown",
   "id": "a89c5e91",
   "metadata": {
    "id": "9a112c32"
   },
   "source": [
    "#### Confusion Matrix\n",
    "\n",
    "- Precision\n",
    "- Recall\n",
    "- F1 score\n",
    "- Accuracy"
   ]
  },
  {
   "cell_type": "code",
   "execution_count": 17,
   "id": "bb9fe6fa",
   "metadata": {
    "id": "fc81d353",
    "outputId": "bfe74b2d-a7d0-4ee4-8289-659dae272a11"
   },
   "outputs": [
    {
     "name": "stdout",
     "output_type": "stream",
     "text": [
      "[[287  70]\n",
      " [ 90 257]]\n"
     ]
    }
   ],
   "source": [
    "confMat_tree= metrics.confusion_matrix(y_test, y_pred_tree)\n",
    "print(confMat_tree)"
   ]
  },
  {
   "cell_type": "code",
   "execution_count": 18,
   "id": "309facb8",
   "metadata": {
    "id": "38a734aa"
   },
   "outputs": [],
   "source": [
    "TP_tree = confMat_tree[0][0]\n",
    "FN_tree = confMat_tree[0][1]\n",
    "FP_tree = confMat_tree[1][0]\n",
    "TN_tree = confMat_tree[1][1]\n",
    "precision_tree = TP_tree / TP_tree + FP_tree\n",
    "recall_tree = TP_tree / TP_tree + FN_tree\n",
    "F1score_tree = 2 * ((precision_tree * recall_tree) / (precision_tree + recall_tree))"
   ]
  },
  {
   "cell_type": "code",
   "execution_count": 19,
   "id": "850bb935",
   "metadata": {
    "id": "4445b579",
    "outputId": "05cba6d0-cbfe-4265-cf4c-4522f1d655d7"
   },
   "outputs": [
    {
     "name": "stdout",
     "output_type": "stream",
     "text": [
      "Precision: 91.0\n",
      "Recall: 71.0\n",
      "F1-Score: 79.76543209876543\n"
     ]
    }
   ],
   "source": [
    "print(\"Precision:\", precision_tree)\n",
    "print(\"Recall:\", recall_tree)\n",
    "print(\"F1-Score:\", F1score_tree)"
   ]
  },
  {
   "cell_type": "markdown",
   "id": "1fe98d06",
   "metadata": {
    "id": "b06e6c14"
   },
   "source": [
    "The decision tree does not always identify people with an income above 50K.\n",
    "\n",
    "However, if the model determines that somebody has an income above 50K, it is very likely correct."
   ]
  },
  {
   "cell_type": "markdown",
   "id": "2fd51582-c002-4956-b5bc-139f26946304",
   "metadata": {},
   "source": [
    "# Bias Evaluation"
   ]
  },
  {
   "cell_type": "code",
   "execution_count": 57,
   "id": "a164cb3c-653d-4c27-886f-b5a8280c998e",
   "metadata": {},
   "outputs": [
    {
     "name": "stdout",
     "output_type": "stream",
     "text": [
      "race_White\n",
      "0.0    0.76087\n",
      "1.0    0.77451\n",
      "Name: accuracy_score, dtype: float64\n",
      "race_Black\n",
      "0.0    0.776911\n",
      "1.0    0.730159\n",
      "Name: accuracy_score, dtype: float64\n",
      "race_Amer-Indian-Eskimo\n",
      "0.0    0.771429\n",
      "1.0    1.000000\n",
      "Name: accuracy_score, dtype: float64\n",
      "race_Asian-Pac-Islander\n",
      "0.0    0.774052\n",
      "1.0    0.722222\n",
      "Name: accuracy_score, dtype: float64\n",
      "gender_Female\n",
      "0.0    0.742126\n",
      "1.0    0.852041\n",
      "Name: accuracy_score, dtype: float64\n",
      "gender_Male\n",
      "0.0    0.852041\n",
      "1.0    0.742126\n",
      "Name: accuracy_score, dtype: float64\n"
     ]
    },
    {
     "name": "stderr",
     "output_type": "stream",
     "text": [
      "C:\\Users\\ricai\\PycharmProjects\\dsh\\venv\\lib\\site-packages\\fairlearn\\metrics\\_metric_frame.py:70: FutureWarning: You have provided 'metrics', 'y_true', 'y_pred' as positional arguments. Please pass them as keyword arguments. From version 0.10.0 passing them as positional arguments will result in an error.\n",
      "  warnings.warn(\n",
      "C:\\Users\\ricai\\PycharmProjects\\dsh\\venv\\lib\\site-packages\\fairlearn\\metrics\\_metric_frame.py:70: FutureWarning: You have provided 'metrics', 'y_true', 'y_pred' as positional arguments. Please pass them as keyword arguments. From version 0.10.0 passing them as positional arguments will result in an error.\n",
      "  warnings.warn(\n",
      "C:\\Users\\ricai\\PycharmProjects\\dsh\\venv\\lib\\site-packages\\fairlearn\\metrics\\_metric_frame.py:70: FutureWarning: You have provided 'metrics', 'y_true', 'y_pred' as positional arguments. Please pass them as keyword arguments. From version 0.10.0 passing them as positional arguments will result in an error.\n",
      "  warnings.warn(\n",
      "C:\\Users\\ricai\\PycharmProjects\\dsh\\venv\\lib\\site-packages\\fairlearn\\metrics\\_metric_frame.py:70: FutureWarning: You have provided 'metrics', 'y_true', 'y_pred' as positional arguments. Please pass them as keyword arguments. From version 0.10.0 passing them as positional arguments will result in an error.\n",
      "  warnings.warn(\n",
      "C:\\Users\\ricai\\PycharmProjects\\dsh\\venv\\lib\\site-packages\\fairlearn\\metrics\\_metric_frame.py:70: FutureWarning: You have provided 'metrics', 'y_true', 'y_pred' as positional arguments. Please pass them as keyword arguments. From version 0.10.0 passing them as positional arguments will result in an error.\n",
      "  warnings.warn(\n",
      "C:\\Users\\ricai\\PycharmProjects\\dsh\\venv\\lib\\site-packages\\fairlearn\\metrics\\_metric_frame.py:70: FutureWarning: You have provided 'metrics', 'y_true', 'y_pred' as positional arguments. Please pass them as keyword arguments. From version 0.10.0 passing them as positional arguments will result in an error.\n",
      "  warnings.warn(\n"
     ]
    }
   ],
   "source": [
    "from fairlearn.metrics import MetricFrame\n",
    "from sklearn.metrics import accuracy_score\n",
    "\n",
    "sensitive_features = ['race_White', 'race_Black', 'race_Amer-Indian-Eskimo', 'race_Asian-Pac-Islander','gender_Female','gender_Male']\n",
    "\n",
    "mf = []\n",
    "\n",
    "for feature in sensitive_features:\n",
    "    sensitive_feature = X_test[feature]\n",
    "    feature_mf = MetricFrame(accuracy_score, y_test, y_pred_tree, sensitive_features=sensitive_feature)\n",
    "    mf.append(feature_mf)\n",
    "\n",
    "# Print the combined MetricFrame\n",
    "for i in mf:\n",
    "    print(i.by_group)"
   ]
  },
  {
   "cell_type": "code",
   "execution_count": 58,
   "id": "e5dd005c-1022-4a14-b74b-abed2a6b9854",
   "metadata": {},
   "outputs": [
    {
     "name": "stdout",
     "output_type": "stream",
     "text": [
      "False Positive Rate for race_White:\n",
      "race_White\n",
      "0.0    0.148148\n",
      "1.0    0.204620\n",
      "Name: false_positive_rate, dtype: float64\n",
      "False Negative Rate for race_White:\n",
      "race_White\n",
      "0.0    0.368421\n",
      "1.0    0.245955\n",
      "Name: false_negative_rate, dtype: float64\n",
      "False Positive Rate for race_Black:\n",
      "race_Black\n",
      "0.0    0.206349\n",
      "1.0    0.119048\n",
      "Name: false_positive_rate, dtype: float64\n",
      "False Negative Rate for race_Black:\n",
      "race_Black\n",
      "0.0    0.239264\n",
      "1.0    0.571429\n",
      "Name: false_negative_rate, dtype: float64\n",
      "False Positive Rate for race_Amer-Indian-Eskimo:\n",
      "race_Amer-Indian-Eskimo\n",
      "0.0    0.196629\n",
      "1.0    0.000000\n",
      "Name: false_positive_rate, dtype: float64\n",
      "False Negative Rate for race_Amer-Indian-Eskimo:\n",
      "race_Amer-Indian-Eskimo\n",
      "0.0    0.261628\n",
      "1.0    0.000000\n",
      "Name: false_negative_rate, dtype: float64\n",
      "False Positive Rate for race_Asian-Pac-Islander:\n",
      "race_Asian-Pac-Islander\n",
      "0.0    0.191429\n",
      "1.0    0.428571\n",
      "Name: false_positive_rate, dtype: float64\n",
      "False Negative Rate for race_Asian-Pac-Islander:\n",
      "race_Asian-Pac-Islander\n",
      "0.0    0.261905\n",
      "1.0    0.181818\n",
      "Name: false_negative_rate, dtype: float64\n",
      "False Positive Rate for gender_Female:\n",
      "gender_Female\n",
      "0.0    0.257009\n",
      "1.0    0.104895\n",
      "Name: false_positive_rate, dtype: float64\n",
      "False Negative Rate for gender_Female:\n",
      "gender_Female\n",
      "0.0    0.258503\n",
      "1.0    0.264151\n",
      "Name: false_negative_rate, dtype: float64\n",
      "False Positive Rate for gender_Male:\n",
      "gender_Male\n",
      "0.0    0.104895\n",
      "1.0    0.257009\n",
      "Name: false_positive_rate, dtype: float64\n",
      "False Negative Rate for gender_Male:\n",
      "gender_Male\n",
      "0.0    0.264151\n",
      "1.0    0.258503\n",
      "Name: false_negative_rate, dtype: float64\n"
     ]
    },
    {
     "name": "stderr",
     "output_type": "stream",
     "text": [
      "C:\\Users\\ricai\\PycharmProjects\\dsh\\venv\\lib\\site-packages\\fairlearn\\metrics\\_metric_frame.py:70: FutureWarning: You have provided 'metrics', 'y_true', 'y_pred' as positional arguments. Please pass them as keyword arguments. From version 0.10.0 passing them as positional arguments will result in an error.\n",
      "  warnings.warn(\n",
      "C:\\Users\\ricai\\PycharmProjects\\dsh\\venv\\lib\\site-packages\\fairlearn\\metrics\\_metric_frame.py:70: FutureWarning: You have provided 'metrics', 'y_true', 'y_pred' as positional arguments. Please pass them as keyword arguments. From version 0.10.0 passing them as positional arguments will result in an error.\n",
      "  warnings.warn(\n",
      "C:\\Users\\ricai\\PycharmProjects\\dsh\\venv\\lib\\site-packages\\fairlearn\\metrics\\_metric_frame.py:70: FutureWarning: You have provided 'metrics', 'y_true', 'y_pred' as positional arguments. Please pass them as keyword arguments. From version 0.10.0 passing them as positional arguments will result in an error.\n",
      "  warnings.warn(\n",
      "C:\\Users\\ricai\\PycharmProjects\\dsh\\venv\\lib\\site-packages\\fairlearn\\metrics\\_metric_frame.py:70: FutureWarning: You have provided 'metrics', 'y_true', 'y_pred' as positional arguments. Please pass them as keyword arguments. From version 0.10.0 passing them as positional arguments will result in an error.\n",
      "  warnings.warn(\n",
      "C:\\Users\\ricai\\PycharmProjects\\dsh\\venv\\lib\\site-packages\\fairlearn\\metrics\\_metric_frame.py:70: FutureWarning: You have provided 'metrics', 'y_true', 'y_pred' as positional arguments. Please pass them as keyword arguments. From version 0.10.0 passing them as positional arguments will result in an error.\n",
      "  warnings.warn(\n",
      "C:\\Users\\ricai\\PycharmProjects\\dsh\\venv\\lib\\site-packages\\fairlearn\\metrics\\_metric_frame.py:70: FutureWarning: You have provided 'metrics', 'y_true', 'y_pred' as positional arguments. Please pass them as keyword arguments. From version 0.10.0 passing them as positional arguments will result in an error.\n",
      "  warnings.warn(\n",
      "C:\\Users\\ricai\\PycharmProjects\\dsh\\venv\\lib\\site-packages\\fairlearn\\metrics\\_metric_frame.py:70: FutureWarning: You have provided 'metrics', 'y_true', 'y_pred' as positional arguments. Please pass them as keyword arguments. From version 0.10.0 passing them as positional arguments will result in an error.\n",
      "  warnings.warn(\n",
      "C:\\Users\\ricai\\PycharmProjects\\dsh\\venv\\lib\\site-packages\\fairlearn\\metrics\\_metric_frame.py:70: FutureWarning: You have provided 'metrics', 'y_true', 'y_pred' as positional arguments. Please pass them as keyword arguments. From version 0.10.0 passing them as positional arguments will result in an error.\n",
      "  warnings.warn(\n",
      "C:\\Users\\ricai\\PycharmProjects\\dsh\\venv\\lib\\site-packages\\fairlearn\\metrics\\_metric_frame.py:70: FutureWarning: You have provided 'metrics', 'y_true', 'y_pred' as positional arguments. Please pass them as keyword arguments. From version 0.10.0 passing them as positional arguments will result in an error.\n",
      "  warnings.warn(\n",
      "C:\\Users\\ricai\\PycharmProjects\\dsh\\venv\\lib\\site-packages\\fairlearn\\metrics\\_metric_frame.py:70: FutureWarning: You have provided 'metrics', 'y_true', 'y_pred' as positional arguments. Please pass them as keyword arguments. From version 0.10.0 passing them as positional arguments will result in an error.\n",
      "  warnings.warn(\n",
      "C:\\Users\\ricai\\PycharmProjects\\dsh\\venv\\lib\\site-packages\\fairlearn\\metrics\\_metric_frame.py:70: FutureWarning: You have provided 'metrics', 'y_true', 'y_pred' as positional arguments. Please pass them as keyword arguments. From version 0.10.0 passing them as positional arguments will result in an error.\n",
      "  warnings.warn(\n",
      "C:\\Users\\ricai\\PycharmProjects\\dsh\\venv\\lib\\site-packages\\fairlearn\\metrics\\_metric_frame.py:70: FutureWarning: You have provided 'metrics', 'y_true', 'y_pred' as positional arguments. Please pass them as keyword arguments. From version 0.10.0 passing them as positional arguments will result in an error.\n",
      "  warnings.warn(\n"
     ]
    }
   ],
   "source": [
    "from fairlearn.metrics import MetricFrame\n",
    "from sklearn.metrics import confusion_matrix\n",
    "\n",
    "# List of sensitive features\n",
    "sensitive_features = ['race_White', 'race_Black', 'race_Amer-Indian-Eskimo', 'race_Asian-Pac-Islander', 'gender_Female', 'gender_Male']\n",
    "\n",
    "# Function to calculate False Positive Rate\n",
    "def false_positive_rate(y_true, y_pred):\n",
    "    tn, fp, fn, tp = confusion_matrix(y_true, y_pred).ravel()\n",
    "    fpr = fp / (fp + tn)\n",
    "    return fpr\n",
    "\n",
    "# Function to calculate False Negative Rate\n",
    "def false_negative_rate(y_true, y_pred):\n",
    "    tn, fp, fn, tp = confusion_matrix(y_true, y_pred).ravel()\n",
    "    fnr = fn / (fn + tp)\n",
    "    return fnr\n",
    "\n",
    "# Iterate through each sensitive feature\n",
    "for feature in sensitive_features:\n",
    "    sensitive_feature = X_test[feature]\n",
    "    \n",
    "    # MetricFrame for False Positive Rate\n",
    "    fpr_mf = MetricFrame(false_positive_rate, y_test, y_pred_tree, sensitive_features=sensitive_feature)\n",
    "    print(f\"False Positive Rate for {feature}:\")\n",
    "    print(fpr_mf.by_group)\n",
    "    \n",
    "    # MetricFrame for False Negative Rate\n",
    "    fnr_mf = MetricFrame(false_negative_rate, y_test, y_pred_tree, sensitive_features=sensitive_feature)\n",
    "    print(f\"False Negative Rate for {feature}:\")\n",
    "    print(fnr_mf.by_group)"
   ]
  },
  {
   "cell_type": "markdown",
   "id": "4abad8d4",
   "metadata": {
    "id": "c525b2be"
   },
   "source": [
    "# Random Forest\n",
    "\n",
    "- Main advantage :\n",
    "- Main disadvantage :"
   ]
  },
  {
   "cell_type": "markdown",
   "id": "349f7a26",
   "metadata": {
    "id": "70ca56d8"
   },
   "source": [
    "#### Training and Accuracy"
   ]
  },
  {
   "cell_type": "code",
   "execution_count": 34,
   "id": "6b54f97c",
   "metadata": {
    "id": "15a8d5cd"
   },
   "outputs": [],
   "source": [
    "import pandas as pd\n",
    "from sklearn.ensemble import RandomForestClassifier\n",
    "from sklearn.model_selection import train_test_split\n",
    "from sklearn.metrics import confusion_matrix, classification_report\n",
    "from sklearn.model_selection import GridSearchCV\n",
    "import pandas as pd"
   ]
  },
  {
   "cell_type": "code",
   "execution_count": 35,
   "id": "771972be",
   "metadata": {
    "id": "5ba6203c"
   },
   "outputs": [],
   "source": [
    "\n",
    "data = pd.read_csv('data\\preprocessed.csv')"
   ]
  },
  {
   "cell_type": "code",
   "execution_count": 36,
   "id": "c9de49f2",
   "metadata": {
    "id": "13c1819a"
   },
   "outputs": [],
   "source": [
    "# Split the data into features and target variable\n",
    "X = data.drop('income', axis=1)\n",
    "y = data['income']"
   ]
  },
  {
   "cell_type": "code",
   "execution_count": 37,
   "id": "804ce6a1",
   "metadata": {
    "id": "48701b9a"
   },
   "outputs": [],
   "source": [
    "# Split the data into training and testing sets\n",
    "X_train, X_test, y_train, y_test = train_test_split(X, y, test_size=0.3, random_state=1)\n"
   ]
  },
  {
   "cell_type": "code",
   "execution_count": 42,
   "id": "73a33298",
   "metadata": {
    "id": "f47ac7ee",
    "outputId": "105b82a8-e413-49cb-8ae1-dc3fef987ab3"
   },
   "outputs": [
    {
     "name": "stdout",
     "output_type": "stream",
     "text": [
      "Random Forest - Evaluation Metrics:\n",
      "              precision    recall  f1-score   support\n",
      "\n",
      "           0       0.86      0.82      0.84       357\n",
      "           1       0.83      0.87      0.85       347\n",
      "\n",
      "    accuracy                           0.85       704\n",
      "   macro avg       0.85      0.85      0.85       704\n",
      "weighted avg       0.85      0.85      0.85       704\n",
      "\n"
     ]
    }
   ],
   "source": [
    "# Split the data into training and testing sets\n",
    "X_train, X_test, y_train, y_test = train_test_split(X, y, test_size=0.3, random_state=1)\n",
    "\n",
    "# Random Forest\n",
    "clf = RandomForestClassifier(random_state=26)\n",
    "\n",
    "# Train the Random Forest classifier\n",
    "clf.fit(X_train, y_train)\n",
    "\n",
    "# Predict on the test set\n",
    "y_pred_rf = clf.predict(X_test)\n",
    "\n",
    "# Evaluation Metrics\n",
    "print(\"Random Forest - Evaluation Metrics:\")\n",
    "print(classification_report(y_test, y_pred_rf))"
   ]
  },
  {
   "cell_type": "markdown",
   "id": "662f5833",
   "metadata": {
    "id": "046b74ad"
   },
   "source": [
    "#### Impact of Hyperparameters on Accuracy"
   ]
  },
  {
   "cell_type": "code",
   "execution_count": 6,
   "id": "5a2d5b64",
   "metadata": {
    "id": "bb8f1a0b",
    "outputId": "bb71db68-675a-4254-8653-5f5b3737ee9b"
   },
   "outputs": [
    {
     "name": "stdout",
     "output_type": "stream",
     "text": [
      "Confusion Matrix:\n",
      "[[294  63]\n",
      " [ 46 301]]\n",
      "Accuracy: 0.8451704545454546\n",
      "Best Hyperparameters: {'max_depth': None, 'min_samples_split': 5, 'n_estimators': 100}\n"
     ]
    }
   ],
   "source": [
    "# Calculate confusion matrix\n",
    "confusion_mat_rf = confusion_matrix(y_test, y_pred_rf)\n",
    "print(\"Confusion Matrix:\")\n",
    "print(confusion_mat_rf)\n",
    "\n",
    "# Calculate accuracy\n",
    "accuracy_rf = (confusion_mat_rf[0, 0] + confusion_mat_rf[1, 1]) / sum(sum(confusion_mat_rf))\n",
    "print(\"Accuracy:\", accuracy_rf)\n",
    "\n",
    "# Hyperparameter Tuning\n",
    "param_grid = {\n",
    "    'n_estimators': [100, 200, 300],\n",
    "    'max_depth': [None, 5, 10],\n",
    "    'min_samples_split': [2, 5, 10]\n",
    "}\n",
    "\n",
    "grid_search = GridSearchCV(estimator=clf, param_grid=param_grid, cv=5)\n",
    "grid_search.fit(X_train, y_train)\n",
    "\n",
    "best_params = grid_search.best_params_\n",
    "print(\"Best Hyperparameters:\", best_params)"
   ]
  },
  {
   "cell_type": "code",
   "execution_count": 7,
   "id": "9799c221",
   "metadata": {
    "id": "9f852f6e",
    "outputId": "8b4aa154-70b4-4cf6-965e-e1cc8d6b3813"
   },
   "outputs": [
    {
     "name": "stdout",
     "output_type": "stream",
     "text": [
      "Total accuracy: 0.8480113636363636\n",
      "Accuracy gain: 0.0028409090909090606\n"
     ]
    }
   ],
   "source": [
    "from sklearn.ensemble import RandomForestClassifier\n",
    "from sklearn.metrics import accuracy_score\n",
    "# Function: Training Random Forest with specific hyperparameters, and showing the accuracy gain\n",
    "def randomForestWithHyperparams(**hp):\n",
    "    hp[\"random_state\"] = 26\n",
    "    clf = RandomForestClassifier(**hp)\n",
    "    clf.fit(X_train, y_train)\n",
    "    y_pred = clf.predict(X_test)\n",
    "    predAccNew = accuracy_score(y_test, y_pred)\n",
    "    improvement = predAccNew - accuracy_rf\n",
    "    print(\"Total accuracy:\", predAccNew)\n",
    "    print(\"Accuracy gain:\", improvement)\n",
    "\n",
    "# Call the randomForestWithHyperparams function with the best hyperparameters\n",
    "randomForestWithHyperparams(**best_params)\n"
   ]
  },
  {
   "cell_type": "markdown",
   "id": "72761488",
   "metadata": {
    "id": "2208258f"
   },
   "source": []
  },
  {
   "cell_type": "markdown",
   "id": "97fad061",
   "metadata": {
    "id": "c9e06b7f"
   },
   "source": [
    "#### Confusion Matrix\n",
    "\n",
    "- Precision\n",
    "- Recall\n",
    "- F1 score\n",
    "- Accuracy"
   ]
  },
  {
   "cell_type": "code",
   "execution_count": 8,
   "id": "c14662ad",
   "metadata": {
    "id": "21efbe24",
    "outputId": "cace3b01-3239-4c37-e801-0fa174416fb2"
   },
   "outputs": [
    {
     "name": "stdout",
     "output_type": "stream",
     "text": [
      "Random Forest with Best Hyperparameters - Evaluation Metrics:\n",
      "              precision    recall  f1-score   support\n",
      "\n",
      "           0       0.88      0.80      0.84       357\n",
      "           1       0.81      0.89      0.85       347\n",
      "\n",
      "    accuracy                           0.84       704\n",
      "   macro avg       0.85      0.84      0.84       704\n",
      "weighted avg       0.85      0.84      0.84       704\n",
      "\n",
      "Confusion Matrix with Best Hyperparameters:\n",
      "[[284  73]\n",
      " [ 37 310]]\n",
      "Accuracy with Best Hyperparameters: 0.84375\n"
     ]
    }
   ],
   "source": [
    "\n",
    "best_clf = RandomForestClassifier(random_state=42, **best_params)\n",
    "best_clf.fit(X_train, y_train)\n",
    "\n",
    "y_pred_best = best_clf.predict(X_test)\n",
    "\n",
    "\n",
    "print(\"Random Forest with Best Hyperparameters - Evaluation Metrics:\")\n",
    "print(classification_report(y_test, y_pred_best))\n",
    "\n",
    "\n",
    "confusion_mat_best = confusion_matrix(y_test, y_pred_best)\n",
    "print(\"Confusion Matrix with Best Hyperparameters:\")\n",
    "print(confusion_mat_best)\n",
    "\n",
    "accuracy_best = (confusion_mat_best[0, 0] + confusion_mat_best[1, 1]) / sum(sum(confusion_mat_best))\n",
    "print(\"Accuracy with Best Hyperparameters:\", accuracy_best)"
   ]
  },
  {
   "cell_type": "code",
   "execution_count": 9,
   "id": "df659b9c",
   "metadata": {
    "id": "840bd157",
    "outputId": "c93411dc-b832-4997-8e5b-8fd0c6ef5911"
   },
   "outputs": [
    {
     "name": "stdout",
     "output_type": "stream",
     "text": [
      "Precision: 0.8093994778067886\n",
      "Recall: 0.8933717579250721\n",
      "F1-Score: 0.8493150684931507\n"
     ]
    }
   ],
   "source": [
    "from sklearn.metrics import classification_report\n",
    "\n",
    "report = classification_report(y_test, y_pred_best, output_dict=True)\n",
    "\n",
    "precision = report['1']['precision']\n",
    "recall = report['1']['recall']\n",
    "f1_score = report['1']['f1-score']\n",
    "\n",
    "print(\"Precision:\", precision)\n",
    "print(\"Recall:\", recall)\n",
    "print(\"F1-Score:\", f1_score)\n"
   ]
  },
  {
   "cell_type": "markdown",
   "id": "351a7511-283e-435a-92ca-28c06b586e0f",
   "metadata": {},
   "source": [
    "# Bias Evaluation"
   ]
  },
  {
   "cell_type": "code",
   "execution_count": 43,
   "id": "33899c8c-4d71-4f89-a599-f7dae9ded9a7",
   "metadata": {},
   "outputs": [
    {
     "name": "stdout",
     "output_type": "stream",
     "text": [
      "race_White\n",
      "0.0    0.76087\n",
      "1.0    0.77451\n",
      "Name: accuracy_score, dtype: float64\n",
      "race_Black\n",
      "0.0    0.776911\n",
      "1.0    0.730159\n",
      "Name: accuracy_score, dtype: float64\n",
      "race_Amer-Indian-Eskimo\n",
      "0.0    0.771429\n",
      "1.0    1.000000\n",
      "Name: accuracy_score, dtype: float64\n",
      "race_Asian-Pac-Islander\n",
      "0.0    0.774052\n",
      "1.0    0.722222\n",
      "Name: accuracy_score, dtype: float64\n",
      "gender_Female\n",
      "0.0    0.742126\n",
      "1.0    0.852041\n",
      "Name: accuracy_score, dtype: float64\n",
      "gender_Male\n",
      "0.0    0.852041\n",
      "1.0    0.742126\n",
      "Name: accuracy_score, dtype: float64\n"
     ]
    },
    {
     "name": "stderr",
     "output_type": "stream",
     "text": [
      "C:\\Users\\ricai\\PycharmProjects\\dsh\\venv\\lib\\site-packages\\fairlearn\\metrics\\_metric_frame.py:70: FutureWarning: You have provided 'metrics', 'y_true', 'y_pred' as positional arguments. Please pass them as keyword arguments. From version 0.10.0 passing them as positional arguments will result in an error.\n",
      "  warnings.warn(\n",
      "C:\\Users\\ricai\\PycharmProjects\\dsh\\venv\\lib\\site-packages\\fairlearn\\metrics\\_metric_frame.py:70: FutureWarning: You have provided 'metrics', 'y_true', 'y_pred' as positional arguments. Please pass them as keyword arguments. From version 0.10.0 passing them as positional arguments will result in an error.\n",
      "  warnings.warn(\n",
      "C:\\Users\\ricai\\PycharmProjects\\dsh\\venv\\lib\\site-packages\\fairlearn\\metrics\\_metric_frame.py:70: FutureWarning: You have provided 'metrics', 'y_true', 'y_pred' as positional arguments. Please pass them as keyword arguments. From version 0.10.0 passing them as positional arguments will result in an error.\n",
      "  warnings.warn(\n",
      "C:\\Users\\ricai\\PycharmProjects\\dsh\\venv\\lib\\site-packages\\fairlearn\\metrics\\_metric_frame.py:70: FutureWarning: You have provided 'metrics', 'y_true', 'y_pred' as positional arguments. Please pass them as keyword arguments. From version 0.10.0 passing them as positional arguments will result in an error.\n",
      "  warnings.warn(\n",
      "C:\\Users\\ricai\\PycharmProjects\\dsh\\venv\\lib\\site-packages\\fairlearn\\metrics\\_metric_frame.py:70: FutureWarning: You have provided 'metrics', 'y_true', 'y_pred' as positional arguments. Please pass them as keyword arguments. From version 0.10.0 passing them as positional arguments will result in an error.\n",
      "  warnings.warn(\n",
      "C:\\Users\\ricai\\PycharmProjects\\dsh\\venv\\lib\\site-packages\\fairlearn\\metrics\\_metric_frame.py:70: FutureWarning: You have provided 'metrics', 'y_true', 'y_pred' as positional arguments. Please pass them as keyword arguments. From version 0.10.0 passing them as positional arguments will result in an error.\n",
      "  warnings.warn(\n"
     ]
    }
   ],
   "source": [
    "from fairlearn.metrics import MetricFrame\n",
    "from sklearn.metrics import accuracy_score\n",
    "\n",
    "sensitive_features = ['race_White', 'race_Black', 'race_Amer-Indian-Eskimo', 'race_Asian-Pac-Islander','gender_Female','gender_Male']\n",
    "\n",
    "mf = []\n",
    "\n",
    "for feature in sensitive_features:\n",
    "    sensitive_feature = X_test[feature]\n",
    "    feature_mf = MetricFrame(accuracy_score, y_test, y_pred_tree, sensitive_features=sensitive_feature)\n",
    "    mf.append(feature_mf)\n",
    "\n",
    "# Print the combined MetricFrame\n",
    "for i in mf:\n",
    "    print(i.by_group)"
   ]
  },
  {
   "cell_type": "code",
   "execution_count": 59,
   "id": "2c21a45b-bb7c-4454-b902-db761ee56092",
   "metadata": {},
   "outputs": [
    {
     "name": "stdout",
     "output_type": "stream",
     "text": [
      "False Positive Rate for race_White:\n",
      "race_White\n",
      "0.0    0.148148\n",
      "1.0    0.204620\n",
      "Name: false_positive_rate, dtype: float64\n",
      "False Negative Rate for race_White:\n",
      "race_White\n",
      "0.0    0.368421\n",
      "1.0    0.245955\n",
      "Name: false_negative_rate, dtype: float64\n",
      "False Positive Rate for race_Black:\n",
      "race_Black\n",
      "0.0    0.206349\n",
      "1.0    0.119048\n",
      "Name: false_positive_rate, dtype: float64\n",
      "False Negative Rate for race_Black:\n",
      "race_Black\n",
      "0.0    0.239264\n",
      "1.0    0.571429\n",
      "Name: false_negative_rate, dtype: float64\n",
      "False Positive Rate for race_Amer-Indian-Eskimo:\n",
      "race_Amer-Indian-Eskimo\n",
      "0.0    0.196629\n",
      "1.0    0.000000\n",
      "Name: false_positive_rate, dtype: float64\n",
      "False Negative Rate for race_Amer-Indian-Eskimo:\n",
      "race_Amer-Indian-Eskimo\n",
      "0.0    0.261628\n",
      "1.0    0.000000\n",
      "Name: false_negative_rate, dtype: float64\n",
      "False Positive Rate for race_Asian-Pac-Islander:\n",
      "race_Asian-Pac-Islander\n",
      "0.0    0.191429\n",
      "1.0    0.428571\n",
      "Name: false_positive_rate, dtype: float64\n",
      "False Negative Rate for race_Asian-Pac-Islander:\n",
      "race_Asian-Pac-Islander\n",
      "0.0    0.261905\n",
      "1.0    0.181818\n",
      "Name: false_negative_rate, dtype: float64\n",
      "False Positive Rate for gender_Female:\n",
      "gender_Female\n",
      "0.0    0.257009\n",
      "1.0    0.104895\n",
      "Name: false_positive_rate, dtype: float64\n",
      "False Negative Rate for gender_Female:\n",
      "gender_Female\n",
      "0.0    0.258503\n",
      "1.0    0.264151\n",
      "Name: false_negative_rate, dtype: float64\n",
      "False Positive Rate for gender_Male:\n",
      "gender_Male\n",
      "0.0    0.104895\n",
      "1.0    0.257009\n",
      "Name: false_positive_rate, dtype: float64\n",
      "False Negative Rate for gender_Male:\n",
      "gender_Male\n",
      "0.0    0.264151\n",
      "1.0    0.258503\n",
      "Name: false_negative_rate, dtype: float64\n"
     ]
    },
    {
     "name": "stderr",
     "output_type": "stream",
     "text": [
      "C:\\Users\\ricai\\PycharmProjects\\dsh\\venv\\lib\\site-packages\\fairlearn\\metrics\\_metric_frame.py:70: FutureWarning: You have provided 'metrics', 'y_true', 'y_pred' as positional arguments. Please pass them as keyword arguments. From version 0.10.0 passing them as positional arguments will result in an error.\n",
      "  warnings.warn(\n",
      "C:\\Users\\ricai\\PycharmProjects\\dsh\\venv\\lib\\site-packages\\fairlearn\\metrics\\_metric_frame.py:70: FutureWarning: You have provided 'metrics', 'y_true', 'y_pred' as positional arguments. Please pass them as keyword arguments. From version 0.10.0 passing them as positional arguments will result in an error.\n",
      "  warnings.warn(\n",
      "C:\\Users\\ricai\\PycharmProjects\\dsh\\venv\\lib\\site-packages\\fairlearn\\metrics\\_metric_frame.py:70: FutureWarning: You have provided 'metrics', 'y_true', 'y_pred' as positional arguments. Please pass them as keyword arguments. From version 0.10.0 passing them as positional arguments will result in an error.\n",
      "  warnings.warn(\n",
      "C:\\Users\\ricai\\PycharmProjects\\dsh\\venv\\lib\\site-packages\\fairlearn\\metrics\\_metric_frame.py:70: FutureWarning: You have provided 'metrics', 'y_true', 'y_pred' as positional arguments. Please pass them as keyword arguments. From version 0.10.0 passing them as positional arguments will result in an error.\n",
      "  warnings.warn(\n",
      "C:\\Users\\ricai\\PycharmProjects\\dsh\\venv\\lib\\site-packages\\fairlearn\\metrics\\_metric_frame.py:70: FutureWarning: You have provided 'metrics', 'y_true', 'y_pred' as positional arguments. Please pass them as keyword arguments. From version 0.10.0 passing them as positional arguments will result in an error.\n",
      "  warnings.warn(\n",
      "C:\\Users\\ricai\\PycharmProjects\\dsh\\venv\\lib\\site-packages\\fairlearn\\metrics\\_metric_frame.py:70: FutureWarning: You have provided 'metrics', 'y_true', 'y_pred' as positional arguments. Please pass them as keyword arguments. From version 0.10.0 passing them as positional arguments will result in an error.\n",
      "  warnings.warn(\n",
      "C:\\Users\\ricai\\PycharmProjects\\dsh\\venv\\lib\\site-packages\\fairlearn\\metrics\\_metric_frame.py:70: FutureWarning: You have provided 'metrics', 'y_true', 'y_pred' as positional arguments. Please pass them as keyword arguments. From version 0.10.0 passing them as positional arguments will result in an error.\n",
      "  warnings.warn(\n",
      "C:\\Users\\ricai\\PycharmProjects\\dsh\\venv\\lib\\site-packages\\fairlearn\\metrics\\_metric_frame.py:70: FutureWarning: You have provided 'metrics', 'y_true', 'y_pred' as positional arguments. Please pass them as keyword arguments. From version 0.10.0 passing them as positional arguments will result in an error.\n",
      "  warnings.warn(\n",
      "C:\\Users\\ricai\\PycharmProjects\\dsh\\venv\\lib\\site-packages\\fairlearn\\metrics\\_metric_frame.py:70: FutureWarning: You have provided 'metrics', 'y_true', 'y_pred' as positional arguments. Please pass them as keyword arguments. From version 0.10.0 passing them as positional arguments will result in an error.\n",
      "  warnings.warn(\n",
      "C:\\Users\\ricai\\PycharmProjects\\dsh\\venv\\lib\\site-packages\\fairlearn\\metrics\\_metric_frame.py:70: FutureWarning: You have provided 'metrics', 'y_true', 'y_pred' as positional arguments. Please pass them as keyword arguments. From version 0.10.0 passing them as positional arguments will result in an error.\n",
      "  warnings.warn(\n",
      "C:\\Users\\ricai\\PycharmProjects\\dsh\\venv\\lib\\site-packages\\fairlearn\\metrics\\_metric_frame.py:70: FutureWarning: You have provided 'metrics', 'y_true', 'y_pred' as positional arguments. Please pass them as keyword arguments. From version 0.10.0 passing them as positional arguments will result in an error.\n",
      "  warnings.warn(\n",
      "C:\\Users\\ricai\\PycharmProjects\\dsh\\venv\\lib\\site-packages\\fairlearn\\metrics\\_metric_frame.py:70: FutureWarning: You have provided 'metrics', 'y_true', 'y_pred' as positional arguments. Please pass them as keyword arguments. From version 0.10.0 passing them as positional arguments will result in an error.\n",
      "  warnings.warn(\n"
     ]
    }
   ],
   "source": [
    "from fairlearn.metrics import MetricFrame\n",
    "from sklearn.metrics import confusion_matrix\n",
    "\n",
    "# List of sensitive features\n",
    "sensitive_features = ['race_White', 'race_Black', 'race_Amer-Indian-Eskimo', 'race_Asian-Pac-Islander', 'gender_Female', 'gender_Male']\n",
    "\n",
    "# Function to calculate False Positive Rate\n",
    "def false_positive_rate(y_true, y_pred):\n",
    "    tn, fp, fn, tp = confusion_matrix(y_true, y_pred).ravel()\n",
    "    fpr = fp / (fp + tn)\n",
    "    return fpr\n",
    "\n",
    "# Function to calculate False Negative Rate\n",
    "def false_negative_rate(y_true, y_pred):\n",
    "    tn, fp, fn, tp = confusion_matrix(y_true, y_pred).ravel()\n",
    "    fnr = fn / (fn + tp)\n",
    "    return fnr\n",
    "\n",
    "# Iterate through each sensitive feature\n",
    "for feature in sensitive_features:\n",
    "    sensitive_feature = X_test[feature]\n",
    "    \n",
    "    # MetricFrame for False Positive Rate\n",
    "    fpr_mf = MetricFrame(false_positive_rate, y_test, y_pred_tree, sensitive_features=sensitive_feature)\n",
    "    print(f\"False Positive Rate for {feature}:\")\n",
    "    print(fpr_mf.by_group)\n",
    "    \n",
    "    # MetricFrame for False Negative Rate\n",
    "    fnr_mf = MetricFrame(false_negative_rate, y_test, y_pred_tree, sensitive_features=sensitive_feature)\n",
    "    print(f\"False Negative Rate for {feature}:\")\n",
    "    print(fnr_mf.by_group)"
   ]
  },
  {
   "cell_type": "markdown",
   "id": "0a5fdcf4",
   "metadata": {
    "id": "4a14bfe7"
   },
   "source": [
    "# Some neural network algorithm\n",
    "\n",
    "- Main advantage :\n",
    "- Main disadvantage :"
   ]
  },
  {
   "cell_type": "markdown",
   "id": "eb90d777",
   "metadata": {
    "id": "d9b1c800"
   },
   "source": [
    "#### Training and Accuracy"
   ]
  },
  {
   "cell_type": "code",
   "execution_count": 94,
   "id": "7c5c365f",
   "metadata": {
    "id": "e6ae7faf"
   },
   "outputs": [
    {
     "name": "stderr",
     "output_type": "stream",
     "text": [
      "WARNING:absl:`lr` is deprecated in Keras optimizer, please use `learning_rate` or use the legacy optimizer, e.g.,tf.keras.optimizers.legacy.Adam.\n"
     ]
    },
    {
     "name": "stdout",
     "output_type": "stream",
     "text": [
      "Epoch 1/200\n",
      "79/79 [==============================] - 1s 5ms/step - loss: 0.1372 - accuracy: 0.7967 - val_loss: 0.1181 - val_accuracy: 0.8300\n",
      "Epoch 2/200\n",
      "79/79 [==============================] - 0s 6ms/step - loss: 0.1182 - accuracy: 0.8175 - val_loss: 0.1132 - val_accuracy: 0.8320\n",
      "Epoch 3/200\n",
      "79/79 [==============================] - 0s 4ms/step - loss: 0.1156 - accuracy: 0.8275 - val_loss: 0.1224 - val_accuracy: 0.8192\n",
      "Epoch 4/200\n",
      "79/79 [==============================] - 0s 4ms/step - loss: 0.1141 - accuracy: 0.8327 - val_loss: 0.1106 - val_accuracy: 0.8376\n",
      "Epoch 5/200\n",
      "79/79 [==============================] - 0s 3ms/step - loss: 0.1118 - accuracy: 0.8355 - val_loss: 0.1094 - val_accuracy: 0.8416\n",
      "Epoch 6/200\n",
      "79/79 [==============================] - 0s 4ms/step - loss: 0.1096 - accuracy: 0.8399 - val_loss: 0.1090 - val_accuracy: 0.8452\n",
      "Epoch 7/200\n",
      "79/79 [==============================] - 0s 3ms/step - loss: 0.1092 - accuracy: 0.8479 - val_loss: 0.1099 - val_accuracy: 0.8440\n",
      "Epoch 8/200\n",
      "79/79 [==============================] - 0s 3ms/step - loss: 0.1083 - accuracy: 0.8447 - val_loss: 0.1102 - val_accuracy: 0.8420\n",
      "Epoch 9/200\n",
      "79/79 [==============================] - 0s 3ms/step - loss: 0.1113 - accuracy: 0.8415 - val_loss: 0.1090 - val_accuracy: 0.8444\n",
      "Epoch 10/200\n",
      "79/79 [==============================] - 0s 3ms/step - loss: 0.1095 - accuracy: 0.8411 - val_loss: 0.1086 - val_accuracy: 0.8448\n",
      "Epoch 11/200\n",
      "79/79 [==============================] - 0s 3ms/step - loss: 0.1112 - accuracy: 0.8363 - val_loss: 0.1095 - val_accuracy: 0.8392\n",
      "Epoch 12/200\n",
      "79/79 [==============================] - 0s 3ms/step - loss: 0.1090 - accuracy: 0.8407 - val_loss: 0.1146 - val_accuracy: 0.8292\n",
      "Epoch 13/200\n",
      "79/79 [==============================] - 0s 3ms/step - loss: 0.1084 - accuracy: 0.8427 - val_loss: 0.1112 - val_accuracy: 0.8376\n",
      "Epoch 14/200\n",
      "79/79 [==============================] - 0s 3ms/step - loss: 0.1084 - accuracy: 0.8431 - val_loss: 0.1091 - val_accuracy: 0.8404\n",
      "Epoch 15/200\n",
      "79/79 [==============================] - 0s 3ms/step - loss: 0.1090 - accuracy: 0.8407 - val_loss: 0.1108 - val_accuracy: 0.8388\n",
      "Epoch 16/200\n",
      "79/79 [==============================] - 0s 3ms/step - loss: 0.1077 - accuracy: 0.8403 - val_loss: 0.1086 - val_accuracy: 0.8388\n",
      "Epoch 17/200\n",
      "79/79 [==============================] - 0s 3ms/step - loss: 0.1111 - accuracy: 0.8303 - val_loss: 0.1097 - val_accuracy: 0.8420\n",
      "Epoch 18/200\n",
      "79/79 [==============================] - 0s 3ms/step - loss: 0.1081 - accuracy: 0.8399 - val_loss: 0.1162 - val_accuracy: 0.8316\n",
      "Epoch 19/200\n",
      "79/79 [==============================] - 0s 3ms/step - loss: 0.1078 - accuracy: 0.8419 - val_loss: 0.1101 - val_accuracy: 0.8448\n",
      "Epoch 20/200\n",
      "79/79 [==============================] - 0s 3ms/step - loss: 0.1082 - accuracy: 0.8403 - val_loss: 0.1089 - val_accuracy: 0.8428\n",
      "Epoch 21/200\n",
      "79/79 [==============================] - 0s 3ms/step - loss: 0.1081 - accuracy: 0.8459 - val_loss: 0.1116 - val_accuracy: 0.8360\n",
      "Epoch 22/200\n",
      "79/79 [==============================] - 0s 3ms/step - loss: 0.1086 - accuracy: 0.8415 - val_loss: 0.1105 - val_accuracy: 0.8428\n",
      "Epoch 23/200\n",
      "79/79 [==============================] - 0s 3ms/step - loss: 0.1087 - accuracy: 0.8447 - val_loss: 0.1104 - val_accuracy: 0.8368\n",
      "Epoch 24/200\n",
      "79/79 [==============================] - 0s 3ms/step - loss: 0.1080 - accuracy: 0.8423 - val_loss: 0.1127 - val_accuracy: 0.8428\n",
      "Epoch 25/200\n",
      "79/79 [==============================] - 0s 5ms/step - loss: 0.1077 - accuracy: 0.8419 - val_loss: 0.1140 - val_accuracy: 0.8368\n",
      "Epoch 26/200\n",
      "79/79 [==============================] - 0s 5ms/step - loss: 0.1089 - accuracy: 0.8419 - val_loss: 0.1086 - val_accuracy: 0.8420\n",
      "Epoch 27/200\n",
      "79/79 [==============================] - 0s 6ms/step - loss: 0.1066 - accuracy: 0.8447 - val_loss: 0.1084 - val_accuracy: 0.8440\n",
      "Epoch 28/200\n",
      "79/79 [==============================] - 0s 4ms/step - loss: 0.1079 - accuracy: 0.8475 - val_loss: 0.1091 - val_accuracy: 0.8392\n",
      "Epoch 29/200\n",
      "79/79 [==============================] - 0s 3ms/step - loss: 0.1081 - accuracy: 0.8403 - val_loss: 0.1101 - val_accuracy: 0.8436\n",
      "Epoch 30/200\n",
      "79/79 [==============================] - 0s 3ms/step - loss: 0.1086 - accuracy: 0.8355 - val_loss: 0.1085 - val_accuracy: 0.8412\n",
      "Epoch 31/200\n",
      "79/79 [==============================] - 0s 3ms/step - loss: 0.1068 - accuracy: 0.8475 - val_loss: 0.1101 - val_accuracy: 0.8444\n",
      "Epoch 32/200\n",
      "79/79 [==============================] - 0s 3ms/step - loss: 0.1073 - accuracy: 0.8399 - val_loss: 0.1086 - val_accuracy: 0.8424\n",
      "Epoch 33/200\n",
      "79/79 [==============================] - 0s 3ms/step - loss: 0.1098 - accuracy: 0.8423 - val_loss: 0.1091 - val_accuracy: 0.8428\n",
      "Epoch 34/200\n",
      "79/79 [==============================] - 0s 3ms/step - loss: 0.1065 - accuracy: 0.8427 - val_loss: 0.1102 - val_accuracy: 0.8388\n",
      "Epoch 35/200\n",
      "79/79 [==============================] - 0s 3ms/step - loss: 0.1074 - accuracy: 0.8447 - val_loss: 0.1104 - val_accuracy: 0.8464\n",
      "Epoch 36/200\n",
      "79/79 [==============================] - 0s 3ms/step - loss: 0.1090 - accuracy: 0.8387 - val_loss: 0.1104 - val_accuracy: 0.8444\n",
      "Epoch 37/200\n",
      "79/79 [==============================] - 0s 3ms/step - loss: 0.1077 - accuracy: 0.8463 - val_loss: 0.1101 - val_accuracy: 0.8408\n",
      "Epoch 38/200\n",
      "79/79 [==============================] - 0s 3ms/step - loss: 0.1078 - accuracy: 0.8471 - val_loss: 0.1092 - val_accuracy: 0.8404\n",
      "Epoch 39/200\n",
      "79/79 [==============================] - 0s 3ms/step - loss: 0.1079 - accuracy: 0.8439 - val_loss: 0.1090 - val_accuracy: 0.8416\n",
      "Epoch 40/200\n",
      "79/79 [==============================] - 0s 3ms/step - loss: 0.1084 - accuracy: 0.8427 - val_loss: 0.1098 - val_accuracy: 0.8388\n",
      "Epoch 41/200\n",
      "79/79 [==============================] - 0s 3ms/step - loss: 0.1068 - accuracy: 0.8415 - val_loss: 0.1086 - val_accuracy: 0.8432\n",
      "Epoch 42/200\n",
      "79/79 [==============================] - 0s 3ms/step - loss: 0.1075 - accuracy: 0.8435 - val_loss: 0.1089 - val_accuracy: 0.8424\n",
      "Epoch 43/200\n",
      "79/79 [==============================] - 0s 3ms/step - loss: 0.1077 - accuracy: 0.8459 - val_loss: 0.1104 - val_accuracy: 0.8424\n",
      "Epoch 44/200\n",
      "79/79 [==============================] - 0s 3ms/step - loss: 0.1074 - accuracy: 0.8399 - val_loss: 0.1100 - val_accuracy: 0.8428\n",
      "Epoch 45/200\n",
      "79/79 [==============================] - 0s 3ms/step - loss: 0.1072 - accuracy: 0.8439 - val_loss: 0.1101 - val_accuracy: 0.8448\n",
      "Epoch 46/200\n",
      "79/79 [==============================] - 0s 3ms/step - loss: 0.1067 - accuracy: 0.8451 - val_loss: 0.1088 - val_accuracy: 0.8424\n",
      "Epoch 47/200\n",
      "79/79 [==============================] - 0s 3ms/step - loss: 0.1070 - accuracy: 0.8467 - val_loss: 0.1086 - val_accuracy: 0.8440\n",
      "Epoch 48/200\n",
      "79/79 [==============================] - 0s 3ms/step - loss: 0.1069 - accuracy: 0.8435 - val_loss: 0.1089 - val_accuracy: 0.8408\n",
      "Epoch 49/200\n",
      "79/79 [==============================] - 0s 3ms/step - loss: 0.1074 - accuracy: 0.8451 - val_loss: 0.1085 - val_accuracy: 0.8420\n",
      "Epoch 50/200\n",
      "79/79 [==============================] - 0s 3ms/step - loss: 0.1077 - accuracy: 0.8419 - val_loss: 0.1086 - val_accuracy: 0.8440\n",
      "Epoch 51/200\n",
      "79/79 [==============================] - 0s 3ms/step - loss: 0.1067 - accuracy: 0.8459 - val_loss: 0.1097 - val_accuracy: 0.8452\n",
      "Epoch 52/200\n",
      "79/79 [==============================] - 0s 3ms/step - loss: 0.1067 - accuracy: 0.8427 - val_loss: 0.1098 - val_accuracy: 0.8436\n",
      "Epoch 53/200\n",
      "79/79 [==============================] - 0s 3ms/step - loss: 0.1077 - accuracy: 0.8439 - val_loss: 0.1085 - val_accuracy: 0.8420\n",
      "Epoch 54/200\n",
      "79/79 [==============================] - 0s 3ms/step - loss: 0.1064 - accuracy: 0.8419 - val_loss: 0.1116 - val_accuracy: 0.8444\n",
      "Epoch 55/200\n",
      "79/79 [==============================] - 0s 3ms/step - loss: 0.1075 - accuracy: 0.8451 - val_loss: 0.1112 - val_accuracy: 0.8360\n",
      "Epoch 56/200\n",
      "79/79 [==============================] - 0s 3ms/step - loss: 0.1105 - accuracy: 0.8355 - val_loss: 0.1095 - val_accuracy: 0.8424\n",
      "Epoch 57/200\n",
      "79/79 [==============================] - 0s 3ms/step - loss: 0.1068 - accuracy: 0.8471 - val_loss: 0.1092 - val_accuracy: 0.8404\n",
      "Epoch 58/200\n",
      "79/79 [==============================] - 0s 3ms/step - loss: 0.1071 - accuracy: 0.8443 - val_loss: 0.1088 - val_accuracy: 0.8440\n",
      "Epoch 59/200\n",
      "79/79 [==============================] - 0s 3ms/step - loss: 0.1072 - accuracy: 0.8435 - val_loss: 0.1093 - val_accuracy: 0.8444\n",
      "Epoch 60/200\n",
      "79/79 [==============================] - 0s 3ms/step - loss: 0.1078 - accuracy: 0.8403 - val_loss: 0.1084 - val_accuracy: 0.8432\n",
      "Epoch 61/200\n",
      "79/79 [==============================] - 0s 3ms/step - loss: 0.1067 - accuracy: 0.8471 - val_loss: 0.1083 - val_accuracy: 0.8432\n",
      "Epoch 62/200\n",
      "79/79 [==============================] - 0s 3ms/step - loss: 0.1077 - accuracy: 0.8435 - val_loss: 0.1086 - val_accuracy: 0.8432\n",
      "Epoch 63/200\n",
      "79/79 [==============================] - 0s 3ms/step - loss: 0.1061 - accuracy: 0.8463 - val_loss: 0.1084 - val_accuracy: 0.8436\n",
      "Epoch 64/200\n",
      "79/79 [==============================] - 0s 3ms/step - loss: 0.1069 - accuracy: 0.8403 - val_loss: 0.1100 - val_accuracy: 0.8444\n",
      "Epoch 65/200\n",
      "79/79 [==============================] - 0s 3ms/step - loss: 0.1065 - accuracy: 0.8443 - val_loss: 0.1103 - val_accuracy: 0.8444\n",
      "Epoch 66/200\n",
      "79/79 [==============================] - 0s 3ms/step - loss: 0.1072 - accuracy: 0.8443 - val_loss: 0.1086 - val_accuracy: 0.8436\n",
      "Epoch 67/200\n",
      "79/79 [==============================] - 0s 3ms/step - loss: 0.1069 - accuracy: 0.8431 - val_loss: 0.1116 - val_accuracy: 0.8440\n",
      "Epoch 68/200\n",
      "79/79 [==============================] - 0s 3ms/step - loss: 0.1083 - accuracy: 0.8423 - val_loss: 0.1083 - val_accuracy: 0.8428\n",
      "Epoch 69/200\n",
      "79/79 [==============================] - 0s 3ms/step - loss: 0.1069 - accuracy: 0.8451 - val_loss: 0.1088 - val_accuracy: 0.8444\n",
      "Epoch 70/200\n",
      "79/79 [==============================] - 0s 3ms/step - loss: 0.1071 - accuracy: 0.8435 - val_loss: 0.1086 - val_accuracy: 0.8420\n",
      "Epoch 71/200\n",
      "79/79 [==============================] - 0s 3ms/step - loss: 0.1078 - accuracy: 0.8395 - val_loss: 0.1085 - val_accuracy: 0.8440\n",
      "Epoch 72/200\n",
      "79/79 [==============================] - 0s 3ms/step - loss: 0.1070 - accuracy: 0.8407 - val_loss: 0.1146 - val_accuracy: 0.8352\n",
      "Epoch 73/200\n",
      "79/79 [==============================] - 0s 3ms/step - loss: 0.1082 - accuracy: 0.8423 - val_loss: 0.1091 - val_accuracy: 0.8448\n",
      "Epoch 74/200\n",
      "79/79 [==============================] - 0s 3ms/step - loss: 0.1066 - accuracy: 0.8399 - val_loss: 0.1091 - val_accuracy: 0.8432\n",
      "Epoch 75/200\n",
      "79/79 [==============================] - 0s 3ms/step - loss: 0.1080 - accuracy: 0.8387 - val_loss: 0.1097 - val_accuracy: 0.8432\n",
      "Epoch 76/200\n",
      "79/79 [==============================] - 0s 3ms/step - loss: 0.1065 - accuracy: 0.8447 - val_loss: 0.1103 - val_accuracy: 0.8400\n",
      "Epoch 77/200\n",
      "79/79 [==============================] - 0s 3ms/step - loss: 0.1062 - accuracy: 0.8467 - val_loss: 0.1113 - val_accuracy: 0.8428\n",
      "Epoch 78/200\n",
      "79/79 [==============================] - 0s 3ms/step - loss: 0.1070 - accuracy: 0.8407 - val_loss: 0.1113 - val_accuracy: 0.8376\n",
      "Epoch 79/200\n",
      "79/79 [==============================] - 0s 3ms/step - loss: 0.1078 - accuracy: 0.8443 - val_loss: 0.1091 - val_accuracy: 0.8416\n",
      "Epoch 80/200\n",
      "79/79 [==============================] - 0s 3ms/step - loss: 0.1078 - accuracy: 0.8419 - val_loss: 0.1098 - val_accuracy: 0.8440\n",
      "Epoch 81/200\n",
      "79/79 [==============================] - 0s 3ms/step - loss: 0.1078 - accuracy: 0.8435 - val_loss: 0.1100 - val_accuracy: 0.8428\n",
      "Epoch 82/200\n",
      "79/79 [==============================] - 0s 3ms/step - loss: 0.1064 - accuracy: 0.8435 - val_loss: 0.1092 - val_accuracy: 0.8392\n",
      "Epoch 83/200\n",
      "79/79 [==============================] - 0s 3ms/step - loss: 0.1079 - accuracy: 0.8423 - val_loss: 0.1088 - val_accuracy: 0.8400\n",
      "Epoch 84/200\n",
      "79/79 [==============================] - 0s 3ms/step - loss: 0.1072 - accuracy: 0.8419 - val_loss: 0.1110 - val_accuracy: 0.8448\n",
      "Epoch 85/200\n",
      "79/79 [==============================] - 0s 3ms/step - loss: 0.1065 - accuracy: 0.8471 - val_loss: 0.1088 - val_accuracy: 0.8424\n",
      "Epoch 86/200\n",
      "79/79 [==============================] - 0s 3ms/step - loss: 0.1079 - accuracy: 0.8419 - val_loss: 0.1090 - val_accuracy: 0.8404\n",
      "Epoch 87/200\n",
      "79/79 [==============================] - 0s 3ms/step - loss: 0.1062 - accuracy: 0.8463 - val_loss: 0.1087 - val_accuracy: 0.8432\n",
      "Epoch 88/200\n",
      "79/79 [==============================] - 0s 3ms/step - loss: 0.1060 - accuracy: 0.8447 - val_loss: 0.1089 - val_accuracy: 0.8440\n",
      "Epoch 89/200\n",
      "79/79 [==============================] - 0s 3ms/step - loss: 0.1069 - accuracy: 0.8459 - val_loss: 0.1092 - val_accuracy: 0.8452\n",
      "Epoch 90/200\n",
      "79/79 [==============================] - 0s 3ms/step - loss: 0.1062 - accuracy: 0.8447 - val_loss: 0.1087 - val_accuracy: 0.8412\n",
      "Epoch 91/200\n",
      "79/79 [==============================] - 0s 3ms/step - loss: 0.1074 - accuracy: 0.8423 - val_loss: 0.1093 - val_accuracy: 0.8392\n",
      "Epoch 92/200\n",
      "79/79 [==============================] - 0s 3ms/step - loss: 0.1079 - accuracy: 0.8427 - val_loss: 0.1081 - val_accuracy: 0.8408\n",
      "Epoch 93/200\n",
      "79/79 [==============================] - 0s 3ms/step - loss: 0.1062 - accuracy: 0.8459 - val_loss: 0.1086 - val_accuracy: 0.8436\n",
      "Epoch 94/200\n",
      "79/79 [==============================] - 0s 3ms/step - loss: 0.1057 - accuracy: 0.8483 - val_loss: 0.1090 - val_accuracy: 0.8408\n",
      "Epoch 95/200\n",
      "79/79 [==============================] - 0s 3ms/step - loss: 0.1091 - accuracy: 0.8407 - val_loss: 0.1081 - val_accuracy: 0.8436\n",
      "Epoch 96/200\n",
      "79/79 [==============================] - 0s 3ms/step - loss: 0.1068 - accuracy: 0.8407 - val_loss: 0.1087 - val_accuracy: 0.8408\n",
      "Epoch 97/200\n",
      "79/79 [==============================] - 0s 3ms/step - loss: 0.1061 - accuracy: 0.8487 - val_loss: 0.1079 - val_accuracy: 0.8440\n",
      "Epoch 98/200\n",
      "79/79 [==============================] - 0s 3ms/step - loss: 0.1062 - accuracy: 0.8463 - val_loss: 0.1080 - val_accuracy: 0.8428\n",
      "Epoch 99/200\n",
      "79/79 [==============================] - 0s 3ms/step - loss: 0.1066 - accuracy: 0.8447 - val_loss: 0.1085 - val_accuracy: 0.8432\n",
      "Epoch 100/200\n",
      "79/79 [==============================] - 0s 3ms/step - loss: 0.1063 - accuracy: 0.8447 - val_loss: 0.1079 - val_accuracy: 0.8444\n",
      "Epoch 101/200\n",
      "79/79 [==============================] - 0s 3ms/step - loss: 0.1069 - accuracy: 0.8479 - val_loss: 0.1081 - val_accuracy: 0.8436\n",
      "Epoch 102/200\n",
      "79/79 [==============================] - 0s 3ms/step - loss: 0.1058 - accuracy: 0.8471 - val_loss: 0.1080 - val_accuracy: 0.8440\n",
      "Epoch 103/200\n",
      "79/79 [==============================] - 0s 3ms/step - loss: 0.1057 - accuracy: 0.8443 - val_loss: 0.1078 - val_accuracy: 0.8424\n",
      "Epoch 104/200\n",
      "79/79 [==============================] - 0s 3ms/step - loss: 0.1052 - accuracy: 0.8455 - val_loss: 0.1070 - val_accuracy: 0.8448\n",
      "Epoch 105/200\n",
      "79/79 [==============================] - 0s 3ms/step - loss: 0.1048 - accuracy: 0.8487 - val_loss: 0.1082 - val_accuracy: 0.8392\n",
      "Epoch 106/200\n",
      "79/79 [==============================] - 0s 3ms/step - loss: 0.1055 - accuracy: 0.8439 - val_loss: 0.1076 - val_accuracy: 0.8420\n",
      "Epoch 107/200\n",
      "79/79 [==============================] - 0s 3ms/step - loss: 0.1051 - accuracy: 0.8459 - val_loss: 0.1073 - val_accuracy: 0.8448\n",
      "Epoch 108/200\n",
      "79/79 [==============================] - 0s 3ms/step - loss: 0.1045 - accuracy: 0.8519 - val_loss: 0.1074 - val_accuracy: 0.8404\n",
      "Epoch 109/200\n",
      "79/79 [==============================] - 0s 3ms/step - loss: 0.1046 - accuracy: 0.8407 - val_loss: 0.1089 - val_accuracy: 0.8420\n",
      "Epoch 110/200\n",
      "79/79 [==============================] - 0s 3ms/step - loss: 0.1052 - accuracy: 0.8479 - val_loss: 0.1083 - val_accuracy: 0.8444\n",
      "Epoch 111/200\n",
      "79/79 [==============================] - 0s 3ms/step - loss: 0.1052 - accuracy: 0.8455 - val_loss: 0.1067 - val_accuracy: 0.8456\n",
      "Epoch 112/200\n",
      "79/79 [==============================] - 0s 3ms/step - loss: 0.1052 - accuracy: 0.8483 - val_loss: 0.1070 - val_accuracy: 0.8440\n",
      "Epoch 113/200\n",
      "79/79 [==============================] - 0s 3ms/step - loss: 0.1065 - accuracy: 0.8463 - val_loss: 0.1067 - val_accuracy: 0.8448\n",
      "Epoch 114/200\n",
      "79/79 [==============================] - 0s 3ms/step - loss: 0.1045 - accuracy: 0.8491 - val_loss: 0.1063 - val_accuracy: 0.8448\n",
      "Epoch 115/200\n",
      "79/79 [==============================] - 0s 3ms/step - loss: 0.1050 - accuracy: 0.8459 - val_loss: 0.1074 - val_accuracy: 0.8444\n",
      "Epoch 116/200\n",
      "79/79 [==============================] - 0s 3ms/step - loss: 0.1046 - accuracy: 0.8475 - val_loss: 0.1072 - val_accuracy: 0.8416\n",
      "Epoch 117/200\n",
      "79/79 [==============================] - 0s 3ms/step - loss: 0.1042 - accuracy: 0.8491 - val_loss: 0.1088 - val_accuracy: 0.8388\n",
      "Epoch 118/200\n",
      "79/79 [==============================] - 0s 3ms/step - loss: 0.1047 - accuracy: 0.8475 - val_loss: 0.1069 - val_accuracy: 0.8412\n",
      "Epoch 119/200\n",
      "79/79 [==============================] - 0s 3ms/step - loss: 0.1049 - accuracy: 0.8495 - val_loss: 0.1067 - val_accuracy: 0.8436\n",
      "Epoch 120/200\n",
      "79/79 [==============================] - 0s 3ms/step - loss: 0.1047 - accuracy: 0.8475 - val_loss: 0.1086 - val_accuracy: 0.8392\n",
      "Epoch 121/200\n",
      "79/79 [==============================] - 0s 3ms/step - loss: 0.1057 - accuracy: 0.8511 - val_loss: 0.1083 - val_accuracy: 0.8432\n",
      "Epoch 122/200\n",
      "79/79 [==============================] - 0s 3ms/step - loss: 0.1054 - accuracy: 0.8459 - val_loss: 0.1092 - val_accuracy: 0.8444\n",
      "Epoch 123/200\n",
      "79/79 [==============================] - 0s 3ms/step - loss: 0.1046 - accuracy: 0.8471 - val_loss: 0.1074 - val_accuracy: 0.8412\n",
      "Epoch 124/200\n",
      "79/79 [==============================] - 0s 3ms/step - loss: 0.1044 - accuracy: 0.8475 - val_loss: 0.1098 - val_accuracy: 0.8444\n",
      "Epoch 125/200\n",
      "79/79 [==============================] - 0s 3ms/step - loss: 0.1041 - accuracy: 0.8491 - val_loss: 0.1068 - val_accuracy: 0.8440\n",
      "Epoch 126/200\n",
      "79/79 [==============================] - 0s 3ms/step - loss: 0.1053 - accuracy: 0.8455 - val_loss: 0.1059 - val_accuracy: 0.8416\n",
      "Epoch 127/200\n",
      "79/79 [==============================] - 0s 3ms/step - loss: 0.1047 - accuracy: 0.8467 - val_loss: 0.1079 - val_accuracy: 0.8432\n",
      "Epoch 128/200\n",
      "79/79 [==============================] - 0s 3ms/step - loss: 0.1050 - accuracy: 0.8439 - val_loss: 0.1071 - val_accuracy: 0.8444\n",
      "Epoch 129/200\n",
      "79/79 [==============================] - 0s 3ms/step - loss: 0.1051 - accuracy: 0.8479 - val_loss: 0.1065 - val_accuracy: 0.8404\n",
      "Epoch 130/200\n",
      "79/79 [==============================] - 0s 3ms/step - loss: 0.1045 - accuracy: 0.8399 - val_loss: 0.1067 - val_accuracy: 0.8412\n",
      "Epoch 131/200\n",
      "79/79 [==============================] - 0s 3ms/step - loss: 0.1049 - accuracy: 0.8463 - val_loss: 0.1081 - val_accuracy: 0.8372\n",
      "Epoch 132/200\n",
      "79/79 [==============================] - 0s 3ms/step - loss: 0.1061 - accuracy: 0.8395 - val_loss: 0.1071 - val_accuracy: 0.8416\n",
      "Epoch 133/200\n",
      "79/79 [==============================] - 0s 3ms/step - loss: 0.1039 - accuracy: 0.8463 - val_loss: 0.1066 - val_accuracy: 0.8448\n",
      "Epoch 134/200\n",
      "79/79 [==============================] - 0s 3ms/step - loss: 0.1045 - accuracy: 0.8403 - val_loss: 0.1072 - val_accuracy: 0.8404\n",
      "Epoch 135/200\n",
      "79/79 [==============================] - 0s 3ms/step - loss: 0.1046 - accuracy: 0.8431 - val_loss: 0.1055 - val_accuracy: 0.8452\n",
      "Epoch 136/200\n",
      "79/79 [==============================] - 0s 3ms/step - loss: 0.1033 - accuracy: 0.8443 - val_loss: 0.1078 - val_accuracy: 0.8404\n",
      "Epoch 137/200\n",
      "79/79 [==============================] - 0s 3ms/step - loss: 0.1050 - accuracy: 0.8427 - val_loss: 0.1151 - val_accuracy: 0.8348\n",
      "Epoch 138/200\n",
      "79/79 [==============================] - 0s 3ms/step - loss: 0.1041 - accuracy: 0.8495 - val_loss: 0.1080 - val_accuracy: 0.8432\n",
      "Epoch 139/200\n",
      "79/79 [==============================] - 0s 3ms/step - loss: 0.1040 - accuracy: 0.8471 - val_loss: 0.1066 - val_accuracy: 0.8432\n",
      "Epoch 140/200\n",
      "79/79 [==============================] - 0s 3ms/step - loss: 0.1040 - accuracy: 0.8507 - val_loss: 0.1069 - val_accuracy: 0.8412\n",
      "Epoch 141/200\n",
      "79/79 [==============================] - 0s 3ms/step - loss: 0.1043 - accuracy: 0.8475 - val_loss: 0.1062 - val_accuracy: 0.8420\n",
      "Epoch 142/200\n",
      "79/79 [==============================] - 0s 5ms/step - loss: 0.1051 - accuracy: 0.8455 - val_loss: 0.1069 - val_accuracy: 0.8412\n",
      "Epoch 143/200\n",
      "79/79 [==============================] - 0s 5ms/step - loss: 0.1039 - accuracy: 0.8451 - val_loss: 0.1070 - val_accuracy: 0.8436\n",
      "Epoch 144/200\n",
      "79/79 [==============================] - 0s 5ms/step - loss: 0.1041 - accuracy: 0.8495 - val_loss: 0.1068 - val_accuracy: 0.8392\n",
      "Epoch 145/200\n",
      "79/79 [==============================] - 0s 5ms/step - loss: 0.1029 - accuracy: 0.8451 - val_loss: 0.1077 - val_accuracy: 0.8436\n",
      "Epoch 146/200\n",
      "79/79 [==============================] - 0s 5ms/step - loss: 0.1034 - accuracy: 0.8455 - val_loss: 0.1121 - val_accuracy: 0.8388\n",
      "Epoch 147/200\n",
      "79/79 [==============================] - 0s 4ms/step - loss: 0.1053 - accuracy: 0.8439 - val_loss: 0.1059 - val_accuracy: 0.8440\n",
      "Epoch 148/200\n",
      "79/79 [==============================] - 0s 3ms/step - loss: 0.1041 - accuracy: 0.8467 - val_loss: 0.1063 - val_accuracy: 0.8384\n",
      "Epoch 149/200\n",
      "79/79 [==============================] - 0s 3ms/step - loss: 0.1034 - accuracy: 0.8419 - val_loss: 0.1064 - val_accuracy: 0.8400\n",
      "Epoch 150/200\n",
      "79/79 [==============================] - 0s 4ms/step - loss: 0.1028 - accuracy: 0.8475 - val_loss: 0.1087 - val_accuracy: 0.8376\n",
      "Epoch 151/200\n",
      "79/79 [==============================] - 0s 4ms/step - loss: 0.1037 - accuracy: 0.8471 - val_loss: 0.1071 - val_accuracy: 0.8388\n",
      "Epoch 152/200\n",
      "79/79 [==============================] - 0s 4ms/step - loss: 0.1026 - accuracy: 0.8495 - val_loss: 0.1061 - val_accuracy: 0.8404\n",
      "Epoch 153/200\n",
      "79/79 [==============================] - 0s 3ms/step - loss: 0.1034 - accuracy: 0.8499 - val_loss: 0.1071 - val_accuracy: 0.8360\n",
      "Epoch 154/200\n",
      "79/79 [==============================] - 0s 3ms/step - loss: 0.1039 - accuracy: 0.8435 - val_loss: 0.1064 - val_accuracy: 0.8412\n",
      "Epoch 155/200\n",
      "79/79 [==============================] - 0s 3ms/step - loss: 0.1039 - accuracy: 0.8511 - val_loss: 0.1097 - val_accuracy: 0.8344\n",
      "Epoch 156/200\n",
      "79/79 [==============================] - 0s 3ms/step - loss: 0.1057 - accuracy: 0.8415 - val_loss: 0.1059 - val_accuracy: 0.8432\n",
      "Epoch 157/200\n",
      "79/79 [==============================] - 0s 3ms/step - loss: 0.1028 - accuracy: 0.8479 - val_loss: 0.1064 - val_accuracy: 0.8436\n",
      "Epoch 158/200\n",
      "79/79 [==============================] - 0s 3ms/step - loss: 0.1027 - accuracy: 0.8543 - val_loss: 0.1070 - val_accuracy: 0.8428\n",
      "Epoch 159/200\n",
      "79/79 [==============================] - 0s 3ms/step - loss: 0.1024 - accuracy: 0.8483 - val_loss: 0.1071 - val_accuracy: 0.8444\n",
      "Epoch 160/200\n",
      "79/79 [==============================] - 0s 4ms/step - loss: 0.1026 - accuracy: 0.8523 - val_loss: 0.1062 - val_accuracy: 0.8408\n",
      "Epoch 161/200\n",
      "79/79 [==============================] - 0s 5ms/step - loss: 0.1025 - accuracy: 0.8439 - val_loss: 0.1062 - val_accuracy: 0.8432\n",
      "Epoch 162/200\n",
      "79/79 [==============================] - 0s 6ms/step - loss: 0.1024 - accuracy: 0.8475 - val_loss: 0.1065 - val_accuracy: 0.8384\n",
      "Epoch 163/200\n",
      "79/79 [==============================] - 0s 6ms/step - loss: 0.1033 - accuracy: 0.8467 - val_loss: 0.1069 - val_accuracy: 0.8404\n",
      "Epoch 164/200\n",
      "79/79 [==============================] - 1s 7ms/step - loss: 0.1037 - accuracy: 0.8415 - val_loss: 0.1068 - val_accuracy: 0.8460\n",
      "Epoch 165/200\n",
      "79/79 [==============================] - 0s 5ms/step - loss: 0.1027 - accuracy: 0.8491 - val_loss: 0.1078 - val_accuracy: 0.8448\n",
      "Epoch 166/200\n",
      "79/79 [==============================] - 0s 3ms/step - loss: 0.1021 - accuracy: 0.8523 - val_loss: 0.1082 - val_accuracy: 0.8428\n",
      "Epoch 167/200\n",
      "79/79 [==============================] - 0s 3ms/step - loss: 0.1033 - accuracy: 0.8475 - val_loss: 0.1062 - val_accuracy: 0.8440\n",
      "Epoch 168/200\n",
      "79/79 [==============================] - 0s 4ms/step - loss: 0.1017 - accuracy: 0.8507 - val_loss: 0.1090 - val_accuracy: 0.8436\n",
      "Epoch 169/200\n",
      "79/79 [==============================] - 0s 5ms/step - loss: 0.1023 - accuracy: 0.8459 - val_loss: 0.1070 - val_accuracy: 0.8356\n",
      "Epoch 170/200\n",
      "79/79 [==============================] - 1s 7ms/step - loss: 0.1022 - accuracy: 0.8479 - val_loss: 0.1076 - val_accuracy: 0.8444\n",
      "Epoch 171/200\n",
      "79/79 [==============================] - 0s 3ms/step - loss: 0.1018 - accuracy: 0.8455 - val_loss: 0.1062 - val_accuracy: 0.8436\n",
      "Epoch 172/200\n",
      "79/79 [==============================] - 0s 4ms/step - loss: 0.1022 - accuracy: 0.8495 - val_loss: 0.1102 - val_accuracy: 0.8420\n",
      "Epoch 173/200\n",
      "79/79 [==============================] - 0s 5ms/step - loss: 0.1027 - accuracy: 0.8499 - val_loss: 0.1083 - val_accuracy: 0.8384\n",
      "Epoch 174/200\n",
      "79/79 [==============================] - 0s 4ms/step - loss: 0.1022 - accuracy: 0.8491 - val_loss: 0.1059 - val_accuracy: 0.8460\n",
      "Epoch 175/200\n",
      "79/79 [==============================] - 0s 3ms/step - loss: 0.1024 - accuracy: 0.8467 - val_loss: 0.1068 - val_accuracy: 0.8404\n",
      "Epoch 176/200\n",
      "79/79 [==============================] - 0s 3ms/step - loss: 0.1011 - accuracy: 0.8547 - val_loss: 0.1099 - val_accuracy: 0.8400\n",
      "Epoch 177/200\n",
      "79/79 [==============================] - 0s 3ms/step - loss: 0.1023 - accuracy: 0.8483 - val_loss: 0.1079 - val_accuracy: 0.8356\n",
      "Epoch 178/200\n",
      "79/79 [==============================] - 0s 3ms/step - loss: 0.1023 - accuracy: 0.8467 - val_loss: 0.1081 - val_accuracy: 0.8416\n",
      "Epoch 179/200\n",
      "79/79 [==============================] - 0s 3ms/step - loss: 0.1029 - accuracy: 0.8471 - val_loss: 0.1080 - val_accuracy: 0.8356\n",
      "Epoch 180/200\n",
      "79/79 [==============================] - 0s 3ms/step - loss: 0.1022 - accuracy: 0.8487 - val_loss: 0.1081 - val_accuracy: 0.8436\n",
      "Epoch 181/200\n",
      "79/79 [==============================] - 0s 3ms/step - loss: 0.1027 - accuracy: 0.8435 - val_loss: 0.1108 - val_accuracy: 0.8424\n",
      "Epoch 182/200\n",
      "79/79 [==============================] - 0s 3ms/step - loss: 0.1024 - accuracy: 0.8507 - val_loss: 0.1064 - val_accuracy: 0.8436\n",
      "Epoch 183/200\n",
      "79/79 [==============================] - 0s 3ms/step - loss: 0.1015 - accuracy: 0.8499 - val_loss: 0.1093 - val_accuracy: 0.8436\n",
      "Epoch 184/200\n",
      "79/79 [==============================] - 0s 3ms/step - loss: 0.1019 - accuracy: 0.8475 - val_loss: 0.1060 - val_accuracy: 0.8412\n",
      "Epoch 185/200\n",
      "79/79 [==============================] - 0s 3ms/step - loss: 0.1021 - accuracy: 0.8471 - val_loss: 0.1066 - val_accuracy: 0.8412\n",
      "Epoch 186/200\n",
      "79/79 [==============================] - 0s 3ms/step - loss: 0.0996 - accuracy: 0.8523 - val_loss: 0.1059 - val_accuracy: 0.8444\n",
      "Epoch 187/200\n",
      "79/79 [==============================] - 0s 3ms/step - loss: 0.1014 - accuracy: 0.8463 - val_loss: 0.1069 - val_accuracy: 0.8420\n",
      "Epoch 188/200\n",
      "79/79 [==============================] - 0s 3ms/step - loss: 0.1013 - accuracy: 0.8499 - val_loss: 0.1074 - val_accuracy: 0.8424\n",
      "Epoch 189/200\n",
      "79/79 [==============================] - 0s 3ms/step - loss: 0.1009 - accuracy: 0.8499 - val_loss: 0.1078 - val_accuracy: 0.8412\n",
      "Epoch 190/200\n",
      "79/79 [==============================] - 0s 3ms/step - loss: 0.1025 - accuracy: 0.8423 - val_loss: 0.1070 - val_accuracy: 0.8432\n",
      "Epoch 191/200\n",
      "79/79 [==============================] - 0s 3ms/step - loss: 0.1013 - accuracy: 0.8483 - val_loss: 0.1067 - val_accuracy: 0.8392\n",
      "Epoch 192/200\n",
      "79/79 [==============================] - 0s 3ms/step - loss: 0.1008 - accuracy: 0.8483 - val_loss: 0.1070 - val_accuracy: 0.8412\n",
      "Epoch 193/200\n",
      "79/79 [==============================] - 0s 3ms/step - loss: 0.1015 - accuracy: 0.8495 - val_loss: 0.1080 - val_accuracy: 0.8412\n",
      "Epoch 194/200\n",
      "79/79 [==============================] - 0s 3ms/step - loss: 0.1012 - accuracy: 0.8451 - val_loss: 0.1085 - val_accuracy: 0.8408\n",
      "Epoch 195/200\n",
      "79/79 [==============================] - 0s 3ms/step - loss: 0.1002 - accuracy: 0.8499 - val_loss: 0.1061 - val_accuracy: 0.8404\n",
      "Epoch 196/200\n",
      "79/79 [==============================] - 0s 3ms/step - loss: 0.1015 - accuracy: 0.8483 - val_loss: 0.1065 - val_accuracy: 0.8428\n",
      "Epoch 197/200\n",
      "79/79 [==============================] - 0s 3ms/step - loss: 0.1012 - accuracy: 0.8499 - val_loss: 0.1064 - val_accuracy: 0.8412\n",
      "Epoch 198/200\n",
      "79/79 [==============================] - 0s 3ms/step - loss: 0.1015 - accuracy: 0.8555 - val_loss: 0.1065 - val_accuracy: 0.8380\n",
      "Epoch 199/200\n",
      "79/79 [==============================] - 0s 3ms/step - loss: 0.1013 - accuracy: 0.8523 - val_loss: 0.1076 - val_accuracy: 0.8340\n",
      "Epoch 200/200\n",
      "79/79 [==============================] - 0s 3ms/step - loss: 0.1017 - accuracy: 0.8479 - val_loss: 0.1083 - val_accuracy: 0.8388\n",
      "79/79 [==============================] - 0s 997us/step - loss: 0.1083 - accuracy: 0.8388\n",
      "[0.10826485604047775, 0.8388000130653381]\n"
     ]
    }
   ],
   "source": [
    "import pandas as pd\n",
    "import numpy as np\n",
    "import tensorflow as tf\n",
    "from tensorflow.keras.models import Sequential\n",
    "from tensorflow.keras.layers import Flatten, Dense, Activation, Dropout\n",
    "from tensorflow.keras import optimizers\n",
    "from tensorflow.keras.callbacks import TensorBoard\n",
    "\n",
    "def load_split_csv_dataset(csv_file, split_ratio):\n",
    "    # Load the CSV file\n",
    "    dataset = pd.read_csv(csv_file)\n",
    "\n",
    "    # Shuffle the dataset\n",
    "    dataset = dataset.sample(frac=1).reset_index(drop=True)\n",
    "\n",
    "    # Split features and target\n",
    "    x = dataset.iloc[:, :-1].values\n",
    "    y = dataset.iloc[:, -1:].values\n",
    "\n",
    "    # Determine the split point based on the split ratio\n",
    "    split_point = int(len(dataset) * split_ratio)\n",
    "\n",
    "    # Split the dataset into two parts\n",
    "    x_train = x[:split_point]\n",
    "    y_train = y[:split_point]\n",
    "    x_eval = x[split_point:]\n",
    "    y_eval = y[split_point:]\n",
    "\n",
    "    # Convert to numpy array and ensure it's float\n",
    "    x_train = np.array(x_train).astype(float)\n",
    "    y_train = np.array(y_train).astype(float)\n",
    "    x_eval = np.array(x_eval).astype(float)\n",
    "    y_eval = np.array(y_eval).astype(float)\n",
    "\n",
    "    return x_train, y_train, x_eval, y_eval\n",
    "\n",
    "X,y,X_val,y_val = load_split_csv_dataset(\"data/preprocessed_adult.csv\",0.5)\n",
    "\n",
    "n_layers = [2] #[2,1,3]\n",
    "n_nodes = [256] #[256,512,1024]\n",
    "learning_rates = [0.000001] #[0.000001,0.0001,]\n",
    "\n",
    "for n_layer in n_layers:\n",
    "\tfor n_node in n_nodes:\n",
    "\t\tfor lr in learning_rates:\n",
    "\n",
    "\t\t\tmodel = Sequential()\n",
    "\t\t\tmodel.add(Flatten())\n",
    "\n",
    "\t\t\tfor _ in range(n_layer):\n",
    "\t\t\t\tmodel.add(Dense(n_node))\n",
    "\t\t\t\tmodel.add(Activation('tanh'))\n",
    "\t\t\t\tmodel.add(Dropout(0.1))\n",
    "\n",
    "\t\t\tmodel.add(Dense(1))\n",
    "\t\t\tmodel.add(Activation('sigmoid'))\n",
    "\n",
    "\t\t\topt = optimizers.Adam(lr = lr)\n",
    "\n",
    "\t\t\tmodel.compile(optimizer = opt, loss = 'mean_squared_error', metrics = ['accuracy'])\n",
    "\n",
    "\t\t\tmodel.fit(X, y, epochs = 200, batch_size = 32, validation_data = (X_val, y_val))\n",
    "\t\t\tprint(model.evaluate(X_val, y_val))"
   ]
  },
  {
   "cell_type": "markdown",
   "id": "db396a2b",
   "metadata": {
    "id": "779585de"
   },
   "source": [
    "#### Impact of Hyperparameters on Accuracy"
   ]
  },
  {
   "cell_type": "code",
   "execution_count": 95,
   "id": "9ab71eda",
   "metadata": {
    "id": "5efa485b"
   },
   "outputs": [],
   "source": [
    "#A very slow learning rate coupled with with a high number of epochs allowed us to achieve very high accuracy\n",
    "\n",
    "\n",
    "n_layers = 2\n",
    "n_nodes = 256 #, or 512\n",
    "learning_rates = 0.000001 #,0.0001\n",
    "epochs = 200"
   ]
  },
  {
   "cell_type": "markdown",
   "id": "8f8cb729",
   "metadata": {
    "id": "db5eaabb"
   },
   "source": [
    "#### Confusion Matrix\n",
    "\n",
    "- Precision\n",
    "- Recall\n",
    "- F1 score\n",
    "- Accuracy"
   ]
  },
  {
   "cell_type": "code",
   "execution_count": 85,
   "id": "18619420",
   "metadata": {
    "id": "070b7739"
   },
   "outputs": [
    {
     "name": "stdout",
     "output_type": "stream",
     "text": [
      "79/79 [==============================] - 0s 935us/step\n"
     ]
    },
    {
     "data": {
      "image/png": "[encoded data removed]",
      "text/plain": [
       "<Figure size 1000x700 with 2 Axes>"
      ]
     },
     "metadata": {},
     "output_type": "display_data"
    }
   ],
   "source": [
    "from sklearn.metrics import confusion_matrix\n",
    "import matplotlib.pyplot as plt\n",
    "import seaborn as sns\n",
    "\n",
    "predictions = (model.predict(X_val) > 0.5).astype(\"int32\")\n",
    "\n",
    "# Compute confusion matrix\n",
    "cm = confusion_matrix(y_val, predictions)\n",
    "\n",
    "# Visualizing the confusion matrix\n",
    "plt.figure(figsize=(10,7))\n",
    "sns.heatmap(cm, annot=True, fmt='d', cmap='Blues')\n",
    "plt.xlabel('Predicted')\n",
    "plt.ylabel('Truth')\n",
    "plt.show()"
   ]
  },
  {
   "cell_type": "code",
   "execution_count": 93,
   "id": "40b3c0a8-e943-4a1b-b423-4eb2706eacd8",
   "metadata": {},
   "outputs": [
    {
     "name": "stdout",
     "output_type": "stream",
     "text": [
      "[0 1 1 ... 0 0 0]\n",
      "[1 1 1 ... 1 1 1]\n"
     ]
    },
    {
     "ename": "ValueError",
     "evalue": "Found input variables with inconsistent numbers of samples: [1172, 2500]",
     "output_type": "error",
     "traceback": [
      "\u001b[1;31m---------------------------------------------------------------------------\u001b[0m",
      "\u001b[1;31mValueError\u001b[0m                                Traceback (most recent call last)",
      "Cell \u001b[1;32mIn[93], line 20\u001b[0m\n\u001b[0;32m     18\u001b[0m \u001b[38;5;66;03m# Create a metric frame\u001b[39;00m\n\u001b[0;32m     19\u001b[0m metrics \u001b[38;5;241m=\u001b[39m {\u001b[38;5;124m'\u001b[39m\u001b[38;5;124maccuracy\u001b[39m\u001b[38;5;124m'\u001b[39m: accuracy_score, \u001b[38;5;124m'\u001b[39m\u001b[38;5;124mdemographic_parity_difference\u001b[39m\u001b[38;5;124m'\u001b[39m: demographic_parity_difference}\n\u001b[1;32m---> 20\u001b[0m metric_frame \u001b[38;5;241m=\u001b[39m \u001b[43mMetricFrame\u001b[49m\u001b[43m(\u001b[49m\u001b[43mmetrics\u001b[49m\u001b[38;5;241;43m=\u001b[39;49m\u001b[43mmetrics\u001b[49m\u001b[43m,\u001b[49m\n\u001b[0;32m     21\u001b[0m \u001b[43m                           \u001b[49m\u001b[43my_true\u001b[49m\u001b[38;5;241;43m=\u001b[39;49m\u001b[43my_val\u001b[49m\u001b[43m,\u001b[49m\n\u001b[0;32m     22\u001b[0m \u001b[43m                           \u001b[49m\u001b[43my_pred\u001b[49m\u001b[38;5;241;43m=\u001b[39;49m\u001b[43mpredictions\u001b[49m\u001b[43m,\u001b[49m\n\u001b[0;32m     23\u001b[0m \u001b[43m                           \u001b[49m\u001b[43msensitive_features\u001b[49m\u001b[38;5;241;43m=\u001b[39;49m\u001b[43msensitive_features\u001b[49m\u001b[43m)\u001b[49m\n\u001b[0;32m     25\u001b[0m \u001b[38;5;28mprint\u001b[39m(metric_frame\u001b[38;5;241m.\u001b[39mdifference())\n",
      "File \u001b[1;32m~\\PycharmProjects\\dsh\\venv\\lib\\site-packages\\fairlearn\\metrics\\_metric_frame.py:92\u001b[0m, in \u001b[0;36m_deprecate_metric_frame_init.<locals>.compatible_metric_frame_init\u001b[1;34m(self, metric, *args, **kwargs)\u001b[0m\n\u001b[0;32m     82\u001b[0m     warnings\u001b[38;5;241m.\u001b[39mwarn(\n\u001b[0;32m     83\u001b[0m         \u001b[38;5;124m\"\u001b[39m\u001b[38;5;124mThe positional argument \u001b[39m\u001b[38;5;124m'\u001b[39m\u001b[38;5;124mmetric\u001b[39m\u001b[38;5;124m'\u001b[39m\u001b[38;5;124m has been replaced \u001b[39m\u001b[38;5;124m\"\u001b[39m\n\u001b[0;32m     84\u001b[0m         \u001b[38;5;124m\"\u001b[39m\u001b[38;5;124mby a keyword argument \u001b[39m\u001b[38;5;124m'\u001b[39m\u001b[38;5;124mmetrics\u001b[39m\u001b[38;5;124m'\u001b[39m\u001b[38;5;124m. \u001b[39m\u001b[38;5;124m\"\u001b[39m\n\u001b[1;32m   (...)\u001b[0m\n\u001b[0;32m     87\u001b[0m         \u001b[38;5;167;01mFutureWarning\u001b[39;00m,\n\u001b[0;32m     88\u001b[0m     )\n\u001b[0;32m     90\u001b[0m \u001b[38;5;66;03m# Call the new constructor with positional arguments passed as keyword arguments\u001b[39;00m\n\u001b[0;32m     91\u001b[0m \u001b[38;5;66;03m# and with the `metric` keyword argument renamed to `metrics`.\u001b[39;00m\n\u001b[1;32m---> 92\u001b[0m new_metric_frame_init(\u001b[38;5;28mself\u001b[39m, \u001b[38;5;241m*\u001b[39m\u001b[38;5;241m*\u001b[39mmetric_arg_dict, \u001b[38;5;241m*\u001b[39m\u001b[38;5;241m*\u001b[39mpositional_dict, \u001b[38;5;241m*\u001b[39m\u001b[38;5;241m*\u001b[39mkwargs)\n",
      "File \u001b[1;32m~\\PycharmProjects\\dsh\\venv\\lib\\site-packages\\fairlearn\\metrics\\_metric_frame.py:288\u001b[0m, in \u001b[0;36mMetricFrame.__init__\u001b[1;34m(self, metrics, y_true, y_pred, sensitive_features, control_features, sample_params)\u001b[0m\n\u001b[0;32m    274\u001b[0m \u001b[38;5;129m@_deprecate_metric_frame_init\u001b[39m\n\u001b[0;32m    275\u001b[0m \u001b[38;5;28;01mdef\u001b[39;00m \u001b[38;5;21m__init__\u001b[39m(\n\u001b[0;32m    276\u001b[0m     \u001b[38;5;28mself\u001b[39m,\n\u001b[1;32m   (...)\u001b[0m\n\u001b[0;32m    285\u001b[0m     ] \u001b[38;5;241m=\u001b[39m \u001b[38;5;28;01mNone\u001b[39;00m,\n\u001b[0;32m    286\u001b[0m ):\n\u001b[0;32m    287\u001b[0m \u001b[38;5;250m    \u001b[39m\u001b[38;5;124;03m\"\"\"Read a placeholder comment.\"\"\"\u001b[39;00m\n\u001b[1;32m--> 288\u001b[0m     \u001b[43mcheck_consistent_length\u001b[49m\u001b[43m(\u001b[49m\u001b[43my_true\u001b[49m\u001b[43m,\u001b[49m\u001b[43m \u001b[49m\u001b[43my_pred\u001b[49m\u001b[43m)\u001b[49m\n\u001b[0;32m    290\u001b[0m     y_t \u001b[38;5;241m=\u001b[39m _convert_to_ndarray_and_squeeze(y_true)\n\u001b[0;32m    291\u001b[0m     y_p \u001b[38;5;241m=\u001b[39m _convert_to_ndarray_and_squeeze(y_pred)\n",
      "File \u001b[1;32m~\\PycharmProjects\\dsh\\venv\\lib\\site-packages\\sklearn\\utils\\validation.py:397\u001b[0m, in \u001b[0;36mcheck_consistent_length\u001b[1;34m(*arrays)\u001b[0m\n\u001b[0;32m    395\u001b[0m uniques \u001b[38;5;241m=\u001b[39m np\u001b[38;5;241m.\u001b[39munique(lengths)\n\u001b[0;32m    396\u001b[0m \u001b[38;5;28;01mif\u001b[39;00m \u001b[38;5;28mlen\u001b[39m(uniques) \u001b[38;5;241m>\u001b[39m \u001b[38;5;241m1\u001b[39m:\n\u001b[1;32m--> 397\u001b[0m     \u001b[38;5;28;01mraise\u001b[39;00m \u001b[38;5;167;01mValueError\u001b[39;00m(\n\u001b[0;32m    398\u001b[0m         \u001b[38;5;124m\"\u001b[39m\u001b[38;5;124mFound input variables with inconsistent numbers of samples: \u001b[39m\u001b[38;5;132;01m%r\u001b[39;00m\u001b[38;5;124m\"\u001b[39m\n\u001b[0;32m    399\u001b[0m         \u001b[38;5;241m%\u001b[39m [\u001b[38;5;28mint\u001b[39m(l) \u001b[38;5;28;01mfor\u001b[39;00m l \u001b[38;5;129;01min\u001b[39;00m lengths]\n\u001b[0;32m    400\u001b[0m     )\n",
      "\u001b[1;31mValueError\u001b[0m: Found input variables with inconsistent numbers of samples: [1172, 2500]"
     ]
    }
   ],
   "source": [
    "from fairlearn.metrics import MetricFrame\n",
    "from sklearn.metrics import accuracy_score\n",
    "\n",
    "# Convert back to the original categories\n",
    "race_val = (X_val[:,-2]>0.5).astype('int')\n",
    "gender_val = (X_val[:,-1]>0.5).astype('int')\n",
    "\n",
    "# Create a dictionary of sensitive features\n",
    "sensitive_features = {'race': race_val, 'gender': gender_val}\n",
    "\n",
    "# Define the function for calculating demographic parity\n",
    "def demographic_parity_difference(y_true, y_pred, **kwargs):\n",
    "    y_pred = (y_pred > 0.5).astype('int')\n",
    "    return y_pred[y_true==1].mean() - y_pred[y_true==0].mean()\n",
    "\n",
    "# Create a metric frame\n",
    "metrics = {'accuracy': accuracy_score, 'demographic_parity_difference': demographic_parity_difference}\n",
    "metric_frame = MetricFrame(metrics=metrics,\n",
    "                           y_true=y_val,\n",
    "                           y_pred=predictions,\n",
    "                           sensitive_features=sensitive_features)\n",
    "\n",
    "print(metric_frame.difference())\n"
   ]
  },
  {
   "cell_type": "markdown",
   "id": "322a6dcf",
   "metadata": {
    "id": "c35f5dff"
   },
   "source": [
    "# Bias Evaluation\n",
    "\n",
    "https://fairlearn.org/main/user_guide/assessment/common_fairness_metrics.html"
   ]
  },
  {
   "cell_type": "markdown",
   "id": "28f115a9",
   "metadata": {
    "id": "b1704dc6"
   },
   "source": [
    "#### Demographic parity\n",
    "\n",
    "\"Demographic parity is achieved when the probability of a certain prediction is not dependent on sensitive group membership\".\n",
    "\n",
    "Our data has \"sensitive\" features; Notably gender and race."
   ]
  }
 ],
 "metadata": {
  "colab": {
   "provenance": []
  },
  "kernelspec": {
   "display_name": "Python 3 (ipykernel)",
   "language": "python",
   "name": "python3"
  },
  "language_info": {
   "codemirror_mode": {
    "name": "ipython",
    "version": 3
   },
   "file_extension": ".py",
   "mimetype": "text/x-python",
   "name": "python",
   "nbconvert_exporter": "python",
   "pygments_lexer": "ipython3",
   "version": "3.10.8"
  }
 },
 "nbformat": 4,
 "nbformat_minor": 5
}
